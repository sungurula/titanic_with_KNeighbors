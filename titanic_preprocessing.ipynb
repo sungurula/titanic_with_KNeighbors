{
  "nbformat": 4,
  "nbformat_minor": 0,
  "metadata": {
    "colab": {
      "name": "titanic preprocessing.ipynb",
      "version": "0.3.2",
      "provenance": [],
      "collapsed_sections": [],
      "include_colab_link": true
    },
    "kernelspec": {
      "name": "python3",
      "display_name": "Python 3"
    }
  },
  "cells": [
    {
      "cell_type": "markdown",
      "metadata": {
        "id": "view-in-github",
        "colab_type": "text"
      },
      "source": [
        "<a href=\"https://colab.research.google.com/github/sungurula/titanic_with_KNeighbors/blob/master/titanic_preprocessing.ipynb\" target=\"_parent\"><img src=\"https://colab.research.google.com/assets/colab-badge.svg\" alt=\"Open In Colab\"/></a>"
      ]
    },
    {
      "cell_type": "code",
      "metadata": {
        "id": "m4K4cMUDBqSN",
        "colab_type": "code",
        "colab": {}
      },
      "source": [
        "import pandas as pd"
      ],
      "execution_count": 0,
      "outputs": []
    },
    {
      "cell_type": "code",
      "metadata": {
        "id": "JEokoZj9B0CM",
        "colab_type": "code",
        "colab": {}
      },
      "source": [
        "from google.colab import files"
      ],
      "execution_count": 0,
      "outputs": []
    },
    {
      "cell_type": "code",
      "metadata": {
        "id": "vrPFuZiBXJzI",
        "colab_type": "code",
        "colab": {}
      },
      "source": [
        "import matplotlib.pyplot as plt"
      ],
      "execution_count": 0,
      "outputs": []
    },
    {
      "cell_type": "code",
      "metadata": {
        "id": "-OohahhRW4gE",
        "colab_type": "code",
        "colab": {}
      },
      "source": [
        "import numpy as np"
      ],
      "execution_count": 0,
      "outputs": []
    },
    {
      "cell_type": "code",
      "metadata": {
        "id": "2VTHoJ9mB6fb",
        "colab_type": "code",
        "outputId": "34ac670d-4c6f-43b9-92cf-a7d82f6b5fd8",
        "colab": {
          "resources": {
            "http://localhost:8080/nbextensions/google.colab/files.js": {
              "data": "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",
              "ok": true,
              "headers": [
                [
                  "content-type",
                  "application/javascript"
                ]
              ],
              "status": 200,
              "status_text": ""
            }
          },
          "base_uri": "https://localhost:8080/",
          "height": 74
        }
      },
      "source": [
        "uploaded =files.upload()"
      ],
      "execution_count": 0,
      "outputs": [
        {
          "output_type": "display_data",
          "data": {
            "text/html": [
              "\n",
              "     <input type=\"file\" id=\"files-c357911e-80a3-41c4-8305-b800a0150acd\" name=\"files[]\" multiple disabled />\n",
              "     <output id=\"result-c357911e-80a3-41c4-8305-b800a0150acd\">\n",
              "      Upload widget is only available when the cell has been executed in the\n",
              "      current browser session. Please rerun this cell to enable.\n",
              "      </output>\n",
              "      <script src=\"/nbextensions/google.colab/files.js\"></script> "
            ],
            "text/plain": [
              "<IPython.core.display.HTML object>"
            ]
          },
          "metadata": {
            "tags": []
          }
        },
        {
          "output_type": "stream",
          "text": [
            "Saving train.csv to train.csv\n"
          ],
          "name": "stdout"
        }
      ]
    },
    {
      "cell_type": "code",
      "metadata": {
        "id": "8bbIAfU6B-2o",
        "colab_type": "code",
        "outputId": "fc9c6ec6-7107-4950-d6a2-2ca20631829f",
        "colab": {
          "base_uri": "https://localhost:8080/",
          "height": 54
        }
      },
      "source": [
        "uploaded"
      ],
      "execution_count": 0,
      "outputs": [
        {
          "output_type": "execute_result",
          "data": {
            "text/plain": [
              "{'train.csv': b'PassengerId,Survived,Pclass,Name,Sex,Age,SibSp,Parch,Ticket,Fare,Cabin,Embarked\\n1,0,3,\"Braund, Mr. Owen Harris\",male,22,1,0,A/5 21171,7.25,,S\\n2,1,1,\"Cumings, Mrs. John Bradley (Florence Briggs Thayer)\",female,38,1,0,PC 17599,71.2833,C85,C\\n3,1,3,\"Heikkinen, Miss. Laina\",female,26,0,0,STON/O2. 3101282,7.925,,S\\n4,1,1,\"Futrelle, Mrs. Jacques Heath (Lily May Peel)\",female,35,1,0,113803,53.1,C123,S\\n5,0,3,\"Allen, Mr. William Henry\",male,35,0,0,373450,8.05,,S\\n6,0,3,\"Moran, Mr. James\",male,,0,0,330877,8.4583,,Q\\n7,0,1,\"McCarthy, Mr. Timothy J\",male,54,0,0,17463,51.8625,E46,S\\n8,0,3,\"Palsson, Master. Gosta Leonard\",male,2,3,1,349909,21.075,,S\\n9,1,3,\"Johnson, Mrs. Oscar W (Elisabeth Vilhelmina Berg)\",female,27,0,2,347742,11.1333,,S\\n10,1,2,\"Nasser, Mrs. Nicholas (Adele Achem)\",female,14,1,0,237736,30.0708,,C\\n11,1,3,\"Sandstrom, Miss. Marguerite Rut\",female,4,1,1,PP 9549,16.7,G6,S\\n12,1,1,\"Bonnell, Miss. Elizabeth\",female,58,0,0,113783,26.55,C103,S\\n13,0,3,\"Saundercock, Mr. William Henry\",male,20,0,0,A/5. 2151,8.05,,S\\n14,0,3,\"Andersson, Mr. Anders Johan\",male,39,1,5,347082,31.275,,S\\n15,0,3,\"Vestrom, Miss. Hulda Amanda Adolfina\",female,14,0,0,350406,7.8542,,S\\n16,1,2,\"Hewlett, Mrs. (Mary D Kingcome) \",female,55,0,0,248706,16,,S\\n17,0,3,\"Rice, Master. Eugene\",male,2,4,1,382652,29.125,,Q\\n18,1,2,\"Williams, Mr. Charles Eugene\",male,,0,0,244373,13,,S\\n19,0,3,\"Vander Planke, Mrs. Julius (Emelia Maria Vandemoortele)\",female,31,1,0,345763,18,,S\\n20,1,3,\"Masselmani, Mrs. Fatima\",female,,0,0,2649,7.225,,C\\n21,0,2,\"Fynney, Mr. Joseph J\",male,35,0,0,239865,26,,S\\n22,1,2,\"Beesley, Mr. Lawrence\",male,34,0,0,248698,13,D56,S\\n23,1,3,\"McGowan, Miss. Anna \"\"Annie\"\"\",female,15,0,0,330923,8.0292,,Q\\n24,1,1,\"Sloper, Mr. William Thompson\",male,28,0,0,113788,35.5,A6,S\\n25,0,3,\"Palsson, Miss. Torborg Danira\",female,8,3,1,349909,21.075,,S\\n26,1,3,\"Asplund, Mrs. Carl Oscar (Selma Augusta Emilia Johansson)\",female,38,1,5,347077,31.3875,,S\\n27,0,3,\"Emir, Mr. Farred Chehab\",male,,0,0,2631,7.225,,C\\n28,0,1,\"Fortune, Mr. Charles Alexander\",male,19,3,2,19950,263,C23 C25 C27,S\\n29,1,3,\"O\\'Dwyer, Miss. Ellen \"\"Nellie\"\"\",female,,0,0,330959,7.8792,,Q\\n30,0,3,\"Todoroff, Mr. Lalio\",male,,0,0,349216,7.8958,,S\\n31,0,1,\"Uruchurtu, Don. Manuel E\",male,40,0,0,PC 17601,27.7208,,C\\n32,1,1,\"Spencer, Mrs. William Augustus (Marie Eugenie)\",female,,1,0,PC 17569,146.5208,B78,C\\n33,1,3,\"Glynn, Miss. Mary Agatha\",female,,0,0,335677,7.75,,Q\\n34,0,2,\"Wheadon, Mr. Edward H\",male,66,0,0,C.A. 24579,10.5,,S\\n35,0,1,\"Meyer, Mr. Edgar Joseph\",male,28,1,0,PC 17604,82.1708,,C\\n36,0,1,\"Holverson, Mr. Alexander Oskar\",male,42,1,0,113789,52,,S\\n37,1,3,\"Mamee, Mr. Hanna\",male,,0,0,2677,7.2292,,C\\n38,0,3,\"Cann, Mr. Ernest Charles\",male,21,0,0,A./5. 2152,8.05,,S\\n39,0,3,\"Vander Planke, Miss. Augusta Maria\",female,18,2,0,345764,18,,S\\n40,1,3,\"Nicola-Yarred, Miss. Jamila\",female,14,1,0,2651,11.2417,,C\\n41,0,3,\"Ahlin, Mrs. Johan (Johanna Persdotter Larsson)\",female,40,1,0,7546,9.475,,S\\n42,0,2,\"Turpin, Mrs. William John Robert (Dorothy Ann Wonnacott)\",female,27,1,0,11668,21,,S\\n43,0,3,\"Kraeff, Mr. Theodor\",male,,0,0,349253,7.8958,,C\\n44,1,2,\"Laroche, Miss. Simonne Marie Anne Andree\",female,3,1,2,SC/Paris 2123,41.5792,,C\\n45,1,3,\"Devaney, Miss. Margaret Delia\",female,19,0,0,330958,7.8792,,Q\\n46,0,3,\"Rogers, Mr. William John\",male,,0,0,S.C./A.4. 23567,8.05,,S\\n47,0,3,\"Lennon, Mr. Denis\",male,,1,0,370371,15.5,,Q\\n48,1,3,\"O\\'Driscoll, Miss. Bridget\",female,,0,0,14311,7.75,,Q\\n49,0,3,\"Samaan, Mr. Youssef\",male,,2,0,2662,21.6792,,C\\n50,0,3,\"Arnold-Franchi, Mrs. Josef (Josefine Franchi)\",female,18,1,0,349237,17.8,,S\\n51,0,3,\"Panula, Master. Juha Niilo\",male,7,4,1,3101295,39.6875,,S\\n52,0,3,\"Nosworthy, Mr. Richard Cater\",male,21,0,0,A/4. 39886,7.8,,S\\n53,1,1,\"Harper, Mrs. Henry Sleeper (Myna Haxtun)\",female,49,1,0,PC 17572,76.7292,D33,C\\n54,1,2,\"Faunthorpe, Mrs. Lizzie (Elizabeth Anne Wilkinson)\",female,29,1,0,2926,26,,S\\n55,0,1,\"Ostby, Mr. Engelhart Cornelius\",male,65,0,1,113509,61.9792,B30,C\\n56,1,1,\"Woolner, Mr. Hugh\",male,,0,0,19947,35.5,C52,S\\n57,1,2,\"Rugg, Miss. Emily\",female,21,0,0,C.A. 31026,10.5,,S\\n58,0,3,\"Novel, Mr. Mansouer\",male,28.5,0,0,2697,7.2292,,C\\n59,1,2,\"West, Miss. Constance Mirium\",female,5,1,2,C.A. 34651,27.75,,S\\n60,0,3,\"Goodwin, Master. William Frederick\",male,11,5,2,CA 2144,46.9,,S\\n61,0,3,\"Sirayanian, Mr. Orsen\",male,22,0,0,2669,7.2292,,C\\n62,1,1,\"Icard, Miss. Amelie\",female,38,0,0,113572,80,B28,\\n63,0,1,\"Harris, Mr. Henry Birkhardt\",male,45,1,0,36973,83.475,C83,S\\n64,0,3,\"Skoog, Master. Harald\",male,4,3,2,347088,27.9,,S\\n65,0,1,\"Stewart, Mr. Albert A\",male,,0,0,PC 17605,27.7208,,C\\n66,1,3,\"Moubarek, Master. Gerios\",male,,1,1,2661,15.2458,,C\\n67,1,2,\"Nye, Mrs. (Elizabeth Ramell)\",female,29,0,0,C.A. 29395,10.5,F33,S\\n68,0,3,\"Crease, Mr. Ernest James\",male,19,0,0,S.P. 3464,8.1583,,S\\n69,1,3,\"Andersson, Miss. Erna Alexandra\",female,17,4,2,3101281,7.925,,S\\n70,0,3,\"Kink, Mr. Vincenz\",male,26,2,0,315151,8.6625,,S\\n71,0,2,\"Jenkin, Mr. Stephen Curnow\",male,32,0,0,C.A. 33111,10.5,,S\\n72,0,3,\"Goodwin, Miss. Lillian Amy\",female,16,5,2,CA 2144,46.9,,S\\n73,0,2,\"Hood, Mr. Ambrose Jr\",male,21,0,0,S.O.C. 14879,73.5,,S\\n74,0,3,\"Chronopoulos, Mr. Apostolos\",male,26,1,0,2680,14.4542,,C\\n75,1,3,\"Bing, Mr. Lee\",male,32,0,0,1601,56.4958,,S\\n76,0,3,\"Moen, Mr. Sigurd Hansen\",male,25,0,0,348123,7.65,F G73,S\\n77,0,3,\"Staneff, Mr. Ivan\",male,,0,0,349208,7.8958,,S\\n78,0,3,\"Moutal, Mr. Rahamin Haim\",male,,0,0,374746,8.05,,S\\n79,1,2,\"Caldwell, Master. Alden Gates\",male,0.83,0,2,248738,29,,S\\n80,1,3,\"Dowdell, Miss. Elizabeth\",female,30,0,0,364516,12.475,,S\\n81,0,3,\"Waelens, Mr. Achille\",male,22,0,0,345767,9,,S\\n82,1,3,\"Sheerlinck, Mr. Jan Baptist\",male,29,0,0,345779,9.5,,S\\n83,1,3,\"McDermott, Miss. Brigdet Delia\",female,,0,0,330932,7.7875,,Q\\n84,0,1,\"Carrau, Mr. Francisco M\",male,28,0,0,113059,47.1,,S\\n85,1,2,\"Ilett, Miss. Bertha\",female,17,0,0,SO/C 14885,10.5,,S\\n86,1,3,\"Backstrom, Mrs. Karl Alfred (Maria Mathilda Gustafsson)\",female,33,3,0,3101278,15.85,,S\\n87,0,3,\"Ford, Mr. William Neal\",male,16,1,3,W./C. 6608,34.375,,S\\n88,0,3,\"Slocovski, Mr. Selman Francis\",male,,0,0,SOTON/OQ 392086,8.05,,S\\n89,1,1,\"Fortune, Miss. Mabel Helen\",female,23,3,2,19950,263,C23 C25 C27,S\\n90,0,3,\"Celotti, Mr. Francesco\",male,24,0,0,343275,8.05,,S\\n91,0,3,\"Christmann, Mr. Emil\",male,29,0,0,343276,8.05,,S\\n92,0,3,\"Andreasson, Mr. Paul Edvin\",male,20,0,0,347466,7.8542,,S\\n93,0,1,\"Chaffee, Mr. Herbert Fuller\",male,46,1,0,W.E.P. 5734,61.175,E31,S\\n94,0,3,\"Dean, Mr. Bertram Frank\",male,26,1,2,C.A. 2315,20.575,,S\\n95,0,3,\"Coxon, Mr. Daniel\",male,59,0,0,364500,7.25,,S\\n96,0,3,\"Shorney, Mr. Charles Joseph\",male,,0,0,374910,8.05,,S\\n97,0,1,\"Goldschmidt, Mr. George B\",male,71,0,0,PC 17754,34.6542,A5,C\\n98,1,1,\"Greenfield, Mr. William Bertram\",male,23,0,1,PC 17759,63.3583,D10 D12,C\\n99,1,2,\"Doling, Mrs. John T (Ada Julia Bone)\",female,34,0,1,231919,23,,S\\n100,0,2,\"Kantor, Mr. Sinai\",male,34,1,0,244367,26,,S\\n101,0,3,\"Petranec, Miss. Matilda\",female,28,0,0,349245,7.8958,,S\\n102,0,3,\"Petroff, Mr. Pastcho (\"\"Pentcho\"\")\",male,,0,0,349215,7.8958,,S\\n103,0,1,\"White, Mr. Richard Frasar\",male,21,0,1,35281,77.2875,D26,S\\n104,0,3,\"Johansson, Mr. Gustaf Joel\",male,33,0,0,7540,8.6542,,S\\n105,0,3,\"Gustafsson, Mr. Anders Vilhelm\",male,37,2,0,3101276,7.925,,S\\n106,0,3,\"Mionoff, Mr. Stoytcho\",male,28,0,0,349207,7.8958,,S\\n107,1,3,\"Salkjelsvik, Miss. Anna Kristine\",female,21,0,0,343120,7.65,,S\\n108,1,3,\"Moss, Mr. Albert Johan\",male,,0,0,312991,7.775,,S\\n109,0,3,\"Rekic, Mr. Tido\",male,38,0,0,349249,7.8958,,S\\n110,1,3,\"Moran, Miss. Bertha\",female,,1,0,371110,24.15,,Q\\n111,0,1,\"Porter, Mr. Walter Chamberlain\",male,47,0,0,110465,52,C110,S\\n112,0,3,\"Zabour, Miss. Hileni\",female,14.5,1,0,2665,14.4542,,C\\n113,0,3,\"Barton, Mr. David John\",male,22,0,0,324669,8.05,,S\\n114,0,3,\"Jussila, Miss. Katriina\",female,20,1,0,4136,9.825,,S\\n115,0,3,\"Attalah, Miss. Malake\",female,17,0,0,2627,14.4583,,C\\n116,0,3,\"Pekoniemi, Mr. Edvard\",male,21,0,0,STON/O 2. 3101294,7.925,,S\\n117,0,3,\"Connors, Mr. Patrick\",male,70.5,0,0,370369,7.75,,Q\\n118,0,2,\"Turpin, Mr. William John Robert\",male,29,1,0,11668,21,,S\\n119,0,1,\"Baxter, Mr. Quigg Edmond\",male,24,0,1,PC 17558,247.5208,B58 B60,C\\n120,0,3,\"Andersson, Miss. Ellis Anna Maria\",female,2,4,2,347082,31.275,,S\\n121,0,2,\"Hickman, Mr. Stanley George\",male,21,2,0,S.O.C. 14879,73.5,,S\\n122,0,3,\"Moore, Mr. Leonard Charles\",male,,0,0,A4. 54510,8.05,,S\\n123,0,2,\"Nasser, Mr. Nicholas\",male,32.5,1,0,237736,30.0708,,C\\n124,1,2,\"Webber, Miss. Susan\",female,32.5,0,0,27267,13,E101,S\\n125,0,1,\"White, Mr. Percival Wayland\",male,54,0,1,35281,77.2875,D26,S\\n126,1,3,\"Nicola-Yarred, Master. Elias\",male,12,1,0,2651,11.2417,,C\\n127,0,3,\"McMahon, Mr. Martin\",male,,0,0,370372,7.75,,Q\\n128,1,3,\"Madsen, Mr. Fridtjof Arne\",male,24,0,0,C 17369,7.1417,,S\\n129,1,3,\"Peter, Miss. Anna\",female,,1,1,2668,22.3583,F E69,C\\n130,0,3,\"Ekstrom, Mr. Johan\",male,45,0,0,347061,6.975,,S\\n131,0,3,\"Drazenoic, Mr. Jozef\",male,33,0,0,349241,7.8958,,C\\n132,0,3,\"Coelho, Mr. Domingos Fernandeo\",male,20,0,0,SOTON/O.Q. 3101307,7.05,,S\\n133,0,3,\"Robins, Mrs. Alexander A (Grace Charity Laury)\",female,47,1,0,A/5. 3337,14.5,,S\\n134,1,2,\"Weisz, Mrs. Leopold (Mathilde Francoise Pede)\",female,29,1,0,228414,26,,S\\n135,0,2,\"Sobey, Mr. Samuel James Hayden\",male,25,0,0,C.A. 29178,13,,S\\n136,0,2,\"Richard, Mr. Emile\",male,23,0,0,SC/PARIS 2133,15.0458,,C\\n137,1,1,\"Newsom, Miss. Helen Monypeny\",female,19,0,2,11752,26.2833,D47,S\\n138,0,1,\"Futrelle, Mr. Jacques Heath\",male,37,1,0,113803,53.1,C123,S\\n139,0,3,\"Osen, Mr. Olaf Elon\",male,16,0,0,7534,9.2167,,S\\n140,0,1,\"Giglio, Mr. Victor\",male,24,0,0,PC 17593,79.2,B86,C\\n141,0,3,\"Boulos, Mrs. Joseph (Sultana)\",female,,0,2,2678,15.2458,,C\\n142,1,3,\"Nysten, Miss. Anna Sofia\",female,22,0,0,347081,7.75,,S\\n143,1,3,\"Hakkarainen, Mrs. Pekka Pietari (Elin Matilda Dolck)\",female,24,1,0,STON/O2. 3101279,15.85,,S\\n144,0,3,\"Burke, Mr. Jeremiah\",male,19,0,0,365222,6.75,,Q\\n145,0,2,\"Andrew, Mr. Edgardo Samuel\",male,18,0,0,231945,11.5,,S\\n146,0,2,\"Nicholls, Mr. Joseph Charles\",male,19,1,1,C.A. 33112,36.75,,S\\n147,1,3,\"Andersson, Mr. August Edvard (\"\"Wennerstrom\"\")\",male,27,0,0,350043,7.7958,,S\\n148,0,3,\"Ford, Miss. Robina Maggie \"\"Ruby\"\"\",female,9,2,2,W./C. 6608,34.375,,S\\n149,0,2,\"Navratil, Mr. Michel (\"\"Louis M Hoffman\"\")\",male,36.5,0,2,230080,26,F2,S\\n150,0,2,\"Byles, Rev. Thomas Roussel Davids\",male,42,0,0,244310,13,,S\\n151,0,2,\"Bateman, Rev. Robert James\",male,51,0,0,S.O.P. 1166,12.525,,S\\n152,1,1,\"Pears, Mrs. Thomas (Edith Wearne)\",female,22,1,0,113776,66.6,C2,S\\n153,0,3,\"Meo, Mr. Alfonzo\",male,55.5,0,0,A.5. 11206,8.05,,S\\n154,0,3,\"van Billiard, Mr. Austin Blyler\",male,40.5,0,2,A/5. 851,14.5,,S\\n155,0,3,\"Olsen, Mr. Ole Martin\",male,,0,0,Fa 265302,7.3125,,S\\n156,0,1,\"Williams, Mr. Charles Duane\",male,51,0,1,PC 17597,61.3792,,C\\n157,1,3,\"Gilnagh, Miss. Katherine \"\"Katie\"\"\",female,16,0,0,35851,7.7333,,Q\\n158,0,3,\"Corn, Mr. Harry\",male,30,0,0,SOTON/OQ 392090,8.05,,S\\n159,0,3,\"Smiljanic, Mr. Mile\",male,,0,0,315037,8.6625,,S\\n160,0,3,\"Sage, Master. Thomas Henry\",male,,8,2,CA. 2343,69.55,,S\\n161,0,3,\"Cribb, Mr. John Hatfield\",male,44,0,1,371362,16.1,,S\\n162,1,2,\"Watt, Mrs. James (Elizabeth \"\"Bessie\"\" Inglis Milne)\",female,40,0,0,C.A. 33595,15.75,,S\\n163,0,3,\"Bengtsson, Mr. John Viktor\",male,26,0,0,347068,7.775,,S\\n164,0,3,\"Calic, Mr. Jovo\",male,17,0,0,315093,8.6625,,S\\n165,0,3,\"Panula, Master. Eino Viljami\",male,1,4,1,3101295,39.6875,,S\\n166,1,3,\"Goldsmith, Master. Frank John William \"\"Frankie\"\"\",male,9,0,2,363291,20.525,,S\\n167,1,1,\"Chibnall, Mrs. (Edith Martha Bowerman)\",female,,0,1,113505,55,E33,S\\n168,0,3,\"Skoog, Mrs. William (Anna Bernhardina Karlsson)\",female,45,1,4,347088,27.9,,S\\n169,0,1,\"Baumann, Mr. John D\",male,,0,0,PC 17318,25.925,,S\\n170,0,3,\"Ling, Mr. Lee\",male,28,0,0,1601,56.4958,,S\\n171,0,1,\"Van der hoef, Mr. Wyckoff\",male,61,0,0,111240,33.5,B19,S\\n172,0,3,\"Rice, Master. Arthur\",male,4,4,1,382652,29.125,,Q\\n173,1,3,\"Johnson, Miss. Eleanor Ileen\",female,1,1,1,347742,11.1333,,S\\n174,0,3,\"Sivola, Mr. Antti Wilhelm\",male,21,0,0,STON/O 2. 3101280,7.925,,S\\n175,0,1,\"Smith, Mr. James Clinch\",male,56,0,0,17764,30.6958,A7,C\\n176,0,3,\"Klasen, Mr. Klas Albin\",male,18,1,1,350404,7.8542,,S\\n177,0,3,\"Lefebre, Master. Henry Forbes\",male,,3,1,4133,25.4667,,S\\n178,0,1,\"Isham, Miss. Ann Elizabeth\",female,50,0,0,PC 17595,28.7125,C49,C\\n179,0,2,\"Hale, Mr. Reginald\",male,30,0,0,250653,13,,S\\n180,0,3,\"Leonard, Mr. Lionel\",male,36,0,0,LINE,0,,S\\n181,0,3,\"Sage, Miss. Constance Gladys\",female,,8,2,CA. 2343,69.55,,S\\n182,0,2,\"Pernot, Mr. Rene\",male,,0,0,SC/PARIS 2131,15.05,,C\\n183,0,3,\"Asplund, Master. Clarence Gustaf Hugo\",male,9,4,2,347077,31.3875,,S\\n184,1,2,\"Becker, Master. Richard F\",male,1,2,1,230136,39,F4,S\\n185,1,3,\"Kink-Heilmann, Miss. Luise Gretchen\",female,4,0,2,315153,22.025,,S\\n186,0,1,\"Rood, Mr. Hugh Roscoe\",male,,0,0,113767,50,A32,S\\n187,1,3,\"O\\'Brien, Mrs. Thomas (Johanna \"\"Hannah\"\" Godfrey)\",female,,1,0,370365,15.5,,Q\\n188,1,1,\"Romaine, Mr. Charles Hallace (\"\"Mr C Rolmane\"\")\",male,45,0,0,111428,26.55,,S\\n189,0,3,\"Bourke, Mr. John\",male,40,1,1,364849,15.5,,Q\\n190,0,3,\"Turcin, Mr. Stjepan\",male,36,0,0,349247,7.8958,,S\\n191,1,2,\"Pinsky, Mrs. (Rosa)\",female,32,0,0,234604,13,,S\\n192,0,2,\"Carbines, Mr. William\",male,19,0,0,28424,13,,S\\n193,1,3,\"Andersen-Jensen, Miss. Carla Christine Nielsine\",female,19,1,0,350046,7.8542,,S\\n194,1,2,\"Navratil, Master. Michel M\",male,3,1,1,230080,26,F2,S\\n195,1,1,\"Brown, Mrs. James Joseph (Margaret Tobin)\",female,44,0,0,PC 17610,27.7208,B4,C\\n196,1,1,\"Lurette, Miss. Elise\",female,58,0,0,PC 17569,146.5208,B80,C\\n197,0,3,\"Mernagh, Mr. Robert\",male,,0,0,368703,7.75,,Q\\n198,0,3,\"Olsen, Mr. Karl Siegwart Andreas\",male,42,0,1,4579,8.4042,,S\\n199,1,3,\"Madigan, Miss. Margaret \"\"Maggie\"\"\",female,,0,0,370370,7.75,,Q\\n200,0,2,\"Yrois, Miss. Henriette (\"\"Mrs Harbeck\"\")\",female,24,0,0,248747,13,,S\\n201,0,3,\"Vande Walle, Mr. Nestor Cyriel\",male,28,0,0,345770,9.5,,S\\n202,0,3,\"Sage, Mr. Frederick\",male,,8,2,CA. 2343,69.55,,S\\n203,0,3,\"Johanson, Mr. Jakob Alfred\",male,34,0,0,3101264,6.4958,,S\\n204,0,3,\"Youseff, Mr. Gerious\",male,45.5,0,0,2628,7.225,,C\\n205,1,3,\"Cohen, Mr. Gurshon \"\"Gus\"\"\",male,18,0,0,A/5 3540,8.05,,S\\n206,0,3,\"Strom, Miss. Telma Matilda\",female,2,0,1,347054,10.4625,G6,S\\n207,0,3,\"Backstrom, Mr. Karl Alfred\",male,32,1,0,3101278,15.85,,S\\n208,1,3,\"Albimona, Mr. Nassef Cassem\",male,26,0,0,2699,18.7875,,C\\n209,1,3,\"Carr, Miss. Helen \"\"Ellen\"\"\",female,16,0,0,367231,7.75,,Q\\n210,1,1,\"Blank, Mr. Henry\",male,40,0,0,112277,31,A31,C\\n211,0,3,\"Ali, Mr. Ahmed\",male,24,0,0,SOTON/O.Q. 3101311,7.05,,S\\n212,1,2,\"Cameron, Miss. Clear Annie\",female,35,0,0,F.C.C. 13528,21,,S\\n213,0,3,\"Perkin, Mr. John Henry\",male,22,0,0,A/5 21174,7.25,,S\\n214,0,2,\"Givard, Mr. Hans Kristensen\",male,30,0,0,250646,13,,S\\n215,0,3,\"Kiernan, Mr. Philip\",male,,1,0,367229,7.75,,Q\\n216,1,1,\"Newell, Miss. Madeleine\",female,31,1,0,35273,113.275,D36,C\\n217,1,3,\"Honkanen, Miss. Eliina\",female,27,0,0,STON/O2. 3101283,7.925,,S\\n218,0,2,\"Jacobsohn, Mr. Sidney Samuel\",male,42,1,0,243847,27,,S\\n219,1,1,\"Bazzani, Miss. Albina\",female,32,0,0,11813,76.2917,D15,C\\n220,0,2,\"Harris, Mr. Walter\",male,30,0,0,W/C 14208,10.5,,S\\n221,1,3,\"Sunderland, Mr. Victor Francis\",male,16,0,0,SOTON/OQ 392089,8.05,,S\\n222,0,2,\"Bracken, Mr. James H\",male,27,0,0,220367,13,,S\\n223,0,3,\"Green, Mr. George Henry\",male,51,0,0,21440,8.05,,S\\n224,0,3,\"Nenkoff, Mr. Christo\",male,,0,0,349234,7.8958,,S\\n225,1,1,\"Hoyt, Mr. Frederick Maxfield\",male,38,1,0,19943,90,C93,S\\n226,0,3,\"Berglund, Mr. Karl Ivar Sven\",male,22,0,0,PP 4348,9.35,,S\\n227,1,2,\"Mellors, Mr. William John\",male,19,0,0,SW/PP 751,10.5,,S\\n228,0,3,\"Lovell, Mr. John Hall (\"\"Henry\"\")\",male,20.5,0,0,A/5 21173,7.25,,S\\n229,0,2,\"Fahlstrom, Mr. Arne Jonas\",male,18,0,0,236171,13,,S\\n230,0,3,\"Lefebre, Miss. Mathilde\",female,,3,1,4133,25.4667,,S\\n231,1,1,\"Harris, Mrs. Henry Birkhardt (Irene Wallach)\",female,35,1,0,36973,83.475,C83,S\\n232,0,3,\"Larsson, Mr. Bengt Edvin\",male,29,0,0,347067,7.775,,S\\n233,0,2,\"Sjostedt, Mr. Ernst Adolf\",male,59,0,0,237442,13.5,,S\\n234,1,3,\"Asplund, Miss. Lillian Gertrud\",female,5,4,2,347077,31.3875,,S\\n235,0,2,\"Leyson, Mr. Robert William Norman\",male,24,0,0,C.A. 29566,10.5,,S\\n236,0,3,\"Harknett, Miss. Alice Phoebe\",female,,0,0,W./C. 6609,7.55,,S\\n237,0,2,\"Hold, Mr. Stephen\",male,44,1,0,26707,26,,S\\n238,1,2,\"Collyer, Miss. Marjorie \"\"Lottie\"\"\",female,8,0,2,C.A. 31921,26.25,,S\\n239,0,2,\"Pengelly, Mr. Frederick William\",male,19,0,0,28665,10.5,,S\\n240,0,2,\"Hunt, Mr. George Henry\",male,33,0,0,SCO/W 1585,12.275,,S\\n241,0,3,\"Zabour, Miss. Thamine\",female,,1,0,2665,14.4542,,C\\n242,1,3,\"Murphy, Miss. Katherine \"\"Kate\"\"\",female,,1,0,367230,15.5,,Q\\n243,0,2,\"Coleridge, Mr. Reginald Charles\",male,29,0,0,W./C. 14263,10.5,,S\\n244,0,3,\"Maenpaa, Mr. Matti Alexanteri\",male,22,0,0,STON/O 2. 3101275,7.125,,S\\n245,0,3,\"Attalah, Mr. Sleiman\",male,30,0,0,2694,7.225,,C\\n246,0,1,\"Minahan, Dr. William Edward\",male,44,2,0,19928,90,C78,Q\\n247,0,3,\"Lindahl, Miss. Agda Thorilda Viktoria\",female,25,0,0,347071,7.775,,S\\n248,1,2,\"Hamalainen, Mrs. William (Anna)\",female,24,0,2,250649,14.5,,S\\n249,1,1,\"Beckwith, Mr. Richard Leonard\",male,37,1,1,11751,52.5542,D35,S\\n250,0,2,\"Carter, Rev. Ernest Courtenay\",male,54,1,0,244252,26,,S\\n251,0,3,\"Reed, Mr. James George\",male,,0,0,362316,7.25,,S\\n252,0,3,\"Strom, Mrs. Wilhelm (Elna Matilda Persson)\",female,29,1,1,347054,10.4625,G6,S\\n253,0,1,\"Stead, Mr. William Thomas\",male,62,0,0,113514,26.55,C87,S\\n254,0,3,\"Lobb, Mr. William Arthur\",male,30,1,0,A/5. 3336,16.1,,S\\n255,0,3,\"Rosblom, Mrs. Viktor (Helena Wilhelmina)\",female,41,0,2,370129,20.2125,,S\\n256,1,3,\"Touma, Mrs. Darwis (Hanne Youssef Razi)\",female,29,0,2,2650,15.2458,,C\\n257,1,1,\"Thorne, Mrs. Gertrude Maybelle\",female,,0,0,PC 17585,79.2,,C\\n258,1,1,\"Cherry, Miss. Gladys\",female,30,0,0,110152,86.5,B77,S\\n259,1,1,\"Ward, Miss. Anna\",female,35,0,0,PC 17755,512.3292,,C\\n260,1,2,\"Parrish, Mrs. (Lutie Davis)\",female,50,0,1,230433,26,,S\\n261,0,3,\"Smith, Mr. Thomas\",male,,0,0,384461,7.75,,Q\\n262,1,3,\"Asplund, Master. Edvin Rojj Felix\",male,3,4,2,347077,31.3875,,S\\n263,0,1,\"Taussig, Mr. Emil\",male,52,1,1,110413,79.65,E67,S\\n264,0,1,\"Harrison, Mr. William\",male,40,0,0,112059,0,B94,S\\n265,0,3,\"Henry, Miss. Delia\",female,,0,0,382649,7.75,,Q\\n266,0,2,\"Reeves, Mr. David\",male,36,0,0,C.A. 17248,10.5,,S\\n267,0,3,\"Panula, Mr. Ernesti Arvid\",male,16,4,1,3101295,39.6875,,S\\n268,1,3,\"Persson, Mr. Ernst Ulrik\",male,25,1,0,347083,7.775,,S\\n269,1,1,\"Graham, Mrs. William Thompson (Edith Junkins)\",female,58,0,1,PC 17582,153.4625,C125,S\\n270,1,1,\"Bissette, Miss. Amelia\",female,35,0,0,PC 17760,135.6333,C99,S\\n271,0,1,\"Cairns, Mr. Alexander\",male,,0,0,113798,31,,S\\n272,1,3,\"Tornquist, Mr. William Henry\",male,25,0,0,LINE,0,,S\\n273,1,2,\"Mellinger, Mrs. (Elizabeth Anne Maidment)\",female,41,0,1,250644,19.5,,S\\n274,0,1,\"Natsch, Mr. Charles H\",male,37,0,1,PC 17596,29.7,C118,C\\n275,1,3,\"Healy, Miss. Hanora \"\"Nora\"\"\",female,,0,0,370375,7.75,,Q\\n276,1,1,\"Andrews, Miss. Kornelia Theodosia\",female,63,1,0,13502,77.9583,D7,S\\n277,0,3,\"Lindblom, Miss. Augusta Charlotta\",female,45,0,0,347073,7.75,,S\\n278,0,2,\"Parkes, Mr. Francis \"\"Frank\"\"\",male,,0,0,239853,0,,S\\n279,0,3,\"Rice, Master. Eric\",male,7,4,1,382652,29.125,,Q\\n280,1,3,\"Abbott, Mrs. Stanton (Rosa Hunt)\",female,35,1,1,C.A. 2673,20.25,,S\\n281,0,3,\"Duane, Mr. Frank\",male,65,0,0,336439,7.75,,Q\\n282,0,3,\"Olsson, Mr. Nils Johan Goransson\",male,28,0,0,347464,7.8542,,S\\n283,0,3,\"de Pelsmaeker, Mr. Alfons\",male,16,0,0,345778,9.5,,S\\n284,1,3,\"Dorking, Mr. Edward Arthur\",male,19,0,0,A/5. 10482,8.05,,S\\n285,0,1,\"Smith, Mr. Richard William\",male,,0,0,113056,26,A19,S\\n286,0,3,\"Stankovic, Mr. Ivan\",male,33,0,0,349239,8.6625,,C\\n287,1,3,\"de Mulder, Mr. Theodore\",male,30,0,0,345774,9.5,,S\\n288,0,3,\"Naidenoff, Mr. Penko\",male,22,0,0,349206,7.8958,,S\\n289,1,2,\"Hosono, Mr. Masabumi\",male,42,0,0,237798,13,,S\\n290,1,3,\"Connolly, Miss. Kate\",female,22,0,0,370373,7.75,,Q\\n291,1,1,\"Barber, Miss. Ellen \"\"Nellie\"\"\",female,26,0,0,19877,78.85,,S\\n292,1,1,\"Bishop, Mrs. Dickinson H (Helen Walton)\",female,19,1,0,11967,91.0792,B49,C\\n293,0,2,\"Levy, Mr. Rene Jacques\",male,36,0,0,SC/Paris 2163,12.875,D,C\\n294,0,3,\"Haas, Miss. Aloisia\",female,24,0,0,349236,8.85,,S\\n295,0,3,\"Mineff, Mr. Ivan\",male,24,0,0,349233,7.8958,,S\\n296,0,1,\"Lewy, Mr. Ervin G\",male,,0,0,PC 17612,27.7208,,C\\n297,0,3,\"Hanna, Mr. Mansour\",male,23.5,0,0,2693,7.2292,,C\\n298,0,1,\"Allison, Miss. Helen Loraine\",female,2,1,2,113781,151.55,C22 C26,S\\n299,1,1,\"Saalfeld, Mr. Adolphe\",male,,0,0,19988,30.5,C106,S\\n300,1,1,\"Baxter, Mrs. James (Helene DeLaudeniere Chaput)\",female,50,0,1,PC 17558,247.5208,B58 B60,C\\n301,1,3,\"Kelly, Miss. Anna Katherine \"\"Annie Kate\"\"\",female,,0,0,9234,7.75,,Q\\n302,1,3,\"McCoy, Mr. Bernard\",male,,2,0,367226,23.25,,Q\\n303,0,3,\"Johnson, Mr. William Cahoone Jr\",male,19,0,0,LINE,0,,S\\n304,1,2,\"Keane, Miss. Nora A\",female,,0,0,226593,12.35,E101,Q\\n305,0,3,\"Williams, Mr. Howard Hugh \"\"Harry\"\"\",male,,0,0,A/5 2466,8.05,,S\\n306,1,1,\"Allison, Master. Hudson Trevor\",male,0.92,1,2,113781,151.55,C22 C26,S\\n307,1,1,\"Fleming, Miss. Margaret\",female,,0,0,17421,110.8833,,C\\n308,1,1,\"Penasco y Castellana, Mrs. Victor de Satode (Maria Josefa Perez de Soto y Vallejo)\",female,17,1,0,PC 17758,108.9,C65,C\\n309,0,2,\"Abelson, Mr. Samuel\",male,30,1,0,P/PP 3381,24,,C\\n310,1,1,\"Francatelli, Miss. Laura Mabel\",female,30,0,0,PC 17485,56.9292,E36,C\\n311,1,1,\"Hays, Miss. Margaret Bechstein\",female,24,0,0,11767,83.1583,C54,C\\n312,1,1,\"Ryerson, Miss. Emily Borie\",female,18,2,2,PC 17608,262.375,B57 B59 B63 B66,C\\n313,0,2,\"Lahtinen, Mrs. William (Anna Sylfven)\",female,26,1,1,250651,26,,S\\n314,0,3,\"Hendekovic, Mr. Ignjac\",male,28,0,0,349243,7.8958,,S\\n315,0,2,\"Hart, Mr. Benjamin\",male,43,1,1,F.C.C. 13529,26.25,,S\\n316,1,3,\"Nilsson, Miss. Helmina Josefina\",female,26,0,0,347470,7.8542,,S\\n317,1,2,\"Kantor, Mrs. Sinai (Miriam Sternin)\",female,24,1,0,244367,26,,S\\n318,0,2,\"Moraweck, Dr. Ernest\",male,54,0,0,29011,14,,S\\n319,1,1,\"Wick, Miss. Mary Natalie\",female,31,0,2,36928,164.8667,C7,S\\n320,1,1,\"Spedden, Mrs. Frederic Oakley (Margaretta Corning Stone)\",female,40,1,1,16966,134.5,E34,C\\n321,0,3,\"Dennis, Mr. Samuel\",male,22,0,0,A/5 21172,7.25,,S\\n322,0,3,\"Danoff, Mr. Yoto\",male,27,0,0,349219,7.8958,,S\\n323,1,2,\"Slayter, Miss. Hilda Mary\",female,30,0,0,234818,12.35,,Q\\n324,1,2,\"Caldwell, Mrs. Albert Francis (Sylvia Mae Harbaugh)\",female,22,1,1,248738,29,,S\\n325,0,3,\"Sage, Mr. George John Jr\",male,,8,2,CA. 2343,69.55,,S\\n326,1,1,\"Young, Miss. Marie Grice\",female,36,0,0,PC 17760,135.6333,C32,C\\n327,0,3,\"Nysveen, Mr. Johan Hansen\",male,61,0,0,345364,6.2375,,S\\n328,1,2,\"Ball, Mrs. (Ada E Hall)\",female,36,0,0,28551,13,D,S\\n329,1,3,\"Goldsmith, Mrs. Frank John (Emily Alice Brown)\",female,31,1,1,363291,20.525,,S\\n330,1,1,\"Hippach, Miss. Jean Gertrude\",female,16,0,1,111361,57.9792,B18,C\\n331,1,3,\"McCoy, Miss. Agnes\",female,,2,0,367226,23.25,,Q\\n332,0,1,\"Partner, Mr. Austen\",male,45.5,0,0,113043,28.5,C124,S\\n333,0,1,\"Graham, Mr. George Edward\",male,38,0,1,PC 17582,153.4625,C91,S\\n334,0,3,\"Vander Planke, Mr. Leo Edmondus\",male,16,2,0,345764,18,,S\\n335,1,1,\"Frauenthal, Mrs. Henry William (Clara Heinsheimer)\",female,,1,0,PC 17611,133.65,,S\\n336,0,3,\"Denkoff, Mr. Mitto\",male,,0,0,349225,7.8958,,S\\n337,0,1,\"Pears, Mr. Thomas Clinton\",male,29,1,0,113776,66.6,C2,S\\n338,1,1,\"Burns, Miss. Elizabeth Margaret\",female,41,0,0,16966,134.5,E40,C\\n339,1,3,\"Dahl, Mr. Karl Edwart\",male,45,0,0,7598,8.05,,S\\n340,0,1,\"Blackwell, Mr. Stephen Weart\",male,45,0,0,113784,35.5,T,S\\n341,1,2,\"Navratil, Master. Edmond Roger\",male,2,1,1,230080,26,F2,S\\n342,1,1,\"Fortune, Miss. Alice Elizabeth\",female,24,3,2,19950,263,C23 C25 C27,S\\n343,0,2,\"Collander, Mr. Erik Gustaf\",male,28,0,0,248740,13,,S\\n344,0,2,\"Sedgwick, Mr. Charles Frederick Waddington\",male,25,0,0,244361,13,,S\\n345,0,2,\"Fox, Mr. Stanley Hubert\",male,36,0,0,229236,13,,S\\n346,1,2,\"Brown, Miss. Amelia \"\"Mildred\"\"\",female,24,0,0,248733,13,F33,S\\n347,1,2,\"Smith, Miss. Marion Elsie\",female,40,0,0,31418,13,,S\\n348,1,3,\"Davison, Mrs. Thomas Henry (Mary E Finck)\",female,,1,0,386525,16.1,,S\\n349,1,3,\"Coutts, Master. William Loch \"\"William\"\"\",male,3,1,1,C.A. 37671,15.9,,S\\n350,0,3,\"Dimic, Mr. Jovan\",male,42,0,0,315088,8.6625,,S\\n351,0,3,\"Odahl, Mr. Nils Martin\",male,23,0,0,7267,9.225,,S\\n352,0,1,\"Williams-Lambert, Mr. Fletcher Fellows\",male,,0,0,113510,35,C128,S\\n353,0,3,\"Elias, Mr. Tannous\",male,15,1,1,2695,7.2292,,C\\n354,0,3,\"Arnold-Franchi, Mr. Josef\",male,25,1,0,349237,17.8,,S\\n355,0,3,\"Yousif, Mr. Wazli\",male,,0,0,2647,7.225,,C\\n356,0,3,\"Vanden Steen, Mr. Leo Peter\",male,28,0,0,345783,9.5,,S\\n357,1,1,\"Bowerman, Miss. Elsie Edith\",female,22,0,1,113505,55,E33,S\\n358,0,2,\"Funk, Miss. Annie Clemmer\",female,38,0,0,237671,13,,S\\n359,1,3,\"McGovern, Miss. Mary\",female,,0,0,330931,7.8792,,Q\\n360,1,3,\"Mockler, Miss. Helen Mary \"\"Ellie\"\"\",female,,0,0,330980,7.8792,,Q\\n361,0,3,\"Skoog, Mr. Wilhelm\",male,40,1,4,347088,27.9,,S\\n362,0,2,\"del Carlo, Mr. Sebastiano\",male,29,1,0,SC/PARIS 2167,27.7208,,C\\n363,0,3,\"Barbara, Mrs. (Catherine David)\",female,45,0,1,2691,14.4542,,C\\n364,0,3,\"Asim, Mr. Adola\",male,35,0,0,SOTON/O.Q. 3101310,7.05,,S\\n365,0,3,\"O\\'Brien, Mr. Thomas\",male,,1,0,370365,15.5,,Q\\n366,0,3,\"Adahl, Mr. Mauritz Nils Martin\",male,30,0,0,C 7076,7.25,,S\\n367,1,1,\"Warren, Mrs. Frank Manley (Anna Sophia Atkinson)\",female,60,1,0,110813,75.25,D37,C\\n368,1,3,\"Moussa, Mrs. (Mantoura Boulos)\",female,,0,0,2626,7.2292,,C\\n369,1,3,\"Jermyn, Miss. Annie\",female,,0,0,14313,7.75,,Q\\n370,1,1,\"Aubart, Mme. Leontine Pauline\",female,24,0,0,PC 17477,69.3,B35,C\\n371,1,1,\"Harder, Mr. George Achilles\",male,25,1,0,11765,55.4417,E50,C\\n372,0,3,\"Wiklund, Mr. Jakob Alfred\",male,18,1,0,3101267,6.4958,,S\\n373,0,3,\"Beavan, Mr. William Thomas\",male,19,0,0,323951,8.05,,S\\n374,0,1,\"Ringhini, Mr. Sante\",male,22,0,0,PC 17760,135.6333,,C\\n375,0,3,\"Palsson, Miss. Stina Viola\",female,3,3,1,349909,21.075,,S\\n376,1,1,\"Meyer, Mrs. Edgar Joseph (Leila Saks)\",female,,1,0,PC 17604,82.1708,,C\\n377,1,3,\"Landergren, Miss. Aurora Adelia\",female,22,0,0,C 7077,7.25,,S\\n378,0,1,\"Widener, Mr. Harry Elkins\",male,27,0,2,113503,211.5,C82,C\\n379,0,3,\"Betros, Mr. Tannous\",male,20,0,0,2648,4.0125,,C\\n380,0,3,\"Gustafsson, Mr. Karl Gideon\",male,19,0,0,347069,7.775,,S\\n381,1,1,\"Bidois, Miss. Rosalie\",female,42,0,0,PC 17757,227.525,,C\\n382,1,3,\"Nakid, Miss. Maria (\"\"Mary\"\")\",female,1,0,2,2653,15.7417,,C\\n383,0,3,\"Tikkanen, Mr. Juho\",male,32,0,0,STON/O 2. 3101293,7.925,,S\\n384,1,1,\"Holverson, Mrs. Alexander Oskar (Mary Aline Towner)\",female,35,1,0,113789,52,,S\\n385,0,3,\"Plotcharsky, Mr. Vasil\",male,,0,0,349227,7.8958,,S\\n386,0,2,\"Davies, Mr. Charles Henry\",male,18,0,0,S.O.C. 14879,73.5,,S\\n387,0,3,\"Goodwin, Master. Sidney Leonard\",male,1,5,2,CA 2144,46.9,,S\\n388,1,2,\"Buss, Miss. Kate\",female,36,0,0,27849,13,,S\\n389,0,3,\"Sadlier, Mr. Matthew\",male,,0,0,367655,7.7292,,Q\\n390,1,2,\"Lehmann, Miss. Bertha\",female,17,0,0,SC 1748,12,,C\\n391,1,1,\"Carter, Mr. William Ernest\",male,36,1,2,113760,120,B96 B98,S\\n392,1,3,\"Jansson, Mr. Carl Olof\",male,21,0,0,350034,7.7958,,S\\n393,0,3,\"Gustafsson, Mr. Johan Birger\",male,28,2,0,3101277,7.925,,S\\n394,1,1,\"Newell, Miss. Marjorie\",female,23,1,0,35273,113.275,D36,C\\n395,1,3,\"Sandstrom, Mrs. Hjalmar (Agnes Charlotta Bengtsson)\",female,24,0,2,PP 9549,16.7,G6,S\\n396,0,3,\"Johansson, Mr. Erik\",male,22,0,0,350052,7.7958,,S\\n397,0,3,\"Olsson, Miss. Elina\",female,31,0,0,350407,7.8542,,S\\n398,0,2,\"McKane, Mr. Peter David\",male,46,0,0,28403,26,,S\\n399,0,2,\"Pain, Dr. Alfred\",male,23,0,0,244278,10.5,,S\\n400,1,2,\"Trout, Mrs. William H (Jessie L)\",female,28,0,0,240929,12.65,,S\\n401,1,3,\"Niskanen, Mr. Juha\",male,39,0,0,STON/O 2. 3101289,7.925,,S\\n402,0,3,\"Adams, Mr. John\",male,26,0,0,341826,8.05,,S\\n403,0,3,\"Jussila, Miss. Mari Aina\",female,21,1,0,4137,9.825,,S\\n404,0,3,\"Hakkarainen, Mr. Pekka Pietari\",male,28,1,0,STON/O2. 3101279,15.85,,S\\n405,0,3,\"Oreskovic, Miss. Marija\",female,20,0,0,315096,8.6625,,S\\n406,0,2,\"Gale, Mr. Shadrach\",male,34,1,0,28664,21,,S\\n407,0,3,\"Widegren, Mr. Carl/Charles Peter\",male,51,0,0,347064,7.75,,S\\n408,1,2,\"Richards, Master. William Rowe\",male,3,1,1,29106,18.75,,S\\n409,0,3,\"Birkeland, Mr. Hans Martin Monsen\",male,21,0,0,312992,7.775,,S\\n410,0,3,\"Lefebre, Miss. Ida\",female,,3,1,4133,25.4667,,S\\n411,0,3,\"Sdycoff, Mr. Todor\",male,,0,0,349222,7.8958,,S\\n412,0,3,\"Hart, Mr. Henry\",male,,0,0,394140,6.8583,,Q\\n413,1,1,\"Minahan, Miss. Daisy E\",female,33,1,0,19928,90,C78,Q\\n414,0,2,\"Cunningham, Mr. Alfred Fleming\",male,,0,0,239853,0,,S\\n415,1,3,\"Sundman, Mr. Johan Julian\",male,44,0,0,STON/O 2. 3101269,7.925,,S\\n416,0,3,\"Meek, Mrs. Thomas (Annie Louise Rowley)\",female,,0,0,343095,8.05,,S\\n417,1,2,\"Drew, Mrs. James Vivian (Lulu Thorne Christian)\",female,34,1,1,28220,32.5,,S\\n418,1,2,\"Silven, Miss. Lyyli Karoliina\",female,18,0,2,250652,13,,S\\n419,0,2,\"Matthews, Mr. William John\",male,30,0,0,28228,13,,S\\n420,0,3,\"Van Impe, Miss. Catharina\",female,10,0,2,345773,24.15,,S\\n421,0,3,\"Gheorgheff, Mr. Stanio\",male,,0,0,349254,7.8958,,C\\n422,0,3,\"Charters, Mr. David\",male,21,0,0,A/5. 13032,7.7333,,Q\\n423,0,3,\"Zimmerman, Mr. Leo\",male,29,0,0,315082,7.875,,S\\n424,0,3,\"Danbom, Mrs. Ernst Gilbert (Anna Sigrid Maria Brogren)\",female,28,1,1,347080,14.4,,S\\n425,0,3,\"Rosblom, Mr. Viktor Richard\",male,18,1,1,370129,20.2125,,S\\n426,0,3,\"Wiseman, Mr. Phillippe\",male,,0,0,A/4. 34244,7.25,,S\\n427,1,2,\"Clarke, Mrs. Charles V (Ada Maria Winfield)\",female,28,1,0,2003,26,,S\\n428,1,2,\"Phillips, Miss. Kate Florence (\"\"Mrs Kate Louise Phillips Marshall\"\")\",female,19,0,0,250655,26,,S\\n429,0,3,\"Flynn, Mr. James\",male,,0,0,364851,7.75,,Q\\n430,1,3,\"Pickard, Mr. Berk (Berk Trembisky)\",male,32,0,0,SOTON/O.Q. 392078,8.05,E10,S\\n431,1,1,\"Bjornstrom-Steffansson, Mr. Mauritz Hakan\",male,28,0,0,110564,26.55,C52,S\\n432,1,3,\"Thorneycroft, Mrs. Percival (Florence Kate White)\",female,,1,0,376564,16.1,,S\\n433,1,2,\"Louch, Mrs. Charles Alexander (Alice Adelaide Slow)\",female,42,1,0,SC/AH 3085,26,,S\\n434,0,3,\"Kallio, Mr. Nikolai Erland\",male,17,0,0,STON/O 2. 3101274,7.125,,S\\n435,0,1,\"Silvey, Mr. William Baird\",male,50,1,0,13507,55.9,E44,S\\n436,1,1,\"Carter, Miss. Lucile Polk\",female,14,1,2,113760,120,B96 B98,S\\n437,0,3,\"Ford, Miss. Doolina Margaret \"\"Daisy\"\"\",female,21,2,2,W./C. 6608,34.375,,S\\n438,1,2,\"Richards, Mrs. Sidney (Emily Hocking)\",female,24,2,3,29106,18.75,,S\\n439,0,1,\"Fortune, Mr. Mark\",male,64,1,4,19950,263,C23 C25 C27,S\\n440,0,2,\"Kvillner, Mr. Johan Henrik Johannesson\",male,31,0,0,C.A. 18723,10.5,,S\\n441,1,2,\"Hart, Mrs. Benjamin (Esther Ada Bloomfield)\",female,45,1,1,F.C.C. 13529,26.25,,S\\n442,0,3,\"Hampe, Mr. Leon\",male,20,0,0,345769,9.5,,S\\n443,0,3,\"Petterson, Mr. Johan Emil\",male,25,1,0,347076,7.775,,S\\n444,1,2,\"Reynaldo, Ms. Encarnacion\",female,28,0,0,230434,13,,S\\n445,1,3,\"Johannesen-Bratthammer, Mr. Bernt\",male,,0,0,65306,8.1125,,S\\n446,1,1,\"Dodge, Master. Washington\",male,4,0,2,33638,81.8583,A34,S\\n447,1,2,\"Mellinger, Miss. Madeleine Violet\",female,13,0,1,250644,19.5,,S\\n448,1,1,\"Seward, Mr. Frederic Kimber\",male,34,0,0,113794,26.55,,S\\n449,1,3,\"Baclini, Miss. Marie Catherine\",female,5,2,1,2666,19.2583,,C\\n450,1,1,\"Peuchen, Major. Arthur Godfrey\",male,52,0,0,113786,30.5,C104,S\\n451,0,2,\"West, Mr. Edwy Arthur\",male,36,1,2,C.A. 34651,27.75,,S\\n452,0,3,\"Hagland, Mr. Ingvald Olai Olsen\",male,,1,0,65303,19.9667,,S\\n453,0,1,\"Foreman, Mr. Benjamin Laventall\",male,30,0,0,113051,27.75,C111,C\\n454,1,1,\"Goldenberg, Mr. Samuel L\",male,49,1,0,17453,89.1042,C92,C\\n455,0,3,\"Peduzzi, Mr. Joseph\",male,,0,0,A/5 2817,8.05,,S\\n456,1,3,\"Jalsevac, Mr. Ivan\",male,29,0,0,349240,7.8958,,C\\n457,0,1,\"Millet, Mr. Francis Davis\",male,65,0,0,13509,26.55,E38,S\\n458,1,1,\"Kenyon, Mrs. Frederick R (Marion)\",female,,1,0,17464,51.8625,D21,S\\n459,1,2,\"Toomey, Miss. Ellen\",female,50,0,0,F.C.C. 13531,10.5,,S\\n460,0,3,\"O\\'Connor, Mr. Maurice\",male,,0,0,371060,7.75,,Q\\n461,1,1,\"Anderson, Mr. Harry\",male,48,0,0,19952,26.55,E12,S\\n462,0,3,\"Morley, Mr. William\",male,34,0,0,364506,8.05,,S\\n463,0,1,\"Gee, Mr. Arthur H\",male,47,0,0,111320,38.5,E63,S\\n464,0,2,\"Milling, Mr. Jacob Christian\",male,48,0,0,234360,13,,S\\n465,0,3,\"Maisner, Mr. Simon\",male,,0,0,A/S 2816,8.05,,S\\n466,0,3,\"Goncalves, Mr. Manuel Estanslas\",male,38,0,0,SOTON/O.Q. 3101306,7.05,,S\\n467,0,2,\"Campbell, Mr. William\",male,,0,0,239853,0,,S\\n468,0,1,\"Smart, Mr. John Montgomery\",male,56,0,0,113792,26.55,,S\\n469,0,3,\"Scanlan, Mr. James\",male,,0,0,36209,7.725,,Q\\n470,1,3,\"Baclini, Miss. Helene Barbara\",female,0.75,2,1,2666,19.2583,,C\\n471,0,3,\"Keefe, Mr. Arthur\",male,,0,0,323592,7.25,,S\\n472,0,3,\"Cacic, Mr. Luka\",male,38,0,0,315089,8.6625,,S\\n473,1,2,\"West, Mrs. Edwy Arthur (Ada Mary Worth)\",female,33,1,2,C.A. 34651,27.75,,S\\n474,1,2,\"Jerwan, Mrs. Amin S (Marie Marthe Thuillard)\",female,23,0,0,SC/AH Basle 541,13.7917,D,C\\n475,0,3,\"Strandberg, Miss. Ida Sofia\",female,22,0,0,7553,9.8375,,S\\n476,0,1,\"Clifford, Mr. George Quincy\",male,,0,0,110465,52,A14,S\\n477,0,2,\"Renouf, Mr. Peter Henry\",male,34,1,0,31027,21,,S\\n478,0,3,\"Braund, Mr. Lewis Richard\",male,29,1,0,3460,7.0458,,S\\n479,0,3,\"Karlsson, Mr. Nils August\",male,22,0,0,350060,7.5208,,S\\n480,1,3,\"Hirvonen, Miss. Hildur E\",female,2,0,1,3101298,12.2875,,S\\n481,0,3,\"Goodwin, Master. Harold Victor\",male,9,5,2,CA 2144,46.9,,S\\n482,0,2,\"Frost, Mr. Anthony Wood \"\"Archie\"\"\",male,,0,0,239854,0,,S\\n483,0,3,\"Rouse, Mr. Richard Henry\",male,50,0,0,A/5 3594,8.05,,S\\n484,1,3,\"Turkula, Mrs. (Hedwig)\",female,63,0,0,4134,9.5875,,S\\n485,1,1,\"Bishop, Mr. Dickinson H\",male,25,1,0,11967,91.0792,B49,C\\n486,0,3,\"Lefebre, Miss. Jeannie\",female,,3,1,4133,25.4667,,S\\n487,1,1,\"Hoyt, Mrs. Frederick Maxfield (Jane Anne Forby)\",female,35,1,0,19943,90,C93,S\\n488,0,1,\"Kent, Mr. Edward Austin\",male,58,0,0,11771,29.7,B37,C\\n489,0,3,\"Somerton, Mr. Francis William\",male,30,0,0,A.5. 18509,8.05,,S\\n490,1,3,\"Coutts, Master. Eden Leslie \"\"Neville\"\"\",male,9,1,1,C.A. 37671,15.9,,S\\n491,0,3,\"Hagland, Mr. Konrad Mathias Reiersen\",male,,1,0,65304,19.9667,,S\\n492,0,3,\"Windelov, Mr. Einar\",male,21,0,0,SOTON/OQ 3101317,7.25,,S\\n493,0,1,\"Molson, Mr. Harry Markland\",male,55,0,0,113787,30.5,C30,S\\n494,0,1,\"Artagaveytia, Mr. Ramon\",male,71,0,0,PC 17609,49.5042,,C\\n495,0,3,\"Stanley, Mr. Edward Roland\",male,21,0,0,A/4 45380,8.05,,S\\n496,0,3,\"Yousseff, Mr. Gerious\",male,,0,0,2627,14.4583,,C\\n497,1,1,\"Eustis, Miss. Elizabeth Mussey\",female,54,1,0,36947,78.2667,D20,C\\n498,0,3,\"Shellard, Mr. Frederick William\",male,,0,0,C.A. 6212,15.1,,S\\n499,0,1,\"Allison, Mrs. Hudson J C (Bessie Waldo Daniels)\",female,25,1,2,113781,151.55,C22 C26,S\\n500,0,3,\"Svensson, Mr. Olof\",male,24,0,0,350035,7.7958,,S\\n501,0,3,\"Calic, Mr. Petar\",male,17,0,0,315086,8.6625,,S\\n502,0,3,\"Canavan, Miss. Mary\",female,21,0,0,364846,7.75,,Q\\n503,0,3,\"O\\'Sullivan, Miss. Bridget Mary\",female,,0,0,330909,7.6292,,Q\\n504,0,3,\"Laitinen, Miss. Kristina Sofia\",female,37,0,0,4135,9.5875,,S\\n505,1,1,\"Maioni, Miss. Roberta\",female,16,0,0,110152,86.5,B79,S\\n506,0,1,\"Penasco y Castellana, Mr. Victor de Satode\",male,18,1,0,PC 17758,108.9,C65,C\\n507,1,2,\"Quick, Mrs. Frederick Charles (Jane Richards)\",female,33,0,2,26360,26,,S\\n508,1,1,\"Bradley, Mr. George (\"\"George Arthur Brayton\"\")\",male,,0,0,111427,26.55,,S\\n509,0,3,\"Olsen, Mr. Henry Margido\",male,28,0,0,C 4001,22.525,,S\\n510,1,3,\"Lang, Mr. Fang\",male,26,0,0,1601,56.4958,,S\\n511,1,3,\"Daly, Mr. Eugene Patrick\",male,29,0,0,382651,7.75,,Q\\n512,0,3,\"Webber, Mr. James\",male,,0,0,SOTON/OQ 3101316,8.05,,S\\n513,1,1,\"McGough, Mr. James Robert\",male,36,0,0,PC 17473,26.2875,E25,S\\n514,1,1,\"Rothschild, Mrs. Martin (Elizabeth L. Barrett)\",female,54,1,0,PC 17603,59.4,,C\\n515,0,3,\"Coleff, Mr. Satio\",male,24,0,0,349209,7.4958,,S\\n516,0,1,\"Walker, Mr. William Anderson\",male,47,0,0,36967,34.0208,D46,S\\n517,1,2,\"Lemore, Mrs. (Amelia Milley)\",female,34,0,0,C.A. 34260,10.5,F33,S\\n518,0,3,\"Ryan, Mr. Patrick\",male,,0,0,371110,24.15,,Q\\n519,1,2,\"Angle, Mrs. William A (Florence \"\"Mary\"\" Agnes Hughes)\",female,36,1,0,226875,26,,S\\n520,0,3,\"Pavlovic, Mr. Stefo\",male,32,0,0,349242,7.8958,,S\\n521,1,1,\"Perreault, Miss. Anne\",female,30,0,0,12749,93.5,B73,S\\n522,0,3,\"Vovk, Mr. Janko\",male,22,0,0,349252,7.8958,,S\\n523,0,3,\"Lahoud, Mr. Sarkis\",male,,0,0,2624,7.225,,C\\n524,1,1,\"Hippach, Mrs. Louis Albert (Ida Sophia Fischer)\",female,44,0,1,111361,57.9792,B18,C\\n525,0,3,\"Kassem, Mr. Fared\",male,,0,0,2700,7.2292,,C\\n526,0,3,\"Farrell, Mr. James\",male,40.5,0,0,367232,7.75,,Q\\n527,1,2,\"Ridsdale, Miss. Lucy\",female,50,0,0,W./C. 14258,10.5,,S\\n528,0,1,\"Farthing, Mr. John\",male,,0,0,PC 17483,221.7792,C95,S\\n529,0,3,\"Salonen, Mr. Johan Werner\",male,39,0,0,3101296,7.925,,S\\n530,0,2,\"Hocking, Mr. Richard George\",male,23,2,1,29104,11.5,,S\\n531,1,2,\"Quick, Miss. Phyllis May\",female,2,1,1,26360,26,,S\\n532,0,3,\"Toufik, Mr. Nakli\",male,,0,0,2641,7.2292,,C\\n533,0,3,\"Elias, Mr. Joseph Jr\",male,17,1,1,2690,7.2292,,C\\n534,1,3,\"Peter, Mrs. Catherine (Catherine Rizk)\",female,,0,2,2668,22.3583,,C\\n535,0,3,\"Cacic, Miss. Marija\",female,30,0,0,315084,8.6625,,S\\n536,1,2,\"Hart, Miss. Eva Miriam\",female,7,0,2,F.C.C. 13529,26.25,,S\\n537,0,1,\"Butt, Major. Archibald Willingham\",male,45,0,0,113050,26.55,B38,S\\n538,1,1,\"LeRoy, Miss. Bertha\",female,30,0,0,PC 17761,106.425,,C\\n539,0,3,\"Risien, Mr. Samuel Beard\",male,,0,0,364498,14.5,,S\\n540,1,1,\"Frolicher, Miss. Hedwig Margaritha\",female,22,0,2,13568,49.5,B39,C\\n541,1,1,\"Crosby, Miss. Harriet R\",female,36,0,2,WE/P 5735,71,B22,S\\n542,0,3,\"Andersson, Miss. Ingeborg Constanzia\",female,9,4,2,347082,31.275,,S\\n543,0,3,\"Andersson, Miss. Sigrid Elisabeth\",female,11,4,2,347082,31.275,,S\\n544,1,2,\"Beane, Mr. Edward\",male,32,1,0,2908,26,,S\\n545,0,1,\"Douglas, Mr. Walter Donald\",male,50,1,0,PC 17761,106.425,C86,C\\n546,0,1,\"Nicholson, Mr. Arthur Ernest\",male,64,0,0,693,26,,S\\n547,1,2,\"Beane, Mrs. Edward (Ethel Clarke)\",female,19,1,0,2908,26,,S\\n548,1,2,\"Padro y Manent, Mr. Julian\",male,,0,0,SC/PARIS 2146,13.8625,,C\\n549,0,3,\"Goldsmith, Mr. Frank John\",male,33,1,1,363291,20.525,,S\\n550,1,2,\"Davies, Master. John Morgan Jr\",male,8,1,1,C.A. 33112,36.75,,S\\n551,1,1,\"Thayer, Mr. John Borland Jr\",male,17,0,2,17421,110.8833,C70,C\\n552,0,2,\"Sharp, Mr. Percival James R\",male,27,0,0,244358,26,,S\\n553,0,3,\"O\\'Brien, Mr. Timothy\",male,,0,0,330979,7.8292,,Q\\n554,1,3,\"Leeni, Mr. Fahim (\"\"Philip Zenni\"\")\",male,22,0,0,2620,7.225,,C\\n555,1,3,\"Ohman, Miss. Velin\",female,22,0,0,347085,7.775,,S\\n556,0,1,\"Wright, Mr. George\",male,62,0,0,113807,26.55,,S\\n557,1,1,\"Duff Gordon, Lady. (Lucille Christiana Sutherland) (\"\"Mrs Morgan\"\")\",female,48,1,0,11755,39.6,A16,C\\n558,0,1,\"Robbins, Mr. Victor\",male,,0,0,PC 17757,227.525,,C\\n559,1,1,\"Taussig, Mrs. Emil (Tillie Mandelbaum)\",female,39,1,1,110413,79.65,E67,S\\n560,1,3,\"de Messemaeker, Mrs. Guillaume Joseph (Emma)\",female,36,1,0,345572,17.4,,S\\n561,0,3,\"Morrow, Mr. Thomas Rowan\",male,,0,0,372622,7.75,,Q\\n562,0,3,\"Sivic, Mr. Husein\",male,40,0,0,349251,7.8958,,S\\n563,0,2,\"Norman, Mr. Robert Douglas\",male,28,0,0,218629,13.5,,S\\n564,0,3,\"Simmons, Mr. John\",male,,0,0,SOTON/OQ 392082,8.05,,S\\n565,0,3,\"Meanwell, Miss. (Marion Ogden)\",female,,0,0,SOTON/O.Q. 392087,8.05,,S\\n566,0,3,\"Davies, Mr. Alfred J\",male,24,2,0,A/4 48871,24.15,,S\\n567,0,3,\"Stoytcheff, Mr. Ilia\",male,19,0,0,349205,7.8958,,S\\n568,0,3,\"Palsson, Mrs. Nils (Alma Cornelia Berglund)\",female,29,0,4,349909,21.075,,S\\n569,0,3,\"Doharr, Mr. Tannous\",male,,0,0,2686,7.2292,,C\\n570,1,3,\"Jonsson, Mr. Carl\",male,32,0,0,350417,7.8542,,S\\n571,1,2,\"Harris, Mr. George\",male,62,0,0,S.W./PP 752,10.5,,S\\n572,1,1,\"Appleton, Mrs. Edward Dale (Charlotte Lamson)\",female,53,2,0,11769,51.4792,C101,S\\n573,1,1,\"Flynn, Mr. John Irwin (\"\"Irving\"\")\",male,36,0,0,PC 17474,26.3875,E25,S\\n574,1,3,\"Kelly, Miss. Mary\",female,,0,0,14312,7.75,,Q\\n575,0,3,\"Rush, Mr. Alfred George John\",male,16,0,0,A/4. 20589,8.05,,S\\n576,0,3,\"Patchett, Mr. George\",male,19,0,0,358585,14.5,,S\\n577,1,2,\"Garside, Miss. Ethel\",female,34,0,0,243880,13,,S\\n578,1,1,\"Silvey, Mrs. William Baird (Alice Munger)\",female,39,1,0,13507,55.9,E44,S\\n579,0,3,\"Caram, Mrs. Joseph (Maria Elias)\",female,,1,0,2689,14.4583,,C\\n580,1,3,\"Jussila, Mr. Eiriik\",male,32,0,0,STON/O 2. 3101286,7.925,,S\\n581,1,2,\"Christy, Miss. Julie Rachel\",female,25,1,1,237789,30,,S\\n582,1,1,\"Thayer, Mrs. John Borland (Marian Longstreth Morris)\",female,39,1,1,17421,110.8833,C68,C\\n583,0,2,\"Downton, Mr. William James\",male,54,0,0,28403,26,,S\\n584,0,1,\"Ross, Mr. John Hugo\",male,36,0,0,13049,40.125,A10,C\\n585,0,3,\"Paulner, Mr. Uscher\",male,,0,0,3411,8.7125,,C\\n586,1,1,\"Taussig, Miss. Ruth\",female,18,0,2,110413,79.65,E68,S\\n587,0,2,\"Jarvis, Mr. John Denzil\",male,47,0,0,237565,15,,S\\n588,1,1,\"Frolicher-Stehli, Mr. Maxmillian\",male,60,1,1,13567,79.2,B41,C\\n589,0,3,\"Gilinski, Mr. Eliezer\",male,22,0,0,14973,8.05,,S\\n590,0,3,\"Murdlin, Mr. Joseph\",male,,0,0,A./5. 3235,8.05,,S\\n591,0,3,\"Rintamaki, Mr. Matti\",male,35,0,0,STON/O 2. 3101273,7.125,,S\\n592,1,1,\"Stephenson, Mrs. Walter Bertram (Martha Eustis)\",female,52,1,0,36947,78.2667,D20,C\\n593,0,3,\"Elsbury, Mr. William James\",male,47,0,0,A/5 3902,7.25,,S\\n594,0,3,\"Bourke, Miss. Mary\",female,,0,2,364848,7.75,,Q\\n595,0,2,\"Chapman, Mr. John Henry\",male,37,1,0,SC/AH 29037,26,,S\\n596,0,3,\"Van Impe, Mr. Jean Baptiste\",male,36,1,1,345773,24.15,,S\\n597,1,2,\"Leitch, Miss. Jessie Wills\",female,,0,0,248727,33,,S\\n598,0,3,\"Johnson, Mr. Alfred\",male,49,0,0,LINE,0,,S\\n599,0,3,\"Boulos, Mr. Hanna\",male,,0,0,2664,7.225,,C\\n600,1,1,\"Duff Gordon, Sir. Cosmo Edmund (\"\"Mr Morgan\"\")\",male,49,1,0,PC 17485,56.9292,A20,C\\n601,1,2,\"Jacobsohn, Mrs. Sidney Samuel (Amy Frances Christy)\",female,24,2,1,243847,27,,S\\n602,0,3,\"Slabenoff, Mr. Petco\",male,,0,0,349214,7.8958,,S\\n603,0,1,\"Harrington, Mr. Charles H\",male,,0,0,113796,42.4,,S\\n604,0,3,\"Torber, Mr. Ernst William\",male,44,0,0,364511,8.05,,S\\n605,1,1,\"Homer, Mr. Harry (\"\"Mr E Haven\"\")\",male,35,0,0,111426,26.55,,C\\n606,0,3,\"Lindell, Mr. Edvard Bengtsson\",male,36,1,0,349910,15.55,,S\\n607,0,3,\"Karaic, Mr. Milan\",male,30,0,0,349246,7.8958,,S\\n608,1,1,\"Daniel, Mr. Robert Williams\",male,27,0,0,113804,30.5,,S\\n609,1,2,\"Laroche, Mrs. Joseph (Juliette Marie Louise Lafargue)\",female,22,1,2,SC/Paris 2123,41.5792,,C\\n610,1,1,\"Shutes, Miss. Elizabeth W\",female,40,0,0,PC 17582,153.4625,C125,S\\n611,0,3,\"Andersson, Mrs. Anders Johan (Alfrida Konstantia Brogren)\",female,39,1,5,347082,31.275,,S\\n612,0,3,\"Jardin, Mr. Jose Neto\",male,,0,0,SOTON/O.Q. 3101305,7.05,,S\\n613,1,3,\"Murphy, Miss. Margaret Jane\",female,,1,0,367230,15.5,,Q\\n614,0,3,\"Horgan, Mr. John\",male,,0,0,370377,7.75,,Q\\n615,0,3,\"Brocklebank, Mr. William Alfred\",male,35,0,0,364512,8.05,,S\\n616,1,2,\"Herman, Miss. Alice\",female,24,1,2,220845,65,,S\\n617,0,3,\"Danbom, Mr. Ernst Gilbert\",male,34,1,1,347080,14.4,,S\\n618,0,3,\"Lobb, Mrs. William Arthur (Cordelia K Stanlick)\",female,26,1,0,A/5. 3336,16.1,,S\\n619,1,2,\"Becker, Miss. Marion Louise\",female,4,2,1,230136,39,F4,S\\n620,0,2,\"Gavey, Mr. Lawrence\",male,26,0,0,31028,10.5,,S\\n621,0,3,\"Yasbeck, Mr. Antoni\",male,27,1,0,2659,14.4542,,C\\n622,1,1,\"Kimball, Mr. Edwin Nelson Jr\",male,42,1,0,11753,52.5542,D19,S\\n623,1,3,\"Nakid, Mr. Sahid\",male,20,1,1,2653,15.7417,,C\\n624,0,3,\"Hansen, Mr. Henry Damsgaard\",male,21,0,0,350029,7.8542,,S\\n625,0,3,\"Bowen, Mr. David John \"\"Dai\"\"\",male,21,0,0,54636,16.1,,S\\n626,0,1,\"Sutton, Mr. Frederick\",male,61,0,0,36963,32.3208,D50,S\\n627,0,2,\"Kirkland, Rev. Charles Leonard\",male,57,0,0,219533,12.35,,Q\\n628,1,1,\"Longley, Miss. Gretchen Fiske\",female,21,0,0,13502,77.9583,D9,S\\n629,0,3,\"Bostandyeff, Mr. Guentcho\",male,26,0,0,349224,7.8958,,S\\n630,0,3,\"O\\'Connell, Mr. Patrick D\",male,,0,0,334912,7.7333,,Q\\n631,1,1,\"Barkworth, Mr. Algernon Henry Wilson\",male,80,0,0,27042,30,A23,S\\n632,0,3,\"Lundahl, Mr. Johan Svensson\",male,51,0,0,347743,7.0542,,S\\n633,1,1,\"Stahelin-Maeglin, Dr. Max\",male,32,0,0,13214,30.5,B50,C\\n634,0,1,\"Parr, Mr. William Henry Marsh\",male,,0,0,112052,0,,S\\n635,0,3,\"Skoog, Miss. Mabel\",female,9,3,2,347088,27.9,,S\\n636,1,2,\"Davis, Miss. Mary\",female,28,0,0,237668,13,,S\\n637,0,3,\"Leinonen, Mr. Antti Gustaf\",male,32,0,0,STON/O 2. 3101292,7.925,,S\\n638,0,2,\"Collyer, Mr. Harvey\",male,31,1,1,C.A. 31921,26.25,,S\\n639,0,3,\"Panula, Mrs. Juha (Maria Emilia Ojala)\",female,41,0,5,3101295,39.6875,,S\\n640,0,3,\"Thorneycroft, Mr. Percival\",male,,1,0,376564,16.1,,S\\n641,0,3,\"Jensen, Mr. Hans Peder\",male,20,0,0,350050,7.8542,,S\\n642,1,1,\"Sagesser, Mlle. Emma\",female,24,0,0,PC 17477,69.3,B35,C\\n643,0,3,\"Skoog, Miss. Margit Elizabeth\",female,2,3,2,347088,27.9,,S\\n644,1,3,\"Foo, Mr. Choong\",male,,0,0,1601,56.4958,,S\\n645,1,3,\"Baclini, Miss. Eugenie\",female,0.75,2,1,2666,19.2583,,C\\n646,1,1,\"Harper, Mr. Henry Sleeper\",male,48,1,0,PC 17572,76.7292,D33,C\\n647,0,3,\"Cor, Mr. Liudevit\",male,19,0,0,349231,7.8958,,S\\n648,1,1,\"Simonius-Blumer, Col. Oberst Alfons\",male,56,0,0,13213,35.5,A26,C\\n649,0,3,\"Willey, Mr. Edward\",male,,0,0,S.O./P.P. 751,7.55,,S\\n650,1,3,\"Stanley, Miss. Amy Zillah Elsie\",female,23,0,0,CA. 2314,7.55,,S\\n651,0,3,\"Mitkoff, Mr. Mito\",male,,0,0,349221,7.8958,,S\\n652,1,2,\"Doling, Miss. Elsie\",female,18,0,1,231919,23,,S\\n653,0,3,\"Kalvik, Mr. Johannes Halvorsen\",male,21,0,0,8475,8.4333,,S\\n654,1,3,\"O\\'Leary, Miss. Hanora \"\"Norah\"\"\",female,,0,0,330919,7.8292,,Q\\n655,0,3,\"Hegarty, Miss. Hanora \"\"Nora\"\"\",female,18,0,0,365226,6.75,,Q\\n656,0,2,\"Hickman, Mr. Leonard Mark\",male,24,2,0,S.O.C. 14879,73.5,,S\\n657,0,3,\"Radeff, Mr. Alexander\",male,,0,0,349223,7.8958,,S\\n658,0,3,\"Bourke, Mrs. John (Catherine)\",female,32,1,1,364849,15.5,,Q\\n659,0,2,\"Eitemiller, Mr. George Floyd\",male,23,0,0,29751,13,,S\\n660,0,1,\"Newell, Mr. Arthur Webster\",male,58,0,2,35273,113.275,D48,C\\n661,1,1,\"Frauenthal, Dr. Henry William\",male,50,2,0,PC 17611,133.65,,S\\n662,0,3,\"Badt, Mr. Mohamed\",male,40,0,0,2623,7.225,,C\\n663,0,1,\"Colley, Mr. Edward Pomeroy\",male,47,0,0,5727,25.5875,E58,S\\n664,0,3,\"Coleff, Mr. Peju\",male,36,0,0,349210,7.4958,,S\\n665,1,3,\"Lindqvist, Mr. Eino William\",male,20,1,0,STON/O 2. 3101285,7.925,,S\\n666,0,2,\"Hickman, Mr. Lewis\",male,32,2,0,S.O.C. 14879,73.5,,S\\n667,0,2,\"Butler, Mr. Reginald Fenton\",male,25,0,0,234686,13,,S\\n668,0,3,\"Rommetvedt, Mr. Knud Paust\",male,,0,0,312993,7.775,,S\\n669,0,3,\"Cook, Mr. Jacob\",male,43,0,0,A/5 3536,8.05,,S\\n670,1,1,\"Taylor, Mrs. Elmer Zebley (Juliet Cummins Wright)\",female,,1,0,19996,52,C126,S\\n671,1,2,\"Brown, Mrs. Thomas William Solomon (Elizabeth Catherine Ford)\",female,40,1,1,29750,39,,S\\n672,0,1,\"Davidson, Mr. Thornton\",male,31,1,0,F.C. 12750,52,B71,S\\n673,0,2,\"Mitchell, Mr. Henry Michael\",male,70,0,0,C.A. 24580,10.5,,S\\n674,1,2,\"Wilhelms, Mr. Charles\",male,31,0,0,244270,13,,S\\n675,0,2,\"Watson, Mr. Ennis Hastings\",male,,0,0,239856,0,,S\\n676,0,3,\"Edvardsson, Mr. Gustaf Hjalmar\",male,18,0,0,349912,7.775,,S\\n677,0,3,\"Sawyer, Mr. Frederick Charles\",male,24.5,0,0,342826,8.05,,S\\n678,1,3,\"Turja, Miss. Anna Sofia\",female,18,0,0,4138,9.8417,,S\\n679,0,3,\"Goodwin, Mrs. Frederick (Augusta Tyler)\",female,43,1,6,CA 2144,46.9,,S\\n680,1,1,\"Cardeza, Mr. Thomas Drake Martinez\",male,36,0,1,PC 17755,512.3292,B51 B53 B55,C\\n681,0,3,\"Peters, Miss. Katie\",female,,0,0,330935,8.1375,,Q\\n682,1,1,\"Hassab, Mr. Hammad\",male,27,0,0,PC 17572,76.7292,D49,C\\n683,0,3,\"Olsvigen, Mr. Thor Anderson\",male,20,0,0,6563,9.225,,S\\n684,0,3,\"Goodwin, Mr. Charles Edward\",male,14,5,2,CA 2144,46.9,,S\\n685,0,2,\"Brown, Mr. Thomas William Solomon\",male,60,1,1,29750,39,,S\\n686,0,2,\"Laroche, Mr. Joseph Philippe Lemercier\",male,25,1,2,SC/Paris 2123,41.5792,,C\\n687,0,3,\"Panula, Mr. Jaako Arnold\",male,14,4,1,3101295,39.6875,,S\\n688,0,3,\"Dakic, Mr. Branko\",male,19,0,0,349228,10.1708,,S\\n689,0,3,\"Fischer, Mr. Eberhard Thelander\",male,18,0,0,350036,7.7958,,S\\n690,1,1,\"Madill, Miss. Georgette Alexandra\",female,15,0,1,24160,211.3375,B5,S\\n691,1,1,\"Dick, Mr. Albert Adrian\",male,31,1,0,17474,57,B20,S\\n692,1,3,\"Karun, Miss. Manca\",female,4,0,1,349256,13.4167,,C\\n693,1,3,\"Lam, Mr. Ali\",male,,0,0,1601,56.4958,,S\\n694,0,3,\"Saad, Mr. Khalil\",male,25,0,0,2672,7.225,,C\\n695,0,1,\"Weir, Col. John\",male,60,0,0,113800,26.55,,S\\n696,0,2,\"Chapman, Mr. Charles Henry\",male,52,0,0,248731,13.5,,S\\n697,0,3,\"Kelly, Mr. James\",male,44,0,0,363592,8.05,,S\\n698,1,3,\"Mullens, Miss. Katherine \"\"Katie\"\"\",female,,0,0,35852,7.7333,,Q\\n699,0,1,\"Thayer, Mr. John Borland\",male,49,1,1,17421,110.8833,C68,C\\n700,0,3,\"Humblen, Mr. Adolf Mathias Nicolai Olsen\",male,42,0,0,348121,7.65,F G63,S\\n701,1,1,\"Astor, Mrs. John Jacob (Madeleine Talmadge Force)\",female,18,1,0,PC 17757,227.525,C62 C64,C\\n702,1,1,\"Silverthorne, Mr. Spencer Victor\",male,35,0,0,PC 17475,26.2875,E24,S\\n703,0,3,\"Barbara, Miss. Saiide\",female,18,0,1,2691,14.4542,,C\\n704,0,3,\"Gallagher, Mr. Martin\",male,25,0,0,36864,7.7417,,Q\\n705,0,3,\"Hansen, Mr. Henrik Juul\",male,26,1,0,350025,7.8542,,S\\n706,0,2,\"Morley, Mr. Henry Samuel (\"\"Mr Henry Marshall\"\")\",male,39,0,0,250655,26,,S\\n707,1,2,\"Kelly, Mrs. Florence \"\"Fannie\"\"\",female,45,0,0,223596,13.5,,S\\n708,1,1,\"Calderhead, Mr. Edward Pennington\",male,42,0,0,PC 17476,26.2875,E24,S\\n709,1,1,\"Cleaver, Miss. Alice\",female,22,0,0,113781,151.55,,S\\n710,1,3,\"Moubarek, Master. Halim Gonios (\"\"William George\"\")\",male,,1,1,2661,15.2458,,C\\n711,1,1,\"Mayne, Mlle. Berthe Antonine (\"\"Mrs de Villiers\"\")\",female,24,0,0,PC 17482,49.5042,C90,C\\n712,0,1,\"Klaber, Mr. Herman\",male,,0,0,113028,26.55,C124,S\\n713,1,1,\"Taylor, Mr. Elmer Zebley\",male,48,1,0,19996,52,C126,S\\n714,0,3,\"Larsson, Mr. August Viktor\",male,29,0,0,7545,9.4833,,S\\n715,0,2,\"Greenberg, Mr. Samuel\",male,52,0,0,250647,13,,S\\n716,0,3,\"Soholt, Mr. Peter Andreas Lauritz Andersen\",male,19,0,0,348124,7.65,F G73,S\\n717,1,1,\"Endres, Miss. Caroline Louise\",female,38,0,0,PC 17757,227.525,C45,C\\n718,1,2,\"Troutt, Miss. Edwina Celia \"\"Winnie\"\"\",female,27,0,0,34218,10.5,E101,S\\n719,0,3,\"McEvoy, Mr. Michael\",male,,0,0,36568,15.5,,Q\\n720,0,3,\"Johnson, Mr. Malkolm Joackim\",male,33,0,0,347062,7.775,,S\\n721,1,2,\"Harper, Miss. Annie Jessie \"\"Nina\"\"\",female,6,0,1,248727,33,,S\\n722,0,3,\"Jensen, Mr. Svend Lauritz\",male,17,1,0,350048,7.0542,,S\\n723,0,2,\"Gillespie, Mr. William Henry\",male,34,0,0,12233,13,,S\\n724,0,2,\"Hodges, Mr. Henry Price\",male,50,0,0,250643,13,,S\\n725,1,1,\"Chambers, Mr. Norman Campbell\",male,27,1,0,113806,53.1,E8,S\\n726,0,3,\"Oreskovic, Mr. Luka\",male,20,0,0,315094,8.6625,,S\\n727,1,2,\"Renouf, Mrs. Peter Henry (Lillian Jefferys)\",female,30,3,0,31027,21,,S\\n728,1,3,\"Mannion, Miss. Margareth\",female,,0,0,36866,7.7375,,Q\\n729,0,2,\"Bryhl, Mr. Kurt Arnold Gottfrid\",male,25,1,0,236853,26,,S\\n730,0,3,\"Ilmakangas, Miss. Pieta Sofia\",female,25,1,0,STON/O2. 3101271,7.925,,S\\n731,1,1,\"Allen, Miss. Elisabeth Walton\",female,29,0,0,24160,211.3375,B5,S\\n732,0,3,\"Hassan, Mr. Houssein G N\",male,11,0,0,2699,18.7875,,C\\n733,0,2,\"Knight, Mr. Robert J\",male,,0,0,239855,0,,S\\n734,0,2,\"Berriman, Mr. William John\",male,23,0,0,28425,13,,S\\n735,0,2,\"Troupiansky, Mr. Moses Aaron\",male,23,0,0,233639,13,,S\\n736,0,3,\"Williams, Mr. Leslie\",male,28.5,0,0,54636,16.1,,S\\n737,0,3,\"Ford, Mrs. Edward (Margaret Ann Watson)\",female,48,1,3,W./C. 6608,34.375,,S\\n738,1,1,\"Lesurer, Mr. Gustave J\",male,35,0,0,PC 17755,512.3292,B101,C\\n739,0,3,\"Ivanoff, Mr. Kanio\",male,,0,0,349201,7.8958,,S\\n740,0,3,\"Nankoff, Mr. Minko\",male,,0,0,349218,7.8958,,S\\n741,1,1,\"Hawksford, Mr. Walter James\",male,,0,0,16988,30,D45,S\\n742,0,1,\"Cavendish, Mr. Tyrell William\",male,36,1,0,19877,78.85,C46,S\\n743,1,1,\"Ryerson, Miss. Susan Parker \"\"Suzette\"\"\",female,21,2,2,PC 17608,262.375,B57 B59 B63 B66,C\\n744,0,3,\"McNamee, Mr. Neal\",male,24,1,0,376566,16.1,,S\\n745,1,3,\"Stranden, Mr. Juho\",male,31,0,0,STON/O 2. 3101288,7.925,,S\\n746,0,1,\"Crosby, Capt. Edward Gifford\",male,70,1,1,WE/P 5735,71,B22,S\\n747,0,3,\"Abbott, Mr. Rossmore Edward\",male,16,1,1,C.A. 2673,20.25,,S\\n748,1,2,\"Sinkkonen, Miss. Anna\",female,30,0,0,250648,13,,S\\n749,0,1,\"Marvin, Mr. Daniel Warner\",male,19,1,0,113773,53.1,D30,S\\n750,0,3,\"Connaghton, Mr. Michael\",male,31,0,0,335097,7.75,,Q\\n751,1,2,\"Wells, Miss. Joan\",female,4,1,1,29103,23,,S\\n752,1,3,\"Moor, Master. Meier\",male,6,0,1,392096,12.475,E121,S\\n753,0,3,\"Vande Velde, Mr. Johannes Joseph\",male,33,0,0,345780,9.5,,S\\n754,0,3,\"Jonkoff, Mr. Lalio\",male,23,0,0,349204,7.8958,,S\\n755,1,2,\"Herman, Mrs. Samuel (Jane Laver)\",female,48,1,2,220845,65,,S\\n756,1,2,\"Hamalainen, Master. Viljo\",male,0.67,1,1,250649,14.5,,S\\n757,0,3,\"Carlsson, Mr. August Sigfrid\",male,28,0,0,350042,7.7958,,S\\n758,0,2,\"Bailey, Mr. Percy Andrew\",male,18,0,0,29108,11.5,,S\\n759,0,3,\"Theobald, Mr. Thomas Leonard\",male,34,0,0,363294,8.05,,S\\n760,1,1,\"Rothes, the Countess. of (Lucy Noel Martha Dyer-Edwards)\",female,33,0,0,110152,86.5,B77,S\\n761,0,3,\"Garfirth, Mr. John\",male,,0,0,358585,14.5,,S\\n762,0,3,\"Nirva, Mr. Iisakki Antino Aijo\",male,41,0,0,SOTON/O2 3101272,7.125,,S\\n763,1,3,\"Barah, Mr. Hanna Assi\",male,20,0,0,2663,7.2292,,C\\n764,1,1,\"Carter, Mrs. William Ernest (Lucile Polk)\",female,36,1,2,113760,120,B96 B98,S\\n765,0,3,\"Eklund, Mr. Hans Linus\",male,16,0,0,347074,7.775,,S\\n766,1,1,\"Hogeboom, Mrs. John C (Anna Andrews)\",female,51,1,0,13502,77.9583,D11,S\\n767,0,1,\"Brewe, Dr. Arthur Jackson\",male,,0,0,112379,39.6,,C\\n768,0,3,\"Mangan, Miss. Mary\",female,30.5,0,0,364850,7.75,,Q\\n769,0,3,\"Moran, Mr. Daniel J\",male,,1,0,371110,24.15,,Q\\n770,0,3,\"Gronnestad, Mr. Daniel Danielsen\",male,32,0,0,8471,8.3625,,S\\n771,0,3,\"Lievens, Mr. Rene Aime\",male,24,0,0,345781,9.5,,S\\n772,0,3,\"Jensen, Mr. Niels Peder\",male,48,0,0,350047,7.8542,,S\\n773,0,2,\"Mack, Mrs. (Mary)\",female,57,0,0,S.O./P.P. 3,10.5,E77,S\\n774,0,3,\"Elias, Mr. Dibo\",male,,0,0,2674,7.225,,C\\n775,1,2,\"Hocking, Mrs. Elizabeth (Eliza Needs)\",female,54,1,3,29105,23,,S\\n776,0,3,\"Myhrman, Mr. Pehr Fabian Oliver Malkolm\",male,18,0,0,347078,7.75,,S\\n777,0,3,\"Tobin, Mr. Roger\",male,,0,0,383121,7.75,F38,Q\\n778,1,3,\"Emanuel, Miss. Virginia Ethel\",female,5,0,0,364516,12.475,,S\\n779,0,3,\"Kilgannon, Mr. Thomas J\",male,,0,0,36865,7.7375,,Q\\n780,1,1,\"Robert, Mrs. Edward Scott (Elisabeth Walton McMillan)\",female,43,0,1,24160,211.3375,B3,S\\n781,1,3,\"Ayoub, Miss. Banoura\",female,13,0,0,2687,7.2292,,C\\n782,1,1,\"Dick, Mrs. Albert Adrian (Vera Gillespie)\",female,17,1,0,17474,57,B20,S\\n783,0,1,\"Long, Mr. Milton Clyde\",male,29,0,0,113501,30,D6,S\\n784,0,3,\"Johnston, Mr. Andrew G\",male,,1,2,W./C. 6607,23.45,,S\\n785,0,3,\"Ali, Mr. William\",male,25,0,0,SOTON/O.Q. 3101312,7.05,,S\\n786,0,3,\"Harmer, Mr. Abraham (David Lishin)\",male,25,0,0,374887,7.25,,S\\n787,1,3,\"Sjoblom, Miss. Anna Sofia\",female,18,0,0,3101265,7.4958,,S\\n788,0,3,\"Rice, Master. George Hugh\",male,8,4,1,382652,29.125,,Q\\n789,1,3,\"Dean, Master. Bertram Vere\",male,1,1,2,C.A. 2315,20.575,,S\\n790,0,1,\"Guggenheim, Mr. Benjamin\",male,46,0,0,PC 17593,79.2,B82 B84,C\\n791,0,3,\"Keane, Mr. Andrew \"\"Andy\"\"\",male,,0,0,12460,7.75,,Q\\n792,0,2,\"Gaskell, Mr. Alfred\",male,16,0,0,239865,26,,S\\n793,0,3,\"Sage, Miss. Stella Anna\",female,,8,2,CA. 2343,69.55,,S\\n794,0,1,\"Hoyt, Mr. William Fisher\",male,,0,0,PC 17600,30.6958,,C\\n795,0,3,\"Dantcheff, Mr. Ristiu\",male,25,0,0,349203,7.8958,,S\\n796,0,2,\"Otter, Mr. Richard\",male,39,0,0,28213,13,,S\\n797,1,1,\"Leader, Dr. Alice (Farnham)\",female,49,0,0,17465,25.9292,D17,S\\n798,1,3,\"Osman, Mrs. Mara\",female,31,0,0,349244,8.6833,,S\\n799,0,3,\"Ibrahim Shawah, Mr. Yousseff\",male,30,0,0,2685,7.2292,,C\\n800,0,3,\"Van Impe, Mrs. Jean Baptiste (Rosalie Paula Govaert)\",female,30,1,1,345773,24.15,,S\\n801,0,2,\"Ponesell, Mr. Martin\",male,34,0,0,250647,13,,S\\n802,1,2,\"Collyer, Mrs. Harvey (Charlotte Annie Tate)\",female,31,1,1,C.A. 31921,26.25,,S\\n803,1,1,\"Carter, Master. William Thornton II\",male,11,1,2,113760,120,B96 B98,S\\n804,1,3,\"Thomas, Master. Assad Alexander\",male,0.42,0,1,2625,8.5167,,C\\n805,1,3,\"Hedman, Mr. Oskar Arvid\",male,27,0,0,347089,6.975,,S\\n806,0,3,\"Johansson, Mr. Karl Johan\",male,31,0,0,347063,7.775,,S\\n807,0,1,\"Andrews, Mr. Thomas Jr\",male,39,0,0,112050,0,A36,S\\n808,0,3,\"Pettersson, Miss. Ellen Natalia\",female,18,0,0,347087,7.775,,S\\n809,0,2,\"Meyer, Mr. August\",male,39,0,0,248723,13,,S\\n810,1,1,\"Chambers, Mrs. Norman Campbell (Bertha Griggs)\",female,33,1,0,113806,53.1,E8,S\\n811,0,3,\"Alexander, Mr. William\",male,26,0,0,3474,7.8875,,S\\n812,0,3,\"Lester, Mr. James\",male,39,0,0,A/4 48871,24.15,,S\\n813,0,2,\"Slemen, Mr. Richard James\",male,35,0,0,28206,10.5,,S\\n814,0,3,\"Andersson, Miss. Ebba Iris Alfrida\",female,6,4,2,347082,31.275,,S\\n815,0,3,\"Tomlin, Mr. Ernest Portage\",male,30.5,0,0,364499,8.05,,S\\n816,0,1,\"Fry, Mr. Richard\",male,,0,0,112058,0,B102,S\\n817,0,3,\"Heininen, Miss. Wendla Maria\",female,23,0,0,STON/O2. 3101290,7.925,,S\\n818,0,2,\"Mallet, Mr. Albert\",male,31,1,1,S.C./PARIS 2079,37.0042,,C\\n819,0,3,\"Holm, Mr. John Fredrik Alexander\",male,43,0,0,C 7075,6.45,,S\\n820,0,3,\"Skoog, Master. Karl Thorsten\",male,10,3,2,347088,27.9,,S\\n821,1,1,\"Hays, Mrs. Charles Melville (Clara Jennings Gregg)\",female,52,1,1,12749,93.5,B69,S\\n822,1,3,\"Lulic, Mr. Nikola\",male,27,0,0,315098,8.6625,,S\\n823,0,1,\"Reuchlin, Jonkheer. John George\",male,38,0,0,19972,0,,S\\n824,1,3,\"Moor, Mrs. (Beila)\",female,27,0,1,392096,12.475,E121,S\\n825,0,3,\"Panula, Master. Urho Abraham\",male,2,4,1,3101295,39.6875,,S\\n826,0,3,\"Flynn, Mr. John\",male,,0,0,368323,6.95,,Q\\n827,0,3,\"Lam, Mr. Len\",male,,0,0,1601,56.4958,,S\\n828,1,2,\"Mallet, Master. Andre\",male,1,0,2,S.C./PARIS 2079,37.0042,,C\\n829,1,3,\"McCormack, Mr. Thomas Joseph\",male,,0,0,367228,7.75,,Q\\n830,1,1,\"Stone, Mrs. George Nelson (Martha Evelyn)\",female,62,0,0,113572,80,B28,\\n831,1,3,\"Yasbeck, Mrs. Antoni (Selini Alexander)\",female,15,1,0,2659,14.4542,,C\\n832,1,2,\"Richards, Master. George Sibley\",male,0.83,1,1,29106,18.75,,S\\n833,0,3,\"Saad, Mr. Amin\",male,,0,0,2671,7.2292,,C\\n834,0,3,\"Augustsson, Mr. Albert\",male,23,0,0,347468,7.8542,,S\\n835,0,3,\"Allum, Mr. Owen George\",male,18,0,0,2223,8.3,,S\\n836,1,1,\"Compton, Miss. Sara Rebecca\",female,39,1,1,PC 17756,83.1583,E49,C\\n837,0,3,\"Pasic, Mr. Jakob\",male,21,0,0,315097,8.6625,,S\\n838,0,3,\"Sirota, Mr. Maurice\",male,,0,0,392092,8.05,,S\\n839,1,3,\"Chip, Mr. Chang\",male,32,0,0,1601,56.4958,,S\\n840,1,1,\"Marechal, Mr. Pierre\",male,,0,0,11774,29.7,C47,C\\n841,0,3,\"Alhomaki, Mr. Ilmari Rudolf\",male,20,0,0,SOTON/O2 3101287,7.925,,S\\n842,0,2,\"Mudd, Mr. Thomas Charles\",male,16,0,0,S.O./P.P. 3,10.5,,S\\n843,1,1,\"Serepeca, Miss. Augusta\",female,30,0,0,113798,31,,C\\n844,0,3,\"Lemberopolous, Mr. Peter L\",male,34.5,0,0,2683,6.4375,,C\\n845,0,3,\"Culumovic, Mr. Jeso\",male,17,0,0,315090,8.6625,,S\\n846,0,3,\"Abbing, Mr. Anthony\",male,42,0,0,C.A. 5547,7.55,,S\\n847,0,3,\"Sage, Mr. Douglas Bullen\",male,,8,2,CA. 2343,69.55,,S\\n848,0,3,\"Markoff, Mr. Marin\",male,35,0,0,349213,7.8958,,C\\n849,0,2,\"Harper, Rev. John\",male,28,0,1,248727,33,,S\\n850,1,1,\"Goldenberg, Mrs. Samuel L (Edwiga Grabowska)\",female,,1,0,17453,89.1042,C92,C\\n851,0,3,\"Andersson, Master. Sigvard Harald Elias\",male,4,4,2,347082,31.275,,S\\n852,0,3,\"Svensson, Mr. Johan\",male,74,0,0,347060,7.775,,S\\n853,0,3,\"Boulos, Miss. Nourelain\",female,9,1,1,2678,15.2458,,C\\n854,1,1,\"Lines, Miss. Mary Conover\",female,16,0,1,PC 17592,39.4,D28,S\\n855,0,2,\"Carter, Mrs. Ernest Courtenay (Lilian Hughes)\",female,44,1,0,244252,26,,S\\n856,1,3,\"Aks, Mrs. Sam (Leah Rosen)\",female,18,0,1,392091,9.35,,S\\n857,1,1,\"Wick, Mrs. George Dennick (Mary Hitchcock)\",female,45,1,1,36928,164.8667,,S\\n858,1,1,\"Daly, Mr. Peter Denis \",male,51,0,0,113055,26.55,E17,S\\n859,1,3,\"Baclini, Mrs. Solomon (Latifa Qurban)\",female,24,0,3,2666,19.2583,,C\\n860,0,3,\"Razi, Mr. Raihed\",male,,0,0,2629,7.2292,,C\\n861,0,3,\"Hansen, Mr. Claus Peter\",male,41,2,0,350026,14.1083,,S\\n862,0,2,\"Giles, Mr. Frederick Edward\",male,21,1,0,28134,11.5,,S\\n863,1,1,\"Swift, Mrs. Frederick Joel (Margaret Welles Barron)\",female,48,0,0,17466,25.9292,D17,S\\n864,0,3,\"Sage, Miss. Dorothy Edith \"\"Dolly\"\"\",female,,8,2,CA. 2343,69.55,,S\\n865,0,2,\"Gill, Mr. John William\",male,24,0,0,233866,13,,S\\n866,1,2,\"Bystrom, Mrs. (Karolina)\",female,42,0,0,236852,13,,S\\n867,1,2,\"Duran y More, Miss. Asuncion\",female,27,1,0,SC/PARIS 2149,13.8583,,C\\n868,0,1,\"Roebling, Mr. Washington Augustus II\",male,31,0,0,PC 17590,50.4958,A24,S\\n869,0,3,\"van Melkebeke, Mr. Philemon\",male,,0,0,345777,9.5,,S\\n870,1,3,\"Johnson, Master. Harold Theodor\",male,4,1,1,347742,11.1333,,S\\n871,0,3,\"Balkic, Mr. Cerin\",male,26,0,0,349248,7.8958,,S\\n872,1,1,\"Beckwith, Mrs. Richard Leonard (Sallie Monypeny)\",female,47,1,1,11751,52.5542,D35,S\\n873,0,1,\"Carlsson, Mr. Frans Olof\",male,33,0,0,695,5,B51 B53 B55,S\\n874,0,3,\"Vander Cruyssen, Mr. Victor\",male,47,0,0,345765,9,,S\\n875,1,2,\"Abelson, Mrs. Samuel (Hannah Wizosky)\",female,28,1,0,P/PP 3381,24,,C\\n876,1,3,\"Najib, Miss. Adele Kiamie \"\"Jane\"\"\",female,15,0,0,2667,7.225,,C\\n877,0,3,\"Gustafsson, Mr. Alfred Ossian\",male,20,0,0,7534,9.8458,,S\\n878,0,3,\"Petroff, Mr. Nedelio\",male,19,0,0,349212,7.8958,,S\\n879,0,3,\"Laleff, Mr. Kristo\",male,,0,0,349217,7.8958,,S\\n880,1,1,\"Potter, Mrs. Thomas Jr (Lily Alexenia Wilson)\",female,56,0,1,11767,83.1583,C50,C\\n881,1,2,\"Shelley, Mrs. William (Imanita Parrish Hall)\",female,25,0,1,230433,26,,S\\n882,0,3,\"Markun, Mr. Johann\",male,33,0,0,349257,7.8958,,S\\n883,0,3,\"Dahlberg, Miss. Gerda Ulrika\",female,22,0,0,7552,10.5167,,S\\n884,0,2,\"Banfield, Mr. Frederick James\",male,28,0,0,C.A./SOTON 34068,10.5,,S\\n885,0,3,\"Sutehall, Mr. Henry Jr\",male,25,0,0,SOTON/OQ 392076,7.05,,S\\n886,0,3,\"Rice, Mrs. William (Margaret Norton)\",female,39,0,5,382652,29.125,,Q\\n887,0,2,\"Montvila, Rev. Juozas\",male,27,0,0,211536,13,,S\\n888,1,1,\"Graham, Miss. Margaret Edith\",female,19,0,0,112053,30,B42,S\\n889,0,3,\"Johnston, Miss. Catherine Helen \"\"Carrie\"\"\",female,,1,2,W./C. 6607,23.45,,S\\n890,1,1,\"Behr, Mr. Karl Howell\",male,26,0,0,111369,30,C148,C\\n891,0,3,\"Dooley, Mr. Patrick\",male,32,0,0,370376,7.75,,Q'}"
            ]
          },
          "metadata": {
            "tags": []
          },
          "execution_count": 6
        }
      ]
    },
    {
      "cell_type": "code",
      "metadata": {
        "id": "a4T1ZhFVCbCv",
        "colab_type": "code",
        "colab": {}
      },
      "source": [
        "import io\n",
        "\n",
        "\n",
        "df3 = pd.read_csv(io.BytesIO(uploaded[\"train.csv\"]))\n"
      ],
      "execution_count": 0,
      "outputs": []
    },
    {
      "cell_type": "code",
      "metadata": {
        "id": "ZqwKftdeCoU-",
        "colab_type": "code",
        "colab": {}
      },
      "source": [
        ""
      ],
      "execution_count": 0,
      "outputs": []
    },
    {
      "cell_type": "code",
      "metadata": {
        "id": "JBbxrXx1C7Iu",
        "colab_type": "code",
        "outputId": "5b801a87-bbda-4d67-ab87-e459e635c38c",
        "colab": {
          "base_uri": "https://localhost:8080/",
          "height": 284
        }
      },
      "source": [
        "df3.describe()"
      ],
      "execution_count": 0,
      "outputs": [
        {
          "output_type": "execute_result",
          "data": {
            "text/html": [
              "<div>\n",
              "<style scoped>\n",
              "    .dataframe tbody tr th:only-of-type {\n",
              "        vertical-align: middle;\n",
              "    }\n",
              "\n",
              "    .dataframe tbody tr th {\n",
              "        vertical-align: top;\n",
              "    }\n",
              "\n",
              "    .dataframe thead th {\n",
              "        text-align: right;\n",
              "    }\n",
              "</style>\n",
              "<table border=\"1\" class=\"dataframe\">\n",
              "  <thead>\n",
              "    <tr style=\"text-align: right;\">\n",
              "      <th></th>\n",
              "      <th>PassengerId</th>\n",
              "      <th>Survived</th>\n",
              "      <th>Pclass</th>\n",
              "      <th>Age</th>\n",
              "      <th>SibSp</th>\n",
              "      <th>Parch</th>\n",
              "      <th>Fare</th>\n",
              "    </tr>\n",
              "  </thead>\n",
              "  <tbody>\n",
              "    <tr>\n",
              "      <th>count</th>\n",
              "      <td>891.000000</td>\n",
              "      <td>891.000000</td>\n",
              "      <td>891.000000</td>\n",
              "      <td>714.000000</td>\n",
              "      <td>891.000000</td>\n",
              "      <td>891.000000</td>\n",
              "      <td>891.000000</td>\n",
              "    </tr>\n",
              "    <tr>\n",
              "      <th>mean</th>\n",
              "      <td>446.000000</td>\n",
              "      <td>0.383838</td>\n",
              "      <td>2.308642</td>\n",
              "      <td>29.699118</td>\n",
              "      <td>0.523008</td>\n",
              "      <td>0.381594</td>\n",
              "      <td>32.204208</td>\n",
              "    </tr>\n",
              "    <tr>\n",
              "      <th>std</th>\n",
              "      <td>257.353842</td>\n",
              "      <td>0.486592</td>\n",
              "      <td>0.836071</td>\n",
              "      <td>14.526497</td>\n",
              "      <td>1.102743</td>\n",
              "      <td>0.806057</td>\n",
              "      <td>49.693429</td>\n",
              "    </tr>\n",
              "    <tr>\n",
              "      <th>min</th>\n",
              "      <td>1.000000</td>\n",
              "      <td>0.000000</td>\n",
              "      <td>1.000000</td>\n",
              "      <td>0.420000</td>\n",
              "      <td>0.000000</td>\n",
              "      <td>0.000000</td>\n",
              "      <td>0.000000</td>\n",
              "    </tr>\n",
              "    <tr>\n",
              "      <th>25%</th>\n",
              "      <td>223.500000</td>\n",
              "      <td>0.000000</td>\n",
              "      <td>2.000000</td>\n",
              "      <td>20.125000</td>\n",
              "      <td>0.000000</td>\n",
              "      <td>0.000000</td>\n",
              "      <td>7.910400</td>\n",
              "    </tr>\n",
              "    <tr>\n",
              "      <th>50%</th>\n",
              "      <td>446.000000</td>\n",
              "      <td>0.000000</td>\n",
              "      <td>3.000000</td>\n",
              "      <td>28.000000</td>\n",
              "      <td>0.000000</td>\n",
              "      <td>0.000000</td>\n",
              "      <td>14.454200</td>\n",
              "    </tr>\n",
              "    <tr>\n",
              "      <th>75%</th>\n",
              "      <td>668.500000</td>\n",
              "      <td>1.000000</td>\n",
              "      <td>3.000000</td>\n",
              "      <td>38.000000</td>\n",
              "      <td>1.000000</td>\n",
              "      <td>0.000000</td>\n",
              "      <td>31.000000</td>\n",
              "    </tr>\n",
              "    <tr>\n",
              "      <th>max</th>\n",
              "      <td>891.000000</td>\n",
              "      <td>1.000000</td>\n",
              "      <td>3.000000</td>\n",
              "      <td>80.000000</td>\n",
              "      <td>8.000000</td>\n",
              "      <td>6.000000</td>\n",
              "      <td>512.329200</td>\n",
              "    </tr>\n",
              "  </tbody>\n",
              "</table>\n",
              "</div>"
            ],
            "text/plain": [
              "       PassengerId    Survived      Pclass  ...       SibSp       Parch        Fare\n",
              "count   891.000000  891.000000  891.000000  ...  891.000000  891.000000  891.000000\n",
              "mean    446.000000    0.383838    2.308642  ...    0.523008    0.381594   32.204208\n",
              "std     257.353842    0.486592    0.836071  ...    1.102743    0.806057   49.693429\n",
              "min       1.000000    0.000000    1.000000  ...    0.000000    0.000000    0.000000\n",
              "25%     223.500000    0.000000    2.000000  ...    0.000000    0.000000    7.910400\n",
              "50%     446.000000    0.000000    3.000000  ...    0.000000    0.000000   14.454200\n",
              "75%     668.500000    1.000000    3.000000  ...    1.000000    0.000000   31.000000\n",
              "max     891.000000    1.000000    3.000000  ...    8.000000    6.000000  512.329200\n",
              "\n",
              "[8 rows x 7 columns]"
            ]
          },
          "metadata": {
            "tags": []
          },
          "execution_count": 8
        }
      ]
    },
    {
      "cell_type": "code",
      "metadata": {
        "id": "qj3dD1zcY98K",
        "colab_type": "code",
        "outputId": "755778b2-e80c-4090-e9d1-b117bd06e054",
        "colab": {
          "base_uri": "https://localhost:8080/",
          "height": 302
        }
      },
      "source": [
        "df3.info()"
      ],
      "execution_count": 0,
      "outputs": [
        {
          "output_type": "stream",
          "text": [
            "<class 'pandas.core.frame.DataFrame'>\n",
            "RangeIndex: 891 entries, 0 to 890\n",
            "Data columns (total 12 columns):\n",
            "PassengerId    891 non-null int64\n",
            "Survived       891 non-null int64\n",
            "Pclass         891 non-null int64\n",
            "Name           891 non-null object\n",
            "Sex            891 non-null object\n",
            "Age            714 non-null float64\n",
            "SibSp          891 non-null int64\n",
            "Parch          891 non-null int64\n",
            "Ticket         891 non-null object\n",
            "Fare           891 non-null float64\n",
            "Cabin          204 non-null object\n",
            "Embarked       889 non-null object\n",
            "dtypes: float64(2), int64(5), object(5)\n",
            "memory usage: 83.6+ KB\n"
          ],
          "name": "stdout"
        }
      ]
    },
    {
      "cell_type": "code",
      "metadata": {
        "id": "KVgKT-oKX4gV",
        "colab_type": "code",
        "colab": {}
      },
      "source": [
        "#first of all in our data we have unregistered data points.do we wanna get rid of them now or later. now looks good so splitting will be made with machine learning part.\n",
        "#1-) ı need to figure out a way with the nan datas. so ı place mean value when it comes to putting them in. \n",
        "#2-) then ı will convert categorical attributes into numbers.\n",
        "#3-)then ı will scale them between 0 and 1.\n",
        "#4-)and at last ı will use imputer the replace the nan values with mean values.!!!!(would scaling change the values of the survived??? Yes don t need to scale them next time if this is a classifier porject)\n",
        "#5-)ı will split train and test datasets\n",
        "\n",
        "\n",
        "#'''''' ı got rid of the cabin and name and Ticket features because it has so little data in Cabin and name feature is irrelevant.\n",
        "#''''''right now ı will convert words to numbers. which are \"Sex and Embarked\" features.\n",
        "#''''''to change the categorical values of sex into binary ı will replace sex column with male and female column.how to create random lists???\n",
        "#'''''' ı could change the categorical values into numeric ones and actually ı wrote my own function for it\n",
        "#when ı finish this project ı will make it a real usable function and maybe put it on github.\n",
        "# ı have scaled the values with standardScaler."
      ],
      "execution_count": 0,
      "outputs": []
    },
    {
      "cell_type": "code",
      "metadata": {
        "id": "3o42aSu8YrvE",
        "colab_type": "code",
        "colab": {}
      },
      "source": [
        "df_dropped = df3.drop([\"Cabin\",\"Name\",\"Ticket\"],axis = 1)"
      ],
      "execution_count": 0,
      "outputs": []
    },
    {
      "cell_type": "code",
      "metadata": {
        "id": "idcEIPm0Z2aQ",
        "colab_type": "code",
        "outputId": "448487c9-c6f5-4d7d-9de0-a31d4be462cd",
        "colab": {
          "base_uri": "https://localhost:8080/",
          "height": 195
        }
      },
      "source": [
        "df_dropped.head()"
      ],
      "execution_count": 0,
      "outputs": [
        {
          "output_type": "execute_result",
          "data": {
            "text/html": [
              "<div>\n",
              "<style scoped>\n",
              "    .dataframe tbody tr th:only-of-type {\n",
              "        vertical-align: middle;\n",
              "    }\n",
              "\n",
              "    .dataframe tbody tr th {\n",
              "        vertical-align: top;\n",
              "    }\n",
              "\n",
              "    .dataframe thead th {\n",
              "        text-align: right;\n",
              "    }\n",
              "</style>\n",
              "<table border=\"1\" class=\"dataframe\">\n",
              "  <thead>\n",
              "    <tr style=\"text-align: right;\">\n",
              "      <th></th>\n",
              "      <th>PassengerId</th>\n",
              "      <th>Survived</th>\n",
              "      <th>Pclass</th>\n",
              "      <th>Sex</th>\n",
              "      <th>Age</th>\n",
              "      <th>SibSp</th>\n",
              "      <th>Parch</th>\n",
              "      <th>Fare</th>\n",
              "      <th>Embarked</th>\n",
              "    </tr>\n",
              "  </thead>\n",
              "  <tbody>\n",
              "    <tr>\n",
              "      <th>0</th>\n",
              "      <td>1</td>\n",
              "      <td>0</td>\n",
              "      <td>3</td>\n",
              "      <td>male</td>\n",
              "      <td>22.0</td>\n",
              "      <td>1</td>\n",
              "      <td>0</td>\n",
              "      <td>7.2500</td>\n",
              "      <td>S</td>\n",
              "    </tr>\n",
              "    <tr>\n",
              "      <th>1</th>\n",
              "      <td>2</td>\n",
              "      <td>1</td>\n",
              "      <td>1</td>\n",
              "      <td>female</td>\n",
              "      <td>38.0</td>\n",
              "      <td>1</td>\n",
              "      <td>0</td>\n",
              "      <td>71.2833</td>\n",
              "      <td>C</td>\n",
              "    </tr>\n",
              "    <tr>\n",
              "      <th>2</th>\n",
              "      <td>3</td>\n",
              "      <td>1</td>\n",
              "      <td>3</td>\n",
              "      <td>female</td>\n",
              "      <td>26.0</td>\n",
              "      <td>0</td>\n",
              "      <td>0</td>\n",
              "      <td>7.9250</td>\n",
              "      <td>S</td>\n",
              "    </tr>\n",
              "    <tr>\n",
              "      <th>3</th>\n",
              "      <td>4</td>\n",
              "      <td>1</td>\n",
              "      <td>1</td>\n",
              "      <td>female</td>\n",
              "      <td>35.0</td>\n",
              "      <td>1</td>\n",
              "      <td>0</td>\n",
              "      <td>53.1000</td>\n",
              "      <td>S</td>\n",
              "    </tr>\n",
              "    <tr>\n",
              "      <th>4</th>\n",
              "      <td>5</td>\n",
              "      <td>0</td>\n",
              "      <td>3</td>\n",
              "      <td>male</td>\n",
              "      <td>35.0</td>\n",
              "      <td>0</td>\n",
              "      <td>0</td>\n",
              "      <td>8.0500</td>\n",
              "      <td>S</td>\n",
              "    </tr>\n",
              "  </tbody>\n",
              "</table>\n",
              "</div>"
            ],
            "text/plain": [
              "   PassengerId  Survived  Pclass     Sex   Age  SibSp  Parch     Fare Embarked\n",
              "0            1         0       3    male  22.0      1      0   7.2500        S\n",
              "1            2         1       1  female  38.0      1      0  71.2833        C\n",
              "2            3         1       3  female  26.0      0      0   7.9250        S\n",
              "3            4         1       1  female  35.0      1      0  53.1000        S\n",
              "4            5         0       3    male  35.0      0      0   8.0500        S"
            ]
          },
          "metadata": {
            "tags": []
          },
          "execution_count": 11
        }
      ]
    },
    {
      "cell_type": "code",
      "metadata": {
        "id": "LWfbhZ4JaFc8",
        "colab_type": "code",
        "colab": {}
      },
      "source": [
        "Sex = df_dropped[\"Sex\"]"
      ],
      "execution_count": 0,
      "outputs": []
    },
    {
      "cell_type": "code",
      "metadata": {
        "id": "uBh2V4_rhhkM",
        "colab_type": "code",
        "colab": {}
      },
      "source": [
        "sex_list = Sex.values.tolist()"
      ],
      "execution_count": 0,
      "outputs": []
    },
    {
      "cell_type": "code",
      "metadata": {
        "id": "ZWEtXkPgeMI6",
        "colab_type": "code",
        "colab": {}
      },
      "source": [
        "male = []\n",
        "female =[]   #empty lists to be filled with ones and zeros"
      ],
      "execution_count": 0,
      "outputs": []
    },
    {
      "cell_type": "code",
      "metadata": {
        "id": "g4GDqx5afYUa",
        "colab_type": "code",
        "colab": {}
      },
      "source": [
        "for i in range(len(sex_list)):\n",
        "  if sex_list[i] == \"male\" :\n",
        "    male.append(1) \n",
        "    female.append(0)\n",
        "  \n",
        "                                           #the problem is with the \"male\" value that is inside the pandas dataframe.i will try it\n",
        "                                           # with list method. i ll turn Sex into a list.\n",
        "  else: \n",
        "    male.append(0)  \n",
        "    female.append(1)\n",
        "    \n",
        " "
      ],
      "execution_count": 0,
      "outputs": []
    },
    {
      "cell_type": "code",
      "metadata": {
        "id": "diFCkvTpmNyB",
        "colab_type": "code",
        "colab": {}
      },
      "source": [
        "df_dropped[\"male\"] = male\n",
        "df_dropped[\"female\"] = female"
      ],
      "execution_count": 0,
      "outputs": []
    },
    {
      "cell_type": "code",
      "metadata": {
        "id": "2mQ2rInghjO2",
        "colab_type": "code",
        "outputId": "33ae0a88-ac5e-47ca-f8ae-80945a0b531b",
        "colab": {
          "base_uri": "https://localhost:8080/",
          "height": 195
        }
      },
      "source": [
        "df_dropped.head()"
      ],
      "execution_count": 0,
      "outputs": [
        {
          "output_type": "execute_result",
          "data": {
            "text/html": [
              "<div>\n",
              "<style scoped>\n",
              "    .dataframe tbody tr th:only-of-type {\n",
              "        vertical-align: middle;\n",
              "    }\n",
              "\n",
              "    .dataframe tbody tr th {\n",
              "        vertical-align: top;\n",
              "    }\n",
              "\n",
              "    .dataframe thead th {\n",
              "        text-align: right;\n",
              "    }\n",
              "</style>\n",
              "<table border=\"1\" class=\"dataframe\">\n",
              "  <thead>\n",
              "    <tr style=\"text-align: right;\">\n",
              "      <th></th>\n",
              "      <th>PassengerId</th>\n",
              "      <th>Survived</th>\n",
              "      <th>Pclass</th>\n",
              "      <th>Sex</th>\n",
              "      <th>Age</th>\n",
              "      <th>SibSp</th>\n",
              "      <th>Parch</th>\n",
              "      <th>Fare</th>\n",
              "      <th>Embarked</th>\n",
              "      <th>male</th>\n",
              "      <th>female</th>\n",
              "    </tr>\n",
              "  </thead>\n",
              "  <tbody>\n",
              "    <tr>\n",
              "      <th>0</th>\n",
              "      <td>1</td>\n",
              "      <td>0</td>\n",
              "      <td>3</td>\n",
              "      <td>male</td>\n",
              "      <td>22.0</td>\n",
              "      <td>1</td>\n",
              "      <td>0</td>\n",
              "      <td>7.2500</td>\n",
              "      <td>S</td>\n",
              "      <td>1</td>\n",
              "      <td>0</td>\n",
              "    </tr>\n",
              "    <tr>\n",
              "      <th>1</th>\n",
              "      <td>2</td>\n",
              "      <td>1</td>\n",
              "      <td>1</td>\n",
              "      <td>female</td>\n",
              "      <td>38.0</td>\n",
              "      <td>1</td>\n",
              "      <td>0</td>\n",
              "      <td>71.2833</td>\n",
              "      <td>C</td>\n",
              "      <td>0</td>\n",
              "      <td>1</td>\n",
              "    </tr>\n",
              "    <tr>\n",
              "      <th>2</th>\n",
              "      <td>3</td>\n",
              "      <td>1</td>\n",
              "      <td>3</td>\n",
              "      <td>female</td>\n",
              "      <td>26.0</td>\n",
              "      <td>0</td>\n",
              "      <td>0</td>\n",
              "      <td>7.9250</td>\n",
              "      <td>S</td>\n",
              "      <td>0</td>\n",
              "      <td>1</td>\n",
              "    </tr>\n",
              "    <tr>\n",
              "      <th>3</th>\n",
              "      <td>4</td>\n",
              "      <td>1</td>\n",
              "      <td>1</td>\n",
              "      <td>female</td>\n",
              "      <td>35.0</td>\n",
              "      <td>1</td>\n",
              "      <td>0</td>\n",
              "      <td>53.1000</td>\n",
              "      <td>S</td>\n",
              "      <td>0</td>\n",
              "      <td>1</td>\n",
              "    </tr>\n",
              "    <tr>\n",
              "      <th>4</th>\n",
              "      <td>5</td>\n",
              "      <td>0</td>\n",
              "      <td>3</td>\n",
              "      <td>male</td>\n",
              "      <td>35.0</td>\n",
              "      <td>0</td>\n",
              "      <td>0</td>\n",
              "      <td>8.0500</td>\n",
              "      <td>S</td>\n",
              "      <td>1</td>\n",
              "      <td>0</td>\n",
              "    </tr>\n",
              "  </tbody>\n",
              "</table>\n",
              "</div>"
            ],
            "text/plain": [
              "   PassengerId  Survived  Pclass     Sex  ...     Fare  Embarked  male  female\n",
              "0            1         0       3    male  ...   7.2500         S     1       0\n",
              "1            2         1       1  female  ...  71.2833         C     0       1\n",
              "2            3         1       3  female  ...   7.9250         S     0       1\n",
              "3            4         1       1  female  ...  53.1000         S     0       1\n",
              "4            5         0       3    male  ...   8.0500         S     1       0\n",
              "\n",
              "[5 rows x 11 columns]"
            ]
          },
          "metadata": {
            "tags": []
          },
          "execution_count": 17
        }
      ]
    },
    {
      "cell_type": "code",
      "metadata": {
        "id": "cPBhMu5UlD_i",
        "colab_type": "code",
        "colab": {}
      },
      "source": [
        "df_dropped_sex = df_dropped.drop([\"Sex\"],axis =1 )"
      ],
      "execution_count": 0,
      "outputs": []
    },
    {
      "cell_type": "code",
      "metadata": {
        "id": "DctxR5xTokW-",
        "colab_type": "code",
        "outputId": "b4f4cd6d-1b4d-48b3-f110-a519973fa388",
        "colab": {
          "base_uri": "https://localhost:8080/",
          "height": 195
        }
      },
      "source": [
        "df_dropped_sex.head()"
      ],
      "execution_count": 0,
      "outputs": [
        {
          "output_type": "execute_result",
          "data": {
            "text/html": [
              "<div>\n",
              "<style scoped>\n",
              "    .dataframe tbody tr th:only-of-type {\n",
              "        vertical-align: middle;\n",
              "    }\n",
              "\n",
              "    .dataframe tbody tr th {\n",
              "        vertical-align: top;\n",
              "    }\n",
              "\n",
              "    .dataframe thead th {\n",
              "        text-align: right;\n",
              "    }\n",
              "</style>\n",
              "<table border=\"1\" class=\"dataframe\">\n",
              "  <thead>\n",
              "    <tr style=\"text-align: right;\">\n",
              "      <th></th>\n",
              "      <th>PassengerId</th>\n",
              "      <th>Survived</th>\n",
              "      <th>Pclass</th>\n",
              "      <th>Age</th>\n",
              "      <th>SibSp</th>\n",
              "      <th>Parch</th>\n",
              "      <th>Fare</th>\n",
              "      <th>Embarked</th>\n",
              "      <th>male</th>\n",
              "      <th>female</th>\n",
              "    </tr>\n",
              "  </thead>\n",
              "  <tbody>\n",
              "    <tr>\n",
              "      <th>0</th>\n",
              "      <td>1</td>\n",
              "      <td>0</td>\n",
              "      <td>3</td>\n",
              "      <td>22.0</td>\n",
              "      <td>1</td>\n",
              "      <td>0</td>\n",
              "      <td>7.2500</td>\n",
              "      <td>S</td>\n",
              "      <td>1</td>\n",
              "      <td>0</td>\n",
              "    </tr>\n",
              "    <tr>\n",
              "      <th>1</th>\n",
              "      <td>2</td>\n",
              "      <td>1</td>\n",
              "      <td>1</td>\n",
              "      <td>38.0</td>\n",
              "      <td>1</td>\n",
              "      <td>0</td>\n",
              "      <td>71.2833</td>\n",
              "      <td>C</td>\n",
              "      <td>0</td>\n",
              "      <td>1</td>\n",
              "    </tr>\n",
              "    <tr>\n",
              "      <th>2</th>\n",
              "      <td>3</td>\n",
              "      <td>1</td>\n",
              "      <td>3</td>\n",
              "      <td>26.0</td>\n",
              "      <td>0</td>\n",
              "      <td>0</td>\n",
              "      <td>7.9250</td>\n",
              "      <td>S</td>\n",
              "      <td>0</td>\n",
              "      <td>1</td>\n",
              "    </tr>\n",
              "    <tr>\n",
              "      <th>3</th>\n",
              "      <td>4</td>\n",
              "      <td>1</td>\n",
              "      <td>1</td>\n",
              "      <td>35.0</td>\n",
              "      <td>1</td>\n",
              "      <td>0</td>\n",
              "      <td>53.1000</td>\n",
              "      <td>S</td>\n",
              "      <td>0</td>\n",
              "      <td>1</td>\n",
              "    </tr>\n",
              "    <tr>\n",
              "      <th>4</th>\n",
              "      <td>5</td>\n",
              "      <td>0</td>\n",
              "      <td>3</td>\n",
              "      <td>35.0</td>\n",
              "      <td>0</td>\n",
              "      <td>0</td>\n",
              "      <td>8.0500</td>\n",
              "      <td>S</td>\n",
              "      <td>1</td>\n",
              "      <td>0</td>\n",
              "    </tr>\n",
              "  </tbody>\n",
              "</table>\n",
              "</div>"
            ],
            "text/plain": [
              "   PassengerId  Survived  Pclass   Age  ...     Fare  Embarked  male female\n",
              "0            1         0       3  22.0  ...   7.2500         S     1      0\n",
              "1            2         1       1  38.0  ...  71.2833         C     0      1\n",
              "2            3         1       3  26.0  ...   7.9250         S     0      1\n",
              "3            4         1       1  35.0  ...  53.1000         S     0      1\n",
              "4            5         0       3  35.0  ...   8.0500         S     1      0\n",
              "\n",
              "[5 rows x 10 columns]"
            ]
          },
          "metadata": {
            "tags": []
          },
          "execution_count": 19
        }
      ]
    },
    {
      "cell_type": "code",
      "metadata": {
        "id": "sXsWU9L5rxD9",
        "colab_type": "code",
        "colab": {}
      },
      "source": [
        "Embarked = df_dropped_sex[\"Embarked\"]\n",
        "\n",
        "embarked_list = Embarked.values.tolist()"
      ],
      "execution_count": 0,
      "outputs": []
    },
    {
      "cell_type": "code",
      "metadata": {
        "id": "5IuWfionr54H",
        "colab_type": "code",
        "colab": {}
      },
      "source": [
        "S =[]\n",
        "C = []\n",
        "Q = []"
      ],
      "execution_count": 0,
      "outputs": []
    },
    {
      "cell_type": "code",
      "metadata": {
        "id": "Oh9LQajotZgv",
        "colab_type": "code",
        "colab": {}
      },
      "source": [
        "for i in range(len(embarked_list)):\n",
        "  if embarked_list[i] == \"S\" :\n",
        "    S.append(1) \n",
        "    C.append(0)\n",
        "    Q.append(0)\n",
        "  \n",
        "                                          \n",
        "  elif embarked_list[i] == \"C\":\n",
        "    \n",
        "    S.append(0)  \n",
        "    C.append(1)\n",
        "    Q.append(0)\n",
        "  else:\n",
        "    S.append(0)\n",
        "    C.append(0)\n",
        "    Q.append(1)"
      ],
      "execution_count": 0,
      "outputs": []
    },
    {
      "cell_type": "code",
      "metadata": {
        "id": "7bLyEhGVtfF2",
        "colab_type": "code",
        "colab": {}
      },
      "source": [
        "df_dropped_sex[\"S\"] = S\n",
        "df_dropped_sex[\"C\"] = C\n",
        "df_dropped_sex[\"Q\"] = Q"
      ],
      "execution_count": 0,
      "outputs": []
    },
    {
      "cell_type": "code",
      "metadata": {
        "id": "s90pZ7m4uTdp",
        "colab_type": "code",
        "outputId": "dba83928-9cd5-4f69-93bf-94d31e9bf39c",
        "colab": {
          "base_uri": "https://localhost:8080/",
          "height": 195
        }
      },
      "source": [
        "df_dropped_sex.head()"
      ],
      "execution_count": 0,
      "outputs": [
        {
          "output_type": "execute_result",
          "data": {
            "text/html": [
              "<div>\n",
              "<style scoped>\n",
              "    .dataframe tbody tr th:only-of-type {\n",
              "        vertical-align: middle;\n",
              "    }\n",
              "\n",
              "    .dataframe tbody tr th {\n",
              "        vertical-align: top;\n",
              "    }\n",
              "\n",
              "    .dataframe thead th {\n",
              "        text-align: right;\n",
              "    }\n",
              "</style>\n",
              "<table border=\"1\" class=\"dataframe\">\n",
              "  <thead>\n",
              "    <tr style=\"text-align: right;\">\n",
              "      <th></th>\n",
              "      <th>PassengerId</th>\n",
              "      <th>Survived</th>\n",
              "      <th>Pclass</th>\n",
              "      <th>Age</th>\n",
              "      <th>SibSp</th>\n",
              "      <th>Parch</th>\n",
              "      <th>Fare</th>\n",
              "      <th>Embarked</th>\n",
              "      <th>male</th>\n",
              "      <th>female</th>\n",
              "      <th>S</th>\n",
              "      <th>C</th>\n",
              "      <th>Q</th>\n",
              "    </tr>\n",
              "  </thead>\n",
              "  <tbody>\n",
              "    <tr>\n",
              "      <th>0</th>\n",
              "      <td>1</td>\n",
              "      <td>0</td>\n",
              "      <td>3</td>\n",
              "      <td>22.0</td>\n",
              "      <td>1</td>\n",
              "      <td>0</td>\n",
              "      <td>7.2500</td>\n",
              "      <td>S</td>\n",
              "      <td>1</td>\n",
              "      <td>0</td>\n",
              "      <td>1</td>\n",
              "      <td>0</td>\n",
              "      <td>0</td>\n",
              "    </tr>\n",
              "    <tr>\n",
              "      <th>1</th>\n",
              "      <td>2</td>\n",
              "      <td>1</td>\n",
              "      <td>1</td>\n",
              "      <td>38.0</td>\n",
              "      <td>1</td>\n",
              "      <td>0</td>\n",
              "      <td>71.2833</td>\n",
              "      <td>C</td>\n",
              "      <td>0</td>\n",
              "      <td>1</td>\n",
              "      <td>0</td>\n",
              "      <td>1</td>\n",
              "      <td>0</td>\n",
              "    </tr>\n",
              "    <tr>\n",
              "      <th>2</th>\n",
              "      <td>3</td>\n",
              "      <td>1</td>\n",
              "      <td>3</td>\n",
              "      <td>26.0</td>\n",
              "      <td>0</td>\n",
              "      <td>0</td>\n",
              "      <td>7.9250</td>\n",
              "      <td>S</td>\n",
              "      <td>0</td>\n",
              "      <td>1</td>\n",
              "      <td>1</td>\n",
              "      <td>0</td>\n",
              "      <td>0</td>\n",
              "    </tr>\n",
              "    <tr>\n",
              "      <th>3</th>\n",
              "      <td>4</td>\n",
              "      <td>1</td>\n",
              "      <td>1</td>\n",
              "      <td>35.0</td>\n",
              "      <td>1</td>\n",
              "      <td>0</td>\n",
              "      <td>53.1000</td>\n",
              "      <td>S</td>\n",
              "      <td>0</td>\n",
              "      <td>1</td>\n",
              "      <td>1</td>\n",
              "      <td>0</td>\n",
              "      <td>0</td>\n",
              "    </tr>\n",
              "    <tr>\n",
              "      <th>4</th>\n",
              "      <td>5</td>\n",
              "      <td>0</td>\n",
              "      <td>3</td>\n",
              "      <td>35.0</td>\n",
              "      <td>0</td>\n",
              "      <td>0</td>\n",
              "      <td>8.0500</td>\n",
              "      <td>S</td>\n",
              "      <td>1</td>\n",
              "      <td>0</td>\n",
              "      <td>1</td>\n",
              "      <td>0</td>\n",
              "      <td>0</td>\n",
              "    </tr>\n",
              "  </tbody>\n",
              "</table>\n",
              "</div>"
            ],
            "text/plain": [
              "   PassengerId  Survived  Pclass   Age  SibSp  ...  male  female  S  C  Q\n",
              "0            1         0       3  22.0      1  ...     1       0  1  0  0\n",
              "1            2         1       1  38.0      1  ...     0       1  0  1  0\n",
              "2            3         1       3  26.0      0  ...     0       1  1  0  0\n",
              "3            4         1       1  35.0      1  ...     0       1  1  0  0\n",
              "4            5         0       3  35.0      0  ...     1       0  1  0  0\n",
              "\n",
              "[5 rows x 13 columns]"
            ]
          },
          "metadata": {
            "tags": []
          },
          "execution_count": 24
        }
      ]
    },
    {
      "cell_type": "code",
      "metadata": {
        "id": "sHmClEV5unSA",
        "colab_type": "code",
        "colab": {}
      },
      "source": [
        "df = df_dropped_sex.drop([\"Embarked\"],axis = 1)"
      ],
      "execution_count": 0,
      "outputs": []
    },
    {
      "cell_type": "code",
      "metadata": {
        "id": "QR7hldP5u197",
        "colab_type": "code",
        "outputId": "956ec298-5a31-4b16-fc94-3aad5eb29f3a",
        "colab": {
          "base_uri": "https://localhost:8080/",
          "height": 195
        }
      },
      "source": [
        "df.head()"
      ],
      "execution_count": 0,
      "outputs": [
        {
          "output_type": "execute_result",
          "data": {
            "text/html": [
              "<div>\n",
              "<style scoped>\n",
              "    .dataframe tbody tr th:only-of-type {\n",
              "        vertical-align: middle;\n",
              "    }\n",
              "\n",
              "    .dataframe tbody tr th {\n",
              "        vertical-align: top;\n",
              "    }\n",
              "\n",
              "    .dataframe thead th {\n",
              "        text-align: right;\n",
              "    }\n",
              "</style>\n",
              "<table border=\"1\" class=\"dataframe\">\n",
              "  <thead>\n",
              "    <tr style=\"text-align: right;\">\n",
              "      <th></th>\n",
              "      <th>PassengerId</th>\n",
              "      <th>Survived</th>\n",
              "      <th>Pclass</th>\n",
              "      <th>Age</th>\n",
              "      <th>SibSp</th>\n",
              "      <th>Parch</th>\n",
              "      <th>Fare</th>\n",
              "      <th>male</th>\n",
              "      <th>female</th>\n",
              "      <th>S</th>\n",
              "      <th>C</th>\n",
              "      <th>Q</th>\n",
              "    </tr>\n",
              "  </thead>\n",
              "  <tbody>\n",
              "    <tr>\n",
              "      <th>0</th>\n",
              "      <td>1</td>\n",
              "      <td>0</td>\n",
              "      <td>3</td>\n",
              "      <td>22.0</td>\n",
              "      <td>1</td>\n",
              "      <td>0</td>\n",
              "      <td>7.2500</td>\n",
              "      <td>1</td>\n",
              "      <td>0</td>\n",
              "      <td>1</td>\n",
              "      <td>0</td>\n",
              "      <td>0</td>\n",
              "    </tr>\n",
              "    <tr>\n",
              "      <th>1</th>\n",
              "      <td>2</td>\n",
              "      <td>1</td>\n",
              "      <td>1</td>\n",
              "      <td>38.0</td>\n",
              "      <td>1</td>\n",
              "      <td>0</td>\n",
              "      <td>71.2833</td>\n",
              "      <td>0</td>\n",
              "      <td>1</td>\n",
              "      <td>0</td>\n",
              "      <td>1</td>\n",
              "      <td>0</td>\n",
              "    </tr>\n",
              "    <tr>\n",
              "      <th>2</th>\n",
              "      <td>3</td>\n",
              "      <td>1</td>\n",
              "      <td>3</td>\n",
              "      <td>26.0</td>\n",
              "      <td>0</td>\n",
              "      <td>0</td>\n",
              "      <td>7.9250</td>\n",
              "      <td>0</td>\n",
              "      <td>1</td>\n",
              "      <td>1</td>\n",
              "      <td>0</td>\n",
              "      <td>0</td>\n",
              "    </tr>\n",
              "    <tr>\n",
              "      <th>3</th>\n",
              "      <td>4</td>\n",
              "      <td>1</td>\n",
              "      <td>1</td>\n",
              "      <td>35.0</td>\n",
              "      <td>1</td>\n",
              "      <td>0</td>\n",
              "      <td>53.1000</td>\n",
              "      <td>0</td>\n",
              "      <td>1</td>\n",
              "      <td>1</td>\n",
              "      <td>0</td>\n",
              "      <td>0</td>\n",
              "    </tr>\n",
              "    <tr>\n",
              "      <th>4</th>\n",
              "      <td>5</td>\n",
              "      <td>0</td>\n",
              "      <td>3</td>\n",
              "      <td>35.0</td>\n",
              "      <td>0</td>\n",
              "      <td>0</td>\n",
              "      <td>8.0500</td>\n",
              "      <td>1</td>\n",
              "      <td>0</td>\n",
              "      <td>1</td>\n",
              "      <td>0</td>\n",
              "      <td>0</td>\n",
              "    </tr>\n",
              "  </tbody>\n",
              "</table>\n",
              "</div>"
            ],
            "text/plain": [
              "   PassengerId  Survived  Pclass   Age  SibSp  ...  male  female  S  C  Q\n",
              "0            1         0       3  22.0      1  ...     1       0  1  0  0\n",
              "1            2         1       1  38.0      1  ...     0       1  0  1  0\n",
              "2            3         1       3  26.0      0  ...     0       1  1  0  0\n",
              "3            4         1       1  35.0      1  ...     0       1  1  0  0\n",
              "4            5         0       3  35.0      0  ...     1       0  1  0  0\n",
              "\n",
              "[5 rows x 12 columns]"
            ]
          },
          "metadata": {
            "tags": []
          },
          "execution_count": 38
        }
      ]
    },
    {
      "cell_type": "code",
      "metadata": {
        "id": "0dD93_Wpu20e",
        "colab_type": "code",
        "colab": {}
      },
      "source": [
        "from sklearn.preprocessing import StandardScaler"
      ],
      "execution_count": 0,
      "outputs": []
    },
    {
      "cell_type": "code",
      "metadata": {
        "id": "kttb3ZYtXn_6",
        "colab_type": "code",
        "colab": {}
      },
      "source": [
        "scaler = StandardScaler()\n",
        "\n",
        "scaled_df = scaler.fit_transform(df)"
      ],
      "execution_count": 0,
      "outputs": []
    },
    {
      "cell_type": "code",
      "metadata": {
        "id": "AmbXVptQYb2e",
        "colab_type": "code",
        "colab": {}
      },
      "source": [
        "scaled_df = pd.DataFrame(scaled_df,columns=[\"PassengerId\",\t\"Survived\",\t\"Pclass\",\t\"Age\",\t\"SibSp\",\t\"Parch\",\t\"Fare\",\t\"male\",\t\"female\",\t\"S\",\t\"C\",\t\"Q\"])"
      ],
      "execution_count": 0,
      "outputs": []
    },
    {
      "cell_type": "code",
      "metadata": {
        "id": "qrTEwKCWYdZ3",
        "colab_type": "code",
        "outputId": "fff8cdb5-63ed-4335-bf32-3e61e112e1ca",
        "colab": {
          "base_uri": "https://localhost:8080/",
          "height": 215
        }
      },
      "source": [
        "scaled_df.head()"
      ],
      "execution_count": 0,
      "outputs": [
        {
          "output_type": "execute_result",
          "data": {
            "text/html": [
              "<div>\n",
              "<style scoped>\n",
              "    .dataframe tbody tr th:only-of-type {\n",
              "        vertical-align: middle;\n",
              "    }\n",
              "\n",
              "    .dataframe tbody tr th {\n",
              "        vertical-align: top;\n",
              "    }\n",
              "\n",
              "    .dataframe thead th {\n",
              "        text-align: right;\n",
              "    }\n",
              "</style>\n",
              "<table border=\"1\" class=\"dataframe\">\n",
              "  <thead>\n",
              "    <tr style=\"text-align: right;\">\n",
              "      <th></th>\n",
              "      <th>PassengerId</th>\n",
              "      <th>Survived</th>\n",
              "      <th>Pclass</th>\n",
              "      <th>Age</th>\n",
              "      <th>SibSp</th>\n",
              "      <th>Parch</th>\n",
              "      <th>Fare</th>\n",
              "      <th>male</th>\n",
              "      <th>female</th>\n",
              "      <th>S</th>\n",
              "      <th>C</th>\n",
              "      <th>Q</th>\n",
              "    </tr>\n",
              "  </thead>\n",
              "  <tbody>\n",
              "    <tr>\n",
              "      <th>0</th>\n",
              "      <td>-1.730108</td>\n",
              "      <td>-0.789272</td>\n",
              "      <td>0.827377</td>\n",
              "      <td>-0.530377</td>\n",
              "      <td>0.432793</td>\n",
              "      <td>-0.473674</td>\n",
              "      <td>-0.502445</td>\n",
              "      <td>0.737695</td>\n",
              "      <td>-0.737695</td>\n",
              "      <td>0.619306</td>\n",
              "      <td>-0.482043</td>\n",
              "      <td>-0.311914</td>\n",
              "    </tr>\n",
              "    <tr>\n",
              "      <th>1</th>\n",
              "      <td>-1.726220</td>\n",
              "      <td>1.266990</td>\n",
              "      <td>-1.566107</td>\n",
              "      <td>0.571831</td>\n",
              "      <td>0.432793</td>\n",
              "      <td>-0.473674</td>\n",
              "      <td>0.786845</td>\n",
              "      <td>-1.355574</td>\n",
              "      <td>1.355574</td>\n",
              "      <td>-1.614710</td>\n",
              "      <td>2.074505</td>\n",
              "      <td>-0.311914</td>\n",
              "    </tr>\n",
              "    <tr>\n",
              "      <th>2</th>\n",
              "      <td>-1.722332</td>\n",
              "      <td>1.266990</td>\n",
              "      <td>0.827377</td>\n",
              "      <td>-0.254825</td>\n",
              "      <td>-0.474545</td>\n",
              "      <td>-0.473674</td>\n",
              "      <td>-0.488854</td>\n",
              "      <td>-1.355574</td>\n",
              "      <td>1.355574</td>\n",
              "      <td>0.619306</td>\n",
              "      <td>-0.482043</td>\n",
              "      <td>-0.311914</td>\n",
              "    </tr>\n",
              "    <tr>\n",
              "      <th>3</th>\n",
              "      <td>-1.718444</td>\n",
              "      <td>1.266990</td>\n",
              "      <td>-1.566107</td>\n",
              "      <td>0.365167</td>\n",
              "      <td>0.432793</td>\n",
              "      <td>-0.473674</td>\n",
              "      <td>0.420730</td>\n",
              "      <td>-1.355574</td>\n",
              "      <td>1.355574</td>\n",
              "      <td>0.619306</td>\n",
              "      <td>-0.482043</td>\n",
              "      <td>-0.311914</td>\n",
              "    </tr>\n",
              "    <tr>\n",
              "      <th>4</th>\n",
              "      <td>-1.714556</td>\n",
              "      <td>-0.789272</td>\n",
              "      <td>0.827377</td>\n",
              "      <td>0.365167</td>\n",
              "      <td>-0.474545</td>\n",
              "      <td>-0.473674</td>\n",
              "      <td>-0.486337</td>\n",
              "      <td>0.737695</td>\n",
              "      <td>-0.737695</td>\n",
              "      <td>0.619306</td>\n",
              "      <td>-0.482043</td>\n",
              "      <td>-0.311914</td>\n",
              "    </tr>\n",
              "  </tbody>\n",
              "</table>\n",
              "</div>"
            ],
            "text/plain": [
              "   PassengerId  Survived    Pclass  ...         S         C         Q\n",
              "0    -1.730108 -0.789272  0.827377  ...  0.619306 -0.482043 -0.311914\n",
              "1    -1.726220  1.266990 -1.566107  ... -1.614710  2.074505 -0.311914\n",
              "2    -1.722332  1.266990  0.827377  ...  0.619306 -0.482043 -0.311914\n",
              "3    -1.718444  1.266990 -1.566107  ...  0.619306 -0.482043 -0.311914\n",
              "4    -1.714556 -0.789272  0.827377  ...  0.619306 -0.482043 -0.311914\n",
              "\n",
              "[5 rows x 12 columns]"
            ]
          },
          "metadata": {
            "tags": []
          },
          "execution_count": 42
        }
      ]
    },
    {
      "cell_type": "code",
      "metadata": {
        "id": "-PooujLbYpIV",
        "colab_type": "code",
        "outputId": "2ce7a382-b60e-4e2d-b463-d10db00d6bf0",
        "colab": {
          "base_uri": "https://localhost:8080/",
          "height": 302
        }
      },
      "source": [
        "scaled_df.info()"
      ],
      "execution_count": 0,
      "outputs": [
        {
          "output_type": "stream",
          "text": [
            "<class 'pandas.core.frame.DataFrame'>\n",
            "RangeIndex: 891 entries, 0 to 890\n",
            "Data columns (total 12 columns):\n",
            "PassengerId    891 non-null float64\n",
            "Survived       891 non-null float64\n",
            "Pclass         891 non-null float64\n",
            "Age            714 non-null float64\n",
            "SibSp          891 non-null float64\n",
            "Parch          891 non-null float64\n",
            "Fare           891 non-null float64\n",
            "male           891 non-null float64\n",
            "female         891 non-null float64\n",
            "S              891 non-null float64\n",
            "C              891 non-null float64\n",
            "Q              891 non-null float64\n",
            "dtypes: float64(12)\n",
            "memory usage: 83.6 KB\n"
          ],
          "name": "stdout"
        }
      ]
    },
    {
      "cell_type": "markdown",
      "metadata": {
        "id": "5kuhNVH1azI9",
        "colab_type": "text"
      },
      "source": [
        "only the age need to be imputed mean values."
      ]
    },
    {
      "cell_type": "code",
      "metadata": {
        "id": "YBEpkjYTaxHM",
        "colab_type": "code",
        "colab": {}
      },
      "source": [
        "Age = scaled_df[\"Age\"]\n",
        "\n",
        "Age_last = Age.fillna( 2.174187e-16)"
      ],
      "execution_count": 0,
      "outputs": []
    },
    {
      "cell_type": "code",
      "metadata": {
        "id": "F5nwl3Bqgp-Y",
        "colab_type": "code",
        "colab": {}
      },
      "source": [
        ""
      ],
      "execution_count": 0,
      "outputs": []
    },
    {
      "cell_type": "code",
      "metadata": {
        "id": "blhW95DWa80Z",
        "colab_type": "code",
        "colab": {}
      },
      "source": [
        "Age_dropped = scaled_df.drop([\"Age\"],axis=1)"
      ],
      "execution_count": 0,
      "outputs": []
    },
    {
      "cell_type": "code",
      "metadata": {
        "id": "woVnKFcBgrnE",
        "colab_type": "code",
        "colab": {}
      },
      "source": [
        "age = Age_last.values.tolist()"
      ],
      "execution_count": 0,
      "outputs": []
    },
    {
      "cell_type": "code",
      "metadata": {
        "id": "aIvwgUeTa-JK",
        "colab_type": "code",
        "colab": {}
      },
      "source": [
        "Age_dropped[\"Age\"] = age\n"
      ],
      "execution_count": 0,
      "outputs": []
    },
    {
      "cell_type": "code",
      "metadata": {
        "id": "k0kqdR7TbaVI",
        "colab_type": "code",
        "colab": {}
      },
      "source": [
        "dflast = Age_dropped"
      ],
      "execution_count": 0,
      "outputs": []
    },
    {
      "cell_type": "code",
      "metadata": {
        "id": "pInDPQeybtqG",
        "colab_type": "code",
        "outputId": "5ad4b1a0-f40d-4125-8f85-aa2bfb2bbd38",
        "colab": {
          "base_uri": "https://localhost:8080/",
          "height": 302
        }
      },
      "source": [
        "dflast.info()"
      ],
      "execution_count": 0,
      "outputs": [
        {
          "output_type": "stream",
          "text": [
            "<class 'pandas.core.frame.DataFrame'>\n",
            "RangeIndex: 891 entries, 0 to 890\n",
            "Data columns (total 12 columns):\n",
            "PassengerId    891 non-null float64\n",
            "Survived       891 non-null float64\n",
            "Pclass         891 non-null float64\n",
            "SibSp          891 non-null float64\n",
            "Parch          891 non-null float64\n",
            "Fare           891 non-null float64\n",
            "male           891 non-null float64\n",
            "female         891 non-null float64\n",
            "S              891 non-null float64\n",
            "C              891 non-null float64\n",
            "Q              891 non-null float64\n",
            "Age            891 non-null float64\n",
            "dtypes: float64(12)\n",
            "memory usage: 83.6 KB\n"
          ],
          "name": "stdout"
        }
      ]
    },
    {
      "cell_type": "code",
      "metadata": {
        "id": "56cHY83qeaaM",
        "colab_type": "code",
        "colab": {}
      },
      "source": [
        "#okkay finito. veri preprocessing tamamlandı"
      ],
      "execution_count": 0,
      "outputs": []
    },
    {
      "cell_type": "code",
      "metadata": {
        "id": "hu4ikjgHh11v",
        "colab_type": "code",
        "colab": {}
      },
      "source": [
        " dflast.to_csv(\"titanic_cleaned.csv\")"
      ],
      "execution_count": 0,
      "outputs": []
    },
    {
      "cell_type": "code",
      "metadata": {
        "id": "3INMIwqti3Rf",
        "colab_type": "code",
        "outputId": "8c2aca86-39ae-487a-e32a-ad707b830945",
        "colab": {
          "base_uri": "https://localhost:8080/",
          "height": 54
        }
      },
      "source": [
        "titanic_cleaned"
      ],
      "execution_count": 0,
      "outputs": [
        {
          "output_type": "execute_result",
          "data": {
            "text/plain": [
              "'PassengerId,Survived,Pclass,SibSp,Parch,Fare,male,female,S,C,Q,Age\\n-1.730107956920867,-0.7892723355548015,0.8273772438659699,0.4327933656785018,-0.4736736092984604,-0.5024451714361923,0.7376951317802901,-0.7376951317802901,0.6193063641452488,-0.4820426798824101,-0.311914476089342,-0.5303766406838785\\n-1.7262200738716067,1.266989801811655,-1.5661069258891576,0.4327933656785018,-0.4736736092984604,0.7868452935884461,-1.3555735383351195,1.3555735383351193,-1.6147097105649404,2.0745051044939435,-0.311914476089342,0.571830994003175\\n-1.7223321908223463,1.266989801811655,0.8273772438659699,-0.47454519624983954,-0.4736736092984604,-0.4888542575852486,-1.3555735383351195,1.3555735383351193,0.6193063641452488,-0.4820426798824101,-0.311914476089342,-0.25482473201211503\\n-1.718444307773086,1.266989801811655,-1.5661069258891576,0.4327933656785018,-0.4736736092984604,0.4207302360686478,-1.3555735383351195,1.3555735383351193,0.6193063641452488,-0.4820426798824101,-0.311914476089342,0.36516706249935255\\n-1.7145564247238256,-0.7892723355548015,0.8273772438659699,-0.47454519624983954,-0.4736736092984604,-0.4863374216869257,0.7376951317802901,-0.7376951317802901,0.6193063641452488,-0.4820426798824101,-0.311914476089342,0.36516706249935255\\n-1.7106685416745653,-0.7892723355548015,0.8273772438659699,-0.47454519624983954,-0.4736736092984604,-0.47811642890864375,0.7376951317802901,-0.7376951317802901,-1.6147097105649404,-0.4820426798824101,3.20600702005754,2.174187e-16\\n-1.7067806586253047,-0.7892723355548015,-1.5661069258891576,-0.47454519624983954,-0.4736736092984604,0.395813560675251,0.7376951317802901,-0.7376951317802901,0.6193063641452488,-0.4820426798824101,-0.311914476089342,1.6740386286902287\\n-1.7028927755760443,-0.7892723355548015,0.8273772438659699,2.2474704895351842,0.7676298785983874,-0.22408312108167944,0.7376951317802901,-0.7376951317802901,0.6193063641452488,-0.4820426798824101,-0.311914476089342,-1.9081361840426954\\n-1.699004892526784,1.266989801811655,0.8273772438659699,-0.47454519624983954,2.0089333664952354,-0.4242561406845337,-1.3555735383351195,1.3555735383351193,0.6193063641452488,-0.4820426798824101,-0.311914476089342,-0.1859367548441742\\n-1.6951170094775236,1.266989801811655,-0.3693648410115938,0.4327933656785018,-0.4736736092984604,-0.04295550208861426,-1.3555735383351195,1.3555735383351193,-1.6147097105649404,2.0745051044939435,-0.311914476089342,-1.0814804580274051\\n-1.6912291264282633,1.266989801811655,0.8273772438659699,0.4327933656785018,0.7676298785983874,-0.312172377522981,-1.3555735383351195,1.3555735383351193,0.6193063641452488,-0.4820426798824101,-0.311914476089342,-1.7703602297068137\\n-1.687341243379003,1.266989801811655,-1.5661069258891576,-0.47454519624983954,-0.4736736092984604,-0.11384570873513637,-1.3555735383351195,1.3555735383351193,0.6193063641452488,-0.4820426798824101,-0.311914476089342,1.949590537361992\\n-1.6834533603297426,-0.7892723355548015,0.8273772438659699,-0.47454519624983954,-0.4736736092984604,-0.4863374216869257,0.7376951317802901,-0.7376951317802901,0.6193063641452488,-0.4820426798824101,-0.311914476089342,-0.6681525950197601\\n-1.6795654772804822,-0.7892723355548015,0.8273772438659699,0.4327933656785018,5.73284383018578,-0.01870931177853076,0.7376951317802901,-0.7376951317802901,0.6193063641452488,-0.4820426798824101,-0.311914476089342,0.6407189711711159\\n-1.6756775942312219,-0.7892723355548015,0.8273772438659699,-0.47454519624983954,-0.4736736092984604,-0.4902797934380587,-1.3555735383351195,1.3555735383351193,0.6193063641452488,-0.4820426798824101,-0.311914476089342,-1.0814804580274051\\n-1.6717897111819615,1.266989801811655,-0.3693648410115938,-0.47454519624983954,-0.4736736092984604,-0.3262666585535892,-1.3555735383351195,1.3555735383351193,0.6193063641452488,-0.4820426798824101,-0.311914476089342,1.7429266058581694\\n-1.667901828132701,-0.7892723355548015,0.8273772438659699,3.1548090514635256,0.7676298785983874,-0.06199888922968463,0.7376951317802901,-0.7376951317802901,-1.6147097105649404,-0.4820426798824101,3.20600702005754,-1.9081361840426954\\n-1.6640139450834406,1.266989801811655,-0.3693648410115938,-0.47454519624983954,-0.4736736092984604,-0.3866707201133388,0.7376951317802901,-0.7376951317802901,0.6193063641452488,-0.4820426798824101,-0.311914476089342,2.174187e-16\\n-1.6601260620341802,-0.7892723355548015,0.8273772438659699,0.4327933656785018,-0.4736736092984604,-0.2859972841804228,-1.3555735383351195,1.3555735383351193,0.6193063641452488,-0.4820426798824101,-0.311914476089342,0.08961515382758917\\n-1.6562381789849199,1.266989801811655,0.8273772438659699,-0.47454519624983954,-0.4736736092984604,-0.5029485386158568,-1.3555735383351195,1.3555735383351193,-1.6147097105649404,2.0745051044939435,-0.311914476089342,2.174187e-16\\n-1.6523502959356595,-0.7892723355548015,-0.3693648410115938,-0.47454519624983954,-0.4736736092984604,-0.12491978668775715,0.7376951317802901,-0.7376951317802901,0.6193063641452488,-0.4820426798824101,-0.311914476089342,0.36516706249935255\\n-1.6484624128863992,1.266989801811655,-0.3693648410115938,-0.47454519624983954,-0.4736736092984604,-0.3866707201133388,0.7376951317802901,-0.7376951317802901,0.6193063641452488,-0.4820426798824101,-0.311914476089342,0.2962790853314117\\n-1.6445745298371388,1.266989801811655,0.8273772438659699,-0.47454519624983954,-0.4736736092984604,-0.4867562231804066,-1.3555735383351195,1.3555735383351193,-1.6147097105649404,-0.4820426798824101,3.20600702005754,-1.0125924808594644\\n-1.6406866467878785,1.266989801811655,-1.5661069258891576,-0.47454519624983954,-0.4736736092984604,0.06635974158478332,0.7376951317802901,-0.7376951317802901,0.6193063641452488,-0.4820426798824101,-0.311914476089342,-0.11704877767623337\\n-1.636798763738618,-0.7892723355548015,0.8273772438659699,2.2474704895351842,0.7676298785983874,-0.22408312108167944,-1.3555735383351195,1.3555735383351193,0.6193063641452488,-0.4820426798824101,-0.311914476089342,-1.4948083210350502\\n-1.6329108806893577,1.266989801811655,0.8273772438659699,0.4327933656785018,5.73284383018578,-0.016444159470040135,-1.3555735383351195,1.3555735383351193,0.6193063641452488,-0.4820426798824101,-0.311914476089342,0.571830994003175\\n-1.6290229976400974,-0.7892723355548015,0.8273772438659699,-0.47454519624983954,-0.4736736092984604,-0.5029485386158568,0.7376951317802901,-0.7376951317802901,-1.6147097105649404,2.0745051044939435,-0.311914476089342,2.174187e-16\\n-1.6251351145908368,-0.7892723355548015,-1.5661069258891576,2.2474704895351842,2.0089333664952354,4.647001076532463,0.7376951317802901,-0.7376951317802901,0.6193063641452488,-0.4820426798824101,-0.311914476089342,-0.7370405721877009\\n-1.6212472315415765,1.266989801811655,0.8273772438659699,-0.47454519624983954,-0.4736736092984604,-0.48977642625839407,-1.3555735383351195,1.3555735383351193,-1.6147097105649404,-0.4820426798824101,3.20600702005754,2.174187e-16\\n-1.617359348492316,-0.7892723355548015,0.8273772438659699,-0.47454519624983954,-0.4736736092984604,-0.4894421904510968,0.7376951317802901,-0.7376951317802901,0.6193063641452488,-0.4820426798824101,-0.311914476089342,2.174187e-16\\n-1.6134714654430558,-0.7892723355548015,-1.5661069258891576,-0.47454519624983954,-0.4736736092984604,-0.09027201697708476,0.7376951317802901,-0.7376951317802901,-1.6147097105649404,2.0745051044939435,-0.311914476089342,0.7096069483390568\\n-1.6095835823937954,1.266989801811655,-1.5661069258891576,0.4327933656785018,-0.4736736092984604,2.301728820789,-1.3555735383351195,1.3555735383351193,-1.6147097105649404,2.0745051044939435,-0.311914476089342,2.174187e-16\\n-1.605695699344535,1.266989801811655,0.8273772438659699,-0.47454519624983954,-0.4736736092984604,-0.49237782784290063,-1.3555735383351195,1.3555735383351193,-1.6147097105649404,-0.4820426798824101,3.20600702005754,2.174187e-16\\n-1.6018078162952747,-0.7892723355548015,-0.3693648410115938,-0.47454519624983954,-0.4736736092984604,-0.43700743807979686,0.7376951317802901,-0.7376951317802901,0.6193063641452488,-0.4820426798824101,-0.311914476089342,2.500694354705519\\n-1.5979199332460143,-0.7892723355548015,-1.5661069258891576,0.4327933656785018,-0.4736736092984604,1.0060617003323709,0.7376951317802901,-0.7376951317802901,-1.6147097105649404,2.0745051044939435,-0.311914476089342,-0.11704877767623337\\n-1.594032050196754,-0.7892723355548015,-1.5661069258891576,0.4327933656785018,-0.4736736092984604,0.39858208016340624,0.7376951317802901,-0.7376951317802901,0.6193063641452488,-0.4820426798824101,-0.311914476089342,0.8473829026749384\\n-1.5901441671474936,1.266989801811655,0.8273772438659699,-0.47454519624983954,-0.4736736092984604,-0.5028639729296732,0.7376951317802901,-0.7376951317802901,-1.6147097105649404,2.0745051044939435,-0.311914476089342,2.174187e-16\\n-1.5862562840982333,-0.7892723355548015,0.8273772438659699,-0.47454519624983954,-0.4736736092984604,-0.4863374216869257,0.7376951317802901,-0.7376951317802901,0.6193063641452488,-0.4820426798824101,-0.311914476089342,-0.5992646178518193\\n-1.5823684010489727,-0.7892723355548015,0.8273772438659699,1.340131927606843,-0.4736736092984604,-0.2859972841804228,-1.3555735383351195,1.3555735383351193,0.6193063641452488,-0.4820426798824101,-0.311914476089342,-0.8059285493556418\\n-1.5784805179997123,1.266989801811655,0.8273772438659699,0.4327933656785018,-0.4736736092984604,-0.42207354059350805,-1.3555735383351195,1.3555735383351193,-1.6147097105649404,2.0745051044939435,-0.311914476089342,-1.0814804580274051\\n-1.574592634950452,-0.7892723355548015,0.8273772438659699,0.4327933656785018,-0.4736736092984604,-0.4576454924460446,-1.3555735383351195,1.3555735383351193,0.6193063641452488,-0.4820426798824101,-0.311914476089342,0.7096069483390568\\n-1.5707047519011916,-0.7892723355548015,-0.3693648410115938,0.4327933656785018,-0.4736736092984604,-0.22559322262067316,-1.3555735383351195,1.3555735383351193,0.6193063641452488,-0.4820426798824101,-0.311914476089342,-0.1859367548441742\\n-1.5668168688519313,-0.7892723355548015,0.8273772438659699,-0.47454519624983954,-0.4736736092984604,-0.4894421904510968,0.7376951317802901,-0.7376951317802901,-1.6147097105649404,2.0745051044939435,-0.311914476089342,2.174187e-16\\n-1.562928985802671,1.266989801811655,-0.3693648410115938,0.4327933656785018,2.0089333664952354,0.18876253192945994,-1.3555735383351195,1.3555735383351193,-1.6147097105649404,2.0745051044939435,-0.311914476089342,-1.8392482068747544\\n-1.5590411027534106,1.266989801811655,0.8273772438659699,-0.47454519624983954,-0.4736736092984604,-0.48977642625839407,-1.3555735383351195,1.3555735383351193,-1.6147097105649404,-0.4820426798824101,3.20600702005754,-0.7370405721877009\\n-1.5551532197041502,-0.7892723355548015,0.8273772438659699,-0.47454519624983954,-0.4736736092984604,-0.4863374216869257,0.7376951317802901,-0.7376951317802901,0.6193063641452488,-0.4820426798824101,-0.311914476089342,2.174187e-16\\n-1.5512653366548899,-0.7892723355548015,0.8273772438659699,0.4327933656785018,-0.4736736092984604,-0.3363340021468808,0.7376951317802901,-0.7376951317802901,-1.6147097105649404,-0.4820426798824101,3.20600702005754,2.174187e-16\\n-1.5473774536056295,1.266989801811655,0.8273772438659699,-0.47454519624983954,-0.4736736092984604,-0.49237782784290063,-1.3555735383351195,1.3555735383351193,-1.6147097105649404,-0.4820426798824101,3.20600702005754,2.174187e-16\\n-1.543489570556369,-0.7892723355548015,0.8273772438659699,1.340131927606843,-0.4736736092984604,-0.21191774308354583,0.7376951317802901,-0.7376951317802901,-1.6147097105649404,2.0745051044939435,-0.311914476089342,2.174187e-16\\n-1.5396016875071086,-0.7892723355548015,0.8273772438659699,0.4327933656785018,-0.4736736092984604,-0.29002422161773944,-1.3555735383351195,1.3555735383351193,0.6193063641452488,-0.4820426798824101,-0.311914476089342,-0.8059285493556418\\n-1.5357138044578482,-0.7892723355548015,0.8273772438659699,3.1548090514635256,0.7676298785983874,0.1506737441786005,0.7376951317802901,-0.7376951317802901,0.6193063641452488,-0.4820426798824101,-0.311914476089342,-1.5636962982029912\\n-1.5318259214085879,-0.7892723355548015,0.8273772438659699,-0.47454519624983954,-0.4736736092984604,-0.4913710934835715,0.7376951317802901,-0.7376951317802901,0.6193063641452488,-0.4820426798824101,-0.311914476089342,-0.5992646178518193\\n-1.5279380383593275,1.266989801811655,-1.5661069258891576,0.4327933656785018,-0.4736736092984604,0.8964967865378598,-1.3555735383351195,1.3555735383351193,-1.6147097105649404,2.0745051044939435,-0.311914476089342,1.3295987428505243\\n-1.5240501553100672,1.266989801811655,-0.3693648410115938,0.4327933656785018,-0.4736736092984604,-0.12491978668775715,-1.3555735383351195,1.3555735383351193,0.6193063641452488,-0.4820426798824101,-0.311914476089342,-0.04816080050829252\\n-1.5201622722608068,-0.7892723355548015,-1.5661069258891576,-0.47454519624983954,0.7676298785983874,0.5995101505357573,0.7376951317802901,-0.7376951317802901,-1.6147097105649404,2.0745051044939435,-0.311914476089342,2.431806377537578\\n-1.5162743892115464,1.266989801811655,-1.5661069258891576,-0.47454519624983954,-0.4736736092984604,0.06635974158478332,0.7376951317802901,-0.7376951317802901,0.6193063641452488,-0.4820426798824101,-0.311914476089342,2.174187e-16\\n-1.512386506162286,1.266989801811655,-0.3693648410115938,-0.47454519624983954,-0.4736736092984604,-0.43700743807979686,-1.3555735383351195,1.3555735383351193,0.6193063641452488,-0.4820426798824101,-0.311914476089342,-0.5992646178518193\\n-1.5084986231130257,-0.7892723355548015,0.8273772438659699,-0.47454519624983954,-0.4736736092984604,-0.5028639729296732,0.7376951317802901,-0.7376951317802901,-1.6147097105649404,2.0745051044939435,-0.311914476089342,-0.08260478909226295\\n-1.5046107400637654,1.266989801811655,-0.3693648410115938,0.4327933656785018,2.0089333664952354,-0.08968408411123653,-1.3555735383351195,1.3555735383351193,0.6193063641452488,-0.4820426798824101,-0.311914476089342,-1.7014722525388728\\n-1.5007228570145048,-0.7892723355548015,0.8273772438659699,4.0621476133918675,2.0089333664952354,0.2958951755118318,0.7376951317802901,-0.7376951317802901,0.6193063641452488,-0.4820426798824101,-0.311914476089342,-1.2881443895312277\\n-1.4968349739652445,-0.7892723355548015,0.8273772438659699,-0.47454519624983954,-0.4736736092984604,-0.5028639729296732,0.7376951317802901,-0.7376951317802901,-1.6147097105649404,2.0745051044939435,-0.311914476089342,-0.5303766406838785\\n-1.492947090915984,1.266989801811655,-1.5661069258891576,-0.47454519624983954,-0.4736736092984604,0.962353321387736,-1.3555735383351195,1.3555735383351193,-1.6147097105649404,-0.4820426798824101,3.20600702005754,0.571830994003175\\n-1.4890592078667237,-0.7892723355548015,-1.5661069258891576,0.4327933656785018,-0.4736736092984604,1.0323213593611125,0.7376951317802901,-0.7376951317802901,0.6193063641452488,-0.4820426798824101,-0.311914476089342,1.054046834178761\\n-1.4851713248174634,-0.7892723355548015,0.8273772438659699,2.2474704895351842,2.0089333664952354,-0.08666388103324908,0.7376951317802901,-0.7376951317802901,0.6193063641452488,-0.4820426798824101,-0.311914476089342,-1.7703602297068137\\n-1.481283441768203,-0.7892723355548015,-1.5661069258891576,-0.47454519624983954,-0.4736736092984604,-0.09027201697708476,0.7376951317802901,-0.7376951317802901,-1.6147097105649404,2.0745051044939435,-0.311914476089342,2.174187e-16\\n-1.4773955587189427,1.266989801811655,0.8273772438659699,0.4327933656785018,0.7676298785983874,-0.3414522396297103,0.7376951317802901,-0.7376951317802901,-1.6147097105649404,2.0745051044939435,-0.311914476089342,2.174187e-16\\n-1.4735076756696823,1.266989801811655,-0.3693648410115938,-0.47454519624983954,-0.4736736092984604,-0.43700743807979686,-1.3555735383351195,1.3555735383351193,0.6193063641452488,-0.4820426798824101,-0.311914476089342,-0.04816080050829252\\n-1.469619792620422,-0.7892723355548015,0.8273772438659699,-0.47454519624983954,-0.4736736092984604,-0.4841568350646187,0.7376951317802901,-0.7376951317802901,0.6193063641452488,-0.4820426798824101,-0.311914476089342,-0.7370405721877009\\n-1.4657319095711616,1.266989801811655,0.8273772438659699,3.1548090514635256,2.0089333664952354,-0.4888542575852486,-1.3555735383351195,1.3555735383351193,0.6193063641452488,-0.4820426798824101,-0.311914476089342,-0.8748165265235827\\n-1.461844026521901,-0.7892723355548015,0.8273772438659699,1.340131927606843,-0.4736736092984604,-0.47400492578514347,0.7376951317802901,-0.7376951317802901,0.6193063641452488,-0.4820426798824101,-0.311914476089342,-0.25482473201211503\\n-1.4579561434726407,-0.7892723355548015,-0.3693648410115938,-0.47454519624983954,-0.4736736092984604,-0.43700743807979686,0.7376951317802901,-0.7376951317802901,0.6193063641452488,-0.4820426798824101,-0.311914476089342,0.15850313099553\\n-1.4540682604233803,-0.7892723355548015,0.8273772438659699,4.0621476133918675,2.0089333664952354,0.2958951755118318,-1.3555735383351195,1.3555735383351193,0.6193063641452488,-0.4820426798824101,-0.311914476089342,-0.9437045036915235\\n-1.45018037737412,-0.7892723355548015,-0.3693648410115938,-0.47454519624983954,-0.4736736092984604,0.8314778546749452,0.7376951317802901,-0.7376951317802901,0.6193063641452488,-0.4820426798824101,-0.311914476089342,-0.5992646178518193\\n-1.4462924943248596,-0.7892723355548015,0.8273772438659699,0.4327933656785018,-0.4736736092984604,-0.3573908580066095,0.7376951317802901,-0.7376951317802901,-1.6147097105649404,2.0745051044939435,-0.311914476089342,-0.25482473201211503\\n-1.4424046112755993,1.266989801811655,0.8273772438659699,-0.47454519624983954,-0.4736736092984604,0.48910360681684706,0.7376951317802901,-0.7376951317802901,0.6193063641452488,-0.4820426798824101,-0.311914476089342,0.15850313099553\\n-1.438516728226339,-0.7892723355548015,0.8273772438659699,-0.47454519624983954,-0.4736736092984604,-0.494391296561559,0.7376951317802901,-0.7376951317802901,0.6193063641452488,-0.4820426798824101,-0.311914476089342,-0.3237127091800559\\n-1.4346288451770786,-0.7892723355548015,0.8273772438659699,-0.47454519624983954,-0.4736736092984604,-0.4894421904510968,0.7376951317802901,-0.7376951317802901,0.6193063641452488,-0.4820426798824101,-0.311914476089342,2.174187e-16\\n-1.4307409621278182,-0.7892723355548015,0.8273772438659699,-0.47454519624983954,-0.4736736092984604,-0.4863374216869257,0.7376951317802901,-0.7376951317802901,0.6193063641452488,-0.4820426798824101,-0.311914476089342,2.174187e-16\\n-1.4268530790785579,1.266989801811655,-0.3693648410115938,-0.47454519624983954,2.0089333664952354,-0.06451572512800753,0.7376951317802901,-0.7376951317802901,0.6193063641452488,-0.4820426798824101,-0.311914476089342,-1.9887351173291863\\n-1.4229651960292975,1.266989801811655,0.8273772438659699,-0.47454519624983954,-0.4736736092984604,-0.397241430886295,-1.3555735383351195,1.3555735383351193,0.6193063641452488,-0.4820426798824101,-0.311914476089342,0.020727176659648322\\n-1.419077312980037,-0.7892723355548015,0.8273772438659699,-0.47454519624983954,-0.4736736092984604,-0.46720946885967163,0.7376951317802901,-0.7376951317802901,0.6193063641452488,-0.4820426798824101,-0.311914476089342,-0.5303766406838785\\n-1.4151894299307766,1.266989801811655,0.8273772438659699,-0.47454519624983954,-0.4736736092984604,-0.45714212526638004,0.7376951317802901,-0.7376951317802901,0.6193063641452488,-0.4820426798824101,-0.311914476089342,-0.04816080050829252\\n-1.4113015468815162,1.266989801811655,0.8273772438659699,-0.47454519624983954,-0.4736736092984604,-0.49162277707340374,-1.3555735383351195,1.3555735383351193,-1.6147097105649404,-0.4820426798824101,3.20600702005754,2.174187e-16\\n-1.4074136638322559,-0.7892723355548015,-1.5661069258891576,-0.47454519624983954,-0.4736736092984604,0.29992211294914856,0.7376951317802901,-0.7376951317802901,0.6193063641452488,-0.4820426798824101,-0.311914476089342,-0.11704877767623337\\n-1.4035257807829955,1.266989801811655,-0.3693648410115938,-0.47454519624983954,-0.4736736092984604,-0.43700743807979686,-1.3555735383351195,1.3555735383351193,0.6193063641452488,-0.4820426798824101,-0.311914476089342,-0.8748165265235827\\n-1.3996378977337351,1.266989801811655,0.8273772438659699,2.2474704895351842,-0.4736736092984604,-0.32928686163157667,-1.3555735383351195,1.3555735383351193,0.6193063641452488,-0.4820426798824101,-0.311914476089342,0.22739110816347086\\n-1.3957500146844748,-0.7892723355548015,0.8273772438659699,0.4327933656785018,3.250236854392083,0.04370821849987721,0.7376951317802901,-0.7376951317802901,0.6193063641452488,-0.4820426798824101,-0.311914476089342,-0.9437045036915235\\n-1.3918621316352144,-0.7892723355548015,0.8273772438659699,-0.47454519624983954,-0.4736736092984604,-0.4863374216869257,0.7376951317802901,-0.7376951317802901,0.6193063641452488,-0.4820426798824101,-0.311914476089342,2.174187e-16\\n-1.387974248585954,1.266989801811655,-1.5661069258891576,2.2474704895351842,2.0089333664952354,4.647001076532463,-1.3555735383351195,1.3555735383351193,0.6193063641452488,-0.4820426798824101,-0.311914476089342,-0.4614886635159376\\n-1.3840863655366937,-0.7892723355548015,0.8273772438659699,-0.47454519624983954,-0.4736736092984604,-0.4863374216869257,0.7376951317802901,-0.7376951317802901,0.6193063641452488,-0.4820426798824101,-0.311914476089342,-0.3926006863479967\\n-1.3801984824874334,-0.7892723355548015,0.8273772438659699,-0.47454519624983954,-0.4736736092984604,-0.4863374216869257,0.7376951317802901,-0.7376951317802901,0.6193063641452488,-0.4820426798824101,-0.311914476089342,-0.04816080050829252\\n-1.3763105994381728,-0.7892723355548015,0.8273772438659699,-0.47454519624983954,-0.4736736092984604,-0.4902797934380587,0.7376951317802901,-0.7376951317802901,0.6193063641452488,-0.4820426798824101,-0.311914476089342,-0.6681525950197601\\n-1.3724227163889124,-0.7892723355548015,-1.5661069258891576,0.4327933656785018,-0.4736736092984604,0.5833178351003071,0.7376951317802901,-0.7376951317802901,0.6193063641452488,-0.4820426798824101,-0.311914476089342,1.122934811346702\\n-1.368534833339652,-0.7892723355548015,0.8273772438659699,0.4327933656785018,2.0089333664952354,-0.23415046467497105,0.7376951317802901,-0.7376951317802901,0.6193063641452488,-0.4820426798824101,-0.311914476089342,-0.25482473201211503\\n-1.3646469502903917,-0.7892723355548015,0.8273772438659699,-0.47454519624983954,-0.4736736092984604,-0.5024451714361923,0.7376951317802901,-0.7376951317802901,0.6193063641452488,-0.4820426798824101,-0.311914476089342,2.018478514529933\\n-1.3607590672411314,-0.7892723355548015,0.8273772438659699,-0.47454519624983954,-0.4736736092984604,-0.4863374216869257,0.7376951317802901,-0.7376951317802901,0.6193063641452488,-0.4820426798824101,-0.311914476089342,2.174187e-16\\n-1.356871184191871,-0.7892723355548015,-1.5661069258891576,-0.47454519624983954,-0.4736736092984604,0.0493298231623713,0.7376951317802901,-0.7376951317802901,-1.6147097105649404,2.0745051044939435,-0.311914476089342,2.845134240545223\\n-1.3529833011426107,1.266989801811655,-1.5661069258891576,-0.47454519624983954,0.7676298785983874,0.6272778976347743,0.7376951317802901,-0.7376951317802901,-1.6147097105649404,2.0745051044939435,-0.311914476089342,-0.4614886635159376\\n-1.3490954180933503,1.266989801811655,-0.3693648410115938,-0.47454519624983954,0.7676298785983874,-0.18532384824750675,-1.3555735383351195,1.3555735383351193,0.6193063641452488,-0.4820426798824101,-0.311914476089342,0.2962790853314117\\n-1.34520753504409,-0.7892723355548015,-0.3693648410115938,0.4327933656785018,-0.4736736092984604,-0.12491978668775715,0.7376951317802901,-0.7376951317802901,0.6193063641452488,-0.4820426798824101,-0.311914476089342,0.2962790853314117\\n-1.3413196519948296,-0.7892723355548015,0.8273772438659699,-0.47454519624983954,-0.4736736092984604,-0.4894421904510968,-1.3555735383351195,1.3555735383351193,0.6193063641452488,-0.4820426798824101,-0.311914476089342,-0.11704877767623337\\n-1.337431768945569,-0.7892723355548015,0.8273772438659699,-0.47454519624983954,-0.4736736092984604,-0.4894421904510968,0.7376951317802901,-0.7376951317802901,0.6193063641452488,-0.4820426798824101,-0.311914476089342,2.174187e-16\\n-1.3335438858963087,-0.7892723355548015,-1.5661069258891576,-0.47454519624983954,0.7676298785983874,0.907737982394129,0.7376951317802901,-0.7376951317802901,0.6193063641452488,-0.4820426798824101,-0.311914476089342,-0.5992646178518193\\n-1.3296560028470483,-0.7892723355548015,0.8273772438659699,-0.47454519624983954,-0.4736736092984604,-0.4741720436887921,0.7376951317802901,-0.7376951317802901,0.6193063641452488,-0.4820426798824101,-0.311914476089342,0.22739110816347086\\n-1.325768119797788,-0.7892723355548015,0.8273772438659699,1.340131927606843,-0.4736736092984604,-0.4888542575852486,0.7376951317802901,-0.7376951317802901,0.6193063641452488,-0.4820426798824101,-0.311914476089342,0.5029430168352342\\n-1.3218802367485276,-0.7892723355548015,0.8273772438659699,-0.47454519624983954,-0.4736736092984604,-0.4894421904510968,0.7376951317802901,-0.7376951317802901,0.6193063641452488,-0.4820426798824101,-0.311914476089342,-0.11704877767623337\\n-1.3179923536992673,1.266989801811655,0.8273772438659699,-0.47454519624983954,-0.4736736092984604,-0.494391296561559,-1.3555735383351195,1.3555735383351193,0.6193063641452488,-0.4820426798824101,-0.311914476089342,-0.5992646178518193\\n-1.314104470650007,1.266989801811655,0.8273772438659699,-0.47454519624983954,-0.4736736092984604,-0.4918744606632361,0.7376951317802901,-0.7376951317802901,0.6193063641452488,-0.4820426798824101,-0.311914476089342,2.174187e-16\\n-1.3102165876007466,-0.7892723355548015,0.8273772438659699,-0.47454519624983954,-0.4736736092984604,-0.4894421904510968,0.7376951317802901,-0.7376951317802901,0.6193063641452488,-0.4820426798824101,-0.311914476089342,0.571830994003175\\n-1.3063287045514862,1.266989801811655,0.8273772438659699,0.4327933656785018,-0.4736736092984604,-0.1621689579829361,-1.3555735383351195,1.3555735383351193,-1.6147097105649404,-0.4820426798824101,3.20600702005754,2.174187e-16\\n-1.3024408215022258,-0.7892723355548015,-1.5661069258891576,-0.47454519624983954,-0.4736736092984604,0.39858208016340624,0.7376951317802901,-0.7376951317802901,0.6193063641452488,-0.4820426798824101,-0.311914476089342,1.1918227885146426\\n-1.2985529384529655,-0.7892723355548015,0.8273772438659699,0.4327933656785018,-0.4736736092984604,-0.3573908580066095,-1.3555735383351195,1.3555735383351193,-1.6147097105649404,2.0745051044939435,-0.311914476089342,-1.0470364694434349\\n-1.294665055403705,-0.7892723355548015,0.8273772438659699,-0.47454519624983954,-0.4736736092984604,-0.4863374216869257,0.7376951317802901,-0.7376951317802901,0.6193063641452488,-0.4820426798824101,-0.311914476089342,-0.5303766406838785\\n-1.2907771723544446,-0.7892723355548015,0.8273772438659699,0.4327933656785018,-0.4736736092984604,-0.4505983519307405,-1.3555735383351195,1.3555735383351193,0.6193063641452488,-0.4820426798824101,-0.311914476089342,-0.6681525950197601\\n-1.2868892893051842,-0.7892723355548015,0.8273772438659699,-0.47454519624983954,-0.4736736092984604,-0.3573083057891445,-1.3555735383351195,1.3555735383351193,-1.6147097105649404,2.0745051044939435,-0.311914476089342,-0.8748165265235827\\n-1.2830014062559238,-0.7892723355548015,0.8273772438659699,-0.47454519624983954,-0.4736736092984604,-0.4888542575852486,0.7376951317802901,-0.7376951317802901,0.6193063641452488,-0.4820426798824101,-0.311914476089342,-0.5992646178518193\\n-1.2791135232066635,-0.7892723355548015,0.8273772438659699,-0.47454519624983954,-0.4736736092984604,-0.49237782784290063,0.7376951317802901,-0.7376951317802901,-1.6147097105649404,-0.4820426798824101,3.20600702005754,2.8106902519612524\\n-1.2752256401574031,-0.7892723355548015,-0.3693648410115938,0.4327933656785018,-0.4736736092984604,-0.22559322262067316,0.7376951317802901,-0.7376951317802901,0.6193063641452488,-0.4820426798824101,-0.311914476089342,-0.04816080050829252\\n-1.2713377571081428,-0.7892723355548015,-1.5661069258891576,-0.47454519624983954,0.7676298785983874,4.335332226633905,0.7376951317802901,-0.7376951317802901,-1.6147097105649404,2.0745051044939435,-0.311914476089342,-0.3926006863479967\\n-1.2674498740588824,-0.7892723355548015,0.8273772438659699,3.1548090514635256,2.0089333664952354,-0.01870931177853076,-1.3555735383351195,1.3555735383351193,0.6193063641452488,-0.4820426798824101,-0.311914476089342,-1.9081361840426954\\n-1.263561991009622,-0.7892723355548015,-0.3693648410115938,1.340131927606843,-0.4736736092984604,0.8314778546749452,0.7376951317802901,-0.7376951317802901,0.6193063641452488,-0.4820426798824101,-0.311914476089342,-0.5992646178518193\\n-1.2596741079603617,-0.7892723355548015,0.8273772438659699,-0.47454519624983954,-0.4736736092984604,-0.4863374216869257,0.7376951317802901,-0.7376951317802901,0.6193063641452488,-0.4820426798824101,-0.311914476089342,2.174187e-16\\n-1.2557862249111011,-0.7892723355548015,-0.3693648410115938,0.4327933656785018,-0.4736736092984604,-0.04295550208861426,0.7376951317802901,-0.7376951317802901,-1.6147097105649404,2.0745051044939435,-0.311914476089342,0.19294711957950042\\n-1.2518983418618408,1.266989801811655,-0.3693648410115938,-0.47454519624983954,-0.4736736092984604,-0.3866707201133388,-1.3555735383351195,1.3555735383351193,0.6193063641452488,-0.4820426798824101,-0.311914476089342,0.19294711957950042\\n-1.2480104588125804,-0.7892723355548015,-1.5661069258891576,-0.47454519624983954,0.7676298785983874,0.907737982394129,0.7376951317802901,-0.7376951317802901,0.6193063641452488,-0.4820426798824101,-0.311914476089342,1.6740386286902287\\n-1.24412257576332,1.266989801811655,0.8273772438659699,0.4327933656785018,-0.4736736092984604,-0.42207354059350805,0.7376951317802901,-0.7376951317802901,-1.6147097105649404,2.0745051044939435,-0.311914476089342,-1.219256412363287\\n-1.2402346927140597,-0.7892723355548015,0.8273772438659699,-0.47454519624983954,-0.4736736092984604,-0.49237782784290063,0.7376951317802901,-0.7376951317802901,-1.6147097105649404,-0.4820426798824101,3.20600702005754,2.174187e-16\\n-1.2363468096647994,1.266989801811655,0.8273772438659699,-0.47454519624983954,-0.4736736092984604,-0.5046257580584992,0.7376951317802901,-0.7376951317802901,0.6193063641452488,-0.4820426798824101,-0.311914476089342,-0.3926006863479967\\n-1.232458926615539,1.266989801811655,0.8273772438659699,0.4327933656785018,0.7676298785983874,-0.19824427701513722,-1.3555735383351195,1.3555735383351193,-1.6147097105649404,2.0745051044939435,-0.311914476089342,2.174187e-16\\n-1.2285710435662787,-0.7892723355548015,0.8273772438659699,-0.47454519624983954,-0.4736736092984604,-0.5079822104125026,0.7376951317802901,-0.7376951317802901,0.6193063641452488,-0.4820426798824101,-0.311914476089342,1.054046834178761\\n-1.2246831605170183,-0.7892723355548015,0.8273772438659699,-0.47454519624983954,-0.4736736092984604,-0.4894421904510968,0.7376951317802901,-0.7376951317802901,-1.6147097105649404,2.0745051044939435,-0.311914476089342,0.22739110816347086\\n-1.220795277467758,-0.7892723355548015,0.8273772438659699,-0.47454519624983954,-0.4736736092984604,-0.5064721088735089,0.7376951317802901,-0.7376951317802901,0.6193063641452488,-0.4820426798824101,-0.311914476089342,-0.6681525950197601\\n-1.2169073944184976,-0.7892723355548015,0.8273772438659699,0.4327933656785018,-0.4736736092984604,-0.35646868933346404,-1.3555735383351195,1.3555735383351193,0.6193063641452488,-0.4820426798824101,-0.311914476089342,1.1918227885146426\\n-1.213019511369237,1.266989801811655,-0.3693648410115938,0.4327933656785018,-0.4736736092984604,-0.12491978668775715,-1.3555735383351195,1.3555735383351193,0.6193063641452488,-0.4820426798824101,-0.311914476089342,-0.04816080050829252\\n-1.2091316283199767,-0.7892723355548015,-0.3693648410115938,-0.47454519624983954,-0.4736736092984604,-0.3866707201133388,0.7376951317802901,-0.7376951317802901,0.6193063641452488,-0.4820426798824101,-0.311914476089342,-0.3237127091800559\\n-1.2052437452707163,-0.7892723355548015,-0.3693648410115938,-0.47454519624983954,-0.4736736092984604,-0.3454791770670269,0.7376951317802901,-0.7376951317802901,-1.6147097105649404,2.0745051044939435,-0.311914476089342,-0.4614886635159376\\n-1.201355862221456,1.266989801811655,-1.5661069258891576,-0.47454519624983954,2.0089333664952354,-0.11921562980779811,-1.3555735383351195,1.3555735383351193,0.6193063641452488,-0.4820426798824101,-0.311914476089342,-0.7370405721877009\\n-1.1974679791721956,-0.7892723355548015,-1.5661069258891576,0.4327933656785018,-0.4736736092984604,0.4207302360686478,0.7376951317802901,-0.7376951317802901,0.6193063641452488,-0.4820426798824101,-0.311914476089342,0.5029430168352342\\n-1.1935800961229353,-0.7892723355548015,0.8273772438659699,-0.47454519624983954,-0.4736736092984604,-0.4628462821463391,0.7376951317802901,-0.7376951317802901,0.6193063641452488,-0.4820426798824101,-0.311914476089342,-0.9437045036915235\\n-1.189692213073675,-0.7892723355548015,-1.5661069258891576,-0.47454519624983954,-0.4736736092984604,0.9462455716384695,0.7376951317802901,-0.7376951317802901,-1.6147097105649404,2.0745051044939435,-0.311914476089342,-0.3926006863479967\\n-1.1858043300244145,-0.7892723355548015,0.8273772438659699,-0.47454519624983954,2.0089333664952354,-0.3414522396297103,-1.3555735383351195,1.3555735383351193,-1.6147097105649404,2.0745051044939435,-0.311914476089342,2.174187e-16\\n-1.1819164469751542,1.266989801811655,0.8273772438659699,-0.47454519624983954,-0.4736736092984604,-0.49237782784290063,-1.3555735383351195,1.3555735383351193,0.6193063641452488,-0.4820426798824101,-0.311914476089342,-0.5303766406838785\\n-1.1780285639258938,1.266989801811655,0.8273772438659699,0.4327933656785018,-0.4736736092984604,-0.32928686163157667,-1.3555735383351195,1.3555735383351193,0.6193063641452488,-0.4820426798824101,-0.311914476089342,-0.3926006863479967\\n-1.1741406808766333,-0.7892723355548015,0.8273772438659699,-0.47454519624983954,-0.4736736092984604,-0.5125125150294839,0.7376951317802901,-0.7376951317802901,-1.6147097105649404,-0.4820426798824101,3.20600702005754,-0.7370405721877009\\n-1.170252797827373,-0.7892723355548015,-0.3693648410115938,-0.47454519624983954,-0.4736736092984604,-0.41687275089321363,0.7376951317802901,-0.7376951317802901,0.6193063641452488,-0.4820426798824101,-0.311914476089342,-0.8059285493556418\\n-1.1663649147781125,-0.7892723355548015,-0.3693648410115938,0.4327933656785018,0.7676298785983874,0.09152810056801232,0.7376951317802901,-0.7376951317802901,0.6193063641452488,-0.4820426798824101,-0.311914476089342,-0.7370405721877009\\n-1.1624770317288522,1.266989801811655,0.8273772438659699,-0.47454519624983954,-0.4736736092984604,-0.49145565916975514,0.7376951317802901,-0.7376951317802901,0.6193063641452488,-0.4820426798824101,-0.311914476089342,-0.1859367548441742\\n-1.1585891486795918,-0.7892723355548015,0.8273772438659699,1.340131927606843,2.0089333664952354,0.04370821849987721,-1.3555735383351195,1.3555735383351193,0.6193063641452488,-0.4820426798824101,-0.311914476089342,-1.4259203438671093\\n-1.1547012656303315,-0.7892723355548015,-0.3693648410115938,-0.47454519624983954,2.0089333664952354,-0.12491978668775715,0.7376951317802901,-0.7376951317802901,0.6193063641452488,-0.4820426798824101,-0.311914476089342,0.4684990282512638\\n-1.1508133825810711,-0.7892723355548015,-0.3693648410115938,-0.47454519624983954,-0.4736736092984604,-0.3866707201133388,0.7376951317802901,-0.7376951317802901,0.6193063641452488,-0.4820426798824101,-0.311914476089342,0.8473829026749384\\n-1.1469254995318108,-0.7892723355548015,-0.3693648410115938,-0.47454519624983954,-0.4736736092984604,-0.39623469652696586,0.7376951317802901,-0.7376951317802901,0.6193063641452488,-0.4820426798824101,-0.311914476089342,1.4673746971864061\\n-1.1430376164825504,1.266989801811655,-1.5661069258891576,0.4327933656785018,-0.4736736092984604,0.6925485130875209,-1.3555735383351195,1.3555735383351193,0.6193063641452488,-0.4820426798824101,-0.311914476089342,-0.5303766406838785\\n-1.13914973343329,-0.7892723355548015,0.8273772438659699,-0.47454519624983954,-0.4736736092984604,-0.4863374216869257,0.7376951317802901,-0.7376951317802901,0.6193063641452488,-0.4820426798824101,-0.311914476089342,1.7773705944421399\\n-1.1352618503840297,-0.7892723355548015,0.8273772438659699,-0.47454519624983954,2.0089333664952354,-0.35646868933346404,0.7376951317802901,-0.7376951317802901,0.6193063641452488,-0.4820426798824101,-0.311914476089342,0.7440509369230272\\n-1.1313739673347691,-0.7892723355548015,0.8273772438659699,-0.47454519624983954,-0.4736736092984604,-0.5011867534870308,0.7376951317802901,-0.7376951317802901,0.6193063641452488,-0.4820426798824101,-0.311914476089342,2.174187e-16\\n-1.1274860842855088,-0.7892723355548015,-1.5661069258891576,-0.47454519624983954,0.7676298785983874,0.5874293382238074,0.7376951317802901,-0.7376951317802901,-1.6147097105649404,2.0745051044939435,-0.311914476089342,1.4673746971864061\\n-1.1235982012362484,1.266989801811655,0.8273772438659699,-0.47454519624983954,-0.4736736092984604,-0.49271407711891657,-1.3555735383351195,1.3555735383351193,-1.6147097105649404,-0.4820426798824101,3.20600702005754,-0.9437045036915235\\n-1.119710318186988,-0.7892723355548015,0.8273772438659699,-0.47454519624983954,-0.4736736092984604,-0.4863374216869257,0.7376951317802901,-0.7376951317802901,0.6193063641452488,-0.4820426798824101,-0.311914476089342,0.020727176659648322\\n-1.1158224351377277,-0.7892723355548015,0.8273772438659699,-0.47454519624983954,-0.4736736092984604,-0.47400492578514347,0.7376951317802901,-0.7376951317802901,0.6193063641452488,-0.4820426798824101,-0.311914476089342,2.174187e-16\\n-1.1119345520884674,-0.7892723355548015,0.8273772438659699,6.784163299176891,2.0089333664952354,0.7519458402879414,0.7376951317802901,-0.7376951317802901,0.6193063641452488,-0.4820426798824101,-0.311914476089342,2.174187e-16\\n-1.108046669039207,-0.7892723355548015,0.8273772438659699,-0.47454519624983954,0.7676298785983874,-0.32425318983493084,0.7376951317802901,-0.7376951317802901,0.6193063641452488,-0.4820426798824101,-0.311914476089342,0.9851588570108202\\n-1.1041587859899467,1.266989801811655,-0.3693648410115938,-0.47454519624983954,-0.4736736092984604,-0.331300330350235,-1.3555735383351195,1.3555735383351193,0.6193063641452488,-0.4820426798824101,-0.311914476089342,0.7096069483390568\\n-1.1002709029406863,-0.7892723355548015,0.8273772438659699,-0.47454519624983954,-0.4736736092984604,-0.4918744606632361,0.7376951317802901,-0.7376951317802901,0.6193063641452488,-0.4820426798824101,-0.311914476089342,-0.25482473201211503\\n-1.096383019891426,-0.7892723355548015,0.8273772438659699,-0.47454519624983954,-0.4736736092984604,-0.47400492578514347,0.7376951317802901,-0.7376951317802901,0.6193063641452488,-0.4820426798824101,-0.311914476089342,-0.8748165265235827\\n-1.0924951368421656,-0.7892723355548015,0.8273772438659699,3.1548090514635256,0.7676298785983874,0.1506737441786005,0.7376951317802901,-0.7376951317802901,0.6193063641452488,-0.4820426798824101,-0.311914476089342,-1.977024161210636\\n-1.088607253792905,1.266989801811655,0.8273772438659699,-0.47454519624983954,2.0089333664952354,-0.2351571990343002,0.7376951317802901,-0.7376951317802901,0.6193063641452488,-0.4820426798824101,-0.311914476089342,-1.4259203438671093\\n-1.0847193707436447,1.266989801811655,-1.5661069258891576,-0.47454519624983954,0.7676298785983874,0.4589861417231558,-1.3555735383351195,1.3555735383351193,0.6193063641452488,-0.4820426798824101,-0.311914476089342,2.174187e-16\\n-1.0808314876943843,-0.7892723355548015,0.8273772438659699,0.4327933656785018,4.491540342288931,-0.08666388103324908,-1.3555735383351195,1.3555735383351193,0.6193063641452488,-0.4820426798824101,-0.311914476089342,1.054046834178761\\n-1.076943604645124,-0.7892723355548015,-1.5661069258891576,-0.47454519624983954,-0.4736736092984604,-0.12642988822675086,0.7376951317802901,-0.7376951317802901,0.6193063641452488,-0.4820426798824101,-0.311914476089342,2.174187e-16\\n-1.0730557215958636,-0.7892723355548015,0.8273772438659699,-0.47454519624983954,-0.4736736092984604,0.48910360681684706,0.7376951317802901,-0.7376951317802901,0.6193063641452488,-0.4820426798824101,-0.311914476089342,-0.11704877767623337\\n-1.0691678385466032,-0.7892723355548015,-1.5661069258891576,-0.47454519624983954,-0.4736736092984604,0.026090367211616904,0.7376951317802901,-0.7376951317802901,0.6193063641452488,-0.4820426798824101,-0.311914476089342,2.1562544688658143\\n-1.065279955497343,-0.7892723355548015,0.8273772438659699,3.1548090514635256,0.7676298785983874,-0.06199888922968463,0.7376951317802901,-0.7376951317802901,-1.6147097105649404,-0.4820426798824101,3.20600702005754,-1.7703602297068137\\n-1.0613920724480825,1.266989801811655,0.8273772438659699,0.4327933656785018,0.7676298785983874,-0.4242561406845337,-1.3555735383351195,1.3555735383351193,0.6193063641452488,-0.4820426798824101,-0.311914476089342,-1.977024161210636\\n-1.0575041893988222,-0.7892723355548015,0.8273772438659699,-0.47454519624983954,-0.4736736092984604,-0.4888542575852486,0.7376951317802901,-0.7376951317802901,0.6193063641452488,-0.4820426798824101,-0.311914476089342,-0.5992646178518193\\n-1.0536163063495618,-0.7892723355548015,-1.5661069258891576,-0.47454519624983954,-0.4736736092984604,-0.030371322596999754,0.7376951317802901,-0.7376951317802901,-1.6147097105649404,2.0745051044939435,-0.311914476089342,1.8118145830261103\\n-1.0497284233003012,-0.7892723355548015,0.8273772438659699,0.4327933656785018,0.7676298785983874,-0.4902797934380587,0.7376951317802901,-0.7376951317802901,0.6193063641452488,-0.4820426798824101,-0.311914476089342,-0.8059285493556418\\n-1.045840540251041,-0.7892723355548015,0.8273772438659699,2.2474704895351842,0.7676298785983874,-0.13565761536436197,0.7376951317802901,-0.7376951317802901,0.6193063641452488,-0.4820426798824101,-0.311914476089342,2.174187e-16\\n-1.0419526572017805,-0.7892723355548015,-1.5661069258891576,-0.47454519624983954,-0.4736736092984604,-0.07030444769415023,-1.3555735383351195,1.3555735383351193,-1.6147097105649404,2.0745051044939435,-0.311914476089342,1.3984867200184652\\n-1.0380647741525202,-0.7892723355548015,-0.3693648410115938,-0.47454519624983954,-0.4736736092984604,-0.3866707201133388,0.7376951317802901,-0.7376951317802901,0.6193063641452488,-0.4820426798824101,-0.311914476089342,0.020727176659648322\\n-1.0341768911032598,-0.7892723355548015,0.8273772438659699,-0.47454519624983954,-0.4736736092984604,-0.6484216535389205,0.7376951317802901,-0.7376951317802901,0.6193063641452488,-0.4820426798824101,-0.311914476089342,0.43405503966729336\\n-1.0302890080539995,-0.7892723355548015,0.8273772438659699,6.784163299176891,2.0089333664952354,0.7519458402879414,-1.3555735383351195,1.3555735383351193,0.6193063641452488,-0.4820426798824101,-0.311914476089342,2.174187e-16\\n-1.0264011250047391,-0.7892723355548015,-0.3693648410115938,-0.47454519624983954,-0.4736736092984604,-0.34539461138084326,0.7376951317802901,-0.7376951317802901,-1.6147097105649404,2.0745051044939435,-0.311914476089342,2.174187e-16\\n-1.0225132419554788,-0.7892723355548015,0.8273772438659699,3.1548090514635256,2.0089333664952354,-0.016444159470040135,0.7376951317802901,-0.7376951317802901,0.6193063641452488,-0.4820426798824101,-0.311914476089342,-1.4259203438671093\\n-1.0186253589062184,1.266989801811655,-0.3693648410115938,1.340131927606843,0.7676298785983874,0.13683114673782454,0.7376951317802901,-0.7376951317802901,0.6193063641452488,-0.4820426798824101,-0.311914476089342,-1.977024161210636\\n-1.014737475856958,1.266989801811655,0.8273772438659699,-0.47454519624983954,2.0089333664952354,-0.20495516825442542,-1.3555735383351195,1.3555735383351193,0.6193063641452488,-0.4820426798824101,-0.311914476089342,-1.7703602297068137\\n-1.0108495928076977,-0.7892723355548015,-1.5661069258891576,-0.47454519624983954,-0.4736736092984604,0.3583127057902398,0.7376951317802901,-0.7376951317802901,0.6193063641452488,-0.4820426798824101,-0.311914476089342,2.174187e-16\\n-1.0069617097584371,1.266989801811655,0.8273772438659699,0.4327933656785018,-0.4736736092984604,-0.3363340021468808,-1.3555735383351195,1.3555735383351193,-1.6147097105649404,-0.4820426798824101,3.20600702005754,2.174187e-16\\n-1.0030738267091768,1.266989801811655,-1.5661069258891576,-0.47454519624983954,-0.4736736092984604,-0.11384570873513637,0.7376951317802901,-0.7376951317802901,0.6193063641452488,-0.4820426798824101,-0.311914476089342,1.054046834178761\\n-0.9991859436599165,-0.7892723355548015,0.8273772438659699,0.4327933656785018,0.7676298785983874,-0.3363340021468808,0.7376951317802901,-0.7376951317802901,-1.6147097105649404,-0.4820426798824101,3.20600702005754,0.7096069483390568\\n-0.9952980606106561,-0.7892723355548015,0.8273772438659699,-0.47454519624983954,-0.4736736092984604,-0.4894421904510968,0.7376951317802901,-0.7376951317802901,0.6193063641452488,-0.4820426798824101,-0.311914476089342,0.43405503966729336\\n-0.9914101775613957,1.266989801811655,-0.3693648410115938,-0.47454519624983954,-0.4736736092984604,-0.3866707201133388,-1.3555735383351195,1.3555735383351193,0.6193063641452488,-0.4820426798824101,-0.311914476089342,0.15850313099553\\n-0.9875222945121354,-0.7892723355548015,-0.3693648410115938,-0.47454519624983954,-0.4736736092984604,-0.3866707201133388,0.7376951317802901,-0.7376951317802901,0.6193063641452488,-0.4820426798824101,-0.311914476089342,-0.7370405721877009\\n-0.983634411462875,1.266989801811655,0.8273772438659699,0.4327933656785018,-0.4736736092984604,-0.4902797934380587,-1.3555735383351195,1.3555735383351193,0.6193063641452488,-0.4820426798824101,-0.311914476089342,-0.7370405721877009\\n-0.9797465284136146,1.266989801811655,-0.3693648410115938,0.4327933656785018,0.7676298785983874,-0.12491978668775715,0.7376951317802901,-0.7376951317802901,0.6193063641452488,-0.4820426798824101,-0.311914476089342,-1.8392482068747544\\n-0.9758586453643542,1.266989801811655,-1.5661069258891576,-0.47454519624983954,-0.4736736092984604,-0.09027201697708476,-1.3555735383351195,1.3555735383351193,-1.6147097105649404,2.0745051044939435,-0.311914476089342,0.9851588570108202\\n-0.9719707623150938,1.266989801811655,-1.5661069258891576,-0.47454519624983954,-0.4736736092984604,2.301728820789,-1.3555735383351195,1.3555735383351193,-1.6147097105649404,2.0745051044939435,-0.311914476089342,1.949590537361992\\n-0.9680828792658335,-0.7892723355548015,0.8273772438659699,-0.47454519624983954,-0.4736736092984604,-0.49237782784290063,0.7376951317802901,-0.7376951317802901,-1.6147097105649404,-0.4820426798824101,3.20600702005754,2.174187e-16\\n-0.9641949962165731,-0.7892723355548015,0.8273772438659699,-0.47454519624983954,0.7676298785983874,-0.47920571548543794,0.7376951317802901,-0.7376951317802901,0.6193063641452488,-0.4820426798824101,-0.311914476089342,0.8473829026749384\\n-0.9603071131673128,1.266989801811655,0.8273772438659699,-0.47454519624983954,-0.4736736092984604,-0.49237782784290063,-1.3555735383351195,1.3555735383351193,-1.6147097105649404,-0.4820426798824101,3.20600702005754,2.174187e-16\\n-0.9564192301180523,-0.7892723355548015,-0.3693648410115938,-0.47454519624983954,-0.4736736092984604,-0.3866707201133388,-1.3555735383351195,1.3555735383351193,0.6193063641452488,-0.4820426798824101,-0.311914476089342,-0.3926006863479967\\n-0.952531347068792,-0.7892723355548015,0.8273772438659699,-0.47454519624983954,-0.4736736092984604,-0.45714212526638004,0.7376951317802901,-0.7376951317802901,0.6193063641452488,-0.4820426798824101,-0.311914476089342,-0.11704877767623337\\n-0.9486434640195316,-0.7892723355548015,0.8273772438659699,6.784163299176891,2.0089333664952354,0.7519458402879414,0.7376951317802901,-0.7376951317802901,0.6193063641452488,-0.4820426798824101,-0.311914476089342,2.174187e-16\\n-0.9447555809702712,-0.7892723355548015,0.8273772438659699,-0.47454519624983954,-0.4736736092984604,-0.5176307525123133,0.7376951317802901,-0.7376951317802901,0.6193063641452488,-0.4820426798824101,-0.311914476089342,0.2962790853314117\\n-0.9408676979210109,-0.7892723355548015,0.8273772438659699,-0.47454519624983954,-0.4736736092984604,-0.5029485386158568,0.7376951317802901,-0.7376951317802901,-1.6147097105649404,2.0745051044939435,-0.311914476089342,1.0884908227627315\\n-0.9369798148717504,1.266989801811655,0.8273772438659699,-0.47454519624983954,-0.4736736092984604,-0.4863374216869257,0.7376951317802901,-0.7376951317802901,0.6193063641452488,-0.4820426798824101,-0.311914476089342,-0.8059285493556418\\n-0.9330919318224901,-0.7892723355548015,0.8273772438659699,-0.47454519624983954,0.7676298785983874,-0.43776248884929375,-1.3555735383351195,1.3555735383351193,0.6193063641452488,-0.4820426798824101,-0.311914476089342,-1.9081361840426954\\n-0.9292040487732297,-0.7892723355548015,0.8273772438659699,0.4327933656785018,-0.4736736092984604,-0.32928686163157667,0.7376951317802901,-0.7376951317802901,0.6193063641452488,-0.4820426798824101,-0.311914476089342,0.15850313099553\\n-0.9253161657239694,1.266989801811655,0.8273772438659699,-0.47454519624983954,-0.4736736092984604,-0.2701412180209885,0.7376951317802901,-0.7376951317802901,-1.6147097105649404,2.0745051044939435,-0.311914476089342,-0.25482473201211503\\n-0.921428282674709,1.266989801811655,0.8273772438659699,-0.47454519624983954,-0.4736736092984604,-0.49237782784290063,-1.3555735383351195,1.3555735383351193,-1.6147097105649404,-0.4820426798824101,3.20600702005754,-0.9437045036915235\\n-0.9175403996254486,1.266989801811655,-1.5661069258891576,-0.47454519624983954,-0.4736736092984604,-0.024246350754841113,0.7376951317802901,-0.7376951317802901,-1.6147097105649404,2.0745051044939435,-0.311914476089342,0.7096069483390568\\n-0.9136525165761882,-0.7892723355548015,0.8273772438659699,-0.47454519624983954,-0.4736736092984604,-0.5064721088735089,0.7376951317802901,-0.7376951317802901,0.6193063641452488,-0.4820426798824101,-0.311914476089342,-0.3926006863479967\\n-0.9097646335269278,1.266989801811655,-0.3693648410115938,-0.47454519624983954,-0.4736736092984604,-0.22559322262067316,-1.3555735383351195,1.3555735383351193,0.6193063641452488,-0.4820426798824101,-0.311914476089342,0.36516706249935255\\n-0.9058767504776675,-0.7892723355548015,0.8273772438659699,-0.47454519624983954,-0.4736736092984604,-0.5024451714361923,0.7376951317802901,-0.7376951317802901,0.6193063641452488,-0.4820426798824101,-0.311914476089342,-0.5303766406838785\\n-0.9019888674284071,-0.7892723355548015,-0.3693648410115938,-0.47454519624983954,-0.4736736092984604,-0.3866707201133388,0.7376951317802901,-0.7376951317802901,0.6193063641452488,-0.4820426798824101,-0.311914476089342,0.020727176659648322\\n-0.8981009843791468,-0.7892723355548015,0.8273772438659699,0.4327933656785018,-0.4736736092984604,-0.49237782784290063,0.7376951317802901,-0.7376951317802901,-1.6147097105649404,-0.4820426798824101,3.20600702005754,2.174187e-16\\n-0.8942131013298863,1.266989801811655,-1.5661069258891576,0.4327933656785018,-0.4736736092984604,1.6323350375212924,-1.3555735383351195,1.3555735383351193,-1.6147097105649404,2.0745051044939435,-0.311914476089342,0.08961515382758917\\n-0.8903252182806259,1.266989801811655,0.8273772438659699,-0.47454519624983954,-0.4736736092984604,-0.4888542575852486,-1.3555735383351195,1.3555735383351193,0.6193063641452488,-0.4820426798824101,-0.311914476089342,-0.1859367548441742\\n-0.8864373352313656,-0.7892723355548015,-0.3693648410115938,0.4327933656785018,-0.4736736092984604,-0.10478509950117394,0.7376951317802901,-0.7376951317802901,0.6193063641452488,-0.4820426798824101,-0.311914476089342,0.8473829026749384\\n-0.8825494521821052,1.266989801811655,-1.5661069258891576,-0.47454519624983954,-0.4736736092984604,0.8876878608937296,-1.3555735383351195,1.3555735383351193,-1.6147097105649404,2.0745051044939435,-0.311914476089342,0.15850313099553\\n-0.8786615691328449,-0.7892723355548015,-0.3693648410115938,-0.47454519624983954,-0.4736736092984604,-0.43700743807979686,0.7376951317802901,-0.7376951317802901,0.6193063641452488,-0.4820426798824101,-0.311914476089342,0.020727176659648322\\n-0.8747736860835844,1.266989801811655,0.8273772438659699,-0.47454519624983954,-0.4736736092984604,-0.4863374216869257,0.7376951317802901,-0.7376951317802901,0.6193063641452488,-0.4820426798824101,-0.311914476089342,-0.9437045036915235\\n-0.8708858030343241,-0.7892723355548015,-0.3693648410115938,-0.47454519624983954,-0.4736736092984604,-0.3866707201133388,0.7376951317802901,-0.7376951317802901,0.6193063641452488,-0.4820426798824101,-0.311914476089342,-0.1859367548441742\\n-0.8669979199850637,-0.7892723355548015,0.8273772438659699,-0.47454519624983954,-0.4736736092984604,-0.4863374216869257,0.7376951317802901,-0.7376951317802901,0.6193063641452488,-0.4820426798824101,-0.311914476089342,1.4673746971864061\\n-0.8631100369358033,-0.7892723355548015,0.8273772438659699,-0.47454519624983954,-0.4736736092984604,-0.4894421904510968,0.7376951317802901,-0.7376951317802901,0.6193063641452488,-0.4820426798824101,-0.311914476089342,2.174187e-16\\n-0.859222153886543,1.266989801811655,-1.5661069258891576,0.4327933656785018,-0.4736736092984604,1.163700193253568,0.7376951317802901,-0.7376951317802901,0.6193063641452488,-0.4820426798824101,-0.311914476089342,0.571830994003175\\n-0.8553342708372826,-0.7892723355548015,0.8273772438659699,-0.47454519624983954,-0.4736736092984604,-0.4601623283443675,0.7376951317802901,-0.7376951317802901,0.6193063641452488,-0.4820426798824101,-0.311914476089342,-0.5303766406838785\\n-0.8514463877880222,1.266989801811655,-0.3693648410115938,-0.47454519624983954,-0.4736736092984604,-0.43700743807979686,0.7376951317802901,-0.7376951317802901,0.6193063641452488,-0.4820426798824101,-0.311914476089342,-0.7370405721877009\\n-0.8475585047387618,-0.7892723355548015,0.8273772438659699,-0.47454519624983954,-0.4736736092984604,-0.5024451714361923,0.7376951317802901,-0.7376951317802901,0.6193063641452488,-0.4820426798824101,-0.311914476089342,-0.6337086064357897\\n-0.8436706216895015,-0.7892723355548015,-0.3693648410115938,-0.47454519624983954,-0.4736736092984604,-0.3866707201133388,0.7376951317802901,-0.7376951317802901,0.6193063641452488,-0.4820426798824101,-0.311914476089342,-0.8059285493556418\\n-0.8397827386402411,-0.7892723355548015,0.8273772438659699,2.2474704895351842,0.7676298785983874,-0.13565761536436197,-1.3555735383351195,1.3555735383351193,0.6193063641452488,-0.4820426798824101,-0.311914476089342,2.174187e-16\\n-0.8358948555909808,1.266989801811655,-1.5661069258891576,0.4327933656785018,-0.4736736092984604,1.0323213593611125,-1.3555735383351195,1.3555735383351193,0.6193063641452488,-0.4820426798824101,-0.311914476089342,0.36516706249935255\\n-0.8320069725417203,-0.7892723355548015,0.8273772438659699,-0.47454519624983954,-0.4736736092984604,-0.4918744606632361,0.7376951317802901,-0.7376951317802901,0.6193063641452488,-0.4820426798824101,-0.311914476089342,-0.04816080050829252\\n-0.8281190894924599,-0.7892723355548015,-0.3693648410115938,-0.47454519624983954,-0.4736736092984604,-0.3766033765200472,0.7376951317802901,-0.7376951317802901,0.6193063641452488,-0.4820426798824101,-0.311914476089342,2.018478514529933\\n-0.8242312064431996,1.266989801811655,0.8273772438659699,3.1548090514635256,2.0089333664952354,-0.016444159470040135,-1.3555735383351195,1.3555735383351193,0.6193063641452488,-0.4820426798824101,-0.311914476089342,-1.7014722525388728\\n-0.8203433233939392,-0.7892723355548015,-0.3693648410115938,-0.47454519624983954,-0.4736736092984604,-0.43700743807979686,0.7376951317802901,-0.7376951317802901,0.6193063641452488,-0.4820426798824101,-0.311914476089342,-0.3926006863479967\\n-0.8164554403446789,-0.7892723355548015,0.8273772438659699,-0.47454519624983954,-0.4736736092984604,-0.49640476528021726,-1.3555735383351195,1.3555735383351193,0.6193063641452488,-0.4820426798824101,-0.311914476089342,2.174187e-16\\n-0.8125675572954184,-0.7892723355548015,-0.3693648410115938,0.4327933656785018,-0.4736736092984604,-0.12491978668775715,0.7376951317802901,-0.7376951317802901,0.6193063641452488,-0.4820426798824101,-0.311914476089342,0.9851588570108202\\n-0.808679674246158,1.266989801811655,-0.3693648410115938,-0.47454519624983954,2.0089333664952354,-0.11988611489111134,-1.3555735383351195,1.3555735383351193,0.6193063641452488,-0.4820426798824101,-0.311914476089342,-1.4948083210350502\\n-0.8047917911968977,-0.7892723355548015,-0.3693648410115938,-0.47454519624983954,-0.4736736092984604,-0.43700743807979686,0.7376951317802901,-0.7376951317802901,0.6193063641452488,-0.4820426798824101,-0.311914476089342,-0.7370405721877009\\n-0.8009039081476373,-0.7892723355548015,-0.3693648410115938,-0.47454519624983954,-0.4736736092984604,-0.4012683683236117,0.7376951317802901,-0.7376951317802901,0.6193063641452488,-0.4820426798824101,-0.311914476089342,0.22739110816347086\\n-0.797016025098377,-0.7892723355548015,0.8273772438659699,0.4327933656785018,-0.4736736092984604,-0.3573908580066095,-1.3555735383351195,1.3555735383351193,-1.6147097105649404,2.0745051044939435,-0.311914476089342,2.174187e-16\\n-0.7931281420491166,1.266989801811655,0.8273772438659699,0.4327933656785018,-0.4736736092984604,-0.3363340021468808,-1.3555735383351195,1.3555735383351193,-1.6147097105649404,-0.4820426798824101,3.20600702005754,2.174187e-16\\n-0.7892402589998562,-0.7892723355548015,-0.3693648410115938,-0.47454519624983954,-0.4736736092984604,-0.43700743807979686,0.7376951317802901,-0.7376951317802901,0.6193063641452488,-0.4820426798824101,-0.311914476089342,-0.04816080050829252\\n-0.7853523759505958,-0.7892723355548015,0.8273772438659699,-0.47454519624983954,-0.4736736092984604,-0.5049620073345151,0.7376951317802901,-0.7376951317802901,0.6193063641452488,-0.4820426798824101,-0.311914476089342,-0.5303766406838785\\n-0.7814644929013355,-0.7892723355548015,0.8273772438659699,-0.47454519624983954,-0.4736736092984604,-0.5029485386158568,0.7376951317802901,-0.7376951317802901,-1.6147097105649404,2.0745051044939435,-0.311914476089342,0.020727176659648322\\n-0.7775766098520751,-0.7892723355548015,-1.5661069258891576,1.340131927606843,-0.4736736092984604,1.163700193253568,0.7376951317802901,-0.7376951317802901,-1.6147097105649404,-0.4820426798824101,3.20600702005754,0.9851588570108202\\n-0.7736887268028148,-0.7892723355548015,0.8273772438659699,-0.47454519624983954,-0.4736736092984604,-0.4918744606632361,-1.3555735383351195,1.3555735383351193,0.6193063641452488,-0.4820426798824101,-0.311914476089342,-0.3237127091800559\\n-0.7698008437535543,1.266989801811655,-0.3693648410115938,-0.47454519624983954,2.0089333664952354,-0.35646868933346404,-1.3555735383351195,1.3555735383351193,0.6193063641452488,-0.4820426798824101,-0.311914476089342,-0.3926006863479967\\n-0.7659129607042939,1.266989801811655,-1.5661069258891576,0.4327933656785018,0.7676298785983874,0.40974072380221066,0.7376951317802901,-0.7376951317802901,0.6193063641452488,-0.4820426798824101,-0.311914476089342,0.5029430168352342\\n-0.7620250776550336,-0.7892723355548015,-0.3693648410115938,0.4327933656785018,-0.4736736092984604,-0.12491978668775715,0.7376951317802901,-0.7376951317802901,0.6193063641452488,-0.4820426798824101,-0.311914476089342,1.6740386286902287\\n-0.7581371946057732,-0.7892723355548015,0.8273772438659699,-0.47454519624983954,-0.4736736092984604,-0.5024451714361923,0.7376951317802901,-0.7376951317802901,0.6193063641452488,-0.4820426798824101,-0.311914476089342,2.174187e-16\\n-0.7542493115565129,-0.7892723355548015,0.8273772438659699,0.4327933656785018,0.7676298785983874,-0.43776248884929375,-1.3555735383351195,1.3555735383351193,0.6193063641452488,-0.4820426798824101,-0.311914476089342,-0.04816080050829252\\n-0.7503614285072524,-0.7892723355548015,-1.5661069258891576,-0.47454519624983954,-0.4736736092984604,-0.11384570873513637,0.7376951317802901,-0.7376951317802901,0.6193063641452488,-0.4820426798824101,-0.311914476089342,2.225142446033755\\n-0.746473545457992,-0.7892723355548015,0.8273772438659699,0.4327933656785018,-0.4736736092984604,-0.32425318983493084,0.7376951317802901,-0.7376951317802901,0.6193063641452488,-0.4820426798824101,-0.311914476089342,0.020727176659648322\\n-0.7425856624087317,-0.7892723355548015,0.8273772438659699,-0.47454519624983954,2.0089333664952354,-0.2414492887801075,-1.3555735383351195,1.3555735383351193,0.6193063641452488,-0.4820426798824101,-0.311914476089342,0.7784949255069976\\n-0.7386977793594713,1.266989801811655,0.8273772438659699,-0.47454519624983954,2.0089333664952354,-0.3414522396297103,-1.3555735383351195,1.3555735383351193,-1.6147097105649404,2.0745051044939435,-0.311914476089342,-0.04816080050829252\\n-0.734809896310211,1.266989801811655,-1.5661069258891576,-0.47454519624983954,-0.4736736092984604,0.9462455716384695,-1.3555735383351195,1.3555735383351193,-1.6147097105649404,2.0745051044939435,-0.311914476089342,2.174187e-16\\n-0.7309220132609505,1.266989801811655,-1.5661069258891576,-0.47454519624983954,-0.4736736092984604,1.093228788100527,-1.3555735383351195,1.3555735383351193,0.6193063641452488,-0.4820426798824101,-0.311914476089342,0.020727176659648322\\n-0.7270341302116902,1.266989801811655,-1.5661069258891576,-0.47454519624983954,-0.4736736092984604,9.667166525013505,-1.3555735383351195,1.3555735383351193,-1.6147097105649404,2.0745051044939435,-0.311914476089342,0.36516706249935255\\n-0.7231462471624298,1.266989801811655,-0.3693648410115938,-0.47454519624983954,0.7676298785983874,-0.12491978668775715,-1.3555735383351195,1.3555735383351193,0.6193063641452488,-0.4820426798824101,-0.311914476089342,1.3984867200184652\\n-0.7192583641131695,-0.7892723355548015,0.8273772438659699,-0.47454519624983954,-0.4736736092984604,-0.49237782784290063,0.7376951317802901,-0.7376951317802901,-1.6147097105649404,-0.4820426798824101,3.20600702005754,2.174187e-16\\n-0.7153704810639091,1.266989801811655,0.8273772438659699,3.1548090514635256,2.0089333664952354,-0.016444159470040135,0.7376951317802901,-0.7376951317802901,0.6193063641452488,-0.4820426798824101,-0.311914476089342,-1.8392482068747544\\n-0.7114825980146487,-0.7892723355548015,-1.5661069258891576,0.4327933656785018,0.7676298785983874,0.955306180872432,0.7376951317802901,-0.7376951317802901,0.6193063641452488,-0.4820426798824101,-0.311914476089342,1.5362626743543468\\n-0.7075947149653883,-0.7892723355548015,-1.5661069258891576,-0.47454519624983954,-0.4736736092984604,-0.6484216535389205,0.7376951317802901,-0.7376951317802901,0.6193063641452488,-0.4820426798824101,-0.311914476089342,0.7096069483390568\\n-0.7037068319161279,-0.7892723355548015,0.8273772438659699,-0.47454519624983954,-0.4736736092984604,-0.49237782784290063,-1.3555735383351195,1.3555735383351193,-1.6147097105649404,-0.4820426798824101,3.20600702005754,2.174187e-16\\n-0.6998189488668676,-0.7892723355548015,-0.3693648410115938,-0.47454519624983954,-0.4736736092984604,-0.43700743807979686,0.7376951317802901,-0.7376951317802901,0.6193063641452488,-0.4820426798824101,-0.311914476089342,0.43405503966729336\\n-0.6959310658176072,-0.7892723355548015,0.8273772438659699,3.1548090514635256,0.7676298785983874,0.1506737441786005,0.7376951317802901,-0.7376951317802901,0.6193063641452488,-0.4820426798824101,-0.311914476089342,-0.9437045036915235\\n-0.6920431827683469,1.266989801811655,0.8273772438659699,0.4327933656785018,-0.4736736092984604,-0.4918744606632361,0.7376951317802901,-0.7376951317802901,0.6193063641452488,-0.4820426798824101,-0.311914476089342,-0.3237127091800559\\n-0.6881552997190864,1.266989801811655,-1.5661069258891576,-0.47454519624983954,0.7676298785983874,2.441497778832105,-1.3555735383351195,1.3555735383351193,0.6193063641452488,-0.4820426798824101,-0.311914476089342,1.949590537361992\\n-0.684267416669826,1.266989801811655,-1.5661069258891576,-0.47454519624983954,-0.4736736092984604,2.0825124140450755,-1.3555735383351195,1.3555735383351193,0.6193063641452488,-0.4820426798824101,-0.311914476089342,0.36516706249935255\\n-0.6803795336205657,-0.7892723355548015,-1.5661069258891576,-0.47454519624983954,-0.4736736092984604,-0.024246350754841113,0.7376951317802901,-0.7376951317802901,0.6193063641452488,-0.4820426798824101,-0.311914476089342,2.174187e-16\\n-0.6764916505713053,1.266989801811655,0.8273772438659699,-0.47454519624983954,-0.4736736092984604,-0.6484216535389205,0.7376951317802901,-0.7376951317802901,0.6193063641452488,-0.4820426798824101,-0.311914476089342,-0.3237127091800559\\n-0.672603767522045,1.266989801811655,-0.3693648410115938,-0.47454519624983954,0.7676298785983874,-0.255795253400548,-1.3555735383351195,1.3555735383351193,0.6193063641452488,-0.4820426798824101,-0.311914476089342,0.7784949255069976\\n-0.6687158844727845,-0.7892723355548015,-1.5661069258891576,-0.47454519624983954,0.7676298785983874,-0.05042144409739929,0.7376951317802901,-0.7376951317802901,-1.6147097105649404,2.0745051044939435,-0.311914476089342,0.5029430168352342\\n-0.6648280014235242,1.266989801811655,0.8273772438659699,-0.47454519624983954,-0.4736736092984604,-0.49237782784290063,-1.3555735383351195,1.3555735383351193,-1.6147097105649404,-0.4820426798824101,3.20600702005754,2.174187e-16\\n-0.6609401183742638,1.266989801811655,-1.5661069258891576,0.4327933656785018,-0.4736736092984604,0.921244330558889,-1.3555735383351195,1.3555735383351193,0.6193063641452488,-0.4820426798824101,-0.311914476089342,2.294030423201696\\n-0.6570522353250035,-0.7892723355548015,0.8273772438659699,-0.47454519624983954,-0.4736736092984604,-0.49237782784290063,-1.3555735383351195,1.3555735383351193,0.6193063641452488,-0.4820426798824101,-0.311914476089342,1.054046834178761\\n-0.6531643522757431,-0.7892723355548015,-0.3693648410115938,-0.47454519624983954,-0.4736736092984604,-0.6484216535389205,0.7376951317802901,-0.7376951317802901,0.6193063641452488,-0.4820426798824101,-0.311914476089342,2.174187e-16\\n-0.6492764692264827,-0.7892723355548015,0.8273772438659699,3.1548090514635256,0.7676298785983874,-0.06199888922968463,0.7376951317802901,-0.7376951317802901,-1.6147097105649404,-0.4820426798824101,3.20600702005754,-1.5636962982029912\\n-0.6453885861772223,1.266989801811655,0.8273772438659699,0.4327933656785018,0.7676298785983874,-0.24069423801061057,-1.3555735383351195,1.3555735383351193,0.6193063641452488,-0.4820426798824101,-0.311914476089342,0.36516706249935255\\n-0.6415007031279619,-0.7892723355548015,0.8273772438659699,-0.47454519624983954,-0.4736736092984604,-0.49237782784290063,0.7376951317802901,-0.7376951317802901,-1.6147097105649404,-0.4820426798824101,3.20600702005754,2.431806377537578\\n-0.6376128200787016,-0.7892723355548015,0.8273772438659699,-0.47454519624983954,-0.4736736092984604,-0.4902797934380587,0.7376951317802901,-0.7376951317802901,0.6193063641452488,-0.4820426798824101,-0.311914476089342,-0.11704877767623337\\n-0.6337249370294412,-0.7892723355548015,0.8273772438659699,-0.47454519624983954,-0.4736736092984604,-0.45714212526638004,0.7376951317802901,-0.7376951317802901,0.6193063641452488,-0.4820426798824101,-0.311914476089342,-0.9437045036915235\\n-0.6298370539801809,1.266989801811655,0.8273772438659699,-0.47454519624983954,-0.4736736092984604,-0.4863374216869257,0.7376951317802901,-0.7376951317802901,0.6193063641452488,-0.4820426798824101,-0.311914476089342,-0.7370405721877009\\n-0.6259491709309204,-0.7892723355548015,-1.5661069258891576,-0.47454519624983954,-0.4736736092984604,-0.12491978668775715,0.7376951317802901,-0.7376951317802901,0.6193063641452488,-0.4820426798824101,-0.311914476089342,2.174187e-16\\n-0.62206128788166,-0.7892723355548015,0.8273772438659699,-0.47454519624983954,-0.4736736092984604,-0.47400492578514347,0.7376951317802901,-0.7376951317802901,-1.6147097105649404,2.0745051044939435,-0.311914476089342,0.22739110816347086\\n-0.6181734048323997,1.266989801811655,0.8273772438659699,-0.47454519624983954,-0.4736736092984604,-0.45714212526638004,0.7376951317802901,-0.7376951317802901,0.6193063641452488,-0.4820426798824101,-0.311914476089342,0.020727176659648322\\n-0.6142855217831393,-0.7892723355548015,0.8273772438659699,-0.47454519624983954,-0.4736736092984604,-0.4894421904510968,0.7376951317802901,-0.7376951317802901,0.6193063641452488,-0.4820426798824101,-0.311914476089342,-0.5303766406838785\\n-0.610397638733879,1.266989801811655,-0.3693648410115938,-0.47454519624983954,-0.4736736092984604,-0.3866707201133388,0.7376951317802901,-0.7376951317802901,0.6193063641452488,-0.4820426798824101,-0.311914476089342,0.8473829026749384\\n-0.6065097556846185,1.266989801811655,0.8273772438659699,-0.47454519624983954,-0.4736736092984604,-0.49237782784290063,-1.3555735383351195,1.3555735383351193,-1.6147097105649404,-0.4820426798824101,3.20600702005754,-0.5303766406838785\\n-0.6026218726353582,1.266989801811655,-1.5661069258891576,-0.47454519624983954,-0.4736736092984604,0.9391984311231651,-1.3555735383351195,1.3555735383351193,0.6193063641452488,-0.4820426798824101,-0.311914476089342,-0.25482473201211503\\n-0.5987339895860978,1.266989801811655,-1.5661069258891576,0.4327933656785018,-0.4736736092984604,1.1854295476653287,-1.3555735383351195,1.3555735383351193,-1.6147097105649404,2.0745051044939435,-0.311914476089342,-0.7370405721877009\\n-0.5948461065368374,-0.7892723355548015,-0.3693648410115938,-0.47454519624983954,-0.4736736092984604,-0.3891875560116617,0.7376951317802901,-0.7376951317802901,-1.6147097105649404,2.0745051044939435,-0.311914476089342,0.43405503966729336\\n-0.5909582234875771,-0.7892723355548015,0.8273772438659699,-0.47454519624983954,-0.4736736092984604,-0.4702296719376591,-1.3555735383351195,1.3555735383351193,0.6193063641452488,-0.4820426798824101,-0.311914476089342,-0.3926006863479967\\n-0.5870703404383166,-0.7892723355548015,0.8273772438659699,-0.47454519624983954,-0.4736736092984604,-0.4894421904510968,0.7376951317802901,-0.7376951317802901,0.6193063641452488,-0.4820426798824101,-0.311914476089342,-0.3926006863479967\\n-0.5831824573890563,-0.7892723355548015,-1.5661069258891576,-0.47454519624983954,-0.4736736092984604,-0.09027201697708476,0.7376951317802901,-0.7376951317802901,-1.6147097105649404,2.0745051044939435,-0.311914476089342,2.174187e-16\\n-0.5792945743397959,-0.7892723355548015,0.8273772438659699,-0.47454519624983954,-0.4736736092984604,-0.5028639729296732,0.7376951317802901,-0.7376951317802901,-1.6147097105649404,2.0745051044939435,-0.311914476089342,-0.4270446749319672\\n-0.5754066912905356,-0.7892723355548015,-1.5661069258891576,0.4327933656785018,2.0089333664952354,2.4029901895877646,-1.3555735383351195,1.3555735383351193,0.6193063641452488,-0.4820426798824101,-0.311914476089342,-1.9081361840426954\\n-0.5715188082412752,1.266989801811655,-1.5661069258891576,-0.47454519624983954,-0.4736736092984604,-0.034313694348132716,0.7376951317802901,-0.7376951317802901,0.6193063641452488,-0.4820426798824101,-0.311914476089342,2.174187e-16\\n-0.5676309251920149,1.266989801811655,-1.5661069258891576,-0.47454519624983954,0.7676298785983874,4.335332226633905,-1.3555735383351195,1.3555735383351193,-1.6147097105649404,2.0745051044939435,-0.311914476089342,1.3984867200184652\\n-0.5637430421427544,1.266989801811655,0.8273772438659699,-0.47454519624983954,-0.4736736092984604,-0.49237782784290063,-1.3555735383351195,1.3555735383351193,-1.6147097105649404,-0.4820426798824101,3.20600702005754,2.174187e-16\\n-0.559855159093494,1.266989801811655,0.8273772438659699,1.340131927606843,-0.4736736092984604,-0.18029017645086096,0.7376951317802901,-0.7376951317802901,-1.6147097105649404,-0.4820426798824101,3.20600702005754,2.174187e-16\\n-0.5559672760442337,-0.7892723355548015,0.8273772438659699,-0.47454519624983954,-0.4736736092984604,-0.6484216535389205,0.7376951317802901,-0.7376951317802901,0.6193063641452488,-0.4820426798824101,-0.311914476089342,-0.7370405721877009\\n-0.5520793929949733,1.266989801811655,-0.3693648410115938,-0.47454519624983954,-0.4736736092984604,-0.3997582667846179,-1.3555735383351195,1.3555735383351193,-1.6147097105649404,-0.4820426798824101,3.20600702005754,2.174187e-16\\n-0.548191509945713,-0.7892723355548015,0.8273772438659699,-0.47454519624983954,-0.4736736092984604,-0.4863374216869257,0.7376951317802901,-0.7376951317802901,0.6193063641452488,-0.4820426798824101,-0.311914476089342,2.174187e-16\\n-0.5443036268964525,1.266989801811655,-1.5661069258891576,0.4327933656785018,2.0089333664952354,2.4029901895877646,0.7376951317802901,-0.7376951317802901,0.6193063641452488,-0.4820426798824101,-0.311914476089342,-1.9825351993840714\\n-0.5404157438471922,1.266989801811655,-1.5661069258891576,-0.47454519624983954,-0.4736736092984604,1.5841789061771412,-1.3555735383351195,1.3555735383351193,-1.6147097105649404,2.0745051044939435,-0.311914476089342,2.174187e-16\\n-0.5365278607979318,1.266989801811655,-1.5661069258891576,0.4327933656785018,-0.4736736092984604,1.5442457810799908,-1.3555735383351195,1.3555735383351193,-1.6147097105649404,2.0745051044939435,-0.311914476089342,-0.8748165265235827\\n-0.5326399777486714,-0.7892723355548015,-0.3693648410115938,0.4327933656785018,-0.4736736092984604,-0.16518916106092355,0.7376951317802901,-0.7376951317802901,-1.6147097105649404,2.0745051044939435,-0.311914476089342,0.020727176659648322\\n-0.5287520946994111,1.266989801811655,-1.5661069258891576,-0.47454519624983954,-0.4736736092984604,0.49782998024351216,-1.3555735383351195,1.3555735383351193,-1.6147097105649404,2.0745051044939435,-0.311914476089342,0.020727176659648322\\n-0.5248642116501506,1.266989801811655,-1.5661069258891576,-0.47454519624983954,-0.4736736092984604,1.0259447039291216,-1.3555735383351195,1.3555735383351193,-1.6147097105649404,2.0745051044939435,-0.311914476089342,-0.3926006863479967\\n-0.5209763286008903,1.266989801811655,-1.5661069258891576,1.340131927606843,2.0089333664952354,4.634416897040849,-1.3555735383351195,1.3555735383351193,-1.6147097105649404,2.0745051044939435,-0.311914476089342,-0.8059285493556418\\n-0.5170884455516299,-0.7892723355548015,-0.3693648410115938,0.4327933656785018,0.7676298785983874,-0.12491978668775715,-1.3555735383351195,1.3555735383351193,0.6193063641452488,-0.4820426798824101,-0.311914476089342,-0.25482473201211503\\n-0.5132005625023696,-0.7892723355548015,0.8273772438659699,-0.47454519624983954,-0.4736736092984604,-0.4894421904510968,0.7376951317802901,-0.7376951317802901,0.6193063641452488,-0.4820426798824101,-0.311914476089342,-0.11704877767623337\\n-0.5093126794531092,-0.7892723355548015,-0.3693648410115938,0.4327933656785018,0.7676298785983874,-0.11988611489111134,0.7376951317802901,-0.7376951317802901,0.6193063641452488,-0.4820426798824101,-0.311914476089342,0.9162708798428792\\n-0.5054247964038489,1.266989801811655,0.8273772438659699,-0.47454519624983954,-0.4736736092984604,-0.4902797934380587,-1.3555735383351195,1.3555735383351193,0.6193063641452488,-0.4820426798824101,-0.311914476089342,-0.25482473201211503\\n-0.5015369133545884,1.266989801811655,-0.3693648410115938,0.4327933656785018,-0.4736736092984604,-0.12491978668775715,-1.3555735383351195,1.3555735383351193,0.6193063641452488,-0.4820426798824101,-0.311914476089342,-0.3926006863479967\\n-0.49764903030532803,-0.7892723355548015,-0.3693648410115938,-0.47454519624983954,-0.4736736092984604,-0.36653603292675563,0.7376951317802901,-0.7376951317802901,0.6193063641452488,-0.4820426798824101,-0.311914476089342,1.6740386286902287\\n-0.4937611472560677,1.266989801811655,-1.5661069258891576,-0.47454519624983954,2.0089333664952354,2.671117778445337,-1.3555735383351195,1.3555735383351193,0.6193063641452488,-0.4820426798824101,-0.311914476089342,0.08961515382758917\\n-0.4898732642068073,1.266989801811655,-1.5661069258891576,0.4327933656785018,0.7676298785983874,2.059693773056521,-1.3555735383351195,1.3555735383351193,-1.6147097105649404,2.0745051044939435,-0.311914476089342,0.7096069483390568\\n-0.4859853811575469,-0.7892723355548015,0.8273772438659699,-0.47454519624983954,-0.4736736092984604,-0.5024451714361923,0.7376951317802901,-0.7376951317802901,0.6193063641452488,-0.4820426798824101,-0.311914476089342,-0.5303766406838785\\n-0.48209749810828656,-0.7892723355548015,0.8273772438659699,-0.47454519624983954,-0.4736736092984604,-0.4894421904510968,0.7376951317802901,-0.7376951317802901,0.6193063641452488,-0.4820426798824101,-0.311914476089342,-0.1859367548441742\\n-0.47820961505902615,1.266989801811655,-0.3693648410115938,-0.47454519624983954,-0.4736736092984604,-0.3997582667846179,-1.3555735383351195,1.3555735383351193,-1.6147097105649404,-0.4820426798824101,3.20600702005754,0.020727176659648322\\n-0.4743217320097658,1.266989801811655,-0.3693648410115938,0.4327933656785018,0.7676298785983874,-0.06451572512800753,-1.3555735383351195,1.3555735383351193,0.6193063641452488,-0.4820426798824101,-0.311914476089342,-0.5303766406838785\\n-0.47043384896050544,-0.7892723355548015,0.8273772438659699,6.784163299176891,2.0089333664952354,0.7519458402879414,0.7376951317802901,-0.7376951317802901,0.6193063641452488,-0.4820426798824101,-0.311914476089342,2.174187e-16\\n-0.46654596591124503,1.266989801811655,-1.5661069258891576,-0.47454519624983954,-0.4736736092984604,2.0825124140450755,-1.3555735383351195,1.3555735383351193,-1.6147097105649404,2.0745051044939435,-0.311914476089342,0.43405503966729336\\n-0.4626580828619847,-0.7892723355548015,0.8273772438659699,-0.47454519624983954,-0.4736736092984604,-0.5228315422126077,0.7376951317802901,-0.7376951317802901,0.6193063641452488,-0.4820426798824101,-0.311914476089342,2.1562544688658143\\n-0.4587701998127243,1.266989801811655,-0.3693648410115938,-0.47454519624983954,-0.4736736092984604,-0.3866707201133388,-1.3555735383351195,1.3555735383351193,0.6193063641452488,-0.4820426798824101,-0.311914476089342,0.43405503966729336\\n-0.4548823167634639,1.266989801811655,0.8273772438659699,0.4327933656785018,0.7676298785983874,-0.2351571990343002,-1.3555735383351195,1.3555735383351193,0.6193063641452488,-0.4820426798824101,-0.311914476089342,0.08961515382758917\\n-0.45099443371420356,1.266989801811655,-1.5661069258891576,-0.47454519624983954,0.7676298785983874,0.5189714017894245,-1.3555735383351195,1.3555735383351193,-1.6147097105649404,2.0745051044939435,-0.311914476089342,-0.9437045036915235\\n-0.44710655066494315,1.266989801811655,0.8273772438659699,1.340131927606843,-0.4736736092984604,-0.18029017645086096,-1.3555735383351195,1.3555735383351193,-1.6147097105649404,-0.4820426798824101,3.20600702005754,2.174187e-16\\n-0.4432186676156828,-0.7892723355548015,-1.5661069258891576,-0.47454519624983954,-0.4736736092984604,-0.07458306872129913,0.7376951317802901,-0.7376951317802901,0.6193063641452488,-0.4820426798824101,-0.311914476089342,1.0884908227627315\\n-0.43933078456642244,-0.7892723355548015,-1.5661069258891576,-0.47454519624983954,0.7676298785983874,2.441497778832105,0.7376951317802901,-0.7376951317802901,0.6193063641452488,-0.4820426798824101,-0.311914476089342,0.571830994003175\\n-0.43544290151716203,-0.7892723355548015,0.8273772438659699,1.340131927606843,-0.4736736092984604,-0.2859972841804228,0.7376951317802901,-0.7376951317802901,0.6193063641452488,-0.4820426798824101,-0.311914476089342,-0.9437045036915235\\n-0.4315550184679017,1.266989801811655,-1.5661069258891576,0.4327933656785018,-0.4736736092984604,2.042579288947925,-1.3555735383351195,1.3555735383351193,0.6193063641452488,-0.4820426798824101,-0.311914476089342,2.174187e-16\\n-0.4276671354186413,-0.7892723355548015,0.8273772438659699,-0.47454519624983954,-0.4736736092984604,-0.4894421904510968,0.7376951317802901,-0.7376951317802901,0.6193063641452488,-0.4820426798824101,-0.311914476089342,2.174187e-16\\n-0.4237792523693809,-0.7892723355548015,-1.5661069258891576,0.4327933656785018,-0.4736736092984604,0.6925485130875209,0.7376951317802901,-0.7376951317802901,0.6193063641452488,-0.4820426798824101,-0.311914476089342,-0.04816080050829252\\n-0.41989136932012056,1.266989801811655,-1.5661069258891576,-0.47454519624983954,-0.4736736092984604,2.059693773056521,-1.3555735383351195,1.3555735383351193,-1.6147097105649404,2.0745051044939435,-0.311914476089342,0.7784949255069976\\n-0.41600348627086015,1.266989801811655,0.8273772438659699,-0.47454519624983954,-0.4736736092984604,-0.4863374216869257,0.7376951317802901,-0.7376951317802901,0.6193063641452488,-0.4820426798824101,-0.311914476089342,1.054046834178761\\n-0.4121156032215998,-0.7892723355548015,-1.5661069258891576,-0.47454519624983954,-0.4736736092984604,0.06635974158478332,0.7376951317802901,-0.7376951317802901,0.6193063641452488,-0.4820426798824101,-0.311914476089342,1.054046834178761\\n-0.40822772017233944,1.266989801811655,-0.3693648410115938,0.4327933656785018,0.7676298785983874,-0.12491978668775715,0.7376951317802901,-0.7376951317802901,0.6193063641452488,-0.4820426798824101,-0.311914476089342,-1.9081361840426954\\n-0.404339837123079,1.266989801811655,-1.5661069258891576,2.2474704895351842,2.0089333664952354,4.647001076532463,-1.3555735383351195,1.3555735383351193,0.6193063641452488,-0.4820426798824101,-0.311914476089342,-0.3926006863479967\\n-0.4004519540738187,-0.7892723355548015,-0.3693648410115938,-0.47454519624983954,-0.4736736092984604,-0.3866707201133388,0.7376951317802901,-0.7376951317802901,0.6193063641452488,-0.4820426798824101,-0.311914476089342,-0.11704877767623337\\n-0.3965640710245583,-0.7892723355548015,-0.3693648410115938,-0.47454519624983954,-0.4736736092984604,-0.3866707201133388,0.7376951317802901,-0.7376951317802901,0.6193063641452488,-0.4820426798824101,-0.311914476089342,-0.3237127091800559\\n-0.3926761879752979,-0.7892723355548015,-0.3693648410115938,-0.47454519624983954,-0.4736736092984604,-0.3866707201133388,0.7376951317802901,-0.7376951317802901,0.6193063641452488,-0.4820426798824101,-0.311914476089342,0.43405503966729336\\n-0.38878830492603755,1.266989801811655,-0.3693648410115938,-0.47454519624983954,-0.4736736092984604,-0.3866707201133388,-1.3555735383351195,1.3555735383351193,0.6193063641452488,-0.4820426798824101,-0.311914476089342,-0.3926006863479967\\n-0.38490042187677714,1.266989801811655,-0.3693648410115938,-0.47454519624983954,-0.4736736092984604,-0.3866707201133388,-1.3555735383351195,1.3555735383351193,0.6193063641452488,-0.4820426798824101,-0.311914476089342,0.7096069483390568\\n-0.3810125388275168,1.266989801811655,0.8273772438659699,0.4327933656785018,-0.4736736092984604,-0.32425318983493084,-1.3555735383351195,1.3555735383351193,0.6193063641452488,-0.4820426798824101,-0.311914476089342,2.174187e-16\\n-0.37712465577825643,1.266989801811655,0.8273772438659699,0.4327933656785018,0.7676298785983874,-0.32828012727224753,0.7376951317802901,-0.7376951317802901,0.6193063641452488,-0.4820426798824101,-0.311914476089342,-1.8392482068747544\\n-0.373236772728996,-0.7892723355548015,0.8273772438659699,-0.47454519624983954,-0.4736736092984604,-0.47400492578514347,0.7376951317802901,-0.7376951317802901,0.6193063641452488,-0.4820426798824101,-0.311914476089342,0.8473829026749384\\n-0.36934888967973567,-0.7892723355548015,0.8273772438659699,-0.47454519624983954,-0.4736736092984604,-0.4626791642426904,0.7376951317802901,-0.7376951317802901,0.6193063641452488,-0.4820426798824101,-0.311914476089342,-0.4614886635159376\\n-0.36546100663047526,-0.7892723355548015,-1.5661069258891576,-0.47454519624983954,-0.4736736092984604,0.05629239799149171,0.7376951317802901,-0.7376951317802901,0.6193063641452488,-0.4820426798824101,-0.311914476089342,2.174187e-16\\n-0.3615731235812149,-0.7892723355548015,0.8273772438659699,0.4327933656785018,0.7676298785983874,-0.5028639729296732,0.7376951317802901,-0.7376951317802901,-1.6147097105649404,2.0745051044939435,-0.311914476089342,-1.0125924808594644\\n-0.35768524053195455,-0.7892723355548015,0.8273772438659699,0.4327933656785018,-0.4736736092984604,-0.29002422161773944,0.7376951317802901,-0.7376951317802901,0.6193063641452488,-0.4820426798824101,-0.311914476089342,-0.3237127091800559\\n-0.35379735748269414,-0.7892723355548015,0.8273772438659699,-0.47454519624983954,-0.4736736092984604,-0.5029485386158568,0.7376951317802901,-0.7376951317802901,-1.6147097105649404,2.0745051044939435,-0.311914476089342,2.174187e-16\\n-0.3499094744334338,-0.7892723355548015,0.8273772438659699,-0.47454519624983954,-0.4736736092984604,-0.45714212526638004,0.7376951317802901,-0.7376951317802901,0.6193063641452488,-0.4820426798824101,-0.311914476089342,-0.11704877767623337\\n-0.34602159138417343,1.266989801811655,-1.5661069258891576,-0.47454519624983954,0.7676298785983874,0.4589861417231558,-1.3555735383351195,1.3555735383351193,0.6193063641452488,-0.4820426798824101,-0.311914476089342,-0.5303766406838785\\n-0.342133708334913,-0.7892723355548015,-0.3693648410115938,-0.47454519624983954,-0.4736736092984604,-0.3866707201133388,-1.3555735383351195,1.3555735383351193,0.6193063641452488,-0.4820426798824101,-0.311914476089342,0.571830994003175\\n-0.33824582528565267,1.266989801811655,0.8273772438659699,-0.47454519624983954,-0.4736736092984604,-0.48977642625839407,-1.3555735383351195,1.3555735383351193,-1.6147097105649404,-0.4820426798824101,3.20600702005754,2.174187e-16\\n-0.33435794223639226,1.266989801811655,0.8273772438659699,-0.47454519624983954,-0.4736736092984604,-0.48977642625839407,-1.3555735383351195,1.3555735383351193,-1.6147097105649404,-0.4820426798824101,3.20600702005754,2.174187e-16\\n-0.3304700591871319,-0.7892723355548015,0.8273772438659699,0.4327933656785018,4.491540342288931,-0.08666388103324908,0.7376951317802901,-0.7376951317802901,0.6193063641452488,-0.4820426798824101,-0.311914476089342,0.7096069483390568\\n-0.32658217613787155,-0.7892723355548015,-0.3693648410115938,0.4327933656785018,-0.4736736092984604,-0.09027201697708476,0.7376951317802901,-0.7376951317802901,-1.6147097105649404,2.0745051044939435,-0.311914476089342,-0.04816080050829252\\n-0.32269429308861114,-0.7892723355548015,0.8273772438659699,-0.47454519624983954,0.7676298785983874,-0.3573908580066095,-1.3555735383351195,1.3555735383351193,-1.6147097105649404,2.0745051044939435,-0.311914476089342,1.054046834178761\\n-0.3188064100393508,-0.7892723355548015,0.8273772438659699,-0.47454519624983954,-0.4736736092984604,-0.5064721088735089,0.7376951317802901,-0.7376951317802901,0.6193063641452488,-0.4820426798824101,-0.311914476089342,0.36516706249935255\\n-0.31491852699009043,-0.7892723355548015,0.8273772438659699,0.4327933656785018,-0.4736736092984604,-0.3363340021468808,0.7376951317802901,-0.7376951317802901,-1.6147097105649404,-0.4820426798824101,3.20600702005754,2.174187e-16\\n-0.31103064394083,-0.7892723355548015,0.8273772438659699,-0.47454519624983954,-0.4736736092984604,-0.5024451714361923,0.7376951317802901,-0.7376951317802901,0.6193063641452488,-0.4820426798824101,-0.311914476089342,0.020727176659648322\\n-0.30714276089156967,1.266989801811655,-1.5661069258891576,0.4327933656785018,-0.4736736092984604,0.8667135572514657,-1.3555735383351195,1.3555735383351193,-1.6147097105649404,2.0745051044939435,-0.311914476089342,2.087366491697874\\n-0.30325487784230926,1.266989801811655,0.8273772438659699,-0.47454519624983954,-0.4736736092984604,-0.5028639729296732,-1.3555735383351195,1.3555735383351193,-1.6147097105649404,2.0745051044939435,-0.311914476089342,2.174187e-16\\n-0.2993669947930489,1.266989801811655,0.8273772438659699,-0.47454519624983954,-0.4736736092984604,-0.49237782784290063,-1.3555735383351195,1.3555735383351193,-1.6147097105649404,-0.4820426798824101,3.20600702005754,2.174187e-16\\n-0.29547911174378855,1.266989801811655,-1.5661069258891576,-0.47454519624983954,-0.4736736092984604,0.7469121684912956,-1.3555735383351195,1.3555735383351193,-1.6147097105649404,2.0745051044939435,-0.311914476089342,-0.3926006863479967\\n-0.29159122869452814,1.266989801811655,-1.5661069258891576,0.4327933656785018,-0.4736736092984604,0.4678796330534696,0.7376951317802901,-0.7376951317802901,-1.6147097105649404,2.0745051044939435,-0.311914476089342,-0.3237127091800559\\n-0.2877033456452678,-0.7892723355548015,0.8273772438659699,0.4327933656785018,-0.4736736092984604,-0.5176307525123133,0.7376951317802901,-0.7376951317802901,0.6193063641452488,-0.4820426798824101,-0.311914476089342,-0.8059285493556418\\n-0.28381546259600743,-0.7892723355548015,0.8273772438659699,-0.47454519624983954,-0.4736736092984604,-0.4863374216869257,0.7376951317802901,-0.7376951317802901,0.6193063641452488,-0.4820426798824101,-0.311914476089342,-0.7370405721877009\\n-0.279927579546747,-0.7892723355548015,-1.5661069258891576,-0.47454519624983954,-0.4736736092984604,2.0825124140450755,0.7376951317802901,-0.7376951317802901,-1.6147097105649404,2.0745051044939435,-0.311914476089342,-0.5303766406838785\\n-0.27603969649748666,-0.7892723355548015,0.8273772438659699,2.2474704895351842,0.7676298785983874,-0.22408312108167944,-1.3555735383351195,1.3555735383351193,0.6193063641452488,-0.4820426798824101,-0.311914476089342,-1.8392482068747544\\n-0.27215181344822625,1.266989801811655,-1.5661069258891576,0.4327933656785018,-0.4736736092984604,1.0060617003323709,-1.3555735383351195,1.3555735383351193,-1.6147097105649404,2.0745051044939435,-0.311914476089342,2.174187e-16\\n-0.2682639303989659,1.266989801811655,0.8273772438659699,-0.47454519624983954,-0.4736736092984604,-0.5024451714361923,-1.3555735383351195,1.3555735383351193,0.6193063641452488,-0.4820426798824101,-0.311914476089342,-0.5303766406838785\\n-0.26437604734970555,-0.7892723355548015,-1.5661069258891576,-0.47454519624983954,2.0089333664952354,3.610064686423428,0.7376951317802901,-0.7376951317802901,-1.6147097105649404,2.0745051044939435,-0.311914476089342,-0.1859367548441742\\n-0.26048816430044514,-0.7892723355548015,0.8273772438659699,-0.47454519624983954,-0.4736736092984604,-0.5676312212027554,0.7376951317802901,-0.7376951317802901,-1.6147097105649404,2.0745051044939435,-0.311914476089342,-0.6681525950197601\\n-0.2566002812511848,-0.7892723355548015,0.8273772438659699,-0.47454519624983954,-0.4736736092984604,-0.4918744606632361,0.7376951317802901,-0.7376951317802901,0.6193063641452488,-0.4820426798824101,-0.311914476089342,-0.7370405721877009\\n-0.2527123982019244,1.266989801811655,-1.5661069258891576,-0.47454519624983954,-0.4736736092984604,3.9327230485884233,-1.3555735383351195,1.3555735383351193,-1.6147097105649404,2.0745051044939435,-0.311914476089342,0.8473829026749384\\n-0.24882451515266402,1.266989801811655,0.8273772438659699,-0.47454519624983954,2.0089333664952354,-0.33146744825388363,-1.3555735383351195,1.3555735383351193,-1.6147097105649404,2.0745051044939435,-0.311914476089342,-1.977024161210636\\n-0.24493663210340366,-0.7892723355548015,0.8273772438659699,-0.47454519624983954,-0.4736736092984604,-0.4888542575852486,0.7376951317802901,-0.7376951317802901,0.6193063641452488,-0.4820426798824101,-0.311914476089342,0.15850313099553\\n-0.24104874905414328,1.266989801811655,-1.5661069258891576,0.4327933656785018,-0.4736736092984604,0.39858208016340624,-1.3555735383351195,1.3555735383351193,0.6193063641452488,-0.4820426798824101,-0.311914476089342,0.36516706249935255\\n-0.2371608660048829,-0.7892723355548015,0.8273772438659699,-0.47454519624983954,-0.4736736092984604,-0.4894421904510968,0.7376951317802901,-0.7376951317802901,0.6193063641452488,-0.4820426798824101,-0.311914476089342,2.174187e-16\\n-0.23327298295562252,-0.7892723355548015,-0.3693648410115938,-0.47454519624983954,-0.4736736092984604,0.8314778546749452,0.7376951317802901,-0.7376951317802901,0.6193063641452488,-0.4820426798824101,-0.311914476089342,-0.8059285493556418\\n-0.22938509990636216,-0.7892723355548015,0.8273772438659699,4.0621476133918675,2.0089333664952354,0.2958951755118318,0.7376951317802901,-0.7376951317802901,0.6193063641452488,-0.4820426798824101,-0.311914476089342,-1.977024161210636\\n-0.22549721685710178,1.266989801811655,-0.3693648410115938,-0.47454519624983954,-0.4736736092984604,-0.3866707201133388,-1.3555735383351195,1.3555735383351193,0.6193063641452488,-0.4820426798824101,-0.311914476089342,0.43405503966729336\\n-0.2216093338078414,-0.7892723355548015,0.8273772438659699,-0.47454519624983954,-0.4736736092984604,-0.49279662933638163,0.7376951317802901,-0.7376951317802901,-1.6147097105649404,-0.4820426798824101,3.20600702005754,2.174187e-16\\n-0.21772145075858101,1.266989801811655,-0.3693648410115938,-0.47454519624983954,-0.4736736092984604,-0.40680540729992204,-1.3555735383351195,1.3555735383351193,-1.6147097105649404,2.0745051044939435,-0.311914476089342,-0.8748165265235827\\n-0.21383356770932066,1.266989801811655,-1.5661069258891576,0.4327933656785018,2.0089333664952354,1.7677408088510642,0.7376951317802901,-0.7376951317802901,0.6193063641452488,-0.4820426798824101,-0.311914476089342,0.43405503966729336\\n-0.20994568466006028,1.266989801811655,0.8273772438659699,-0.47454519624983954,-0.4736736092984604,-0.49145565916975514,0.7376951317802901,-0.7376951317802901,0.6193063641452488,-0.4820426798824101,-0.311914476089342,-0.5992646178518193\\n-0.2060578016107999,-0.7892723355548015,0.8273772438659699,1.340131927606843,-0.4736736092984604,-0.4888542575852486,0.7376951317802901,-0.7376951317802901,0.6193063641452488,-0.4820426798824101,-0.311914476089342,-0.11704877767623337\\n-0.2021699185615395,1.266989801811655,-1.5661069258891576,0.4327933656785018,-0.4736736092984604,1.6323350375212924,-1.3555735383351195,1.3555735383351193,-1.6147097105649404,2.0745051044939435,-0.311914476089342,-0.4614886635159376\\n-0.19828203551227916,1.266989801811655,0.8273772438659699,-0.47454519624983954,2.0089333664952354,-0.312172377522981,-1.3555735383351195,1.3555735383351193,0.6193063641452488,-0.4820426798824101,-0.311914476089342,-0.3926006863479967\\n-0.19439415246301878,-0.7892723355548015,0.8273772438659699,-0.47454519624983954,-0.4736736092984604,-0.49145565916975514,0.7376951317802901,-0.7376951317802901,0.6193063641452488,-0.4820426798824101,-0.311914476089342,-0.5303766406838785\\n-0.1905062694137584,-0.7892723355548015,0.8273772438659699,-0.47454519624983954,-0.4736736092984604,-0.4902797934380587,-1.3555735383351195,1.3555735383351193,0.6193063641452488,-0.4820426798824101,-0.311914476089342,0.08961515382758917\\n-0.186618386364498,-0.7892723355548015,-0.3693648410115938,-0.47454519624983954,-0.4736736092984604,-0.12491978668775715,0.7376951317802901,-0.7376951317802901,0.6193063641452488,-0.4820426798824101,-0.311914476089342,1.122934811346702\\n-0.18273050331523763,-0.7892723355548015,-0.3693648410115938,-0.47454519624983954,-0.4736736092984604,-0.43700743807979686,0.7376951317802901,-0.7376951317802901,0.6193063641452488,-0.4820426798824101,-0.311914476089342,-0.4614886635159376\\n-0.17884262026597728,1.266989801811655,-0.3693648410115938,-0.47454519624983954,-0.4736736092984604,-0.393717860628643,-1.3555735383351195,1.3555735383351193,0.6193063641452488,-0.4820426798824101,-0.311914476089342,-0.11704877767623337\\n-0.1749547372167169,1.266989801811655,0.8273772438659699,-0.47454519624983954,-0.4736736092984604,-0.4888542575852486,0.7376951317802901,-0.7376951317802901,0.6193063641452488,-0.4820426798824101,-0.311914476089342,0.6407189711711159\\n-0.1710668541674565,-0.7892723355548015,0.8273772438659699,-0.47454519624983954,-0.4736736092984604,-0.4863374216869257,0.7376951317802901,-0.7376951317802901,0.6193063641452488,-0.4820426798824101,-0.311914476089342,-0.25482473201211503\\n-0.16717897111819613,-0.7892723355548015,0.8273772438659699,0.4327933656785018,-0.4736736092984604,-0.4505983519307405,-1.3555735383351195,1.3555735383351193,0.6193063641452488,-0.4820426798824101,-0.311914476089342,-0.5992646178518193\\n-0.16329108806893577,-0.7892723355548015,0.8273772438659699,0.4327933656785018,-0.4736736092984604,-0.32928686163157667,0.7376951317802901,-0.7376951317802901,0.6193063641452488,-0.4820426798824101,-0.311914476089342,-0.11704877767623337\\n-0.1594032050196754,-0.7892723355548015,0.8273772438659699,-0.47454519624983954,-0.4736736092984604,-0.47400492578514347,-1.3555735383351195,1.3555735383351193,0.6193063641452488,-0.4820426798824101,-0.311914476089342,-0.6681525950197601\\n-0.155515321970415,-0.7892723355548015,-0.3693648410115938,0.4327933656785018,-0.4736736092984604,-0.22559322262067316,0.7376951317802901,-0.7376951317802901,0.6193063641452488,-0.4820426798824101,-0.311914476089342,0.2962790853314117\\n-0.15162743892115463,-0.7892723355548015,0.8273772438659699,-0.47454519624983954,-0.4736736092984604,-0.49237782784290063,0.7376951317802901,-0.7376951317802901,0.6193063641452488,-0.4820426798824101,-0.311914476089342,1.4673746971864061\\n-0.14773955587189427,1.266989801811655,-0.3693648410115938,0.4327933656785018,0.7676298785983874,-0.2708962687904854,0.7376951317802901,-0.7376951317802901,0.6193063641452488,-0.4820426798824101,-0.311914476089342,-1.8392482068747544\\n-0.1438516728226339,-0.7892723355548015,0.8273772438659699,-0.47454519624983954,-0.4736736092984604,-0.4918744606632361,0.7376951317802901,-0.7376951317802901,0.6193063641452488,-0.4820426798824101,-0.311914476089342,-0.5992646178518193\\n-0.1399637897733735,-0.7892723355548015,0.8273772438659699,2.2474704895351842,0.7676298785983874,-0.13565761536436197,-1.3555735383351195,1.3555735383351193,0.6193063641452488,-0.4820426798824101,-0.311914476089342,2.174187e-16\\n-0.13607590672411313,-0.7892723355548015,0.8273772438659699,-0.47454519624983954,-0.4736736092984604,-0.4894421904510968,0.7376951317802901,-0.7376951317802901,0.6193063641452488,-0.4820426798824101,-0.311914476089342,2.174187e-16\\n-0.13218802367485277,-0.7892723355548015,0.8273772438659699,-0.47454519624983954,-0.4736736092984604,-0.5103319284071769,0.7376951317802901,-0.7376951317802901,-1.6147097105649404,-0.4820426798824101,3.20600702005754,2.174187e-16\\n-0.1283001406255924,1.266989801811655,-1.5661069258891576,0.4327933656785018,-0.4736736092984604,1.163700193253568,-1.3555735383351195,1.3555735383351193,-1.6147097105649404,-0.4820426798824101,3.20600702005754,0.22739110816347086\\n-0.12441225757633201,-0.7892723355548015,-0.3693648410115938,-0.47454519624983954,-0.4736736092984604,-0.6484216535389205,0.7376951317802901,-0.7376951317802901,0.6193063641452488,-0.4820426798824101,-0.311914476089342,2.174187e-16\\n-0.12052437452707164,1.266989801811655,0.8273772438659699,-0.47454519624983954,-0.4736736092984604,-0.4888542575852486,0.7376951317802901,-0.7376951317802901,0.6193063641452488,-0.4820426798824101,-0.311914476089342,0.9851588570108202\\n-0.11663649147781126,-0.7892723355548015,0.8273772438659699,-0.47454519624983954,-0.4736736092984604,-0.4863374216869257,-1.3555735383351195,1.3555735383351193,0.6193063641452488,-0.4820426798824101,-0.311914476089342,2.174187e-16\\n-0.11274860842855089,1.266989801811655,-0.3693648410115938,0.4327933656785018,0.7676298785983874,0.005955680025033696,-1.3555735383351195,1.3555735383351193,0.6193063641452488,-0.4820426798824101,-0.311914476089342,0.2962790853314117\\n-0.10886072537929051,1.266989801811655,-0.3693648410115938,-0.47454519624983954,2.0089333664952354,-0.3866707201133388,-1.3555735383351195,1.3555735383351193,0.6193063641452488,-0.4820426798824101,-0.311914476089342,-0.8059285493556418\\n-0.10497284233003014,-0.7892723355548015,-0.3693648410115938,-0.47454519624983954,-0.4736736092984604,-0.3866707201133388,0.7376951317802901,-0.7376951317802901,0.6193063641452488,-0.4820426798824101,-0.311914476089342,0.020727176659648322\\n-0.10108495928076976,-0.7892723355548015,0.8273772438659699,-0.47454519624983954,2.0089333664952354,-0.1621689579829361,-1.3555735383351195,1.3555735383351193,0.6193063641452488,-0.4820426798824101,-0.311914476089342,-1.3570323666991686\\n-0.09719707623150939,-0.7892723355548015,0.8273772438659699,-0.47454519624983954,-0.4736736092984604,-0.4894421904510968,0.7376951317802901,-0.7376951317802901,-1.6147097105649404,2.0745051044939435,-0.311914476089342,2.174187e-16\\n-0.093309193182249,-0.7892723355548015,0.8273772438659699,-0.47454519624983954,-0.4736736092984604,-0.49271407711891657,0.7376951317802901,-0.7376951317802901,-1.6147097105649404,-0.4820426798824101,3.20600702005754,-0.5992646178518193\\n-0.08942131013298864,-0.7892723355548015,0.8273772438659699,-0.47454519624983954,-0.4736736092984604,-0.4898609919445778,0.7376951317802901,-0.7376951317802901,0.6193063641452488,-0.4820426798824101,-0.311914476089342,-0.04816080050829252\\n-0.08553342708372826,-0.7892723355548015,0.8273772438659699,0.4327933656785018,0.7676298785983874,-0.35848215805212236,-1.3555735383351195,1.3555735383351193,0.6193063641452488,-0.4820426798824101,-0.311914476089342,-0.11704877767623337\\n-0.08164554403446789,-0.7892723355548015,0.8273772438659699,0.4327933656785018,0.7676298785983874,-0.2414492887801075,0.7376951317802901,-0.7376951317802901,0.6193063641452488,-0.4820426798824101,-0.311914476089342,-0.8059285493556418\\n-0.0777576609852075,-0.7892723355548015,0.8273772438659699,-0.47454519624983954,-0.4736736092984604,-0.5024451714361923,0.7376951317802901,-0.7376951317802901,0.6193063641452488,-0.4820426798824101,-0.311914476089342,2.174187e-16\\n-0.07386977793594714,1.266989801811655,-0.3693648410115938,0.4327933656785018,-0.4736736092984604,-0.12491978668775715,-1.3555735383351195,1.3555735383351193,0.6193063641452488,-0.4820426798824101,-0.311914476089342,-0.11704877767623337\\n-0.06998189488668675,1.266989801811655,-0.3693648410115938,-0.47454519624983954,-0.4736736092984604,-0.12491978668775715,-1.3555735383351195,1.3555735383351193,0.6193063641452488,-0.4820426798824101,-0.311914476089342,-0.7370405721877009\\n-0.06609401183742639,-0.7892723355548015,0.8273772438659699,-0.47454519624983954,-0.4736736092984604,-0.49237782784290063,0.7376951317802901,-0.7376951317802901,-1.6147097105649404,-0.4820426798824101,3.20600702005754,2.174187e-16\\n-0.062206128788166004,1.266989801811655,0.8273772438659699,-0.47454519624983954,-0.4736736092984604,-0.4863374216869257,0.7376951317802901,-0.7376951317802901,0.6193063641452488,-0.4820426798824101,-0.311914476089342,0.15850313099553\\n-0.05831824573890563,1.266989801811655,-1.5661069258891576,-0.47454519624983954,-0.4736736092984604,-0.11384570873513637,0.7376951317802901,-0.7376951317802901,0.6193063641452488,-0.4820426798824101,-0.311914476089342,-0.11704877767623337\\n-0.054430362689645254,1.266989801811655,0.8273772438659699,0.4327933656785018,-0.4736736092984604,-0.32425318983493084,-1.3555735383351195,1.3555735383351193,0.6193063641452488,-0.4820426798824101,-0.311914476089342,2.174187e-16\\n-0.05054247964038488,1.266989801811655,-0.3693648410115938,0.4327933656785018,-0.4736736092984604,-0.12491978668775715,-1.3555735383351195,1.3555735383351193,0.6193063641452488,-0.4820426798824101,-0.311914476089342,0.8473829026749384\\n-0.0466545965911245,-0.7892723355548015,0.8273772438659699,-0.47454519624983954,-0.4736736092984604,-0.5049620073345151,0.7376951317802901,-0.7376951317802901,0.6193063641452488,-0.4820426798824101,-0.311914476089342,-0.8748165265235827\\n-0.04276671354186413,-0.7892723355548015,-1.5661069258891576,0.4327933656785018,-0.4736736092984604,0.4771073601910807,0.7376951317802901,-0.7376951317802901,0.6193063641452488,-0.4820426798824101,-0.311914476089342,1.3984867200184652\\n-0.03887883049260375,1.266989801811655,-1.5661069258891576,0.4327933656785018,2.0089333664952354,1.7677408088510642,-1.3555735383351195,1.3555735383351193,0.6193063641452488,-0.4820426798824101,-0.311914476089342,-1.0814804580274051\\n-0.03499094744334338,-0.7892723355548015,0.8273772438659699,1.340131927606843,2.0089333664952354,0.04370821849987721,-1.3555735383351195,1.3555735383351193,0.6193063641452488,-0.4820426798824101,-0.311914476089342,-0.5992646178518193\\n-0.031103064394083002,1.266989801811655,-0.3693648410115938,1.340131927606843,3.250236854392083,-0.2708962687904854,-1.3555735383351195,1.3555735383351193,0.6193063641452488,-0.4820426798824101,-0.311914476089342,-0.3926006863479967\\n-0.027215181344822627,-0.7892723355548015,-1.5661069258891576,0.4327933656785018,4.491540342288931,4.647001076532463,0.7376951317802901,-0.7376951317802901,0.6193063641452488,-0.4820426798824101,-0.311914476089342,2.362918400369637\\n-0.02332729829556225,-0.7892723355548015,-0.3693648410115938,-0.47454519624983954,-0.4736736092984604,-0.43700743807979686,0.7376951317802901,-0.7376951317802901,0.6193063641452488,-0.4820426798824101,-0.311914476089342,0.08961515382758917\\n-0.019439415246301876,1.266989801811655,-0.3693648410115938,0.4327933656785018,0.7676298785983874,-0.11988611489111134,-1.3555735383351195,1.3555735383351193,0.6193063641452488,-0.4820426798824101,-0.311914476089342,1.054046834178761\\n-0.015551532197041501,-0.7892723355548015,0.8273772438659699,-0.47454519624983954,-0.4736736092984604,-0.45714212526638004,0.7376951317802901,-0.7376951317802901,0.6193063641452488,-0.4820426798824101,-0.311914476089342,-0.6681525950197601\\n-0.011663649147781126,-0.7892723355548015,0.8273772438659699,0.4327933656785018,-0.4736736092984604,-0.4918744606632361,0.7376951317802901,-0.7376951317802901,0.6193063641452488,-0.4820426798824101,-0.311914476089342,-0.3237127091800559\\n-0.0077757660985207505,1.266989801811655,-0.3693648410115938,-0.47454519624983954,-0.4736736092984604,-0.3866707201133388,-1.3555735383351195,1.3555735383351193,0.6193063641452488,-0.4820426798824101,-0.311914476089342,-0.11704877767623337\\n-0.0038878830492603753,1.266989801811655,0.8273772438659699,-0.47454519624983954,-0.4736736092984604,-0.48507900373776425,0.7376951317802901,-0.7376951317802901,0.6193063641452488,-0.4820426798824101,-0.311914476089342,2.174187e-16\\n0.0,1.266989801811655,-1.5661069258891576,-0.47454519624983954,2.0089333664952354,0.9997696105865636,0.7376951317802901,-0.7376951317802901,0.6193063641452488,-0.4820426798824101,-0.311914476089342,-1.7703602297068137\\n0.0038878830492603753,1.266989801811655,-0.3693648410115938,-0.47454519624983954,0.7676298785983874,-0.255795253400548,-1.3555735383351195,1.3555735383351193,0.6193063641452488,-0.4820426798824101,-0.311914476089342,-1.150368435195346\\n0.0077757660985207505,1.266989801811655,-1.5661069258891576,-0.47454519624983954,-0.4736736092984604,-0.11384570873513637,0.7376951317802901,-0.7376951317802901,0.6193063641452488,-0.4820426798824101,-0.311914476089342,0.2962790853314117\\n0.011663649147781126,1.266989801811655,0.8273772438659699,1.340131927606843,0.7676298785983874,-0.26066180729354516,-1.3555735383351195,1.3555735383351193,-1.6147097105649404,2.0745051044939435,-0.311914476089342,-1.7014722525388728\\n0.015551532197041501,1.266989801811655,-1.5661069258891576,-0.47454519624983954,-0.4736736092984604,-0.034313694348132716,0.7376951317802901,-0.7376951317802901,0.6193063641452488,-0.4820426798824101,-0.311914476089342,1.5362626743543468\\n0.019439415246301876,-0.7892723355548015,-0.3693648410115938,0.4327933656785018,2.0089333664952354,-0.08968408411123653,0.7376951317802901,-0.7376951317802901,0.6193063641452488,-0.4820426798824101,-0.311914476089342,0.43405503966729336\\n0.02332729829556225,-0.7892723355548015,0.8273772438659699,0.4327933656785018,-0.4736736092984604,-0.2463983948905696,0.7376951317802901,-0.7376951317802901,0.6193063641452488,-0.4820426798824101,-0.311914476089342,2.174187e-16\\n0.027215181344822627,-0.7892723355548015,-1.5661069258891576,-0.47454519624983954,-0.4736736092984604,-0.08968408411123653,0.7376951317802901,-0.7376951317802901,-1.6147097105649404,2.0745051044939435,-0.311914476089342,0.020727176659648322\\n0.031103064394083002,1.266989801811655,-1.5661069258891576,0.4327933656785018,-0.4736736092984604,1.145663540471827,0.7376951317802901,-0.7376951317802901,-1.6147097105649404,2.0745051044939435,-0.311914476089342,1.3295987428505243\\n0.03499094744334338,-0.7892723355548015,0.8273772438659699,-0.47454519624983954,-0.4736736092984604,-0.4863374216869257,0.7376951317802901,-0.7376951317802901,0.6193063641452488,-0.4820426798824101,-0.311914476089342,2.174187e-16\\n0.03887883049260375,1.266989801811655,0.8273772438659699,-0.47454519624983954,-0.4736736092984604,-0.4894421904510968,0.7376951317802901,-0.7376951317802901,-1.6147097105649404,2.0745051044939435,-0.311914476089342,-0.04816080050829252\\n0.04276671354186413,-0.7892723355548015,-1.5661069258891576,-0.47454519624983954,-0.4736736092984604,-0.11384570873513637,0.7376951317802901,-0.7376951317802901,0.6193063641452488,-0.4820426798824101,-0.311914476089342,2.431806377537578\\n0.0466545965911245,1.266989801811655,-1.5661069258891576,0.4327933656785018,-0.4736736092984604,0.395813560675251,-1.3555735383351195,1.3555735383351193,0.6193063641452488,-0.4820426798824101,-0.311914476089342,2.174187e-16\\n0.05054247964038488,1.266989801811655,-0.3693648410115938,-0.47454519624983954,-0.4736736092984604,-0.43700743807979686,-1.3555735383351195,1.3555735383351193,0.6193063641452488,-0.4820426798824101,-0.311914476089342,1.3984867200184652\\n0.054430362689645254,-0.7892723355548015,0.8273772438659699,-0.47454519624983954,-0.4736736092984604,-0.49237782784290063,0.7376951317802901,-0.7376951317802901,-1.6147097105649404,-0.4820426798824101,3.20600702005754,2.174187e-16\\n0.05831824573890563,1.266989801811655,-1.5661069258891576,-0.47454519624983954,-0.4736736092984604,-0.11384570873513637,0.7376951317802901,-0.7376951317802901,0.6193063641452488,-0.4820426798824101,-0.311914476089342,1.2607107656825836\\n0.062206128788166004,-0.7892723355548015,0.8273772438659699,-0.47454519624983954,-0.4736736092984604,-0.4863374216869257,0.7376951317802901,-0.7376951317802901,0.6193063641452488,-0.4820426798824101,-0.311914476089342,0.2962790853314117\\n0.06609401183742639,-0.7892723355548015,-1.5661069258891576,-0.47454519624983954,-0.4736736092984604,0.12676380314453292,0.7376951317802901,-0.7376951317802901,0.6193063641452488,-0.4820426798824101,-0.311914476089342,1.1918227885146426\\n0.06998189488668675,-0.7892723355548015,-0.3693648410115938,-0.47454519624983954,-0.4736736092984604,-0.3866707201133388,0.7376951317802901,-0.7376951317802901,0.6193063641452488,-0.4820426798824101,-0.311914476089342,1.2607107656825836\\n0.07386977793594714,-0.7892723355548015,0.8273772438659699,-0.47454519624983954,-0.4736736092984604,-0.4863374216869257,0.7376951317802901,-0.7376951317802901,0.6193063641452488,-0.4820426798824101,-0.311914476089342,2.174187e-16\\n0.0777576609852075,-0.7892723355548015,0.8273772438659699,-0.47454519624983954,-0.4736736092984604,-0.5064721088735089,0.7376951317802901,-0.7376951317802901,0.6193063641452488,-0.4820426798824101,-0.311914476089342,0.571830994003175\\n0.08164554403446789,-0.7892723355548015,-0.3693648410115938,-0.47454519624983954,-0.4736736092984604,-0.6484216535389205,0.7376951317802901,-0.7376951317802901,0.6193063641452488,-0.4820426798824101,-0.311914476089342,2.174187e-16\\n0.08553342708372826,-0.7892723355548015,-1.5661069258891576,-0.47454519624983954,-0.4736736092984604,-0.11384570873513637,0.7376951317802901,-0.7376951317802901,0.6193063641452488,-0.4820426798824101,-0.311914476089342,1.8118145830261103\\n0.08942131013298864,-0.7892723355548015,0.8273772438659699,-0.47454519624983954,-0.4736736092984604,-0.4928811950225652,0.7376951317802901,-0.7376951317802901,-1.6147097105649404,-0.4820426798824101,3.20600702005754,2.174187e-16\\n0.093309193182249,1.266989801811655,0.8273772438659699,1.340131927606843,0.7676298785983874,-0.26066180729354516,-1.3555735383351195,1.3555735383351193,-1.6147097105649404,2.0745051044939435,-0.311914476089342,-1.9942461555026214\\n0.09719707623150939,-0.7892723355548015,0.8273772438659699,-0.47454519624983954,-0.4736736092984604,-0.5024451714361923,0.7376951317802901,-0.7376951317802901,0.6193063641452488,-0.4820426798824101,-0.311914476089342,2.174187e-16\\n0.10108495928076976,-0.7892723355548015,0.8273772438659699,-0.47454519624983954,-0.4736736092984604,-0.47400492578514347,0.7376951317802901,-0.7376951317802901,0.6193063641452488,-0.4820426798824101,-0.311914476089342,0.571830994003175\\n0.10497284233003014,1.266989801811655,-0.3693648410115938,0.4327933656785018,2.0089333664952354,-0.08968408411123653,-1.3555735383351195,1.3555735383351193,0.6193063641452488,-0.4820426798824101,-0.311914476089342,0.22739110816347086\\n0.10886072537929051,1.266989801811655,-0.3693648410115938,-0.47454519624983954,-0.4736736092984604,-0.3707300882677209,-1.3555735383351195,1.3555735383351193,-1.6147097105649404,2.0745051044939435,-0.311914476089342,-0.4614886635159376\\n0.11274860842855089,-0.7892723355548015,0.8273772438659699,-0.47454519624983954,-0.4736736092984604,-0.45034666834090825,-1.3555735383351195,1.3555735383351193,0.6193063641452488,-0.4820426798824101,-0.311914476089342,-0.5303766406838785\\n0.11663649147781126,-0.7892723355548015,-1.5661069258891576,-0.47454519624983954,-0.4736736092984604,0.39858208016340624,0.7376951317802901,-0.7376951317802901,0.6193063641452488,-0.4820426798824101,-0.311914476089342,2.174187e-16\\n0.12052437452707164,-0.7892723355548015,-0.3693648410115938,0.4327933656785018,-0.4736736092984604,-0.22559322262067316,0.7376951317802901,-0.7376951317802901,0.6193063641452488,-0.4820426798824101,-0.311914476089342,0.2962790853314117\\n0.12441225757633201,-0.7892723355548015,0.8273772438659699,0.4327933656785018,-0.4736736092984604,-0.5065566745596926,0.7376951317802901,-0.7376951317802901,0.6193063641452488,-0.4820426798824101,-0.311914476089342,-0.04816080050829252\\n0.1283001406255924,-0.7892723355548015,0.8273772438659699,-0.47454519624983954,-0.4736736092984604,-0.4969926981460655,0.7376951317802901,-0.7376951317802901,0.6193063641452488,-0.4820426798824101,-0.311914476089342,-0.5303766406838785\\n0.13218802367485277,1.266989801811655,0.8273772438659699,-0.47454519624983954,0.7676298785983874,-0.4010166847337793,-1.3555735383351195,1.3555735383351193,0.6193063641452488,-0.4820426798824101,-0.311914476089342,-1.9081361840426954\\n0.13607590672411313,-0.7892723355548015,0.8273772438659699,4.0621476133918675,2.0089333664952354,0.2958951755118318,0.7376951317802901,-0.7376951317802901,0.6193063641452488,-0.4820426798824101,-0.311914476089342,-1.4259203438671093\\n0.1399637897733735,-0.7892723355548015,-0.3693648410115938,-0.47454519624983954,-0.4736736092984604,-0.6484216535389205,0.7376951317802901,-0.7376951317802901,0.6193063641452488,-0.4820426798824101,-0.311914476089342,2.174187e-16\\n0.1438516728226339,-0.7892723355548015,0.8273772438659699,-0.47454519624983954,-0.4736736092984604,-0.4863374216869257,0.7376951317802901,-0.7376951317802901,0.6193063641452488,-0.4820426798824101,-0.311914476089342,1.3984867200184652\\n0.14773955587189427,1.266989801811655,0.8273772438659699,-0.47454519624983954,-0.4736736092984604,-0.455380340137554,-1.3555735383351195,1.3555735383351193,0.6193063641452488,-0.4820426798824101,-0.311914476089342,2.294030423201696\\n0.15162743892115463,1.266989801811655,-1.5661069258891576,0.4327933656785018,-0.4736736092984604,1.1854295476653287,0.7376951317802901,-0.7376951317802901,-1.6147097105649404,2.0745051044939435,-0.311914476089342,-0.3237127091800559\\n0.155515321970415,-0.7892723355548015,0.8273772438659699,2.2474704895351842,0.7676298785983874,-0.13565761536436197,-1.3555735383351195,1.3555735383351193,0.6193063641452488,-0.4820426798824101,-0.311914476089342,2.174187e-16\\n0.1594032050196754,1.266989801811655,-1.5661069258891576,0.4327933656785018,-0.4736736092984604,1.163700193253568,-1.3555735383351195,1.3555735383351193,0.6193063641452488,-0.4820426798824101,-0.311914476089342,0.36516706249935255\\n0.16329108806893577,-0.7892723355548015,-1.5661069258891576,-0.47454519624983954,-0.4736736092984604,-0.05042144409739929,0.7376951317802901,-0.7376951317802901,-1.6147097105649404,2.0745051044939435,-0.311914476089342,1.949590537361992\\n0.16717897111819613,-0.7892723355548015,0.8273772438659699,-0.47454519624983954,-0.4736736092984604,-0.4863374216869257,0.7376951317802901,-0.7376951317802901,0.6193063641452488,-0.4820426798824101,-0.311914476089342,0.020727176659648322\\n0.1710668541674565,1.266989801811655,0.8273772438659699,0.4327933656785018,0.7676298785983874,-0.32828012727224753,0.7376951317802901,-0.7376951317802901,0.6193063641452488,-0.4820426798824101,-0.311914476089342,-1.4259203438671093\\n0.1749547372167169,-0.7892723355548015,0.8273772438659699,0.4327933656785018,-0.4736736092984604,-0.2463983948905696,0.7376951317802901,-0.7376951317802901,0.6193063641452488,-0.4820426798824101,-0.311914476089342,2.174187e-16\\n0.17884262026597728,-0.7892723355548015,0.8273772438659699,-0.47454519624983954,-0.4736736092984604,-0.5024451714361923,0.7376951317802901,-0.7376951317802901,0.6193063641452488,-0.4820426798824101,-0.311914476089342,-0.5992646178518193\\n0.18273050331523763,-0.7892723355548015,-1.5661069258891576,-0.47454519624983954,-0.4736736092984604,-0.034313694348132716,0.7376951317802901,-0.7376951317802901,0.6193063641452488,-0.4820426798824101,-0.311914476089342,1.7429266058581694\\n0.186618386364498,-0.7892723355548015,-1.5661069258891576,-0.47454519624983954,-0.4736736092984604,0.3483299278831318,0.7376951317802901,-0.7376951317802901,-1.6147097105649404,2.0745051044939435,-0.311914476089342,2.845134240545223\\n0.1905062694137584,-0.7892723355548015,0.8273772438659699,-0.47454519624983954,-0.4736736092984604,-0.4863374216869257,0.7376951317802901,-0.7376951317802901,0.6193063641452488,-0.4820426798824101,-0.311914476089342,-0.5992646178518193\\n0.19439415246301878,-0.7892723355548015,0.8273772438659699,-0.47454519624983954,-0.4736736092984604,-0.3573083057891445,0.7376951317802901,-0.7376951317802901,-1.6147097105649404,2.0745051044939435,-0.311914476089342,2.174187e-16\\n0.19828203551227916,1.266989801811655,-1.5661069258891576,0.4327933656785018,-0.4736736092984604,0.9274538680872313,-1.3555735383351195,1.3555735383351193,-1.6147097105649404,2.0745051044939435,-0.311914476089342,1.6740386286902287\\n0.2021699185615395,-0.7892723355548015,0.8273772438659699,-0.47454519624983954,-0.4736736092984604,-0.3443878770215141,0.7376951317802901,-0.7376951317802901,0.6193063641452488,-0.4820426798824101,-0.311914476089342,2.174187e-16\\n0.2060578016107999,-0.7892723355548015,-1.5661069258891576,0.4327933656785018,2.0089333664952354,2.4029901895877646,-1.3555735383351195,1.3555735383351193,0.6193063641452488,-0.4820426798824101,-0.311914476089342,-0.3237127091800559\\n0.20994568466006028,-0.7892723355548015,0.8273772438659699,-0.47454519624983954,-0.4736736092984604,-0.49145565916975514,0.7376951317802901,-0.7376951317802901,0.6193063641452488,-0.4820426798824101,-0.311914476089342,-0.3926006863479967\\n0.21383356770932066,-0.7892723355548015,0.8273772438659699,-0.47454519624983954,-0.4736736092984604,-0.47400492578514347,0.7376951317802901,-0.7376951317802901,0.6193063641452488,-0.4820426798824101,-0.311914476089342,-0.8748165265235827\\n0.21772145075858101,-0.7892723355548015,0.8273772438659699,-0.47454519624983954,-0.4736736092984604,-0.49237782784290063,-1.3555735383351195,1.3555735383351193,-1.6147097105649404,-0.4820426798824101,3.20600702005754,-0.5992646178518193\\n0.2216093338078414,-0.7892723355548015,0.8273772438659699,-0.47454519624983954,-0.4736736092984604,-0.4948100980550399,-1.3555735383351195,1.3555735383351193,-1.6147097105649404,-0.4820426798824101,3.20600702005754,2.174187e-16\\n0.22549721685710178,-0.7892723355548015,0.8273772438659699,-0.47454519624983954,-0.4736736092984604,-0.455380340137554,-1.3555735383351195,1.3555735383351193,0.6193063641452488,-0.4820426798824101,-0.311914476089342,0.5029430168352342\\n0.22938509990636216,1.266989801811655,-1.5661069258891576,-0.47454519624983954,-0.4736736092984604,1.093228788100527,-1.3555735383351195,1.3555735383351193,0.6193063641452488,-0.4820426798824101,-0.311914476089342,-0.9437045036915235\\n0.23327298295562252,-0.7892723355548015,-1.5661069258891576,0.4327933656785018,-0.4736736092984604,1.5442457810799908,0.7376951317802901,-0.7376951317802901,-1.6147097105649404,2.0745051044939435,-0.311914476089342,-0.8059285493556418\\n0.2371608660048829,1.266989801811655,-0.3693648410115938,-0.47454519624983954,2.0089333664952354,-0.12491978668775715,-1.3555735383351195,1.3555735383351193,0.6193063641452488,-0.4820426798824101,-0.311914476089342,0.22739110816347086\\n0.24104874905414328,1.266989801811655,-1.5661069258891576,-0.47454519624983954,-0.4736736092984604,-0.11384570873513637,0.7376951317802901,-0.7376951317802901,0.6193063641452488,-0.4820426798824101,-0.311914476089342,2.174187e-16\\n0.24493663210340366,-0.7892723355548015,0.8273772438659699,-0.47454519624983954,-0.4736736092984604,-0.1948878246611338,0.7376951317802901,-0.7376951317802901,0.6193063641452488,-0.4820426798824101,-0.311914476089342,-0.11704877767623337\\n0.24882451515266402,1.266989801811655,0.8273772438659699,-0.47454519624983954,-0.4736736092984604,0.48910360681684706,0.7376951317802901,-0.7376951317802901,0.6193063641452488,-0.4820426798824101,-0.311914476089342,-0.25482473201211503\\n0.2527123982019244,1.266989801811655,0.8273772438659699,-0.47454519624983954,-0.4736736092984604,-0.49237782784290063,0.7376951317802901,-0.7376951317802901,-1.6147097105649404,-0.4820426798824101,3.20600702005754,-0.04816080050829252\\n0.2566002812511848,-0.7892723355548015,0.8273772438659699,-0.47454519624983954,-0.4736736092984604,-0.4863374216869257,0.7376951317802901,-0.7376951317802901,0.6193063641452488,-0.4820426798824101,-0.311914476089342,2.174187e-16\\n0.26048816430044514,1.266989801811655,-1.5661069258891576,-0.47454519624983954,-0.4736736092984604,-0.11913106412161445,0.7376951317802901,-0.7376951317802901,0.6193063641452488,-0.4820426798824101,-0.311914476089342,0.43405503966729336\\n0.26437604734970555,1.266989801811655,-1.5661069258891576,0.4327933656785018,-0.4736736092984604,0.5475787653441219,-1.3555735383351195,1.3555735383351193,-1.6147097105649404,2.0745051044939435,-0.311914476089342,1.6740386286902287\\n0.2682639303989659,-0.7892723355548015,0.8273772438659699,-0.47454519624983954,-0.4736736092984604,-0.4974960653257301,0.7376951317802901,-0.7376951317802901,0.6193063641452488,-0.4820426798824101,-0.311914476089342,-0.3926006863479967\\n0.27215181344822625,-0.7892723355548015,-1.5661069258891576,-0.47454519624983954,-0.4736736092984604,0.036576512298389464,0.7376951317802901,-0.7376951317802901,0.6193063641452488,-0.4820426798824101,-0.311914476089342,1.1918227885146426\\n0.27603969649748666,1.266989801811655,-0.3693648410115938,-0.47454519624983954,-0.4736736092984604,-0.43700743807979686,-1.3555735383351195,1.3555735383351193,0.6193063641452488,-0.4820426798824101,-0.311914476089342,0.2962790853314117\\n0.279927579546747,-0.7892723355548015,0.8273772438659699,-0.47454519624983954,-0.4736736092984604,-0.1621689579829361,0.7376951317802901,-0.7376951317802901,-1.6147097105649404,-0.4820426798824101,3.20600702005754,2.174187e-16\\n0.28381546259600743,1.266989801811655,-0.3693648410115938,0.4327933656785018,-0.4736736092984604,-0.12491978668775715,-1.3555735383351195,1.3555735383351193,0.6193063641452488,-0.4820426798824101,-0.311914476089342,0.43405503966729336\\n0.2877033456452678,-0.7892723355548015,0.8273772438659699,-0.47454519624983954,-0.4736736092984604,-0.4894421904510968,0.7376951317802901,-0.7376951317802901,0.6193063641452488,-0.4820426798824101,-0.311914476089342,0.15850313099553\\n0.29159122869452814,1.266989801811655,-1.5661069258891576,-0.47454519624983954,-0.4736736092984604,1.2341715984066093,-1.3555735383351195,1.3555735383351193,0.6193063641452488,-0.4820426798824101,-0.311914476089342,0.020727176659648322\\n0.29547911174378855,-0.7892723355548015,0.8273772438659699,-0.47454519624983954,-0.4736736092984604,-0.4894421904510968,0.7376951317802901,-0.7376951317802901,0.6193063641452488,-0.4820426798824101,-0.311914476089342,-0.5303766406838785\\n0.2993669947930489,-0.7892723355548015,0.8273772438659699,-0.47454519624983954,-0.4736736092984604,-0.5029485386158568,0.7376951317802901,-0.7376951317802901,-1.6147097105649404,2.0745051044939435,-0.311914476089342,2.174187e-16\\n0.30325487784230926,1.266989801811655,-1.5661069258891576,-0.47454519624983954,0.7676298785983874,0.5189714017894245,-1.3555735383351195,1.3555735383351193,-1.6147097105649404,2.0745051044939435,-0.311914476089342,0.9851588570108202\\n0.30714276089156967,-0.7892723355548015,0.8273772438659699,-0.47454519624983954,-0.4736736092984604,-0.5028639729296732,0.7376951317802901,-0.7376951317802901,-1.6147097105649404,2.0745051044939435,-0.311914476089342,2.174187e-16\\n0.31103064394083,-0.7892723355548015,0.8273772438659699,-0.47454519624983954,-0.4736736092984604,-0.49237782784290063,0.7376951317802901,-0.7376951317802901,-1.6147097105649404,-0.4820426798824101,3.20600702005754,0.7440509369230272\\n0.31491852699009043,1.266989801811655,-0.3693648410115938,-0.47454519624983954,-0.4736736092984604,-0.43700743807979686,-1.3555735383351195,1.3555735383351193,0.6193063641452488,-0.4820426798824101,-0.311914476089342,1.3984867200184652\\n0.3188064100393508,-0.7892723355548015,-1.5661069258891576,-0.47454519624983954,-0.4736736092984604,3.817033162951754,0.7376951317802901,-0.7376951317802901,0.6193063641452488,-0.4820426798824101,-0.311914476089342,2.174187e-16\\n0.32269429308861114,-0.7892723355548015,0.8273772438659699,-0.47454519624983954,-0.4736736092984604,-0.4888542575852486,0.7376951317802901,-0.7376951317802901,0.6193063641452488,-0.4820426798824101,-0.311914476089342,0.6407189711711159\\n0.32658217613787155,-0.7892723355548015,-0.3693648410115938,1.340131927606843,0.7676298785983874,-0.41687275089321363,0.7376951317802901,-0.7376951317802901,0.6193063641452488,-0.4820426798824101,-0.311914476089342,-0.4614886635159376\\n0.3304700591871319,1.266989801811655,-0.3693648410115938,0.4327933656785018,0.7676298785983874,-0.12491978668775715,-1.3555735383351195,1.3555735383351193,0.6193063641452488,-0.4820426798824101,-0.311914476089342,-1.9081361840426954\\n0.33435794223639226,-0.7892723355548015,0.8273772438659699,-0.47454519624983954,-0.4736736092984604,-0.5028639729296732,0.7376951317802901,-0.7376951317802901,-1.6147097105649404,2.0745051044939435,-0.311914476089342,2.174187e-16\\n0.33824582528565267,-0.7892723355548015,0.8273772438659699,0.4327933656785018,0.7676298785983874,-0.5028639729296732,0.7376951317802901,-0.7376951317802901,-1.6147097105649404,2.0745051044939435,-0.311914476089342,-0.8748165265235827\\n0.342133708334913,1.266989801811655,0.8273772438659699,-0.47454519624983954,2.0089333664952354,-0.19824427701513722,-1.3555735383351195,1.3555735383351193,-1.6147097105649404,2.0745051044939435,-0.311914476089342,2.174187e-16\\n0.34602159138417343,-0.7892723355548015,0.8273772438659699,-0.47454519624983954,-0.4736736092984604,-0.47400492578514347,-1.3555735383351195,1.3555735383351193,0.6193063641452488,-0.4820426798824101,-0.311914476089342,0.020727176659648322\\n0.3499094744334338,1.266989801811655,-0.3693648410115938,-0.47454519624983954,2.0089333664952354,-0.11988611489111134,-1.3555735383351195,1.3555735383351193,0.6193063641452488,-0.4820426798824101,-0.311914476089342,-1.5636962982029912\\n0.35379735748269414,-0.7892723355548015,-1.5661069258891576,-0.47454519624983954,-0.4736736092984604,-0.11384570873513637,0.7376951317802901,-0.7376951317802901,0.6193063641452488,-0.4820426798824101,-0.311914476089342,1.054046834178761\\n0.35768524053195455,1.266989801811655,-1.5661069258891576,-0.47454519624983954,-0.4736736092984604,1.4944124302931971,-1.3555735383351195,1.3555735383351193,-1.6147097105649404,2.0745051044939435,-0.311914476089342,0.020727176659648322\\n0.3615731235812149,-0.7892723355548015,0.8273772438659699,-0.47454519624983954,-0.4736736092984604,-0.35646868933346404,0.7376951317802901,-0.7376951317802901,0.6193063641452488,-0.4820426798824101,-0.311914476089342,2.174187e-16\\n0.36546100663047526,1.266989801811655,-1.5661069258891576,-0.47454519624983954,2.0089333664952354,0.3482453621969482,-1.3555735383351195,1.3555735383351193,-1.6147097105649404,2.0745051044939435,-0.311914476089342,-0.5303766406838785\\n0.36934888967973567,1.266989801811655,-1.5661069258891576,-0.47454519624983954,2.0089333664952354,0.7811411367084872,-1.3555735383351195,1.3555735383351193,0.6193063641452488,-0.4820426798824101,-0.311914476089342,0.43405503966729336\\n0.373236772728996,-0.7892723355548015,0.8273772438659699,3.1548090514635256,2.0089333664952354,-0.01870931177853076,-1.3555735383351195,1.3555735383351193,0.6193063641452488,-0.4820426798824101,-0.311914476089342,-1.4259203438671093\\n0.37712465577825643,-0.7892723355548015,0.8273772438659699,3.1548090514635256,2.0089333664952354,-0.01870931177853076,-1.3555735383351195,1.3555735383351193,0.6193063641452488,-0.4820426798824101,-0.311914476089342,-1.2881443895312277\\n0.3810125388275168,1.266989801811655,-0.3693648410115938,0.4327933656785018,-0.4736736092984604,-0.12491978668775715,0.7376951317802901,-0.7376951317802901,0.6193063641452488,-0.4820426798824101,-0.311914476089342,0.15850313099553\\n0.38490042187677714,-0.7892723355548015,-1.5661069258891576,0.4327933656785018,-0.4736736092984604,1.4944124302931971,0.7376951317802901,-0.7376951317802901,-1.6147097105649404,2.0745051044939435,-0.311914476089342,1.3984867200184652\\n0.38878830492603755,-0.7892723355548015,-1.5661069258891576,-0.47454519624983954,-0.4736736092984604,-0.12491978668775715,0.7376951317802901,-0.7376951317802901,0.6193063641452488,-0.4820426798824101,-0.311914476089342,2.362918400369637\\n0.3926761879752979,1.266989801811655,-0.3693648410115938,0.4327933656785018,-0.4736736092984604,-0.12491978668775715,-1.3555735383351195,1.3555735383351193,0.6193063641452488,-0.4820426798824101,-0.311914476089342,-0.7370405721877009\\n0.3965640710245583,1.266989801811655,-0.3693648410115938,-0.47454519624983954,-0.4736736092984604,-0.3693045524149108,0.7376951317802901,-0.7376951317802901,-1.6147097105649404,2.0745051044939435,-0.311914476089342,2.174187e-16\\n0.4004519540738187,-0.7892723355548015,0.8273772438659699,0.4327933656785018,0.7676298785983874,-0.2351571990343002,0.7376951317802901,-0.7376951317802901,0.6193063641452488,-0.4820426798824101,-0.311914476089342,0.22739110816347086\\n0.404339837123079,1.266989801811655,-0.3693648410115938,0.4327933656785018,0.7676298785983874,0.09152810056801232,0.7376951317802901,-0.7376951317802901,0.6193063641452488,-0.4820426798824101,-0.311914476089342,-1.4948083210350502\\n0.40822772017233944,1.266989801811655,-1.5661069258891576,-0.47454519624983954,2.0089333664952354,1.5841789061771412,0.7376951317802901,-0.7376951317802901,-1.6147097105649404,2.0745051044939435,-0.311914476089342,-0.8748165265235827\\n0.4121156032215998,-0.7892723355548015,-0.3693648410115938,-0.47454519624983954,-0.4736736092984604,-0.12491978668775715,0.7376951317802901,-0.7376951317802901,0.6193063641452488,-0.4820426798824101,-0.311914476089342,-0.1859367548441742\\n0.41600348627086015,-0.7892723355548015,0.8273772438659699,-0.47454519624983954,-0.4736736092984604,-0.49078316061772326,0.7376951317802901,-0.7376951317802901,-1.6147097105649404,-0.4820426798824101,3.20600702005754,2.174187e-16\\n0.41989136932012056,1.266989801811655,0.8273772438659699,-0.47454519624983954,-0.4736736092984604,-0.5029485386158568,0.7376951317802901,-0.7376951317802901,-1.6147097105649404,2.0745051044939435,-0.311914476089342,-0.5303766406838785\\n0.4237792523693809,1.266989801811655,0.8273772438659699,-0.47454519624983954,-0.4736736092984604,-0.4918744606632361,-1.3555735383351195,1.3555735383351193,0.6193063641452488,-0.4820426798824101,-0.311914476089342,-0.5303766406838785\\n0.4276671354186413,-0.7892723355548015,-1.5661069258891576,-0.47454519624983954,-0.4736736092984604,-0.11384570873513637,0.7376951317802901,-0.7376951317802901,0.6193063641452488,-0.4820426798824101,-0.311914476089342,2.225142446033755\\n0.4315550184679017,1.266989801811655,-1.5661069258891576,0.4327933656785018,-0.4736736092984604,0.1489119590497745,-1.3555735383351195,1.3555735383351193,-1.6147097105649404,2.0745051044939435,-0.311914476089342,1.2607107656825836\\n0.43544290151716203,-0.7892723355548015,-1.5661069258891576,-0.47454519624983954,-0.4736736092984604,3.9327230485884233,0.7376951317802901,-0.7376951317802901,-1.6147097105649404,2.0745051044939435,-0.311914476089342,2.174187e-16\\n0.43933078456642244,1.266989801811655,-1.5661069258891576,0.4327933656785018,0.7676298785983874,0.955306180872432,-1.3555735383351195,1.3555735383351193,0.6193063641452488,-0.4820426798824101,-0.311914476089342,0.6407189711711159\\n0.4432186676156828,1.266989801811655,0.8273772438659699,0.4327933656785018,-0.4736736092984604,-0.29807809649237277,-1.3555735383351195,1.3555735383351193,0.6193063641452488,-0.4820426798824101,-0.311914476089342,0.43405503966729336\\n0.44710655066494315,-0.7892723355548015,0.8273772438659699,-0.47454519624983954,-0.4736736092984604,-0.49237782784290063,0.7376951317802901,-0.7376951317802901,-1.6147097105649404,-0.4820426798824101,3.20600702005754,2.174187e-16\\n0.45099443371420356,-0.7892723355548015,0.8273772438659699,-0.47454519624983954,-0.4736736092984604,-0.4894421904510968,0.7376951317802901,-0.7376951317802901,0.6193063641452488,-0.4820426798824101,-0.311914476089342,0.7096069483390568\\n0.4548823167634639,-0.7892723355548015,-0.3693648410115938,-0.47454519624983954,-0.4736736092984604,-0.3766033765200472,0.7376951317802901,-0.7376951317802901,0.6193063641452488,-0.4820426798824101,-0.311914476089342,-0.11704877767623337\\n0.4587701998127243,-0.7892723355548015,0.8273772438659699,-0.47454519624983954,-0.4736736092984604,-0.4863374216869257,0.7376951317802901,-0.7376951317802901,0.6193063641452488,-0.4820426798824101,-0.311914476089342,2.174187e-16\\n0.4626580828619847,-0.7892723355548015,0.8273772438659699,-0.47454519624983954,-0.4736736092984604,-0.4863374216869257,-1.3555735383351195,1.3555735383351193,0.6193063641452488,-0.4820426798824101,-0.311914476089342,2.174187e-16\\n0.46654596591124503,-0.7892723355548015,0.8273772438659699,1.340131927606843,-0.4736736092984604,-0.1621689579829361,0.7376951317802901,-0.7376951317802901,0.6193063641452488,-0.4820426798824101,-0.311914476089342,-0.3926006863479967\\n0.47043384896050544,-0.7892723355548015,0.8273772438659699,-0.47454519624983954,-0.4736736092984604,-0.4894421904510968,0.7376951317802901,-0.7376951317802901,0.6193063641452488,-0.4820426798824101,-0.311914476089342,-0.7370405721877009\\n0.4743217320097658,-0.7892723355548015,0.8273772438659699,-0.47454519624983954,4.491540342288931,-0.22408312108167944,-1.3555735383351195,1.3555735383351193,0.6193063641452488,-0.4820426798824101,-0.311914476089342,-0.04816080050829252\\n0.47820961505902615,-0.7892723355548015,0.8273772438659699,-0.47454519624983954,-0.4736736092984604,-0.5028639729296732,0.7376951317802901,-0.7376951317802901,-1.6147097105649404,2.0745051044939435,-0.311914476089342,2.174187e-16\\n0.48209749810828656,1.266989801811655,0.8273772438659699,-0.47454519624983954,-0.4736736092984604,-0.4902797934380587,0.7376951317802901,-0.7376951317802901,0.6193063641452488,-0.4820426798824101,-0.311914476089342,0.15850313099553\\n0.4859853811575469,1.266989801811655,-0.3693648410115938,-0.47454519624983954,-0.4736736092984604,-0.43700743807979686,0.7376951317802901,-0.7376951317802901,0.6193063641452488,-0.4820426798824101,-0.311914476089342,2.225142446033755\\n0.4898732642068073,1.266989801811655,-1.5661069258891576,1.340131927606843,-0.4736736092984604,0.38809593507663365,-1.3555735383351195,1.3555735383351193,0.6193063641452488,-0.4820426798824101,-0.311914476089342,1.6051506515222878\\n0.4937611472560677,1.266989801811655,-1.5661069258891576,-0.47454519624983954,-0.4736736092984604,-0.11711759540295616,0.7376951317802901,-0.7376951317802901,0.6193063641452488,-0.4820426798824101,-0.311914476089342,0.43405503966729336\\n0.49764903030532803,1.266989801811655,0.8273772438659699,-0.47454519624983954,-0.4736736092984604,-0.49237782784290063,-1.3555735383351195,1.3555735383351193,-1.6147097105649404,-0.4820426798824101,3.20600702005754,2.174187e-16\\n0.5015369133545884,-0.7892723355548015,0.8273772438659699,-0.47454519624983954,-0.4736736092984604,-0.4863374216869257,0.7376951317802901,-0.7376951317802901,0.6193063641452488,-0.4820426798824101,-0.311914476089342,-0.9437045036915235\\n0.5054247964038489,-0.7892723355548015,0.8273772438659699,-0.47454519624983954,-0.4736736092984604,-0.35646868933346404,0.7376951317802901,-0.7376951317802901,0.6193063641452488,-0.4820426798824101,-0.311914476089342,-0.7370405721877009\\n0.5093126794531092,1.266989801811655,-0.3693648410115938,-0.47454519624983954,-0.4736736092984604,-0.3866707201133388,-1.3555735383351195,1.3555735383351193,0.6193063641452488,-0.4820426798824101,-0.311914476089342,0.2962790853314117\\n0.5132005625023696,1.266989801811655,-1.5661069258891576,0.4327933656785018,-0.4736736092984604,0.4771073601910807,-1.3555735383351195,1.3555735383351193,0.6193063641452488,-0.4820426798824101,-0.311914476089342,0.6407189711711159\\n0.5170884455516299,-0.7892723355548015,0.8273772438659699,0.4327933656785018,-0.4736736092984604,-0.3573083057891445,-1.3555735383351195,1.3555735383351193,-1.6147097105649404,2.0745051044939435,-0.311914476089342,2.174187e-16\\n0.5209763286008903,1.266989801811655,0.8273772438659699,-0.47454519624983954,-0.4736736092984604,-0.4888542575852486,0.7376951317802901,-0.7376951317802901,0.6193063641452488,-0.4820426798824101,-0.311914476089342,0.15850313099553\\n0.5248642116501506,1.266989801811655,-0.3693648410115938,0.4327933656785018,0.7676298785983874,-0.04438103794142432,-1.3555735383351195,1.3555735383351193,0.6193063641452488,-0.4820426798824101,-0.311914476089342,-0.3237127091800559\\n0.5287520946994111,1.266989801811655,-1.5661069258891576,0.4327933656785018,0.7676298785983874,1.5841789061771412,-1.3555735383351195,1.3555735383351193,-1.6147097105649404,2.0745051044939435,-0.311914476089342,0.6407189711711159\\n0.5326399777486714,-0.7892723355548015,-0.3693648410115938,-0.47454519624983954,-0.4736736092984604,-0.12491978668775715,0.7376951317802901,-0.7376951317802901,0.6193063641452488,-0.4820426798824101,-0.311914476089342,1.6740386286902287\\n0.5365278607979318,-0.7892723355548015,-1.5661069258891576,-0.47454519624983954,-0.4736736092984604,0.15948266982273065,0.7376951317802901,-0.7376951317802901,-1.6147097105649404,2.0745051044939435,-0.311914476089342,0.43405503966729336\\n0.5404157438471922,-0.7892723355548015,0.8273772438659699,-0.47454519624983954,-0.4736736092984604,-0.47299819142581434,0.7376951317802901,-0.7376951317802901,-1.6147097105649404,2.0745051044939435,-0.311914476089342,2.174187e-16\\n0.5443036268964525,1.266989801811655,-1.5661069258891576,-0.47454519624983954,2.0089333664952354,0.955306180872432,-1.3555735383351195,1.3555735383351193,0.6193063641452488,-0.4820426798824101,-0.311914476089342,-0.8059285493556418\\n0.548191509945713,-0.7892723355548015,-0.3693648410115938,-0.47454519624983954,-0.4736736092984604,-0.3464013457401724,0.7376951317802901,-0.7376951317802901,0.6193063641452488,-0.4820426798824101,-0.311914476089342,1.1918227885146426\\n0.5520793929949733,1.266989801811655,-1.5661069258891576,0.4327933656785018,0.7676298785983874,0.9462455716384695,0.7376951317802901,-0.7376951317802901,-1.6147097105649404,2.0745051044939435,-0.311914476089342,2.087366491697874\\n0.5559672760442337,-0.7892723355548015,0.8273772438659699,-0.47454519624983954,-0.4736736092984604,-0.4863374216869257,0.7376951317802901,-0.7376951317802901,0.6193063641452488,-0.4820426798824101,-0.311914476089342,-0.5303766406838785\\n0.559855159093494,-0.7892723355548015,0.8273772438659699,-0.47454519624983954,-0.4736736092984604,-0.4863374216869257,0.7376951317802901,-0.7376951317802901,0.6193063641452488,-0.4820426798824101,-0.311914476089342,2.174187e-16\\n0.5637430421427544,-0.7892723355548015,0.8273772438659699,-0.47454519624983954,-0.4736736092984604,-0.5049620073345151,0.7376951317802901,-0.7376951317802901,0.6193063641452488,-0.4820426798824101,-0.311914476089342,0.36516706249935255\\n0.5676309251920149,1.266989801811655,-1.5661069258891576,0.4327933656785018,-0.4736736092984604,0.9274538680872313,-1.3555735383351195,1.3555735383351193,-1.6147097105649404,2.0745051044939435,-0.311914476089342,1.5362626743543468\\n0.5715188082412752,-0.7892723355548015,0.8273772438659699,-0.47454519624983954,-0.4736736092984604,-0.5024451714361923,0.7376951317802901,-0.7376951317802901,0.6193063641452488,-0.4820426798824101,-0.311914476089342,1.1918227885146426\\n0.5754066912905356,-0.7892723355548015,0.8273772438659699,-0.47454519624983954,2.0089333664952354,-0.49237782784290063,-1.3555735383351195,1.3555735383351193,-1.6147097105649404,-0.4820426798824101,3.20600702005754,2.174187e-16\\n0.5792945743397959,-0.7892723355548015,-0.3693648410115938,0.4327933656785018,-0.4736736092984604,-0.12491978668775715,0.7376951317802901,-0.7376951317802901,0.6193063641452488,-0.4820426798824101,-0.311914476089342,0.5029430168352342\\n0.5831824573890563,-0.7892723355548015,0.8273772438659699,0.4327933656785018,0.7676298785983874,-0.1621689579829361,0.7376951317802901,-0.7376951317802901,0.6193063641452488,-0.4820426798824101,-0.311914476089342,0.43405503966729336\\n0.5870703404383166,1.266989801811655,-0.3693648410115938,-0.47454519624983954,-0.4736736092984604,0.016023023618325298,-1.3555735383351195,1.3555735383351193,0.6193063641452488,-0.4820426798824101,-0.311914476089342,2.174187e-16\\n0.5909582234875771,-0.7892723355548015,0.8273772438659699,-0.47454519624983954,-0.4736736092984604,-0.6484216535389205,0.7376951317802901,-0.7376951317802901,0.6193063641452488,-0.4820426798824101,-0.311914476089342,1.3295987428505243\\n0.5948461065368374,-0.7892723355548015,0.8273772438659699,-0.47454519624983954,-0.4736736092984604,-0.5029485386158568,0.7376951317802901,-0.7376951317802901,-1.6147097105649404,2.0745051044939435,-0.311914476089342,2.174187e-16\\n0.5987339895860978,1.266989801811655,-1.5661069258891576,0.4327933656785018,-0.4736736092984604,0.49782998024351216,0.7376951317802901,-0.7376951317802901,-1.6147097105649404,2.0745051044939435,-0.311914476089342,1.3295987428505243\\n0.6026218726353582,1.266989801811655,-0.3693648410115938,1.340131927606843,0.7676298785983874,-0.10478509950117394,-1.3555735383351195,1.3555735383351193,0.6193063641452488,-0.4820426798824101,-0.311914476089342,-0.3926006863479967\\n0.6065097556846185,-0.7892723355548015,0.8273772438659699,-0.47454519624983954,-0.4736736092984604,-0.4894421904510968,0.7376951317802901,-0.7376951317802901,0.6193063641452488,-0.4820426798824101,-0.311914476089342,2.174187e-16\\n0.610397638733879,-0.7892723355548015,-1.5661069258891576,-0.47454519624983954,-0.4736736092984604,0.2052890831722074,0.7376951317802901,-0.7376951317802901,0.6193063641452488,-0.4820426798824101,-0.311914476089342,2.174187e-16\\n0.6142855217831393,-0.7892723355548015,0.8273772438659699,-0.47454519624983954,-0.4736736092984604,-0.4863374216869257,0.7376951317802901,-0.7376951317802901,0.6193063641452488,-0.4820426798824101,-0.311914476089342,0.9851588570108202\\n0.6181734048323997,1.266989801811655,-1.5661069258891576,-0.47454519624983954,-0.4736736092984604,-0.11384570873513637,0.7376951317802901,-0.7376951317802901,-1.6147097105649404,2.0745051044939435,-0.311914476089342,0.36516706249935255\\n0.62206128788166,-0.7892723355548015,0.8273772438659699,0.4327933656785018,-0.4736736092984604,-0.3353272677875516,0.7376951317802901,-0.7376951317802901,0.6193063641452488,-0.4820426798824101,-0.311914476089342,0.43405503966729336\\n0.6259491709309204,-0.7892723355548015,0.8273772438659699,-0.47454519624983954,-0.4736736092984604,-0.4894421904510968,0.7376951317802901,-0.7376951317802901,0.6193063641452488,-0.4820426798824101,-0.311914476089342,0.020727176659648322\\n0.6298370539801809,1.266989801811655,-1.5661069258891576,-0.47454519624983954,-0.4736736092984604,-0.034313694348132716,0.7376951317802901,-0.7376951317802901,0.6193063641452488,-0.4820426798824101,-0.311914476089342,-0.1859367548441742\\n0.6337249370294412,1.266989801811655,-0.3693648410115938,0.4327933656785018,2.0089333664952354,0.18876253192945994,-1.3555735383351195,1.3555735383351193,-1.6147097105649404,2.0745051044939435,-0.311914476089342,-0.5303766406838785\\n0.6376128200787016,1.266989801811655,-1.5661069258891576,-0.47454519624983954,-0.4736736092984604,2.441497778832105,-1.3555735383351195,1.3555735383351193,0.6193063641452488,-0.4820426798824101,-0.311914476089342,0.7096069483390568\\n0.6415007031279619,-0.7892723355548015,0.8273772438659699,0.4327933656785018,5.73284383018578,-0.01870931177853076,-1.3555735383351195,1.3555735383351193,0.6193063641452488,-0.4820426798824101,-0.311914476089342,0.6407189711711159\\n0.6453885861772223,-0.7892723355548015,0.8273772438659699,-0.47454519624983954,-0.4736736092984604,-0.5064721088735089,0.7376951317802901,-0.7376951317802901,0.6193063641452488,-0.4820426798824101,-0.311914476089342,2.174187e-16\\n0.6492764692264827,1.266989801811655,0.8273772438659699,0.4327933656785018,-0.4736736092984604,-0.3363340021468808,-1.3555735383351195,1.3555735383351193,-1.6147097105649404,-0.4820426798824101,3.20600702005754,2.174187e-16\\n0.6531643522757431,-0.7892723355548015,0.8273772438659699,-0.47454519624983954,-0.4736736092984604,-0.49237782784290063,0.7376951317802901,-0.7376951317802901,-1.6147097105649404,-0.4820426798824101,3.20600702005754,2.174187e-16\\n0.6570522353250035,-0.7892723355548015,0.8273772438659699,-0.47454519624983954,-0.4736736092984604,-0.4863374216869257,0.7376951317802901,-0.7376951317802901,0.6193063641452488,-0.4820426798824101,-0.311914476089342,0.36516706249935255\\n0.6609401183742638,1.266989801811655,-0.3693648410115938,0.4327933656785018,2.0089333664952354,0.6603330135889879,-1.3555735383351195,1.3555735383351193,0.6193063641452488,-0.4820426798824101,-0.311914476089342,-0.3926006863479967\\n0.6648280014235242,-0.7892723355548015,0.8273772438659699,0.4327933656785018,0.7676298785983874,-0.35848215805212236,0.7376951317802901,-0.7376951317802901,0.6193063641452488,-0.4820426798824101,-0.311914476089342,0.2962790853314117\\n0.6687158844727845,-0.7892723355548015,0.8273772438659699,0.4327933656785018,-0.4736736092984604,-0.32425318983493084,-1.3555735383351195,1.3555735383351193,0.6193063641452488,-0.4820426798824101,-0.311914476089342,-0.25482473201211503\\n0.672603767522045,1.266989801811655,-0.3693648410115938,1.340131927606843,0.7676298785983874,0.13683114673782454,-1.3555735383351195,1.3555735383351193,0.6193063641452488,-0.4820426798824101,-0.311914476089342,-1.7703602297068137\\n0.6764916505713053,-0.7892723355548015,-0.3693648410115938,-0.47454519624983954,-0.4736736092984604,-0.43700743807979686,0.7376951317802901,-0.7376951317802901,0.6193063641452488,-0.4820426798824101,-0.311914476089342,-0.25482473201211503\\n0.6803795336205657,-0.7892723355548015,0.8273772438659699,0.4327933656785018,-0.4736736092984604,-0.3573908580066095,0.7376951317802901,-0.7376951317802901,-1.6147097105649404,2.0745051044939435,-0.311914476089342,-0.1859367548441742\\n0.684267416669826,1.266989801811655,-1.5661069258891576,0.4327933656785018,-0.4736736092984604,0.40974072380221066,0.7376951317802901,-0.7376951317802901,0.6193063641452488,-0.4820426798824101,-0.311914476089342,0.8473829026749384\\n0.6881552997190864,1.266989801811655,0.8273772438659699,0.4327933656785018,0.7676298785983874,-0.33146744825388363,0.7376951317802901,-0.7376951317802901,-1.6147097105649404,2.0745051044939435,-0.311914476089342,-0.6681525950197601\\n0.6920431827683469,-0.7892723355548015,0.8273772438659699,-0.47454519624983954,-0.4736736092984604,-0.4902797934380587,0.7376951317802901,-0.7376951317802901,0.6193063641452488,-0.4820426798824101,-0.311914476089342,-0.5992646178518193\\n0.6959310658176072,-0.7892723355548015,0.8273772438659699,-0.47454519624983954,-0.4736736092984604,-0.32425318983493084,0.7376951317802901,-0.7376951317802901,0.6193063641452488,-0.4820426798824101,-0.311914476089342,-0.5992646178518193\\n0.6998189488668676,-0.7892723355548015,-1.5661069258891576,-0.47454519624983954,-0.4736736092984604,0.002347544081197954,0.7376951317802901,-0.7376951317802901,0.6193063641452488,-0.4820426798824101,-0.311914476089342,2.1562544688658143\\n0.7037068319161279,-0.7892723355548015,-0.3693648410115938,-0.47454519624983954,-0.4736736092984604,-0.3997582667846179,0.7376951317802901,-0.7376951317802901,-1.6147097105649404,-0.4820426798824101,3.20600702005754,1.880702560194051\\n0.7075947149653883,1.266989801811655,-1.5661069258891576,-0.47454519624983954,-0.4736736092984604,0.921244330558889,-1.3555735383351195,1.3555735383351193,0.6193063641452488,-0.4820426798824101,-0.311914476089342,-0.5992646178518193\\n0.7114825980146487,-0.7892723355548015,0.8273772438659699,-0.47454519624983954,-0.4736736092984604,-0.4894421904510968,0.7376951317802901,-0.7376951317802901,0.6193063641452488,-0.4820426798824101,-0.311914476089342,-0.25482473201211503\\n0.7153704810639091,-0.7892723355548015,0.8273772438659699,-0.47454519624983954,-0.4736736092984604,-0.49271407711891657,0.7376951317802901,-0.7376951317802901,-1.6147097105649404,-0.4820426798824101,3.20600702005754,2.174187e-16\\n0.7192583641131695,1.266989801811655,-1.5661069258891576,-0.47454519624983954,-0.4736736092984604,-0.04438103794142432,0.7376951317802901,-0.7376951317802901,0.6193063641452488,-0.4820426798824101,-0.311914476089342,3.4651260350566906\\n0.7231462471624298,-0.7892723355548015,0.8273772438659699,-0.47454519624983954,-0.4736736092984604,-0.5063875431873253,0.7376951317802901,-0.7376951317802901,0.6193063641452488,-0.4820426798824101,-0.311914476089342,1.4673746971864061\\n0.7270341302116902,1.266989801811655,-1.5661069258891576,-0.47454519624983954,-0.4736736092984604,-0.034313694348132716,0.7376951317802901,-0.7376951317802901,-1.6147097105649404,2.0745051044939435,-0.311914476089342,0.15850313099553\\n0.7309220132609505,-0.7892723355548015,-1.5661069258891576,-0.47454519624983954,-0.4736736092984604,-0.6484216535389205,0.7376951317802901,-0.7376951317802901,0.6193063641452488,-0.4820426798824101,-0.311914476089342,2.174187e-16\\n0.734809896310211,-0.7892723355548015,0.8273772438659699,2.2474704895351842,2.0089333664952354,-0.08666388103324908,-1.3555735383351195,1.3555735383351193,0.6193063641452488,-0.4820426798824101,-0.311914476089342,-1.4259203438671093\\n0.7386977793594713,1.266989801811655,-0.3693648410115938,-0.47454519624983954,-0.4736736092984604,-0.3866707201133388,-1.3555735383351195,1.3555735383351193,0.6193063641452488,-0.4820426798824101,-0.311914476089342,-0.11704877767623337\\n0.7425856624087317,-0.7892723355548015,0.8273772438659699,-0.47454519624983954,-0.4736736092984604,-0.4888542575852486,0.7376951317802901,-0.7376951317802901,0.6193063641452488,-0.4820426798824101,-0.311914476089342,0.15850313099553\\n0.746473545457992,-0.7892723355548015,-0.3693648410115938,0.4327933656785018,0.7676298785983874,-0.11988611489111134,0.7376951317802901,-0.7376951317802901,0.6193063641452488,-0.4820426798824101,-0.311914476089342,0.08961515382758917\\n0.7503614285072524,-0.7892723355548015,0.8273772438659699,-0.47454519624983954,5.73284383018578,0.1506737441786005,-1.3555735383351195,1.3555735383351193,0.6193063641452488,-0.4820426798824101,-0.311914476089342,0.7784949255069976\\n0.7542493115565129,-0.7892723355548015,0.8273772438659699,0.4327933656785018,-0.4736736092984604,-0.32425318983493084,0.7376951317802901,-0.7376951317802901,0.6193063641452488,-0.4820426798824101,-0.311914476089342,2.174187e-16\\n0.7581371946057732,-0.7892723355548015,0.8273772438659699,-0.47454519624983954,-0.4736736092984604,-0.4902797934380587,0.7376951317802901,-0.7376951317802901,0.6193063641452488,-0.4820426798824101,-0.311914476089342,-0.6681525950197601\\n0.7620250776550336,1.266989801811655,-1.5661069258891576,-0.47454519624983954,-0.4736736092984604,0.7469121684912956,-1.3555735383351195,1.3555735383351193,-1.6147097105649404,2.0745051044939435,-0.311914476089342,-0.3926006863479967\\n0.7659129607042939,-0.7892723355548015,0.8273772438659699,2.2474704895351842,2.0089333664952354,-0.08666388103324908,-1.3555735383351195,1.3555735383351193,0.6193063641452488,-0.4820426798824101,-0.311914476089342,-1.9081361840426954\\n0.7698008437535543,1.266989801811655,0.8273772438659699,-0.47454519624983954,-0.4736736092984604,0.48910360681684706,0.7376951317802901,-0.7376951317802901,0.6193063641452488,-0.4820426798824101,-0.311914476089342,2.174187e-16\\n0.7736887268028148,1.266989801811655,0.8273772438659699,1.340131927606843,0.7676298785983874,-0.26066180729354516,-1.3555735383351195,1.3555735383351193,-1.6147097105649404,2.0745051044939435,-0.311914476089342,-1.9942461555026214\\n0.7775766098520751,1.266989801811655,-1.5661069258891576,0.4327933656785018,-0.4736736092984604,0.8964967865378598,0.7376951317802901,-0.7376951317802901,-1.6147097105649404,2.0745051044939435,-0.311914476089342,1.2607107656825836\\n0.7814644929013355,-0.7892723355548015,0.8273772438659699,-0.47454519624983954,-0.4736736092984604,-0.4894421904510968,0.7376951317802901,-0.7376951317802901,0.6193063641452488,-0.4820426798824101,-0.311914476089342,-0.7370405721877009\\n0.7853523759505958,1.266989801811655,-1.5661069258891576,-0.47454519624983954,-0.4736736092984604,0.06635974158478332,0.7376951317802901,-0.7376951317802901,-1.6147097105649404,2.0745051044939435,-0.311914476089342,1.8118145830261103\\n0.7892402589998562,-0.7892723355548015,0.8273772438659699,-0.47454519624983954,-0.4736736092984604,-0.49640476528021726,0.7376951317802901,-0.7376951317802901,0.6193063641452488,-0.4820426798824101,-0.311914476089342,2.174187e-16\\n0.7931281420491166,1.266989801811655,0.8273772438659699,-0.47454519624983954,-0.4736736092984604,-0.49640476528021726,-1.3555735383351195,1.3555735383351193,0.6193063641452488,-0.4820426798824101,-0.311914476089342,-0.4614886635159376\\n0.797016025098377,-0.7892723355548015,0.8273772438659699,-0.47454519624983954,-0.4736736092984604,-0.4894421904510968,0.7376951317802901,-0.7376951317802901,0.6193063641452488,-0.4820426798824101,-0.311914476089342,2.174187e-16\\n0.8009039081476373,1.266989801811655,-0.3693648410115938,-0.47454519624983954,0.7676298785983874,-0.18532384824750675,-1.3555735383351195,1.3555735383351193,0.6193063641452488,-0.4820426798824101,-0.311914476089342,-0.8059285493556418\\n0.8047917911968977,-0.7892723355548015,0.8273772438659699,-0.47454519624983954,-0.4736736092984604,-0.47861979608830835,0.7376951317802901,-0.7376951317802901,0.6193063641452488,-0.4820426798824101,-0.311914476089342,-0.5992646178518193\\n0.808679674246158,1.266989801811655,0.8273772438659699,-0.47454519624983954,-0.4736736092984604,-0.49078316061772326,-1.3555735383351195,1.3555735383351193,-1.6147097105649404,-0.4820426798824101,3.20600702005754,2.174187e-16\\n0.8125675572954184,-0.7892723355548015,0.8273772438659699,-0.47454519624983954,-0.4736736092984604,-0.5125125150294839,-1.3555735383351195,1.3555735383351193,-1.6147097105649404,-0.4820426798824101,3.20600702005754,-0.8059285493556418\\n0.8164554403446789,-0.7892723355548015,-0.3693648410115938,1.340131927606843,-0.4736736092984604,0.8314778546749452,0.7376951317802901,-0.7376951317802901,0.6193063641452488,-0.4820426798824101,-0.311914476089342,-0.3926006863479967\\n0.8203433233939392,-0.7892723355548015,0.8273772438659699,-0.47454519624983954,-0.4736736092984604,-0.4894421904510968,0.7376951317802901,-0.7376951317802901,0.6193063641452488,-0.4820426798824101,-0.311914476089342,2.174187e-16\\n0.8242312064431996,-0.7892723355548015,0.8273772438659699,0.4327933656785018,0.7676298785983874,-0.3363340021468808,-1.3555735383351195,1.3555735383351193,-1.6147097105649404,-0.4820426798824101,3.20600702005754,0.15850313099553\\n0.8281190894924599,-0.7892723355548015,-0.3693648410115938,-0.47454519624983954,-0.4736736092984604,-0.3866707201133388,0.7376951317802901,-0.7376951317802901,0.6193063641452488,-0.4820426798824101,-0.311914476089342,-0.4614886635159376\\n0.8320069725417203,-0.7892723355548015,-1.5661069258891576,-0.47454519624983954,2.0089333664952354,1.6323350375212924,0.7376951317802901,-0.7376951317802901,-1.6147097105649404,2.0745051044939435,-0.311914476089342,1.949590537361992\\n0.8358948555909808,1.266989801811655,-1.5661069258891576,1.340131927606843,-0.4736736092984604,2.042579288947925,0.7376951317802901,-0.7376951317802901,0.6193063641452488,-0.4820426798824101,-0.311914476089342,1.3984867200184652\\n0.8397827386402411,-0.7892723355548015,0.8273772438659699,-0.47454519624983954,-0.4736736092984604,-0.5029485386158568,0.7376951317802901,-0.7376951317802901,-1.6147097105649404,2.0745051044939435,-0.311914476089342,0.7096069483390568\\n0.8436706216895015,-0.7892723355548015,-1.5661069258891576,-0.47454519624983954,-0.4736736092984604,-0.13322534515222276,0.7376951317802901,-0.7376951317802901,0.6193063641452488,-0.4820426798824101,-0.311914476089342,1.1918227885146426\\n0.8475585047387618,-0.7892723355548015,0.8273772438659699,-0.47454519624983954,-0.4736736092984604,-0.4974960653257301,0.7376951317802901,-0.7376951317802901,0.6193063641452488,-0.4820426798824101,-0.311914476089342,0.43405503966729336\\n0.8514463877880222,1.266989801811655,0.8273772438659699,0.4327933656785018,-0.4736736092984604,-0.4888542575852486,0.7376951317802901,-0.7376951317802901,0.6193063641452488,-0.4820426798824101,-0.311914476089342,-0.6681525950197601\\n0.8553342708372826,-0.7892723355548015,-0.3693648410115938,1.340131927606843,-0.4736736092984604,0.8314778546749452,0.7376951317802901,-0.7376951317802901,0.6193063641452488,-0.4820426798824101,-0.311914476089342,0.15850313099553\\n0.859222153886543,-0.7892723355548015,-0.3693648410115938,-0.47454519624983954,-0.4736736092984604,-0.3866707201133388,0.7376951317802901,-0.7376951317802901,0.6193063641452488,-0.4820426798824101,-0.311914476089342,-0.3237127091800559\\n0.8631100369358033,-0.7892723355548015,0.8273772438659699,-0.47454519624983954,-0.4736736092984604,-0.4918744606632361,0.7376951317802901,-0.7376951317802901,0.6193063641452488,-0.4820426798824101,-0.311914476089342,2.174187e-16\\n0.8669979199850637,-0.7892723355548015,0.8273772438659699,-0.47454519624983954,-0.4736736092984604,-0.4863374216869257,0.7376951317802901,-0.7376951317802901,0.6193063641452488,-0.4820426798824101,-0.311914476089342,0.9162708798428792\\n0.8708858030343241,1.266989801811655,-1.5661069258891576,0.4327933656785018,-0.4736736092984604,0.39858208016340624,-1.3555735383351195,1.3555735383351193,0.6193063641452488,-0.4820426798824101,-0.311914476089342,2.174187e-16\\n0.8747736860835844,1.266989801811655,-0.3693648410115938,0.4327933656785018,0.7676298785983874,0.13683114673782454,-1.3555735383351195,1.3555735383351193,0.6193063641452488,-0.4820426798824101,-0.311914476089342,0.7096069483390568\\n0.8786615691328449,-0.7892723355548015,-1.5661069258891576,0.4327933656785018,-0.4736736092984604,0.39858208016340624,0.7376951317802901,-0.7376951317802901,0.6193063641452488,-0.4820426798824101,-0.311914476089342,0.08961515382758917\\n0.8825494521821052,-0.7892723355548015,-0.3693648410115938,-0.47454519624983954,-0.4736736092984604,-0.43700743807979686,0.7376951317802901,-0.7376951317802901,0.6193063641452488,-0.4820426798824101,-0.311914476089342,2.776246263377282\\n0.8864373352313656,1.266989801811655,-0.3693648410115938,-0.47454519624983954,-0.4736736092984604,-0.3866707201133388,0.7376951317802901,-0.7376951317802901,0.6193063641452488,-0.4820426798824101,-0.311914476089342,0.08961515382758917\\n0.8903252182806259,-0.7892723355548015,-0.3693648410115938,-0.47454519624983954,-0.4736736092984604,-0.6484216535389205,0.7376951317802901,-0.7376951317802901,0.6193063641452488,-0.4820426798824101,-0.311914476089342,2.174187e-16\\n0.8942131013298863,-0.7892723355548015,0.8273772438659699,-0.47454519624983954,-0.4736736092984604,-0.4918744606632361,0.7376951317802901,-0.7376951317802901,0.6193063641452488,-0.4820426798824101,-0.311914476089342,-0.8059285493556418\\n0.8981009843791468,-0.7892723355548015,0.8273772438659699,-0.47454519624983954,-0.4736736092984604,-0.4863374216869257,0.7376951317802901,-0.7376951317802901,0.6193063641452488,-0.4820426798824101,-0.311914476089342,-0.3581566977640263\\n0.9019888674284071,1.266989801811655,0.8273772438659699,-0.47454519624983954,-0.4736736092984604,-0.45026210265472455,-1.3555735383351195,1.3555735383351193,0.6193063641452488,-0.4820426798824101,-0.311914476089342,-0.8059285493556418\\n0.9058767504776675,-0.7892723355548015,0.8273772438659699,0.4327933656785018,6.974147318082627,0.2958951755118318,-1.3555735383351195,1.3555735383351193,0.6193063641452488,-0.4820426798824101,-0.311914476089342,0.9162708798428792\\n0.9097646335269278,1.266989801811655,-1.5661069258891576,-0.47454519624983954,0.7676298785983874,9.667166525013505,0.7376951317802901,-0.7376951317802901,-1.6147097105649404,2.0745051044939435,-0.311914476089342,0.43405503966729336\\n0.9136525165761882,-0.7892723355548015,0.8273772438659699,-0.47454519624983954,-0.4736736092984604,-0.48457563655809965,-1.3555735383351195,1.3555735383351193,-1.6147097105649404,-0.4820426798824101,3.20600702005754,2.174187e-16\\n0.9175403996254486,1.266989801811655,-1.5661069258891576,-0.47454519624983954,-0.4736736092984604,0.8964967865378598,0.7376951317802901,-0.7376951317802901,-1.6147097105649404,2.0745051044939435,-0.311914476089342,-0.1859367548441742\\n0.921428282674709,-0.7892723355548015,0.8273772438659699,-0.47454519624983954,-0.4736736092984604,-0.4626791642426904,0.7376951317802901,-0.7376951317802901,0.6193063641452488,-0.4820426798824101,-0.311914476089342,-0.6681525950197601\\n0.9253161657239694,-0.7892723355548015,0.8273772438659699,4.0621476133918675,2.0089333664952354,0.2958951755118318,0.7376951317802901,-0.7376951317802901,0.6193063641452488,-0.4820426798824101,-0.311914476089342,-1.0814804580274051\\n0.9292040487732297,-0.7892723355548015,-0.3693648410115938,0.4327933656785018,0.7676298785983874,0.13683114673782454,0.7376951317802901,-0.7376951317802901,0.6193063641452488,-0.4820426798824101,-0.311914476089342,2.087366491697874\\n0.9330919318224901,-0.7892723355548015,-0.3693648410115938,0.4327933656785018,2.0089333664952354,0.18876253192945994,0.7376951317802901,-0.7376951317802901,-1.6147097105649404,2.0745051044939435,-0.311914476089342,-0.3237127091800559\\n0.9369798148717504,-0.7892723355548015,0.8273772438659699,3.1548090514635256,0.7676298785983874,0.1506737441786005,0.7376951317802901,-0.7376951317802901,0.6193063641452488,-0.4820426798824101,-0.311914476089342,-1.0814804580274051\\n0.9408676979210109,-0.7892723355548015,0.8273772438659699,-0.47454519624983954,-0.4736736092984604,-0.44363577710162005,0.7376951317802901,-0.7376951317802901,0.6193063641452488,-0.4820426798824101,-0.311914476089342,-0.7370405721877009\\n0.9447555809702712,-0.7892723355548015,0.8273772438659699,-0.47454519624983954,-0.4736736092984604,-0.49145565916975514,0.7376951317802901,-0.7376951317802901,0.6193063641452488,-0.4820426798824101,-0.311914476089342,-0.8059285493556418\\n0.9486434640195316,1.266989801811655,-1.5661069258891576,-0.47454519624983954,0.7676298785983874,3.6067927997556075,-1.3555735383351195,1.3555735383351193,0.6193063641452488,-0.4820426798824101,-0.311914476089342,-1.0125924808594644\\n0.952531347068792,1.266989801811655,-1.5661069258891576,0.4327933656785018,-0.4736736092984604,0.49925551609632224,0.7376951317802901,-0.7376951317802901,0.6193063641452488,-0.4820426798824101,-0.311914476089342,0.08961515382758917\\n0.9564192301180523,1.266989801811655,0.8273772438659699,-0.47454519624983954,0.7676298785983874,-0.37828059596268965,-1.3555735383351195,1.3555735383351193,-1.6147097105649404,2.0745051044939435,-0.311914476089342,-1.7703602297068137\\n0.9603071131673128,1.266989801811655,0.8273772438659699,-0.47454519624983954,-0.4736736092984604,0.48910360681684706,0.7376951317802901,-0.7376951317802901,0.6193063641452488,-0.4820426798824101,-0.311914476089342,2.174187e-16\\n0.9641949962165731,-0.7892723355548015,0.8273772438659699,-0.47454519624983954,-0.4736736092984604,-0.5029485386158568,0.7376951317802901,-0.7376951317802901,-1.6147097105649404,2.0745051044939435,-0.311914476089342,-0.3237127091800559\\n0.9680828792658335,-0.7892723355548015,-1.5661069258891576,-0.47454519624983954,-0.4736736092984604,-0.11384570873513637,0.7376951317802901,-0.7376951317802901,0.6193063641452488,-0.4820426798824101,-0.311914476089342,2.087366491697874\\n0.9719707623150938,-0.7892723355548015,-0.3693648410115938,-0.47454519624983954,-0.4736736092984604,-0.3766033765200472,0.7376951317802901,-0.7376951317802901,0.6193063641452488,-0.4820426798824101,-0.311914476089342,1.5362626743543468\\n0.9758586453643542,-0.7892723355548015,0.8273772438659699,-0.47454519624983954,-0.4736736092984604,-0.4863374216869257,0.7376951317802901,-0.7376951317802901,0.6193063641452488,-0.4820426798824101,-0.311914476089342,0.9851588570108202\\n0.9797465284136146,1.266989801811655,0.8273772438659699,-0.47454519624983954,-0.4736736092984604,-0.49271407711891657,-1.3555735383351195,1.3555735383351193,-1.6147097105649404,-0.4820426798824101,3.20600702005754,2.174187e-16\\n0.983634411462875,-0.7892723355548015,-1.5661069258891576,0.4327933656785018,0.7676298785983874,1.5841789061771412,0.7376951317802901,-0.7376951317802901,-1.6147097105649404,2.0745051044939435,-0.311914476089342,1.3295987428505243\\n0.9875222945121354,-0.7892723355548015,0.8273772438659699,-0.47454519624983954,-0.4736736092984604,-0.494391296561559,0.7376951317802901,-0.7376951317802901,0.6193063641452488,-0.4820426798824101,-0.311914476089342,0.8473829026749384\\n0.9914101775613957,1.266989801811655,-1.5661069258891576,0.4327933656785018,-0.4736736092984604,3.9327230485884233,-1.3555735383351195,1.3555735383351193,-1.6147097105649404,2.0745051044939435,-0.311914476089342,-0.8059285493556418\\n0.9952980606106561,1.266989801811655,-1.5661069258891576,-0.47454519624983954,-0.4736736092984604,-0.11913106412161445,0.7376951317802901,-0.7376951317802901,0.6193063641452488,-0.4820426798824101,-0.311914476089342,0.36516706249935255\\n0.9991859436599165,-0.7892723355548015,0.8273772438659699,-0.47454519624983954,0.7676298785983874,-0.3573908580066095,-1.3555735383351195,1.3555735383351193,-1.6147097105649404,2.0745051044939435,-0.311914476089342,-0.8059285493556418\\n1.0030738267091768,-0.7892723355548015,0.8273772438659699,-0.47454519624983954,-0.4736736092984604,-0.4925449457465493,0.7376951317802901,-0.7376951317802901,-1.6147097105649404,-0.4820426798824101,3.20600702005754,-0.3237127091800559\\n1.0069617097584371,-0.7892723355548015,0.8273772438659699,0.4327933656785018,-0.4736736092984604,-0.4902797934380587,0.7376951317802901,-0.7376951317802901,0.6193063641452488,-0.4820426798824101,-0.311914476089342,-0.25482473201211503\\n1.0108495928076977,-0.7892723355548015,-0.3693648410115938,-0.47454519624983954,-0.4736736092984604,-0.12491978668775715,0.7376951317802901,-0.7376951317802901,0.6193063641452488,-0.4820426798824101,-0.311914476089342,0.6407189711711159\\n1.014737475856958,1.266989801811655,-0.3693648410115938,-0.47454519624983954,-0.4736736092984604,-0.3766033765200472,-1.3555735383351195,1.3555735383351193,0.6193063641452488,-0.4820426798824101,-0.311914476089342,1.054046834178761\\n1.0186253589062184,1.266989801811655,-1.5661069258891576,-0.47454519624983954,-0.4736736092984604,-0.11913106412161445,0.7376951317802901,-0.7376951317802901,0.6193063641452488,-0.4820426798824101,-0.311914476089342,0.8473829026749384\\n1.0225132419554788,1.266989801811655,-1.5661069258891576,-0.47454519624983954,-0.4736736092984604,2.4029901895877646,-1.3555735383351195,1.3555735383351193,0.6193063641452488,-0.4820426798824101,-0.311914476089342,-0.5303766406838785\\n1.0264011250047391,1.266989801811655,0.8273772438659699,0.4327933656785018,0.7676298785983874,-0.3414522396297103,0.7376951317802901,-0.7376951317802901,-1.6147097105649404,2.0745051044939435,-0.311914476089342,2.174187e-16\\n1.0302890080539995,1.266989801811655,-1.5661069258891576,-0.47454519624983954,-0.4736736092984604,0.3483299278831318,-1.3555735383351195,1.3555735383351193,-1.6147097105649404,2.0745051044939435,-0.311914476089342,-0.3926006863479967\\n1.0341768911032598,-0.7892723355548015,-1.5661069258891576,-0.47454519624983954,-0.4736736092984604,-0.11384570873513637,0.7376951317802901,-0.7376951317802901,0.6193063641452488,-0.4820426798824101,-0.311914476089342,2.174187e-16\\n1.0380647741525202,1.266989801811655,-1.5661069258891576,0.4327933656785018,-0.4736736092984604,0.39858208016340624,0.7376951317802901,-0.7376951317802901,0.6193063641452488,-0.4820426798824101,-0.311914476089342,1.2607107656825836\\n1.0419526572017805,-0.7892723355548015,0.8273772438659699,-0.47454519624983954,-0.4736736092984604,-0.457478374542396,0.7376951317802901,-0.7376951317802901,0.6193063641452488,-0.4820426798824101,-0.311914476089342,-0.04816080050829252\\n1.045840540251041,-0.7892723355548015,-0.3693648410115938,-0.47454519624983954,-0.4736736092984604,-0.3866707201133388,0.7376951317802901,-0.7376951317802901,0.6193063641452488,-0.4820426798824101,-0.311914476089342,1.5362626743543468\\n1.0497284233003012,-0.7892723355548015,0.8273772438659699,-0.47454519624983954,-0.4736736092984604,-0.494391296561559,0.7376951317802901,-0.7376951317802901,0.6193063641452488,-0.4820426798824101,-0.311914476089342,-0.7370405721877009\\n1.0536163063495618,1.266989801811655,-1.5661069258891576,-0.47454519624983954,-0.4736736092984604,3.9327230485884233,-1.3555735383351195,1.3555735383351193,-1.6147097105649404,2.0745051044939435,-0.311914476089342,0.571830994003175\\n1.0575041893988222,1.266989801811655,-0.3693648410115938,-0.47454519624983954,-0.4736736092984604,-0.43700743807979686,-1.3555735383351195,1.3555735383351193,0.6193063641452488,-0.4820426798824101,-0.311914476089342,-0.1859367548441742\\n1.0613920724480825,-0.7892723355548015,0.8273772438659699,-0.47454519624983954,-0.4736736092984604,-0.3363340021468808,0.7376951317802901,-0.7376951317802901,-1.6147097105649404,-0.4820426798824101,3.20600702005754,2.174187e-16\\n1.065279955497343,-0.7892723355548015,0.8273772438659699,-0.47454519624983954,-0.4736736092984604,-0.4918744606632361,0.7376951317802901,-0.7376951317802901,0.6193063641452488,-0.4820426798824101,-0.311914476089342,0.22739110816347086\\n1.0691678385466032,1.266989801811655,-0.3693648410115938,-0.47454519624983954,0.7676298785983874,0.016023023618325298,-1.3555735383351195,1.3555735383351193,0.6193063641452488,-0.4820426798824101,-0.311914476089342,-1.6325842753709319\\n1.0730557215958636,-0.7892723355548015,0.8273772438659699,0.4327933656785018,-0.4736736092984604,-0.5063875431873253,0.7376951317802901,-0.7376951317802901,0.6193063641452488,-0.4820426798824101,-0.311914476089342,-0.8748165265235827\\n1.076943604645124,-0.7892723355548015,-0.3693648410115938,-0.47454519624983954,-0.4736736092984604,-0.3866707201133388,0.7376951317802901,-0.7376951317802901,0.6193063641452488,-0.4820426798824101,-0.311914476089342,0.2962790853314117\\n1.0808314876943843,-0.7892723355548015,-0.3693648410115938,-0.47454519624983954,-0.4736736092984604,-0.3866707201133388,0.7376951317802901,-0.7376951317802901,0.6193063641452488,-0.4820426798824101,-0.311914476089342,1.3984867200184652\\n1.0847193707436447,1.266989801811655,-1.5661069258891576,0.4327933656785018,-0.4736736092984604,0.4207302360686478,0.7376951317802901,-0.7376951317802901,0.6193063641452488,-0.4820426798824101,-0.311914476089342,-0.1859367548441742\\n1.088607253792905,-0.7892723355548015,0.8273772438659699,-0.47454519624983954,-0.4736736092984604,-0.47400492578514347,0.7376951317802901,-0.7376951317802901,0.6193063641452488,-0.4820426798824101,-0.311914476089342,-0.6681525950197601\\n1.0924951368421656,1.266989801811655,-0.3693648410115938,2.2474704895351842,-0.4736736092984604,-0.22559322262067316,-1.3555735383351195,1.3555735383351193,0.6193063641452488,-0.4820426798824101,-0.311914476089342,0.020727176659648322\\n1.096383019891426,1.266989801811655,0.8273772438659699,-0.47454519624983954,-0.4736736092984604,-0.4926295114327329,-1.3555735383351195,1.3555735383351193,-1.6147097105649404,-0.4820426798824101,3.20600702005754,2.174187e-16\\n1.1002709029406863,-0.7892723355548015,-0.3693648410115938,0.4327933656785018,-0.4736736092984604,-0.12491978668775715,0.7376951317802901,-0.7376951317802901,0.6193063641452488,-0.4820426798824101,-0.311914476089342,-0.3237127091800559\\n1.1041587859899467,-0.7892723355548015,0.8273772438659699,0.4327933656785018,-0.4736736092984604,-0.4888542575852486,-1.3555735383351195,1.3555735383351193,0.6193063641452488,-0.4820426798824101,-0.311914476089342,-0.3237127091800559\\n1.108046669039207,1.266989801811655,-1.5661069258891576,-0.47454519624983954,-0.4736736092984604,3.6067927997556075,-1.3555735383351195,1.3555735383351193,0.6193063641452488,-0.4820426798824101,-0.311914476089342,-0.04816080050829252\\n1.1119345520884674,-0.7892723355548015,0.8273772438659699,-0.47454519624983954,-0.4736736092984604,-0.2701412180209885,0.7376951317802901,-0.7376951317802901,-1.6147097105649404,2.0745051044939435,-0.311914476089342,-1.2881443895312277\\n1.1158224351377277,-0.7892723355548015,-0.3693648410115938,-0.47454519624983954,-0.4736736092984604,-0.6484216535389205,0.7376951317802901,-0.7376951317802901,0.6193063641452488,-0.4820426798824101,-0.311914476089342,2.174187e-16\\n1.119710318186988,-0.7892723355548015,-0.3693648410115938,-0.47454519624983954,-0.4736736092984604,-0.3866707201133388,0.7376951317802901,-0.7376951317802901,0.6193063641452488,-0.4820426798824101,-0.311914476089342,-0.4614886635159376\\n1.1235982012362484,-0.7892723355548015,-0.3693648410115938,-0.47454519624983954,-0.4736736092984604,-0.3866707201133388,0.7376951317802901,-0.7376951317802901,0.6193063641452488,-0.4820426798824101,-0.311914476089342,-0.4614886635159376\\n1.1274860842855088,-0.7892723355548015,0.8273772438659699,-0.47454519624983954,-0.4736736092984604,-0.32425318983493084,0.7376951317802901,-0.7376951317802901,0.6193063641452488,-0.4820426798824101,-0.311914476089342,-0.08260478909226295\\n1.1313739673347691,-0.7892723355548015,0.8273772438659699,0.4327933656785018,3.250236854392083,0.04370821849987721,-1.3555735383351195,1.3555735383351193,0.6193063641452488,-0.4820426798824101,-0.311914476089342,1.2607107656825836\\n1.1352618503840297,1.266989801811655,-1.5661069258891576,-0.47454519624983954,-0.4736736092984604,9.667166525013505,0.7376951317802901,-0.7376951317802901,-1.6147097105649404,2.0745051044939435,-0.311914476089342,0.36516706249935255\\n1.13914973343329,-0.7892723355548015,0.8273772438659699,-0.47454519624983954,-0.4736736092984604,-0.4894421904510968,0.7376951317802901,-0.7376951317802901,0.6193063641452488,-0.4820426798824101,-0.311914476089342,2.174187e-16\\n1.1430376164825504,-0.7892723355548015,0.8273772438659699,-0.47454519624983954,-0.4736736092984604,-0.4894421904510968,0.7376951317802901,-0.7376951317802901,0.6193063641452488,-0.4820426798824101,-0.311914476089342,2.174187e-16\\n1.1469254995318108,1.266989801811655,-1.5661069258891576,-0.47454519624983954,-0.4736736092984604,-0.04438103794142432,0.7376951317802901,-0.7376951317802901,0.6193063641452488,-0.4820426798824101,-0.311914476089342,2.174187e-16\\n1.1508133825810711,-0.7892723355548015,-1.5661069258891576,0.4327933656785018,-0.4736736092984604,0.9391984311231651,0.7376951317802901,-0.7376951317802901,0.6193063641452488,-0.4820426798824101,-0.311914476089342,0.43405503966729336\\n1.1547012656303315,1.266989801811655,-1.5661069258891576,1.340131927606843,2.0089333664952354,4.634416897040849,-1.3555735383351195,1.3555735383351193,-1.6147097105649404,2.0745051044939435,-0.311914476089342,-0.5992646178518193\\n1.1585891486795918,-0.7892723355548015,0.8273772438659699,0.4327933656785018,-0.4736736092984604,-0.32425318983493084,0.7376951317802901,-0.7376951317802901,0.6193063641452488,-0.4820426798824101,-0.311914476089342,-0.3926006863479967\\n1.1624770317288522,1.266989801811655,0.8273772438659699,-0.47454519624983954,-0.4736736092984604,-0.4888542575852486,0.7376951317802901,-0.7376951317802901,0.6193063641452488,-0.4820426798824101,-0.311914476089342,0.08961515382758917\\n1.1663649147781125,-0.7892723355548015,-1.5661069258891576,0.4327933656785018,0.7676298785983874,0.7811411367084872,0.7376951317802901,-0.7376951317802901,0.6193063641452488,-0.4820426798824101,-0.311914476089342,2.776246263377282\\n1.170252797827373,-0.7892723355548015,0.8273772438659699,0.4327933656785018,0.7676298785983874,-0.24069423801061057,0.7376951317802901,-0.7376951317802901,0.6193063641452488,-0.4820426798824101,-0.311914476089342,-0.9437045036915235\\n1.1741406808766333,1.266989801811655,-0.3693648410115938,-0.47454519624983954,-0.4736736092984604,-0.3866707201133388,-1.3555735383351195,1.3555735383351193,0.6193063641452488,-0.4820426798824101,-0.311914476089342,0.020727176659648322\\n1.1780285639258938,-0.7892723355548015,-1.5661069258891576,0.4327933656785018,-0.4736736092984604,0.4207302360686478,0.7376951317802901,-0.7376951317802901,0.6193063641452488,-0.4820426798824101,-0.311914476089342,-0.7370405721877009\\n1.1819164469751542,-0.7892723355548015,0.8273772438659699,-0.47454519624983954,-0.4736736092984604,-0.49237782784290063,0.7376951317802901,-0.7376951317802901,-1.6147097105649404,-0.4820426798824101,3.20600702005754,0.08961515382758917\\n1.1858043300244145,1.266989801811655,-0.3693648410115938,0.4327933656785018,0.7676298785983874,-0.18532384824750675,-1.3555735383351195,1.3555735383351193,0.6193063641452488,-0.4820426798824101,-0.311914476089342,-1.7703602297068137\\n1.189692213073675,1.266989801811655,0.8273772438659699,-0.47454519624983954,0.7676298785983874,-0.397241430886295,0.7376951317802901,-0.7376951317802901,0.6193063641452488,-0.4820426798824101,-0.311914476089342,-1.6325842753709319\\n1.1935800961229353,-0.7892723355548015,0.8273772438659699,-0.47454519624983954,-0.4736736092984604,-0.45714212526638004,0.7376951317802901,-0.7376951317802901,0.6193063641452488,-0.4820426798824101,-0.311914476089342,0.22739110816347086\\n1.1974679791721956,-0.7892723355548015,0.8273772438659699,-0.47454519624983954,-0.4736736092984604,-0.4894421904510968,0.7376951317802901,-0.7376951317802901,0.6193063641452488,-0.4820426798824101,-0.311914476089342,-0.4614886635159376\\n1.201355862221456,1.266989801811655,-0.3693648410115938,0.4327933656785018,2.0089333664952354,0.6603330135889879,-1.3555735383351195,1.3555735383351193,0.6193063641452488,-0.4820426798824101,-0.311914476089342,1.2607107656825836\\n1.2052437452707163,1.266989801811655,-0.3693648410115938,0.4327933656785018,0.7676298785983874,-0.35646868933346404,0.7376951317802901,-0.7376951317802901,0.6193063641452488,-0.4820426798824101,-0.311914476089342,-1.9997571936760565\\n1.2091316283199767,-0.7892723355548015,0.8273772438659699,-0.47454519624983954,-0.4736736092984604,-0.49145565916975514,0.7376951317802901,-0.7376951317802901,0.6193063641452488,-0.4820426798824101,-0.311914476089342,-0.11704877767623337\\n1.213019511369237,-0.7892723355548015,-0.3693648410115938,-0.47454519624983954,-0.4736736092984604,-0.41687275089321363,0.7376951317802901,-0.7376951317802901,0.6193063641452488,-0.4820426798824101,-0.311914476089342,-0.8059285493556418\\n1.2169073944184976,-0.7892723355548015,0.8273772438659699,-0.47454519624983954,-0.4736736092984604,-0.4863374216869257,0.7376951317802901,-0.7376951317802901,0.6193063641452488,-0.4820426798824101,-0.311914476089342,0.2962790853314117\\n1.220795277467758,1.266989801811655,-1.5661069258891576,-0.47454519624983954,-0.4736736092984604,1.093228788100527,-1.3555735383351195,1.3555735383351193,0.6193063641452488,-0.4820426798824101,-0.311914476089342,0.22739110816347086\\n1.2246831605170183,-0.7892723355548015,0.8273772438659699,-0.47454519624983954,-0.4736736092984604,-0.35646868933346404,0.7376951317802901,-0.7376951317802901,0.6193063641452488,-0.4820426798824101,-0.311914476089342,2.174187e-16\\n1.2285710435662787,-0.7892723355548015,0.8273772438659699,-0.47454519624983954,-0.4736736092984604,-0.5049620073345151,0.7376951317802901,-0.7376951317802901,0.6193063641452488,-0.4820426798824101,-0.311914476089342,0.7784949255069976\\n1.232458926615539,1.266989801811655,0.8273772438659699,-0.47454519624983954,-0.4736736092984604,-0.5028639729296732,0.7376951317802901,-0.7376951317802901,-1.6147097105649404,2.0745051044939435,-0.311914476089342,-0.6681525950197601\\n1.2363468096647994,1.266989801811655,-1.5661069258891576,0.4327933656785018,2.0089333664952354,1.7677408088510642,-1.3555735383351195,1.3555735383351193,0.6193063641452488,-0.4820426798824101,-0.311914476089342,0.43405503966729336\\n1.2402346927140597,-0.7892723355548015,0.8273772438659699,-0.47454519624983954,-0.4736736092984604,-0.4918744606632361,0.7376951317802901,-0.7376951317802901,0.6193063641452488,-0.4820426798824101,-0.311914476089342,-0.9437045036915235\\n1.24412257576332,1.266989801811655,-1.5661069258891576,0.4327933656785018,-0.4736736092984604,0.921244330558889,-1.3555735383351195,1.3555735383351193,0.6193063641452488,-0.4820426798824101,-0.311914476089342,1.4673746971864061\\n1.2480104588125804,-0.7892723355548015,-1.5661069258891576,-0.47454519624983954,-0.4736736092984604,0.1489119590497745,0.7376951317802901,-0.7376951317802901,-1.6147097105649404,2.0745051044939435,-0.311914476089342,2.174187e-16\\n1.2518983418618408,-0.7892723355548015,0.8273772438659699,-0.47454519624983954,-0.4736736092984604,-0.49237782784290063,-1.3555735383351195,1.3555735383351193,-1.6147097105649404,-0.4820426798824101,3.20600702005754,0.055171165243618744\\n1.2557862249111011,-0.7892723355548015,0.8273772438659699,0.4327933656785018,-0.4736736092984604,-0.1621689579829361,0.7376951317802901,-0.7376951317802901,-1.6147097105649404,-0.4820426798824101,3.20600702005754,2.174187e-16\\n1.2596741079603617,-0.7892723355548015,0.8273772438659699,-0.47454519624983954,-0.4736736092984604,-0.4800453319411184,0.7376951317802901,-0.7376951317802901,0.6193063641452488,-0.4820426798824101,-0.311914476089342,0.15850313099553\\n1.263561991009622,-0.7892723355548015,0.8273772438659699,-0.47454519624983954,-0.4736736092984604,-0.45714212526638004,0.7376951317802901,-0.7376951317802901,0.6193063641452488,-0.4820426798824101,-0.311914476089342,-0.3926006863479967\\n1.2674498740588824,-0.7892723355548015,0.8273772438659699,-0.47454519624983954,-0.4736736092984604,-0.4902797934380587,0.7376951317802901,-0.7376951317802901,0.6193063641452488,-0.4820426798824101,-0.311914476089342,1.2607107656825836\\n1.2713377571081428,-0.7892723355548015,-0.3693648410115938,-0.47454519624983954,-0.4736736092984604,-0.43700743807979686,-1.3555735383351195,1.3555735383351193,0.6193063641452488,-0.4820426798824101,-0.311914476089342,1.880702560194051\\n1.2752256401574031,-0.7892723355548015,0.8273772438659699,-0.47454519624983954,-0.4736736092984604,-0.5029485386158568,0.7376951317802901,-0.7376951317802901,-1.6147097105649404,2.0745051044939435,-0.311914476089342,2.174187e-16\\n1.2791135232066635,1.266989801811655,-0.3693648410115938,0.4327933656785018,3.250236854392083,-0.18532384824750675,-1.3555735383351195,1.3555735383351193,0.6193063641452488,-0.4820426798824101,-0.311914476089342,1.6740386286902287\\n1.2830014062559238,-0.7892723355548015,0.8273772438659699,-0.47454519624983954,-0.4736736092984604,-0.49237782784290063,0.7376951317802901,-0.7376951317802901,0.6193063641452488,-0.4820426798824101,-0.311914476089342,-0.8059285493556418\\n1.2868892893051842,-0.7892723355548015,0.8273772438659699,-0.47454519624983954,-0.4736736092984604,-0.49237782784290063,0.7376951317802901,-0.7376951317802901,-1.6147097105649404,-0.4820426798824101,3.20600702005754,2.174187e-16\\n1.2907771723544446,1.266989801811655,0.8273772438659699,-0.47454519624983954,-0.4736736092984604,-0.397241430886295,-1.3555735383351195,1.3555735383351193,0.6193063641452488,-0.4820426798824101,-0.311914476089342,-1.7014722525388728\\n1.294665055403705,-0.7892723355548015,0.8273772438659699,-0.47454519624983954,-0.4736736092984604,-0.4926295114327329,0.7376951317802901,-0.7376951317802901,-1.6147097105649404,-0.4820426798824101,3.20600702005754,2.174187e-16\\n1.2985529384529655,1.266989801811655,-1.5661069258891576,-0.47454519624983954,0.7676298785983874,3.6067927997556075,-1.3555735383351195,1.3555735383351193,0.6193063641452488,-0.4820426798824101,-0.311914476089342,0.9162708798428792\\n1.3024408215022258,1.266989801811655,0.8273772438659699,-0.47454519624983954,-0.4736736092984604,-0.5028639729296732,-1.3555735383351195,1.3555735383351193,-1.6147097105649404,2.0745051044939435,-0.311914476089342,-1.150368435195346\\n1.3063287045514862,1.266989801811655,-1.5661069258891576,0.4327933656785018,-0.4736736092984604,0.49925551609632224,-1.3555735383351195,1.3555735383351193,0.6193063641452488,-0.4820426798824101,-0.311914476089342,-0.8748165265235827\\n1.3102165876007466,-0.7892723355548015,-1.5661069258891576,-0.47454519624983954,-0.4736736092984604,-0.04438103794142432,0.7376951317802901,-0.7376951317802901,0.6193063641452488,-0.4820426798824101,-0.311914476089342,-0.04816080050829252\\n1.314104470650007,-0.7892723355548015,0.8273772438659699,0.4327933656785018,2.0089333664952354,-0.17626323901354432,0.7376951317802901,-0.7376951317802901,0.6193063641452488,-0.4820426798824101,-0.311914476089342,2.174187e-16\\n1.3179923536992673,-0.7892723355548015,0.8273772438659699,-0.47454519624983954,-0.4736736092984604,-0.5064721088735089,0.7376951317802901,-0.7376951317802901,0.6193063641452488,-0.4820426798824101,-0.311914476089342,-0.3237127091800559\\n1.3218802367485276,-0.7892723355548015,0.8273772438659699,-0.47454519624983954,-0.4736736092984604,-0.5024451714361923,0.7376951317802901,-0.7376951317802901,0.6193063641452488,-0.4820426798824101,-0.311914476089342,-0.3237127091800559\\n1.325768119797788,1.266989801811655,0.8273772438659699,-0.47454519624983954,-0.4736736092984604,-0.4974960653257301,-1.3555735383351195,1.3555735383351193,0.6193063641452488,-0.4820426798824101,-0.311914476089342,-0.8059285493556418\\n1.3296560028470483,-0.7892723355548015,0.8273772438659699,3.1548090514635256,0.7676298785983874,-0.06199888922968463,0.7376951317802901,-0.7376951317802901,-1.6147097105649404,-0.4820426798824101,3.20600702005754,-1.4948083210350502\\n1.3335438858963087,1.266989801811655,0.8273772438659699,0.4327933656785018,2.0089333664952354,-0.23415046467497105,0.7376951317802901,-0.7376951317802901,0.6193063641452488,-0.4820426798824101,-0.311914476089342,-1.977024161210636\\n1.337431768945569,-0.7892723355548015,-1.5661069258891576,-0.47454519624983954,-0.4736736092984604,0.9462455716384695,0.7376951317802901,-0.7376951317802901,-1.6147097105649404,2.0745051044939435,-0.311914476089342,1.122934811346702\\n1.3413196519948296,-0.7892723355548015,0.8273772438659699,-0.47454519624983954,-0.4736736092984604,-0.49237782784290063,0.7376951317802901,-0.7376951317802901,-1.6147097105649404,-0.4820426798824101,3.20600702005754,2.174187e-16\\n1.34520753504409,-0.7892723355548015,-0.3693648410115938,-0.47454519624983954,-0.4736736092984604,-0.12491978668775715,0.7376951317802901,-0.7376951317802901,0.6193063641452488,-0.4820426798824101,-0.311914476089342,-0.9437045036915235\\n1.3490954180933503,-0.7892723355548015,0.8273772438659699,6.784163299176891,2.0089333664952354,0.7519458402879414,-1.3555735383351195,1.3555735383351193,0.6193063641452488,-0.4820426798824101,-0.311914476089342,2.174187e-16\\n1.3529833011426107,-0.7892723355548015,-1.5661069258891576,-0.47454519624983954,-0.4736736092984604,-0.030371322596999754,0.7376951317802901,-0.7376951317802901,-1.6147097105649404,2.0745051044939435,-0.311914476089342,2.174187e-16\\n1.356871184191871,-0.7892723355548015,0.8273772438659699,-0.47454519624983954,-0.4736736092984604,-0.4894421904510968,0.7376951317802901,-0.7376951317802901,0.6193063641452488,-0.4820426798824101,-0.311914476089342,-0.3237127091800559\\n1.3607590672411314,-0.7892723355548015,-0.3693648410115938,-0.47454519624983954,-0.4736736092984604,-0.3866707201133388,0.7376951317802901,-0.7376951317802901,0.6193063641452488,-0.4820426798824101,-0.311914476089342,0.6407189711711159\\n1.3646469502903917,1.266989801811655,-1.5661069258891576,-0.47454519624983954,-0.4736736092984604,-0.1263453225405672,-1.3555735383351195,1.3555735383351193,0.6193063641452488,-0.4820426798824101,-0.311914476089342,1.3295987428505243\\n1.368534833339652,1.266989801811655,0.8273772438659699,-0.47454519624983954,-0.4736736092984604,-0.4735861242916626,-1.3555735383351195,1.3555735383351193,0.6193063641452488,-0.4820426798824101,-0.311914476089342,0.08961515382758917\\n1.3724227163889124,-0.7892723355548015,0.8273772438659699,-0.47454519624983954,-0.4736736092984604,-0.5028639729296732,0.7376951317802901,-0.7376951317802901,-1.6147097105649404,2.0745051044939435,-0.311914476089342,0.020727176659648322\\n1.3763105994381728,-0.7892723355548015,0.8273772438659699,0.4327933656785018,0.7676298785983874,-0.1621689579829361,-1.3555735383351195,1.3555735383351193,0.6193063641452488,-0.4820426798824101,-0.311914476089342,0.020727176659648322\\n1.3801984824874334,-0.7892723355548015,-0.3693648410115938,-0.47454519624983954,-0.4736736092984604,-0.3866707201133388,0.7376951317802901,-0.7376951317802901,0.6193063641452488,-0.4820426798824101,-0.311914476089342,0.2962790853314117\\n1.3840863655366937,1.266989801811655,-0.3693648410115938,0.4327933656785018,0.7676298785983874,-0.11988611489111134,-1.3555735383351195,1.3555735383351193,0.6193063641452488,-0.4820426798824101,-0.311914476089342,0.08961515382758917\\n1.387974248585954,1.266989801811655,-1.5661069258891576,0.4327933656785018,2.0089333664952354,1.7677408088510642,0.7376951317802901,-0.7376951317802901,0.6193063641452488,-0.4820426798824101,-0.311914476089342,-1.2881443895312277\\n1.3918621316352144,1.266989801811655,0.8273772438659699,-0.47454519624983954,0.7676298785983874,-0.47694056317694733,0.7376951317802901,-0.7376951317802901,-1.6147097105649404,2.0745051044939435,-0.311914476089342,-2.0169791879680417\\n1.3957500146844748,1.266989801811655,0.8273772438659699,-0.47454519624983954,-0.4736736092984604,-0.5079822104125026,0.7376951317802901,-0.7376951317802901,0.6193063641452488,-0.4820426798824101,-0.311914476089342,-0.1859367548441742\\n1.3996378977337351,-0.7892723355548015,0.8273772438659699,-0.47454519624983954,-0.4736736092984604,-0.4918744606632361,0.7376951317802901,-0.7376951317802901,0.6193063641452488,-0.4820426798824101,-0.311914476089342,0.08961515382758917\\n1.4035257807829955,-0.7892723355548015,-1.5661069258891576,-0.47454519624983954,-0.4736736092984604,-0.6484216535389205,0.7376951317802901,-0.7376951317802901,0.6193063641452488,-0.4820426798824101,-0.311914476089342,0.6407189711711159\\n1.4074136638322559,-0.7892723355548015,0.8273772438659699,-0.47454519624983954,-0.4736736092984604,-0.4918744606632361,-1.3555735383351195,1.3555735383351193,0.6193063641452488,-0.4820426798824101,-0.311914476089342,-0.8059285493556418\\n1.4113015468815162,-0.7892723355548015,-0.3693648410115938,-0.47454519624983954,-0.4736736092984604,-0.3866707201133388,0.7376951317802901,-0.7376951317802901,0.6193063641452488,-0.4820426798824101,-0.311914476089342,0.6407189711711159\\n1.4151894299307766,1.266989801811655,-1.5661069258891576,0.4327933656785018,-0.4736736092984604,0.4207302360686478,-1.3555735383351195,1.3555735383351193,0.6193063641452488,-0.4820426798824101,-0.311914476089342,0.22739110816347086\\n1.419077312980037,-0.7892723355548015,0.8273772438659699,-0.47454519624983954,-0.4736736092984604,-0.4896093083547455,0.7376951317802901,-0.7376951317802901,0.6193063641452488,-0.4820426798824101,-0.311914476089342,-0.25482473201211503\\n1.4229651960292975,-0.7892723355548015,0.8273772438659699,-0.47454519624983954,-0.4736736092984604,-0.1621689579829361,0.7376951317802901,-0.7376951317802901,0.6193063641452488,-0.4820426798824101,-0.311914476089342,0.6407189711711159\\n1.4268530790785579,-0.7892723355548015,-0.3693648410115938,-0.47454519624983954,-0.4736736092984604,-0.43700743807979686,0.7376951317802901,-0.7376951317802901,0.6193063641452488,-0.4820426798824101,-0.311914476089342,0.36516706249935255\\n1.4307409621278182,-0.7892723355548015,0.8273772438659699,3.1548090514635256,2.0089333664952354,-0.01870931177853076,-1.3555735383351195,1.3555735383351193,0.6193063641452488,-0.4820426798824101,-0.311914476089342,-1.6325842753709319\\n1.4346288451770786,-0.7892723355548015,0.8273772438659699,-0.47454519624983954,-0.4736736092984604,-0.4863374216869257,0.7376951317802901,-0.7376951317802901,0.6193063641452488,-0.4820426798824101,-0.311914476089342,0.055171165243618744\\n1.438516728226339,-0.7892723355548015,-1.5661069258891576,-0.47454519624983954,-0.4736736092984604,-0.6484216535389205,0.7376951317802901,-0.7376951317802901,0.6193063641452488,-0.4820426798824101,-0.311914476089342,2.174187e-16\\n1.4424046112755993,-0.7892723355548015,0.8273772438659699,-0.47454519624983954,-0.4736736092984604,-0.4888542575852486,-1.3555735383351195,1.3555735383351193,0.6193063641452488,-0.4820426798824101,-0.311914476089342,-0.4614886635159376\\n1.4462924943248596,-0.7892723355548015,-0.3693648410115938,0.4327933656785018,0.7676298785983874,0.09664633805084172,0.7376951317802901,-0.7376951317802901,-1.6147097105649404,2.0745051044939435,-0.311914476089342,0.08961515382758917\\n1.45018037737412,-0.7892723355548015,0.8273772438659699,-0.47454519624983954,-0.4736736092984604,-0.5185529211854588,0.7376951317802901,-0.7376951317802901,0.6193063641452488,-0.4820426798824101,-0.311914476089342,0.9162708798428792\\n1.4540682604233803,-0.7892723355548015,0.8273772438659699,2.2474704895351842,2.0089333664952354,-0.08666388103324908,0.7376951317802901,-0.7376951317802901,0.6193063641452488,-0.4820426798824101,-0.311914476089342,-1.3570323666991686\\n1.4579561434726407,1.266989801811655,-1.5661069258891576,0.4327933656785018,0.7676298785983874,1.2341715984066093,-1.3555735383351195,1.3555735383351193,0.6193063641452488,-0.4820426798824101,-0.311914476089342,1.5362626743543468\\n1.461844026521901,1.266989801811655,0.8273772438659699,-0.47454519624983954,-0.4736736092984604,-0.47400492578514347,0.7376951317802901,-0.7376951317802901,0.6193063641452488,-0.4820426798824101,-0.311914476089342,-0.1859367548441742\\n1.4657319095711616,-0.7892723355548015,-1.5661069258891576,-0.47454519624983954,-0.4736736092984604,-0.6484216535389205,0.7376951317802901,-0.7376951317802901,0.6193063641452488,-0.4820426798824101,-0.311914476089342,0.571830994003175\\n1.469619792620422,1.266989801811655,0.8273772438659699,-0.47454519624983954,0.7676298785983874,-0.397241430886295,-1.3555735383351195,1.3555735383351193,0.6193063641452488,-0.4820426798824101,-0.311914476089342,-0.1859367548441742\\n1.4735076756696823,-0.7892723355548015,0.8273772438659699,3.1548090514635256,0.7676298785983874,0.1506737441786005,0.7376951317802901,-0.7376951317802901,0.6193063641452488,-0.4820426798824101,-0.311914476089342,-1.9081361840426954\\n1.4773955587189427,-0.7892723355548015,0.8273772438659699,-0.47454519624983954,-0.4736736092984604,-0.5084855775921673,0.7376951317802901,-0.7376951317802901,-1.6147097105649404,-0.4820426798824101,3.20600702005754,2.174187e-16\\n1.481283441768203,-0.7892723355548015,0.8273772438659699,-0.47454519624983954,-0.4736736092984604,0.48910360681684706,0.7376951317802901,-0.7376951317802901,0.6193063641452488,-0.4820426798824101,-0.311914476089342,2.174187e-16\\n1.4851713248174634,1.266989801811655,-0.3693648410115938,-0.47454519624983954,2.0089333664952354,0.09664633805084172,0.7376951317802901,-0.7376951317802901,-1.6147097105649404,2.0745051044939435,-0.311914476089342,-1.977024161210636\\n1.4890592078667237,1.266989801811655,0.8273772438659699,-0.47454519624983954,-0.4736736092984604,-0.49237782784290063,0.7376951317802901,-0.7376951317802901,-1.6147097105649404,-0.4820426798824101,3.20600702005754,2.174187e-16\\n1.492947090915984,1.266989801811655,-1.5661069258891576,-0.47454519624983954,-0.4736736092984604,0.962353321387736,-1.3555735383351195,1.3555735383351193,-1.6147097105649404,-0.4820426798824101,3.20600702005754,2.225142446033755\\n1.4968349739652445,1.266989801811655,0.8273772438659699,0.4327933656785018,-0.4736736092984604,-0.3573908580066095,-1.3555735383351195,1.3555735383351193,-1.6147097105649404,2.0745051044939435,-0.311914476089342,-1.0125924808594644\\n1.5007228570145048,1.266989801811655,-0.3693648410115938,0.4327933656785018,0.7676298785983874,-0.2708962687904854,0.7376951317802901,-0.7376951317802901,0.6193063641452488,-0.4820426798824101,-0.311914476089342,-1.9887351173291863\\n1.5046107400637654,-0.7892723355548015,0.8273772438659699,-0.47454519624983954,-0.4736736092984604,-0.5028639729296732,0.7376951317802901,-0.7376951317802901,-1.6147097105649404,2.0745051044939435,-0.311914476089342,2.174187e-16\\n1.5084986231130257,-0.7892723355548015,0.8273772438659699,-0.47454519624983954,-0.4736736092984604,-0.4902797934380587,0.7376951317802901,-0.7376951317802901,0.6193063641452488,-0.4820426798824101,-0.311914476089342,-0.4614886635159376\\n1.512386506162286,-0.7892723355548015,0.8273772438659699,-0.47454519624983954,-0.4736736092984604,-0.48130374989027985,0.7376951317802901,-0.7376951317802901,0.6193063641452488,-0.4820426798824101,-0.311914476089342,-0.8059285493556418\\n1.5162743892115464,1.266989801811655,-1.5661069258891576,0.4327933656785018,0.7676298785983874,1.0259447039291216,-1.3555735383351195,1.3555735383351193,-1.6147097105649404,2.0745051044939435,-0.311914476089342,0.6407189711711159\\n1.5201622722608068,-0.7892723355548015,0.8273772438659699,-0.47454519624983954,-0.4736736092984604,-0.47400492578514347,0.7376951317802901,-0.7376951317802901,0.6193063641452488,-0.4820426798824101,-0.311914476089342,-0.5992646178518193\\n1.5240501553100672,-0.7892723355548015,0.8273772438659699,-0.47454519624983954,-0.4736736092984604,-0.4863374216869257,0.7376951317802901,-0.7376951317802901,0.6193063641452488,-0.4820426798824101,-0.311914476089342,2.174187e-16\\n1.5279380383593275,1.266989801811655,0.8273772438659699,-0.47454519624983954,-0.4736736092984604,0.48910360681684706,0.7376951317802901,-0.7376951317802901,0.6193063641452488,-0.4820426798824101,-0.311914476089342,0.15850313099553\\n1.5318259214085879,1.266989801811655,-1.5661069258891576,-0.47454519624983954,-0.4736736092984604,-0.05042144409739929,0.7376951317802901,-0.7376951317802901,-1.6147097105649404,2.0745051044939435,-0.311914476089342,2.174187e-16\\n1.5357138044578482,-0.7892723355548015,0.8273772438659699,-0.47454519624983954,-0.4736736092984604,-0.4888542575852486,0.7376951317802901,-0.7376951317802901,0.6193063641452488,-0.4820426798824101,-0.311914476089342,-0.6681525950197601\\n1.5396016875071086,-0.7892723355548015,-0.3693648410115938,-0.47454519624983954,-0.4736736092984604,-0.43700743807979686,0.7376951317802901,-0.7376951317802901,0.6193063641452488,-0.4820426798824101,-0.311914476089342,-0.9437045036915235\\n1.543489570556369,1.266989801811655,-1.5661069258891576,-0.47454519624983954,-0.4736736092984604,-0.024246350754841113,-1.3555735383351195,1.3555735383351193,-1.6147097105649404,2.0745051044939435,-0.311914476089342,0.020727176659648322\\n1.5473774536056295,-0.7892723355548015,0.8273772438659699,-0.47454519624983954,-0.4736736092984604,-0.5188046047752911,0.7376951317802901,-0.7376951317802901,-1.6147097105649404,2.0745051044939435,-0.311914476089342,0.33072307391538214\\n1.5512653366548899,-0.7892723355548015,0.8273772438659699,-0.47454519624983954,-0.4736736092984604,-0.47400492578514347,0.7376951317802901,-0.7376951317802901,0.6193063641452488,-0.4820426798824101,-0.311914476089342,-0.8748165265235827\\n1.5551532197041502,-0.7892723355548015,0.8273772438659699,-0.47454519624983954,-0.4736736092984604,-0.49640476528021726,0.7376951317802901,-0.7376951317802901,0.6193063641452488,-0.4820426798824101,-0.311914476089342,0.8473829026749384\\n1.5590411027534106,-0.7892723355548015,0.8273772438659699,6.784163299176891,2.0089333664952354,0.7519458402879414,0.7376951317802901,-0.7376951317802901,0.6193063641452488,-0.4820426798824101,-0.311914476089342,2.174187e-16\\n1.562928985802671,-0.7892723355548015,0.8273772438659699,-0.47454519624983954,-0.4736736092984604,-0.4894421904510968,0.7376951317802901,-0.7376951317802901,-1.6147097105649404,2.0745051044939435,-0.311914476089342,0.36516706249935255\\n1.5668168688519313,-0.7892723355548015,-0.3693648410115938,-0.47454519624983954,0.7676298785983874,0.016023023618325298,0.7376951317802901,-0.7376951317802901,0.6193063641452488,-0.4820426798824101,-0.311914476089342,-0.11704877767623337\\n1.5707047519011916,1.266989801811655,-1.5661069258891576,0.4327933656785018,-0.4736736092984604,1.145663540471827,-1.3555735383351195,1.3555735383351193,-1.6147097105649404,2.0745051044939435,-0.311914476089342,2.174187e-16\\n1.574592634950452,-0.7892723355548015,0.8273772438659699,3.1548090514635256,2.0089333664952354,-0.01870931177853076,0.7376951317802901,-0.7376951317802901,0.6193063641452488,-0.4820426798824101,-0.311914476089342,-1.7703602297068137\\n1.5784805179997123,-0.7892723355548015,0.8273772438659699,-0.47454519624983954,-0.4736736092984604,-0.4918744606632361,0.7376951317802901,-0.7376951317802901,0.6193063641452488,-0.4820426798824101,-0.311914476089342,3.0517981720490455\\n1.5823684010489727,-0.7892723355548015,0.8273772438659699,0.4327933656785018,0.7676298785983874,-0.3414522396297103,-1.3555735383351195,1.3555735383351193,-1.6147097105649404,2.0745051044939435,-0.311914476089342,-1.4259203438671093\\n1.5862562840982333,1.266989801811655,-1.5661069258891576,-0.47454519624983954,0.7676298785983874,0.14488502161245778,-1.3555735383351195,1.3555735383351193,0.6193063641452488,-0.4820426798824101,-0.311914476089342,-0.9437045036915235\\n1.5901441671474936,-0.7892723355548015,-0.3693648410115938,0.4327933656785018,-0.4736736092984604,-0.12491978668775715,-1.3555735383351195,1.3555735383351193,0.6193063641452488,-0.4820426798824101,-0.311914476089342,0.9851588570108202\\n1.594032050196754,1.266989801811655,0.8273772438659699,-0.47454519624983954,0.7676298785983874,-0.4601623283443675,-1.3555735383351195,1.3555735383351193,0.6193063641452488,-0.4820426798824101,-0.311914476089342,-0.8059285493556418\\n1.5979199332460143,1.266989801811655,-1.5661069258891576,0.4327933656785018,0.7676298785983874,2.671117778445337,-1.3555735383351195,1.3555735383351193,0.6193063641452488,-0.4820426798824101,-0.311914476089342,1.054046834178761\\n1.6018078162952747,1.266989801811655,-1.5661069258891576,-0.47454519624983954,-0.4736736092984604,-0.11384570873513637,0.7376951317802901,-0.7376951317802901,0.6193063641452488,-0.4820426798824101,-0.311914476089342,1.4673746971864061\\n1.605695699344535,1.266989801811655,0.8273772438659699,-0.47454519624983954,3.250236854392083,-0.26066180729354516,-1.3555735383351195,1.3555735383351193,-1.6147097105649404,2.0745051044939435,-0.311914476089342,-0.3926006863479967\\n1.6095835823937954,-0.7892723355548015,0.8273772438659699,-0.47454519624983954,-0.4736736092984604,-0.5028639729296732,0.7376951317802901,-0.7376951317802901,-1.6147097105649404,2.0745051044939435,-0.311914476089342,2.174187e-16\\n1.6134714654430558,-0.7892723355548015,0.8273772438659699,1.340131927606843,-0.4736736092984604,-0.36435544630444866,0.7376951317802901,-0.7376951317802901,0.6193063641452488,-0.4820426798824101,-0.311914476089342,0.7784949255069976\\n1.617359348492316,-0.7892723355548015,-0.3693648410115938,0.4327933656785018,-0.4736736092984604,-0.41687275089321363,0.7376951317802901,-0.7376951317802901,0.6193063641452488,-0.4820426798824101,-0.311914476089342,-0.5992646178518193\\n1.6212472315415765,1.266989801811655,-1.5661069258891576,-0.47454519624983954,-0.4736736092984604,-0.1263453225405672,-1.3555735383351195,1.3555735383351193,0.6193063641452488,-0.4820426798824101,-0.311914476089342,1.2607107656825836\\n1.6251351145908368,-0.7892723355548015,0.8273772438659699,6.784163299176891,2.0089333664952354,0.7519458402879414,-1.3555735383351195,1.3555735383351193,0.6193063641452488,-0.4820426798824101,-0.311914476089342,2.174187e-16\\n1.6290229976400974,-0.7892723355548015,-0.3693648410115938,-0.47454519624983954,-0.4736736092984604,-0.3866707201133388,0.7376951317802901,-0.7376951317802901,0.6193063641452488,-0.4820426798824101,-0.311914476089342,-0.3926006863479967\\n1.6329108806893577,1.266989801811655,-0.3693648410115938,-0.47454519624983954,-0.4736736092984604,-0.3866707201133388,-1.3555735383351195,1.3555735383351193,0.6193063641452488,-0.4820426798824101,-0.311914476089342,0.8473829026749384\\n1.636798763738618,1.266989801811655,-0.3693648410115938,0.4327933656785018,-0.4736736092984604,-0.3693891181010945,-1.3555735383351195,1.3555735383351193,-1.6147097105649404,2.0745051044939435,-0.311914476089342,-0.1859367548441742\\n1.6406866467878785,-0.7892723355548015,-1.5661069258891576,-0.47454519624983954,-0.4736736092984604,0.3682954836973478,0.7376951317802901,-0.7376951317802901,0.6193063641452488,-0.4820426798824101,-0.311914476089342,0.08961515382758917\\n1.6445745298371388,-0.7892723355548015,0.8273772438659699,-0.47454519624983954,-0.4736736092984604,-0.45714212526638004,0.7376951317802901,-0.7376951317802901,0.6193063641452488,-0.4820426798824101,-0.311914476089342,2.174187e-16\\n1.6484624128863992,1.266989801811655,0.8273772438659699,0.4327933656785018,0.7676298785983874,-0.4242561406845337,0.7376951317802901,-0.7376951317802901,0.6193063641452488,-0.4820426798824101,-0.311914476089342,-1.7703602297068137\\n1.6523502959356595,-0.7892723355548015,0.8273772438659699,-0.47454519624983954,-0.4736736092984604,-0.4894421904510968,0.7376951317802901,-0.7376951317802901,0.6193063641452488,-0.4820426798824101,-0.311914476089342,-0.25482473201211503\\n1.6562381789849199,1.266989801811655,-1.5661069258891576,0.4327933656785018,0.7676298785983874,0.40974072380221066,-1.3555735383351195,1.3555735383351193,0.6193063641452488,-0.4820426798824101,-0.311914476089342,1.1918227885146426\\n1.6601260620341802,-0.7892723355548015,-1.5661069258891576,-0.47454519624983954,-0.4736736092984604,-0.5477482176060045,0.7376951317802901,-0.7376951317802901,0.6193063641452488,-0.4820426798824101,-0.311914476089342,0.22739110816347086\\n1.6640139450834406,-0.7892723355548015,0.8273772438659699,-0.47454519624983954,-0.4736736092984604,-0.46720946885967163,0.7376951317802901,-0.7376951317802901,0.6193063641452488,-0.4820426798824101,-0.311914476089342,1.1918227885146426\\n1.667901828132701,1.266989801811655,-0.3693648410115938,0.4327933656785018,-0.4736736092984604,-0.16518916106092355,-1.3555735383351195,1.3555735383351193,-1.6147097105649404,2.0745051044939435,-0.311914476089342,-0.11704877767623337\\n1.6717897111819615,1.266989801811655,0.8273772438659699,-0.47454519624983954,-0.4736736092984604,-0.5029485386158568,-1.3555735383351195,1.3555735383351193,-1.6147097105649404,2.0745051044939435,-0.311914476089342,-1.0125924808594644\\n1.6756775942312219,-0.7892723355548015,0.8273772438659699,-0.47454519624983954,-0.4736736092984604,-0.45017955043725955,0.7376951317802901,-0.7376951317802901,0.6193063641452488,-0.4820426798824101,-0.311914476089342,-0.6681525950197601\\n1.6795654772804822,-0.7892723355548015,0.8273772438659699,-0.47454519624983954,-0.4736736092984604,-0.4894421904510968,0.7376951317802901,-0.7376951317802901,0.6193063641452488,-0.4820426798824101,-0.311914476089342,-0.7370405721877009\\n1.6834533603297426,-0.7892723355548015,0.8273772438659699,-0.47454519624983954,-0.4736736092984604,-0.4894421904510968,0.7376951317802901,-0.7376951317802901,0.6193063641452488,-0.4820426798824101,-0.311914476089342,2.174187e-16\\n1.687341243379003,1.266989801811655,-1.5661069258891576,-0.47454519624983954,0.7676298785983874,1.0259447039291216,-1.3555735383351195,1.3555735383351193,-1.6147097105649404,2.0745051044939435,-0.311914476089342,1.8118145830261103\\n1.6912291264282633,1.266989801811655,-0.3693648410115938,-0.47454519624983954,0.7676298785983874,-0.12491978668775715,-1.3555735383351195,1.3555735383351193,0.6193063641452488,-0.4820426798824101,-0.311914476089342,-0.3237127091800559\\n1.6951170094775236,-0.7892723355548015,0.8273772438659699,-0.47454519624983954,-0.4736736092984604,-0.4894421904510968,0.7376951317802901,-0.7376951317802901,0.6193063641452488,-0.4820426798824101,-0.311914476089342,0.22739110816347086\\n1.699004892526784,-0.7892723355548015,0.8273772438659699,-0.47454519624983954,-0.4736736092984604,-0.4366711888037809,-1.3555735383351195,1.3555735383351193,0.6193063641452488,-0.4820426798824101,-0.311914476089342,-0.5303766406838785\\n1.7028927755760443,-0.7892723355548015,-0.3693648410115938,-0.47454519624983954,-0.4736736092984604,-0.43700743807979686,0.7376951317802901,-0.7376951317802901,0.6193063641452488,-0.4820426798824101,-0.311914476089342,-0.11704877767623337\\n1.7067806586253047,-0.7892723355548015,0.8273772438659699,-0.47454519624983954,-0.4736736092984604,-0.5064721088735089,0.7376951317802901,-0.7376951317802901,0.6193063641452488,-0.4820426798824101,-0.311914476089342,-0.3237127091800559\\n1.7106685416745653,-0.7892723355548015,0.8273772438659699,-0.47454519624983954,5.73284383018578,-0.06199888922968463,-1.3555735383351195,1.3555735383351193,-1.6147097105649404,-0.4820426798824101,3.20600702005754,0.6407189711711159\\n1.7145564247238256,-0.7892723355548015,-0.3693648410115938,-0.47454519624983954,-0.4736736092984604,-0.3866707201133388,0.7376951317802901,-0.7376951317802901,0.6193063641452488,-0.4820426798824101,-0.311914476089342,-0.1859367548441742\\n1.718444307773086,1.266989801811655,-1.5661069258891576,-0.47454519624983954,-0.4736736092984604,-0.04438103794142432,-1.3555735383351195,1.3555735383351193,0.6193063641452488,-0.4820426798824101,-0.311914476089342,-0.7370405721877009\\n1.7223321908223463,-0.7892723355548015,0.8273772438659699,0.4327933656785018,2.0089333664952354,-0.17626323901354432,-1.3555735383351195,1.3555735383351193,0.6193063641452488,-0.4820426798824101,-0.311914476089342,2.174187e-16\\n1.7262200738716067,1.266989801811655,-1.5661069258891576,-0.47454519624983954,-0.4736736092984604,-0.04438103794142432,0.7376951317802901,-0.7376951317802901,-1.6147097105649404,2.0745051044939435,-0.311914476089342,-0.25482473201211503\\n1.730107956920867,-0.7892723355548015,0.8273772438659699,-0.47454519624983954,-0.4736736092984604,-0.49237782784290063,0.7376951317802901,-0.7376951317802901,-1.6147097105649404,-0.4820426798824101,3.20600702005754,0.15850313099553\\n'"
            ]
          },
          "metadata": {
            "tags": []
          },
          "execution_count": 106
        }
      ]
    },
    {
      "cell_type": "code",
      "metadata": {
        "id": "bDnh4O9vh9Tl",
        "colab_type": "code",
        "outputId": "ff296eea-9bc8-4de0-c6bc-92c8ea3939e1",
        "colab": {
          "base_uri": "https://localhost:8080/",
          "height": 320
        }
      },
      "source": [
        ""
      ],
      "execution_count": 0,
      "outputs": [
        {
          "output_type": "error",
          "ename": "MessageError",
          "evalue": "ignored",
          "traceback": [
            "\u001b[0;31m---------------------------------------------------------------------------\u001b[0m",
            "\u001b[0;31mMessageError\u001b[0m                              Traceback (most recent call last)",
            "\u001b[0;32m<ipython-input-108-1c3d8dc3138a>\u001b[0m in \u001b[0;36m<module>\u001b[0;34m()\u001b[0m\n\u001b[1;32m      1\u001b[0m \u001b[0;32mfrom\u001b[0m \u001b[0mgoogle\u001b[0m\u001b[0;34m.\u001b[0m\u001b[0mcolab\u001b[0m \u001b[0;32mimport\u001b[0m \u001b[0mfiles\u001b[0m\u001b[0;34m\u001b[0m\u001b[0;34m\u001b[0m\u001b[0m\n\u001b[0;32m----> 2\u001b[0;31m \u001b[0mfiles\u001b[0m\u001b[0;34m.\u001b[0m\u001b[0mdownload\u001b[0m\u001b[0;34m(\u001b[0m\u001b[0;34m\"titanic_cleaned.csv\"\u001b[0m\u001b[0;34m)\u001b[0m\u001b[0;34m\u001b[0m\u001b[0;34m\u001b[0m\u001b[0m\n\u001b[0m",
            "\u001b[0;32m/usr/local/lib/python3.6/dist-packages/google/colab/files.py\u001b[0m in \u001b[0;36mdownload\u001b[0;34m(filename)\u001b[0m\n\u001b[1;32m    176\u001b[0m       \u001b[0;34m'port'\u001b[0m\u001b[0;34m:\u001b[0m \u001b[0mport\u001b[0m\u001b[0;34m,\u001b[0m\u001b[0;34m\u001b[0m\u001b[0;34m\u001b[0m\u001b[0m\n\u001b[1;32m    177\u001b[0m       \u001b[0;34m'path'\u001b[0m\u001b[0;34m:\u001b[0m \u001b[0m_os\u001b[0m\u001b[0;34m.\u001b[0m\u001b[0mpath\u001b[0m\u001b[0;34m.\u001b[0m\u001b[0mabspath\u001b[0m\u001b[0;34m(\u001b[0m\u001b[0mfilename\u001b[0m\u001b[0;34m)\u001b[0m\u001b[0;34m,\u001b[0m\u001b[0;34m\u001b[0m\u001b[0;34m\u001b[0m\u001b[0m\n\u001b[0;32m--> 178\u001b[0;31m       \u001b[0;34m'name'\u001b[0m\u001b[0;34m:\u001b[0m \u001b[0m_os\u001b[0m\u001b[0;34m.\u001b[0m\u001b[0mpath\u001b[0m\u001b[0;34m.\u001b[0m\u001b[0mbasename\u001b[0m\u001b[0;34m(\u001b[0m\u001b[0mfilename\u001b[0m\u001b[0;34m)\u001b[0m\u001b[0;34m,\u001b[0m\u001b[0;34m\u001b[0m\u001b[0;34m\u001b[0m\u001b[0m\n\u001b[0m\u001b[1;32m    179\u001b[0m   })\n",
            "\u001b[0;32m/usr/local/lib/python3.6/dist-packages/google/colab/output/_js.py\u001b[0m in \u001b[0;36meval_js\u001b[0;34m(script, ignore_result)\u001b[0m\n\u001b[1;32m     37\u001b[0m   \u001b[0;32mif\u001b[0m \u001b[0mignore_result\u001b[0m\u001b[0;34m:\u001b[0m\u001b[0;34m\u001b[0m\u001b[0;34m\u001b[0m\u001b[0m\n\u001b[1;32m     38\u001b[0m     \u001b[0;32mreturn\u001b[0m\u001b[0;34m\u001b[0m\u001b[0;34m\u001b[0m\u001b[0m\n\u001b[0;32m---> 39\u001b[0;31m   \u001b[0;32mreturn\u001b[0m \u001b[0m_message\u001b[0m\u001b[0;34m.\u001b[0m\u001b[0mread_reply_from_input\u001b[0m\u001b[0;34m(\u001b[0m\u001b[0mrequest_id\u001b[0m\u001b[0;34m)\u001b[0m\u001b[0;34m\u001b[0m\u001b[0;34m\u001b[0m\u001b[0m\n\u001b[0m\u001b[1;32m     40\u001b[0m \u001b[0;34m\u001b[0m\u001b[0m\n\u001b[1;32m     41\u001b[0m \u001b[0;34m\u001b[0m\u001b[0m\n",
            "\u001b[0;32m/usr/local/lib/python3.6/dist-packages/google/colab/_message.py\u001b[0m in \u001b[0;36mread_reply_from_input\u001b[0;34m(message_id, timeout_sec)\u001b[0m\n\u001b[1;32m    104\u001b[0m         reply.get('colab_msg_id') == message_id):\n\u001b[1;32m    105\u001b[0m       \u001b[0;32mif\u001b[0m \u001b[0;34m'error'\u001b[0m \u001b[0;32min\u001b[0m \u001b[0mreply\u001b[0m\u001b[0;34m:\u001b[0m\u001b[0;34m\u001b[0m\u001b[0;34m\u001b[0m\u001b[0m\n\u001b[0;32m--> 106\u001b[0;31m         \u001b[0;32mraise\u001b[0m \u001b[0mMessageError\u001b[0m\u001b[0;34m(\u001b[0m\u001b[0mreply\u001b[0m\u001b[0;34m[\u001b[0m\u001b[0;34m'error'\u001b[0m\u001b[0;34m]\u001b[0m\u001b[0;34m)\u001b[0m\u001b[0;34m\u001b[0m\u001b[0;34m\u001b[0m\u001b[0m\n\u001b[0m\u001b[1;32m    107\u001b[0m       \u001b[0;32mreturn\u001b[0m \u001b[0mreply\u001b[0m\u001b[0;34m.\u001b[0m\u001b[0mget\u001b[0m\u001b[0;34m(\u001b[0m\u001b[0;34m'data'\u001b[0m\u001b[0;34m,\u001b[0m \u001b[0;32mNone\u001b[0m\u001b[0;34m)\u001b[0m\u001b[0;34m\u001b[0m\u001b[0;34m\u001b[0m\u001b[0m\n\u001b[1;32m    108\u001b[0m \u001b[0;34m\u001b[0m\u001b[0m\n",
            "\u001b[0;31mMessageError\u001b[0m: TypeError: Failed to fetch"
          ]
        }
      ]
    },
    {
      "cell_type": "code",
      "metadata": {
        "id": "DnrFk8HXiAbp",
        "colab_type": "code",
        "colab": {}
      },
      "source": [
        ""
      ],
      "execution_count": 0,
      "outputs": []
    }
  ]
}